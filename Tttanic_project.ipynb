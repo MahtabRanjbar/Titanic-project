{
 "cells": [
  {
   "cell_type": "markdown",
   "id": "a5fd4b2b",
   "metadata": {},
   "source": [
    "# Predicting the Survival of Titanic Passengers"
   ]
  },
  {
   "cell_type": "markdown",
   "id": "d1df4dce",
   "metadata": {},
   "source": [
    "## Introduction\n",
    "The sinking of the Titanic is one of the most infamous shipwrecks in history.\n",
    "\n",
    "On April 15, 1912, during her maiden voyage, the widely considered “unsinkable” RMS Titanic sank after colliding with an iceberg. Unfortunately, there weren’t enough lifeboats for everyone onboard, resulting in the death of 1502 out of 2224 passengers and crew.\n",
    "\n",
    "While there was some element of luck involved in surviving, it seems some groups of people were more likely to survive than others. Let's find out the factors which help to survive."
   ]
  },
  {
   "cell_type": "markdown",
   "id": "5bdd18fb",
   "metadata": {},
   "source": [
    "## Objectives\n",
    "\n",
    "* <p>Explore the factors which decided the survival of passengers.</p>\n",
    "* <p>predict the survival of passengers on Titanic using machine learning and deep learning.</p>"
   ]
  },
  {
   "cell_type": "markdown",
   "id": "4c380d82",
   "metadata": {},
   "source": [
    "## Description of the Dataset\n",
    "The dataset contains ten features and 891 passenger details. **Survived** is the target variable for the study."
   ]
  },
  {
   "cell_type": "markdown",
   "id": "a212550d",
   "metadata": {},
   "source": [
    "\n",
    "<table style=\"border-collapse: collapse;font-size: 15px; width:800px;\">\n",
    "  <tr>\n",
    "    <th style=\"background-color:#D3DBDD;\">Variable Name </th>\n",
    "    <th style=\"width:500px; background-color:#D3DBDD;\">Description</th>\n",
    "    <th style=\"background-color:#D3DBDD;\">Type</th>\n",
    "  </tr>\n",
    "  <tr>\n",
    "    <td>survival</td>\n",
    "    <td>Did Survive the incident?</td>\n",
    "    <td>Categoricol</td>\n",
    "  </tr>\n",
    "  <tr>\n",
    "    <td>pclass </td>\n",
    "    <td>Class of the ticket</td>\n",
    "    <td>Categoricol</td>\n",
    "  </tr>\n",
    "  <tr>\n",
    "    <td>sex </td>\n",
    "    <td>Gender </td>\n",
    "    <td>Categoricol</td>\n",
    "  </tr>\n",
    "  <tr>\n",
    "    <td>Age </td>\n",
    "    <td>Age of the passenger</td>\n",
    "    <td>Numeric</td>\n",
    "  </tr>\n",
    "  <tr>\n",
    "    <td>sibsp </td>\n",
    "    <td>no of siblings / spouses aboard the Titanic </td>\n",
    "    <td>Numeric</td>\n",
    "  </tr>\n",
    "  <tr>\n",
    "    <td>parch</td>\n",
    "    <td>no of parents / children aboard the Titanic</td>\n",
    "    <td>Numeric</td>\n",
    "  </tr>\n",
    "  <tr>\n",
    "    <td>ticket</td>\n",
    "    <td>Unique ticket number</td>\n",
    "    <td>Categoricol</td>\n",
    "  </tr>\n",
    "  <tr>\n",
    "    <td>fare</td>\n",
    "    <td>Passenger fare </td>\n",
    "    <td>Numeric</td>\n",
    "  </tr>\n",
    "  <tr>\n",
    "    <td>cabin</td>\n",
    "    <td>cabin number </td>\n",
    "    <td>Categoricol</td>\n",
    "  </tr>\n",
    "  <tr>\n",
    "    <td>Embarked</td>\n",
    "    <td>Port of Embarkation</td>\n",
    "    <td>Categoricol</td>\n",
    "  </tr>\n",
    "</table>\n"
   ]
  },
  {
   "cell_type": "code",
   "execution_count": 42,
   "id": "106a3dc1",
   "metadata": {},
   "outputs": [],
   "source": [
    "# Import necessary libraries\n",
    "import matplotlib.pyplot as plt\n",
    "import numpy as np\n",
    "import pandas as pd\n",
    "import seaborn as sns\n",
    "from sklearn import metrics\n",
    "from sklearn.metrics import confusion_matrix, f1_score\n",
    "from sklearn.model_selection import train_test_split\n",
    "from sklearn.neural_network import MLPClassifier\n",
    "from sklearn.preprocessing import OneHotEncoder, StandardScaler\n",
    "from tensorflow import keras\n",
    "from tensorflow.keras.layers import Dense\n",
    "from tensorflow.keras.models import Sequential\n",
    "from tensorflow.keras.optimizers import SGD, Adam, RMSprop\n",
    "%matplotlib inline"
   ]
  },
  {
   "cell_type": "code",
   "execution_count": 43,
   "id": "95871503",
   "metadata": {},
   "outputs": [
    {
     "data": {
      "text/html": [
       "<div>\n",
       "<style scoped>\n",
       "    .dataframe tbody tr th:only-of-type {\n",
       "        vertical-align: middle;\n",
       "    }\n",
       "\n",
       "    .dataframe tbody tr th {\n",
       "        vertical-align: top;\n",
       "    }\n",
       "\n",
       "    .dataframe thead th {\n",
       "        text-align: right;\n",
       "    }\n",
       "</style>\n",
       "<table border=\"1\" class=\"dataframe\">\n",
       "  <thead>\n",
       "    <tr style=\"text-align: right;\">\n",
       "      <th></th>\n",
       "      <th>PassengerId</th>\n",
       "      <th>Survived</th>\n",
       "      <th>Pclass</th>\n",
       "      <th>Name</th>\n",
       "      <th>Sex</th>\n",
       "      <th>Age</th>\n",
       "      <th>SibSp</th>\n",
       "      <th>Parch</th>\n",
       "      <th>Ticket</th>\n",
       "      <th>Fare</th>\n",
       "      <th>Cabin</th>\n",
       "      <th>Embarked</th>\n",
       "    </tr>\n",
       "  </thead>\n",
       "  <tbody>\n",
       "    <tr>\n",
       "      <th>0</th>\n",
       "      <td>1</td>\n",
       "      <td>0</td>\n",
       "      <td>3</td>\n",
       "      <td>Braund, Mr. Owen Harris</td>\n",
       "      <td>male</td>\n",
       "      <td>22.0</td>\n",
       "      <td>1</td>\n",
       "      <td>0</td>\n",
       "      <td>A/5 21171</td>\n",
       "      <td>7.2500</td>\n",
       "      <td>NaN</td>\n",
       "      <td>S</td>\n",
       "    </tr>\n",
       "    <tr>\n",
       "      <th>1</th>\n",
       "      <td>2</td>\n",
       "      <td>1</td>\n",
       "      <td>1</td>\n",
       "      <td>Cumings, Mrs. John Bradley (Florence Briggs Th...</td>\n",
       "      <td>female</td>\n",
       "      <td>38.0</td>\n",
       "      <td>1</td>\n",
       "      <td>0</td>\n",
       "      <td>PC 17599</td>\n",
       "      <td>71.2833</td>\n",
       "      <td>C85</td>\n",
       "      <td>C</td>\n",
       "    </tr>\n",
       "    <tr>\n",
       "      <th>2</th>\n",
       "      <td>3</td>\n",
       "      <td>1</td>\n",
       "      <td>3</td>\n",
       "      <td>Heikkinen, Miss. Laina</td>\n",
       "      <td>female</td>\n",
       "      <td>26.0</td>\n",
       "      <td>0</td>\n",
       "      <td>0</td>\n",
       "      <td>STON/O2. 3101282</td>\n",
       "      <td>7.9250</td>\n",
       "      <td>NaN</td>\n",
       "      <td>S</td>\n",
       "    </tr>\n",
       "    <tr>\n",
       "      <th>3</th>\n",
       "      <td>4</td>\n",
       "      <td>1</td>\n",
       "      <td>1</td>\n",
       "      <td>Futrelle, Mrs. Jacques Heath (Lily May Peel)</td>\n",
       "      <td>female</td>\n",
       "      <td>35.0</td>\n",
       "      <td>1</td>\n",
       "      <td>0</td>\n",
       "      <td>113803</td>\n",
       "      <td>53.1000</td>\n",
       "      <td>C123</td>\n",
       "      <td>S</td>\n",
       "    </tr>\n",
       "    <tr>\n",
       "      <th>4</th>\n",
       "      <td>5</td>\n",
       "      <td>0</td>\n",
       "      <td>3</td>\n",
       "      <td>Allen, Mr. William Henry</td>\n",
       "      <td>male</td>\n",
       "      <td>35.0</td>\n",
       "      <td>0</td>\n",
       "      <td>0</td>\n",
       "      <td>373450</td>\n",
       "      <td>8.0500</td>\n",
       "      <td>NaN</td>\n",
       "      <td>S</td>\n",
       "    </tr>\n",
       "  </tbody>\n",
       "</table>\n",
       "</div>"
      ],
      "text/plain": [
       "   PassengerId  Survived  Pclass  \\\n",
       "0            1         0       3   \n",
       "1            2         1       1   \n",
       "2            3         1       3   \n",
       "3            4         1       1   \n",
       "4            5         0       3   \n",
       "\n",
       "                                                Name     Sex   Age  SibSp  \\\n",
       "0                            Braund, Mr. Owen Harris    male  22.0      1   \n",
       "1  Cumings, Mrs. John Bradley (Florence Briggs Th...  female  38.0      1   \n",
       "2                             Heikkinen, Miss. Laina  female  26.0      0   \n",
       "3       Futrelle, Mrs. Jacques Heath (Lily May Peel)  female  35.0      1   \n",
       "4                           Allen, Mr. William Henry    male  35.0      0   \n",
       "\n",
       "   Parch            Ticket     Fare Cabin Embarked  \n",
       "0      0         A/5 21171   7.2500   NaN        S  \n",
       "1      0          PC 17599  71.2833   C85        C  \n",
       "2      0  STON/O2. 3101282   7.9250   NaN        S  \n",
       "3      0            113803  53.1000  C123        S  \n",
       "4      0            373450   8.0500   NaN        S  "
      ]
     },
     "execution_count": 43,
     "metadata": {},
     "output_type": "execute_result"
    }
   ],
   "source": [
    "# Load the dataset\n",
    "data = pd.read_csv(\"data/titanic.csv\")\n",
    "data.head(5)\n"
   ]
  },
  {
   "cell_type": "code",
   "execution_count": 44,
   "id": "8365806d",
   "metadata": {},
   "outputs": [
    {
     "name": "stdout",
     "output_type": "stream",
     "text": [
      "<class 'pandas.core.frame.DataFrame'>\n",
      "RangeIndex: 891 entries, 0 to 890\n",
      "Data columns (total 12 columns):\n",
      " #   Column       Non-Null Count  Dtype  \n",
      "---  ------       --------------  -----  \n",
      " 0   PassengerId  891 non-null    int64  \n",
      " 1   Survived     891 non-null    int64  \n",
      " 2   Pclass       891 non-null    int64  \n",
      " 3   Name         891 non-null    object \n",
      " 4   Sex          891 non-null    object \n",
      " 5   Age          714 non-null    float64\n",
      " 6   SibSp        891 non-null    int64  \n",
      " 7   Parch        891 non-null    int64  \n",
      " 8   Ticket       891 non-null    object \n",
      " 9   Fare         891 non-null    float64\n",
      " 10  Cabin        204 non-null    object \n",
      " 11  Embarked     889 non-null    object \n",
      "dtypes: float64(2), int64(5), object(5)\n",
      "memory usage: 83.7+ KB\n"
     ]
    }
   ],
   "source": [
    "data.info()"
   ]
  },
  {
   "cell_type": "code",
   "execution_count": 45,
   "id": "54b02214",
   "metadata": {},
   "outputs": [
    {
     "data": {
      "image/png": "[encoded data removed]",
      "text/plain": [
       "<Figure size 432x288 with 1 Axes>"
      ]
     },
     "metadata": {
      "needs_background": "light"
     },
     "output_type": "display_data"
    }
   ],
   "source": [
    "## checking missing values in the training set.\n",
    "sns.heatmap(data.isnull(),yticklabels=False,cbar=False,cmap=\"Blues_r\");"
   ]
  },
  {
   "cell_type": "markdown",
   "id": "d1f26c66",
   "metadata": {},
   "source": [
    "There are some missing values in the dataset. So we need to remove or impute them."
   ]
  },
  {
   "cell_type": "code",
   "execution_count": 46,
   "id": "d7aafa2b",
   "metadata": {},
   "outputs": [
    {
     "name": "stdout",
     "output_type": "stream",
     "text": [
      "The dataset contains 5 categorical columns\n",
      "Name : 891 labels\n",
      "Sex : 2 labels\n",
      "Ticket : 681 labels\n",
      "Cabin : 148 labels\n",
      "Embarked : 4 labels\n"
     ]
    }
   ],
   "source": [
    "#categorical variables and there categories.\n",
    "categorical_cols= data.select_dtypes(include=['object'])\n",
    "print(f'The dataset contains {len(categorical_cols.columns.tolist())} categorical columns')\n",
    "for cols in categorical_cols.columns:\n",
    "    print(cols,':', len(categorical_cols[cols].unique()),'labels')"
   ]
  },
  {
   "cell_type": "markdown",
   "id": "770cc931",
   "metadata": {},
   "source": [
    "## Descriptive Analysis\n",
    "some of the important results of descriptive analysis is shown below."
   ]
  },
  {
   "cell_type": "code",
   "execution_count": 47,
   "id": "d958875e",
   "metadata": {},
   "outputs": [
    {
     "data": {
      "application/vnd.plotly.v1+json": {
       "config": {
        "plotlyServerURL": "https://plot.ly"
       },
       "data": [
        {
         "hole": 0.3,
         "labels": [
          "Survived",
          "Not Survived"
         ],
         "marker": {
          "colors": [
           "#D3DBDD",
           "navy",
           "#57A7F3"
          ]
         },
         "pull": [
          0,
          0,
          0.06,
          0
         ],
         "type": "pie",
         "values": [
          342,
          549
         ]
        }
       ],
       "layout": {
        "template": {
         "data": {
          "bar": [
           {
            "error_x": {
             "color": "#2a3f5f"
            },
            "error_y": {
             "color": "#2a3f5f"
            },
            "marker": {
             "line": {
              "color": "#E5ECF6",
              "width": 0.5
             },
             "pattern": {
              "fillmode": "overlay",
              "size": 10,
              "solidity": 0.2
             }
            },
            "type": "bar"
           }
          ],
          "barpolar": [
           {
            "marker": {
             "line": {
              "color": "#E5ECF6",
              "width": 0.5
             },
             "pattern": {
              "fillmode": "overlay",
              "size": 10,
              "solidity": 0.2
             }
            },
            "type": "barpolar"
           }
          ],
          "carpet": [
           {
            "aaxis": {
             "endlinecolor": "#2a3f5f",
             "gridcolor": "white",
             "linecolor": "white",
             "minorgridcolor": "white",
             "startlinecolor": "#2a3f5f"
            },
            "baxis": {
             "endlinecolor": "#2a3f5f",
             "gridcolor": "white",
             "linecolor": "white",
             "minorgridcolor": "white",
             "startlinecolor": "#2a3f5f"
            },
            "type": "carpet"
           }
          ],
          "choropleth": [
           {
            "colorbar": {
             "outlinewidth": 0,
             "ticks": ""
            },
            "type": "choropleth"
           }
          ],
          "contour": [
           {
            "colorbar": {
             "outlinewidth": 0,
             "ticks": ""
            },
            "colorscale": [
             [
              0,
              "#0d0887"
             ],
             [
              0.1111111111111111,
              "#46039f"
             ],
             [
              0.2222222222222222,
              "#7201a8"
             ],
             [
              0.3333333333333333,
              "#9c179e"
             ],
             [
              0.4444444444444444,
              "#bd3786"
             ],
             [
              0.5555555555555556,
              "#d8576b"
             ],
             [
              0.6666666666666666,
              "#ed7953"
             ],
             [
              0.7777777777777778,
              "#fb9f3a"
             ],
             [
              0.8888888888888888,
              "#fdca26"
             ],
             [
              1,
              "#f0f921"
             ]
            ],
            "type": "contour"
           }
          ],
          "contourcarpet": [
           {
            "colorbar": {
             "outlinewidth": 0,
             "ticks": ""
            },
            "type": "contourcarpet"
           }
          ],
          "heatmap": [
           {
            "colorbar": {
             "outlinewidth": 0,
             "ticks": ""
            },
            "colorscale": [
             [
              0,
              "#0d0887"
             ],
             [
              0.1111111111111111,
              "#46039f"
             ],
             [
              0.2222222222222222,
              "#7201a8"
             ],
             [
              0.3333333333333333,
              "#9c179e"
             ],
             [
              0.4444444444444444,
              "#bd3786"
             ],
             [
              0.5555555555555556,
              "#d8576b"
             ],
             [
              0.6666666666666666,
              "#ed7953"
             ],
             [
              0.7777777777777778,
              "#fb9f3a"
             ],
             [
              0.8888888888888888,
              "#fdca26"
             ],
             [
              1,
              "#f0f921"
             ]
            ],
            "type": "heatmap"
           }
          ],
          "heatmapgl": [
           {
            "colorbar": {
             "outlinewidth": 0,
             "ticks": ""
            },
            "colorscale": [
             [
              0,
              "#0d0887"
             ],
             [
              0.1111111111111111,
              "#46039f"
             ],
             [
              0.2222222222222222,
              "#7201a8"
             ],
             [
              0.3333333333333333,
              "#9c179e"
             ],
             [
              0.4444444444444444,
              "#bd3786"
             ],
             [
              0.5555555555555556,
              "#d8576b"
             ],
             [
              0.6666666666666666,
              "#ed7953"
             ],
             [
              0.7777777777777778,
              "#fb9f3a"
             ],
             [
              0.8888888888888888,
              "#fdca26"
             ],
             [
              1,
              "#f0f921"
             ]
            ],
            "type": "heatmapgl"
           }
          ],
          "histogram": [
           {
            "marker": {
             "pattern": {
              "fillmode": "overlay",
              "size": 10,
              "solidity": 0.2
             }
            },
            "type": "histogram"
           }
          ],
          "histogram2d": [
           {
            "colorbar": {
             "outlinewidth": 0,
             "ticks": ""
            },
            "colorscale": [
             [
              0,
              "#0d0887"
             ],
             [
              0.1111111111111111,
              "#46039f"
             ],
             [
              0.2222222222222222,
              "#7201a8"
             ],
             [
              0.3333333333333333,
              "#9c179e"
             ],
             [
              0.4444444444444444,
              "#bd3786"
             ],
             [
              0.5555555555555556,
              "#d8576b"
             ],
             [
              0.6666666666666666,
              "#ed7953"
             ],
             [
              0.7777777777777778,
              "#fb9f3a"
             ],
             [
              0.8888888888888888,
              "#fdca26"
             ],
             [
              1,
              "#f0f921"
             ]
            ],
            "type": "histogram2d"
           }
          ],
          "histogram2dcontour": [
           {
            "colorbar": {
             "outlinewidth": 0,
             "ticks": ""
            },
            "colorscale": [
             [
              0,
              "#0d0887"
             ],
             [
              0.1111111111111111,
              "#46039f"
             ],
             [
              0.2222222222222222,
              "#7201a8"
             ],
             [
              0.3333333333333333,
              "#9c179e"
             ],
             [
              0.4444444444444444,
              "#bd3786"
             ],
             [
              0.5555555555555556,
              "#d8576b"
             ],
             [
              0.6666666666666666,
              "#ed7953"
             ],
             [
              0.7777777777777778,
              "#fb9f3a"
             ],
             [
              0.8888888888888888,
              "#fdca26"
             ],
             [
              1,
              "#f0f921"
             ]
            ],
            "type": "histogram2dcontour"
           }
          ],
          "mesh3d": [
           {
            "colorbar": {
             "outlinewidth": 0,
             "ticks": ""
            },
            "type": "mesh3d"
           }
          ],
          "parcoords": [
           {
            "line": {
             "colorbar": {
              "outlinewidth": 0,
              "ticks": ""
             }
            },
            "type": "parcoords"
           }
          ],
          "pie": [
           {
            "automargin": true,
            "type": "pie"
           }
          ],
          "scatter": [
           {
            "fillpattern": {
             "fillmode": "overlay",
             "size": 10,
             "solidity": 0.2
            },
            "type": "scatter"
           }
          ],
          "scatter3d": [
           {
            "line": {
             "colorbar": {
              "outlinewidth": 0,
              "ticks": ""
             }
            },
            "marker": {
             "colorbar": {
              "outlinewidth": 0,
              "ticks": ""
             }
            },
            "type": "scatter3d"
           }
          ],
          "scattercarpet": [
           {
            "marker": {
             "colorbar": {
              "outlinewidth": 0,
              "ticks": ""
             }
            },
            "type": "scattercarpet"
           }
          ],
          "scattergeo": [
           {
            "marker": {
             "colorbar": {
              "outlinewidth": 0,
              "ticks": ""
             }
            },
            "type": "scattergeo"
           }
          ],
          "scattergl": [
           {
            "marker": {
             "colorbar": {
              "outlinewidth": 0,
              "ticks": ""
             }
            },
            "type": "scattergl"
           }
          ],
          "scattermapbox": [
           {
            "marker": {
             "colorbar": {
              "outlinewidth": 0,
              "ticks": ""
             }
            },
            "type": "scattermapbox"
           }
          ],
          "scatterpolar": [
           {
            "marker": {
             "colorbar": {
              "outlinewidth": 0,
              "ticks": ""
             }
            },
            "type": "scatterpolar"
           }
          ],
          "scatterpolargl": [
           {
            "marker": {
             "colorbar": {
              "outlinewidth": 0,
              "ticks": ""
             }
            },
            "type": "scatterpolargl"
           }
          ],
          "scatterternary": [
           {
            "marker": {
             "colorbar": {
              "outlinewidth": 0,
              "ticks": ""
             }
            },
            "type": "scatterternary"
           }
          ],
          "surface": [
           {
            "colorbar": {
             "outlinewidth": 0,
             "ticks": ""
            },
            "colorscale": [
             [
              0,
              "#0d0887"
             ],
             [
              0.1111111111111111,
              "#46039f"
             ],
             [
              0.2222222222222222,
              "#7201a8"
             ],
             [
              0.3333333333333333,
              "#9c179e"
             ],
             [
              0.4444444444444444,
              "#bd3786"
             ],
             [
              0.5555555555555556,
              "#d8576b"
             ],
             [
              0.6666666666666666,
              "#ed7953"
             ],
             [
              0.7777777777777778,
              "#fb9f3a"
             ],
             [
              0.8888888888888888,
              "#fdca26"
             ],
             [
              1,
              "#f0f921"
             ]
            ],
            "type": "surface"
           }
          ],
          "table": [
           {
            "cells": {
             "fill": {
              "color": "#EBF0F8"
             },
             "line": {
              "color": "white"
             }
            },
            "header": {
             "fill": {
              "color": "#C8D4E3"
             },
             "line": {
              "color": "white"
             }
            },
            "type": "table"
           }
          ]
         },
         "layout": {
          "annotationdefaults": {
           "arrowcolor": "#2a3f5f",
           "arrowhead": 0,
           "arrowwidth": 1
          },
          "autotypenumbers": "strict",
          "coloraxis": {
           "colorbar": {
            "outlinewidth": 0,
            "ticks": ""
           }
          },
          "colorscale": {
           "diverging": [
            [
             0,
             "#8e0152"
            ],
            [
             0.1,
             "#c51b7d"
            ],
            [
             0.2,
             "#de77ae"
            ],
            [
             0.3,
             "#f1b6da"
            ],
            [
             0.4,
             "#fde0ef"
            ],
            [
             0.5,
             "#f7f7f7"
            ],
            [
             0.6,
             "#e6f5d0"
            ],
            [
             0.7,
             "#b8e186"
            ],
            [
             0.8,
             "#7fbc41"
            ],
            [
             0.9,
             "#4d9221"
            ],
            [
             1,
             "#276419"
            ]
           ],
           "sequential": [
            [
             0,
             "#0d0887"
            ],
            [
             0.1111111111111111,
             "#46039f"
            ],
            [
             0.2222222222222222,
             "#7201a8"
            ],
            [
             0.3333333333333333,
             "#9c179e"
            ],
            [
             0.4444444444444444,
             "#bd3786"
            ],
            [
             0.5555555555555556,
             "#d8576b"
            ],
            [
             0.6666666666666666,
             "#ed7953"
            ],
            [
             0.7777777777777778,
             "#fb9f3a"
            ],
            [
             0.8888888888888888,
             "#fdca26"
            ],
            [
             1,
             "#f0f921"
            ]
           ],
           "sequentialminus": [
            [
             0,
             "#0d0887"
            ],
            [
             0.1111111111111111,
             "#46039f"
            ],
            [
             0.2222222222222222,
             "#7201a8"
            ],
            [
             0.3333333333333333,
             "#9c179e"
            ],
            [
             0.4444444444444444,
             "#bd3786"
            ],
            [
             0.5555555555555556,
             "#d8576b"
            ],
            [
             0.6666666666666666,
             "#ed7953"
            ],
            [
             0.7777777777777778,
             "#fb9f3a"
            ],
            [
             0.8888888888888888,
             "#fdca26"
            ],
            [
             1,
             "#f0f921"
            ]
           ]
          },
          "colorway": [
           "#636efa",
           "#EF553B",
           "#00cc96",
           "#ab63fa",
           "#FFA15A",
           "#19d3f3",
           "#FF6692",
           "#B6E880",
           "#FF97FF",
           "#FECB52"
          ],
          "font": {
           "color": "#2a3f5f"
          },
          "geo": {
           "bgcolor": "white",
           "lakecolor": "white",
           "landcolor": "#E5ECF6",
           "showlakes": true,
           "showland": true,
           "subunitcolor": "white"
          },
          "hoverlabel": {
           "align": "left"
          },
          "hovermode": "closest",
          "mapbox": {
           "style": "light"
          },
          "paper_bgcolor": "white",
          "plot_bgcolor": "#E5ECF6",
          "polar": {
           "angularaxis": {
            "gridcolor": "white",
            "linecolor": "white",
            "ticks": ""
           },
           "bgcolor": "#E5ECF6",
           "radialaxis": {
            "gridcolor": "white",
            "linecolor": "white",
            "ticks": ""
           }
          },
          "scene": {
           "xaxis": {
            "backgroundcolor": "#E5ECF6",
            "gridcolor": "white",
            "gridwidth": 2,
            "linecolor": "white",
            "showbackground": true,
            "ticks": "",
            "zerolinecolor": "white"
           },
           "yaxis": {
            "backgroundcolor": "#E5ECF6",
            "gridcolor": "white",
            "gridwidth": 2,
            "linecolor": "white",
            "showbackground": true,
            "ticks": "",
            "zerolinecolor": "white"
           },
           "zaxis": {
            "backgroundcolor": "#E5ECF6",
            "gridcolor": "white",
            "gridwidth": 2,
            "linecolor": "white",
            "showbackground": true,
            "ticks": "",
            "zerolinecolor": "white"
           }
          },
          "shapedefaults": {
           "line": {
            "color": "#2a3f5f"
           }
          },
          "ternary": {
           "aaxis": {
            "gridcolor": "white",
            "linecolor": "white",
            "ticks": ""
           },
           "baxis": {
            "gridcolor": "white",
            "linecolor": "white",
            "ticks": ""
           },
           "bgcolor": "#E5ECF6",
           "caxis": {
            "gridcolor": "white",
            "linecolor": "white",
            "ticks": ""
           }
          },
          "title": {
           "x": 0.05
          },
          "xaxis": {
           "automargin": true,
           "gridcolor": "white",
           "linecolor": "white",
           "ticks": "",
           "title": {
            "standoff": 15
           },
           "zerolinecolor": "white",
           "zerolinewidth": 2
          },
          "yaxis": {
           "automargin": true,
           "gridcolor": "white",
           "linecolor": "white",
           "ticks": "",
           "title": {
            "standoff": 15
           },
           "zerolinecolor": "white",
           "zerolinewidth": 2
          }
         }
        },
        "title": {
         "text": "Survival Status"
        }
       }
      },
      "text/html": [
       "<div>                            <div id=\"bd1ca83d-1882-4865-b222-7dbde34de85d\" class=\"plotly-graph-div\" style=\"height:525px; width:100%;\"></div>            <script type=\"text/javascript\">                require([\"plotly\"], function(Plotly) {                    window.PLOTLYENV=window.PLOTLYENV || {};                                    if (document.getElementById(\"bd1ca83d-1882-4865-b222-7dbde34de85d\")) {                    Plotly.newPlot(                        \"bd1ca83d-1882-4865-b222-7dbde34de85d\",                        [{\"hole\":0.3,\"labels\":[\"Survived\",\"Not Survived\"],\"pull\":[0,0,0.06,0],\"values\":[342,549],\"type\":\"pie\",\"marker\":{\"colors\":[\"#D3DBDD\",\"navy\",\"#57A7F3\"]}}],                        {\"template\":{\"data\":{\"histogram2dcontour\":[{\"type\":\"histogram2dcontour\",\"colorbar\":{\"outlinewidth\":0,\"ticks\":\"\"},\"colorscale\":[[0.0,\"#0d0887\"],[0.1111111111111111,\"#46039f\"],[0.2222222222222222,\"#7201a8\"],[0.3333333333333333,\"#9c179e\"],[0.4444444444444444,\"#bd3786\"],[0.5555555555555556,\"#d8576b\"],[0.6666666666666666,\"#ed7953\"],[0.7777777777777778,\"#fb9f3a\"],[0.8888888888888888,\"#fdca26\"],[1.0,\"#f0f921\"]]}],\"choropleth\":[{\"type\":\"choropleth\",\"colorbar\":{\"outlinewidth\":0,\"ticks\":\"\"}}],\"histogram2d\":[{\"type\":\"histogram2d\",\"colorbar\":{\"outlinewidth\":0,\"ticks\":\"\"},\"colorscale\":[[0.0,\"#0d0887\"],[0.1111111111111111,\"#46039f\"],[0.2222222222222222,\"#7201a8\"],[0.3333333333333333,\"#9c179e\"],[0.4444444444444444,\"#bd3786\"],[0.5555555555555556,\"#d8576b\"],[0.6666666666666666,\"#ed7953\"],[0.7777777777777778,\"#fb9f3a\"],[0.8888888888888888,\"#fdca26\"],[1.0,\"#f0f921\"]]}],\"heatmap\":[{\"type\":\"heatmap\",\"colorbar\":{\"outlinewidth\":0,\"ticks\":\"\"},\"colorscale\":[[0.0,\"#0d0887\"],[0.1111111111111111,\"#46039f\"],[0.2222222222222222,\"#7201a8\"],[0.3333333333333333,\"#9c179e\"],[0.4444444444444444,\"#bd3786\"],[0.5555555555555556,\"#d8576b\"],[0.6666666666666666,\"#ed7953\"],[0.7777777777777778,\"#fb9f3a\"],[0.8888888888888888,\"#fdca26\"],[1.0,\"#f0f921\"]]}],\"heatmapgl\":[{\"type\":\"heatmapgl\",\"colorbar\":{\"outlinewidth\":0,\"ticks\":\"\"},\"colorscale\":[[0.0,\"#0d0887\"],[0.1111111111111111,\"#46039f\"],[0.2222222222222222,\"#7201a8\"],[0.3333333333333333,\"#9c179e\"],[0.4444444444444444,\"#bd3786\"],[0.5555555555555556,\"#d8576b\"],[0.6666666666666666,\"#ed7953\"],[0.7777777777777778,\"#fb9f3a\"],[0.8888888888888888,\"#fdca26\"],[1.0,\"#f0f921\"]]}],\"contourcarpet\":[{\"type\":\"contourcarpet\",\"colorbar\":{\"outlinewidth\":0,\"ticks\":\"\"}}],\"contour\":[{\"type\":\"contour\",\"colorbar\":{\"outlinewidth\":0,\"ticks\":\"\"},\"colorscale\":[[0.0,\"#0d0887\"],[0.1111111111111111,\"#46039f\"],[0.2222222222222222,\"#7201a8\"],[0.3333333333333333,\"#9c179e\"],[0.4444444444444444,\"#bd3786\"],[0.5555555555555556,\"#d8576b\"],[0.6666666666666666,\"#ed7953\"],[0.7777777777777778,\"#fb9f3a\"],[0.8888888888888888,\"#fdca26\"],[1.0,\"#f0f921\"]]}],\"surface\":[{\"type\":\"surface\",\"colorbar\":{\"outlinewidth\":0,\"ticks\":\"\"},\"colorscale\":[[0.0,\"#0d0887\"],[0.1111111111111111,\"#46039f\"],[0.2222222222222222,\"#7201a8\"],[0.3333333333333333,\"#9c179e\"],[0.4444444444444444,\"#bd3786\"],[0.5555555555555556,\"#d8576b\"],[0.6666666666666666,\"#ed7953\"],[0.7777777777777778,\"#fb9f3a\"],[0.8888888888888888,\"#fdca26\"],[1.0,\"#f0f921\"]]}],\"mesh3d\":[{\"type\":\"mesh3d\",\"colorbar\":{\"outlinewidth\":0,\"ticks\":\"\"}}],\"scatter\":[{\"fillpattern\":{\"fillmode\":\"overlay\",\"size\":10,\"solidity\":0.2},\"type\":\"scatter\"}],\"parcoords\":[{\"type\":\"parcoords\",\"line\":{\"colorbar\":{\"outlinewidth\":0,\"ticks\":\"\"}}}],\"scatterpolargl\":[{\"type\":\"scatterpolargl\",\"marker\":{\"colorbar\":{\"outlinewidth\":0,\"ticks\":\"\"}}}],\"bar\":[{\"error_x\":{\"color\":\"#2a3f5f\"},\"error_y\":{\"color\":\"#2a3f5f\"},\"marker\":{\"line\":{\"color\":\"#E5ECF6\",\"width\":0.5},\"pattern\":{\"fillmode\":\"overlay\",\"size\":10,\"solidity\":0.2}},\"type\":\"bar\"}],\"scattergeo\":[{\"type\":\"scattergeo\",\"marker\":{\"colorbar\":{\"outlinewidth\":0,\"ticks\":\"\"}}}],\"scatterpolar\":[{\"type\":\"scatterpolar\",\"marker\":{\"colorbar\":{\"outlinewidth\":0,\"ticks\":\"\"}}}],\"histogram\":[{\"marker\":{\"pattern\":{\"fillmode\":\"overlay\",\"size\":10,\"solidity\":0.2}},\"type\":\"histogram\"}],\"scattergl\":[{\"type\":\"scattergl\",\"marker\":{\"colorbar\":{\"outlinewidth\":0,\"ticks\":\"\"}}}],\"scatter3d\":[{\"type\":\"scatter3d\",\"line\":{\"colorbar\":{\"outlinewidth\":0,\"ticks\":\"\"}},\"marker\":{\"colorbar\":{\"outlinewidth\":0,\"ticks\":\"\"}}}],\"scattermapbox\":[{\"type\":\"scattermapbox\",\"marker\":{\"colorbar\":{\"outlinewidth\":0,\"ticks\":\"\"}}}],\"scatterternary\":[{\"type\":\"scatterternary\",\"marker\":{\"colorbar\":{\"outlinewidth\":0,\"ticks\":\"\"}}}],\"scattercarpet\":[{\"type\":\"scattercarpet\",\"marker\":{\"colorbar\":{\"outlinewidth\":0,\"ticks\":\"\"}}}],\"carpet\":[{\"aaxis\":{\"endlinecolor\":\"#2a3f5f\",\"gridcolor\":\"white\",\"linecolor\":\"white\",\"minorgridcolor\":\"white\",\"startlinecolor\":\"#2a3f5f\"},\"baxis\":{\"endlinecolor\":\"#2a3f5f\",\"gridcolor\":\"white\",\"linecolor\":\"white\",\"minorgridcolor\":\"white\",\"startlinecolor\":\"#2a3f5f\"},\"type\":\"carpet\"}],\"table\":[{\"cells\":{\"fill\":{\"color\":\"#EBF0F8\"},\"line\":{\"color\":\"white\"}},\"header\":{\"fill\":{\"color\":\"#C8D4E3\"},\"line\":{\"color\":\"white\"}},\"type\":\"table\"}],\"barpolar\":[{\"marker\":{\"line\":{\"color\":\"#E5ECF6\",\"width\":0.5},\"pattern\":{\"fillmode\":\"overlay\",\"size\":10,\"solidity\":0.2}},\"type\":\"barpolar\"}],\"pie\":[{\"automargin\":true,\"type\":\"pie\"}]},\"layout\":{\"autotypenumbers\":\"strict\",\"colorway\":[\"#636efa\",\"#EF553B\",\"#00cc96\",\"#ab63fa\",\"#FFA15A\",\"#19d3f3\",\"#FF6692\",\"#B6E880\",\"#FF97FF\",\"#FECB52\"],\"font\":{\"color\":\"#2a3f5f\"},\"hovermode\":\"closest\",\"hoverlabel\":{\"align\":\"left\"},\"paper_bgcolor\":\"white\",\"plot_bgcolor\":\"#E5ECF6\",\"polar\":{\"bgcolor\":\"#E5ECF6\",\"angularaxis\":{\"gridcolor\":\"white\",\"linecolor\":\"white\",\"ticks\":\"\"},\"radialaxis\":{\"gridcolor\":\"white\",\"linecolor\":\"white\",\"ticks\":\"\"}},\"ternary\":{\"bgcolor\":\"#E5ECF6\",\"aaxis\":{\"gridcolor\":\"white\",\"linecolor\":\"white\",\"ticks\":\"\"},\"baxis\":{\"gridcolor\":\"white\",\"linecolor\":\"white\",\"ticks\":\"\"},\"caxis\":{\"gridcolor\":\"white\",\"linecolor\":\"white\",\"ticks\":\"\"}},\"coloraxis\":{\"colorbar\":{\"outlinewidth\":0,\"ticks\":\"\"}},\"colorscale\":{\"sequential\":[[0.0,\"#0d0887\"],[0.1111111111111111,\"#46039f\"],[0.2222222222222222,\"#7201a8\"],[0.3333333333333333,\"#9c179e\"],[0.4444444444444444,\"#bd3786\"],[0.5555555555555556,\"#d8576b\"],[0.6666666666666666,\"#ed7953\"],[0.7777777777777778,\"#fb9f3a\"],[0.8888888888888888,\"#fdca26\"],[1.0,\"#f0f921\"]],\"sequentialminus\":[[0.0,\"#0d0887\"],[0.1111111111111111,\"#46039f\"],[0.2222222222222222,\"#7201a8\"],[0.3333333333333333,\"#9c179e\"],[0.4444444444444444,\"#bd3786\"],[0.5555555555555556,\"#d8576b\"],[0.6666666666666666,\"#ed7953\"],[0.7777777777777778,\"#fb9f3a\"],[0.8888888888888888,\"#fdca26\"],[1.0,\"#f0f921\"]],\"diverging\":[[0,\"#8e0152\"],[0.1,\"#c51b7d\"],[0.2,\"#de77ae\"],[0.3,\"#f1b6da\"],[0.4,\"#fde0ef\"],[0.5,\"#f7f7f7\"],[0.6,\"#e6f5d0\"],[0.7,\"#b8e186\"],[0.8,\"#7fbc41\"],[0.9,\"#4d9221\"],[1,\"#276419\"]]},\"xaxis\":{\"gridcolor\":\"white\",\"linecolor\":\"white\",\"ticks\":\"\",\"title\":{\"standoff\":15},\"zerolinecolor\":\"white\",\"automargin\":true,\"zerolinewidth\":2},\"yaxis\":{\"gridcolor\":\"white\",\"linecolor\":\"white\",\"ticks\":\"\",\"title\":{\"standoff\":15},\"zerolinecolor\":\"white\",\"automargin\":true,\"zerolinewidth\":2},\"scene\":{\"xaxis\":{\"backgroundcolor\":\"#E5ECF6\",\"gridcolor\":\"white\",\"linecolor\":\"white\",\"showbackground\":true,\"ticks\":\"\",\"zerolinecolor\":\"white\",\"gridwidth\":2},\"yaxis\":{\"backgroundcolor\":\"#E5ECF6\",\"gridcolor\":\"white\",\"linecolor\":\"white\",\"showbackground\":true,\"ticks\":\"\",\"zerolinecolor\":\"white\",\"gridwidth\":2},\"zaxis\":{\"backgroundcolor\":\"#E5ECF6\",\"gridcolor\":\"white\",\"linecolor\":\"white\",\"showbackground\":true,\"ticks\":\"\",\"zerolinecolor\":\"white\",\"gridwidth\":2}},\"shapedefaults\":{\"line\":{\"color\":\"#2a3f5f\"}},\"annotationdefaults\":{\"arrowcolor\":\"#2a3f5f\",\"arrowhead\":0,\"arrowwidth\":1},\"geo\":{\"bgcolor\":\"white\",\"landcolor\":\"#E5ECF6\",\"subunitcolor\":\"white\",\"showland\":true,\"showlakes\":true,\"lakecolor\":\"white\"},\"title\":{\"x\":0.05},\"mapbox\":{\"style\":\"light\"}}},\"title\":{\"text\":\"Survival Status\"}},                        {\"responsive\": true}                    ).then(function(){\n",
       "                            \n",
       "var gd = document.getElementById('bd1ca83d-1882-4865-b222-7dbde34de85d');\n",
       "var x = new MutationObserver(function (mutations, observer) {{\n",
       "        var display = window.getComputedStyle(gd).display;\n",
       "        if (!display || display === 'none') {{\n",
       "            console.log([gd, 'removed!']);\n",
       "            Plotly.purge(gd);\n",
       "            observer.disconnect();\n",
       "        }}\n",
       "}});\n",
       "\n",
       "// Listen for the removal of the full notebook cells\n",
       "var notebookContainer = gd.closest('#notebook-container');\n",
       "if (notebookContainer) {{\n",
       "    x.observe(notebookContainer, {childList: true});\n",
       "}}\n",
       "\n",
       "// Listen for the clearing of the current output cell\n",
       "var outputEl = gd.closest('.output');\n",
       "if (outputEl) {{\n",
       "    x.observe(outputEl, {childList: true});\n",
       "}}\n",
       "\n",
       "                        })                };                });            </script>        </div>"
      ]
     },
     "metadata": {},
     "output_type": "display_data"
    }
   ],
   "source": [
    "import plotly.graph_objects as go\n",
    "\n",
    "night_colors = ['#D3DBDD',  'navy',  '#57A7F3']\n",
    "labels = ['Survived', 'Not Survived']\n",
    "values = [data['Survived'].value_counts()[1], data['Survived'].value_counts()[0]]\n",
    "\n",
    "# Use `hole` to create a donut-like pie chart\n",
    "fig=go.Figure(data=[go.Pie(labels=labels,values=values,hole=.3,pull=[0,0,0.06,0])])\n",
    "\n",
    "fig.update_layout(\n",
    "    title_text=\"Survival Status\")\n",
    "fig.update_traces(marker=dict(colors=night_colors))\n",
    "fig.show()"
   ]
  },
  {
   "cell_type": "code",
   "execution_count": 48,
   "id": "32dec313",
   "metadata": {},
   "outputs": [
    {
     "data": {
      "application/vnd.plotly.v1+json": {
       "config": {
        "plotlyServerURL": "https://plot.ly"
       },
       "data": [
        {
         "hole": 0.3,
         "labels": [
          "Southampton",
          "Cherbourg",
          "Queenstown"
         ],
         "marker": {
          "colors": [
           "#D3DBDD",
           "navy",
           "#57A7F3"
          ]
         },
         "pull": [
          0,
          0,
          0.06,
          0
         ],
         "type": "pie",
         "values": [
          644,
          168,
          77
         ]
        }
       ],
       "layout": {
        "template": {
         "data": {
          "bar": [
           {
            "error_x": {
             "color": "#2a3f5f"
            },
            "error_y": {
             "color": "#2a3f5f"
            },
            "marker": {
             "line": {
              "color": "#E5ECF6",
              "width": 0.5
             },
             "pattern": {
              "fillmode": "overlay",
              "size": 10,
              "solidity": 0.2
             }
            },
            "type": "bar"
           }
          ],
          "barpolar": [
           {
            "marker": {
             "line": {
              "color": "#E5ECF6",
              "width": 0.5
             },
             "pattern": {
              "fillmode": "overlay",
              "size": 10,
              "solidity": 0.2
             }
            },
            "type": "barpolar"
           }
          ],
          "carpet": [
           {
            "aaxis": {
             "endlinecolor": "#2a3f5f",
             "gridcolor": "white",
             "linecolor": "white",
             "minorgridcolor": "white",
             "startlinecolor": "#2a3f5f"
            },
            "baxis": {
             "endlinecolor": "#2a3f5f",
             "gridcolor": "white",
             "linecolor": "white",
             "minorgridcolor": "white",
             "startlinecolor": "#2a3f5f"
            },
            "type": "carpet"
           }
          ],
          "choropleth": [
           {
            "colorbar": {
             "outlinewidth": 0,
             "ticks": ""
            },
            "type": "choropleth"
           }
          ],
          "contour": [
           {
            "colorbar": {
             "outlinewidth": 0,
             "ticks": ""
            },
            "colorscale": [
             [
              0,
              "#0d0887"
             ],
             [
              0.1111111111111111,
              "#46039f"
             ],
             [
              0.2222222222222222,
              "#7201a8"
             ],
             [
              0.3333333333333333,
              "#9c179e"
             ],
             [
              0.4444444444444444,
              "#bd3786"
             ],
             [
              0.5555555555555556,
              "#d8576b"
             ],
             [
              0.6666666666666666,
              "#ed7953"
             ],
             [
              0.7777777777777778,
              "#fb9f3a"
             ],
             [
              0.8888888888888888,
              "#fdca26"
             ],
             [
              1,
              "#f0f921"
             ]
            ],
            "type": "contour"
           }
          ],
          "contourcarpet": [
           {
            "colorbar": {
             "outlinewidth": 0,
             "ticks": ""
            },
            "type": "contourcarpet"
           }
          ],
          "heatmap": [
           {
            "colorbar": {
             "outlinewidth": 0,
             "ticks": ""
            },
            "colorscale": [
             [
              0,
              "#0d0887"
             ],
             [
              0.1111111111111111,
              "#46039f"
             ],
             [
              0.2222222222222222,
              "#7201a8"
             ],
             [
              0.3333333333333333,
              "#9c179e"
             ],
             [
              0.4444444444444444,
              "#bd3786"
             ],
             [
              0.5555555555555556,
              "#d8576b"
             ],
             [
              0.6666666666666666,
              "#ed7953"
             ],
             [
              0.7777777777777778,
              "#fb9f3a"
             ],
             [
              0.8888888888888888,
              "#fdca26"
             ],
             [
              1,
              "#f0f921"
             ]
            ],
            "type": "heatmap"
           }
          ],
          "heatmapgl": [
           {
            "colorbar": {
             "outlinewidth": 0,
             "ticks": ""
            },
            "colorscale": [
             [
              0,
              "#0d0887"
             ],
             [
              0.1111111111111111,
              "#46039f"
             ],
             [
              0.2222222222222222,
              "#7201a8"
             ],
             [
              0.3333333333333333,
              "#9c179e"
             ],
             [
              0.4444444444444444,
              "#bd3786"
             ],
             [
              0.5555555555555556,
              "#d8576b"
             ],
             [
              0.6666666666666666,
              "#ed7953"
             ],
             [
              0.7777777777777778,
              "#fb9f3a"
             ],
             [
              0.8888888888888888,
              "#fdca26"
             ],
             [
              1,
              "#f0f921"
             ]
            ],
            "type": "heatmapgl"
           }
          ],
          "histogram": [
           {
            "marker": {
             "pattern": {
              "fillmode": "overlay",
              "size": 10,
              "solidity": 0.2
             }
            },
            "type": "histogram"
           }
          ],
          "histogram2d": [
           {
            "colorbar": {
             "outlinewidth": 0,
             "ticks": ""
            },
            "colorscale": [
             [
              0,
              "#0d0887"
             ],
             [
              0.1111111111111111,
              "#46039f"
             ],
             [
              0.2222222222222222,
              "#7201a8"
             ],
             [
              0.3333333333333333,
              "#9c179e"
             ],
             [
              0.4444444444444444,
              "#bd3786"
             ],
             [
              0.5555555555555556,
              "#d8576b"
             ],
             [
              0.6666666666666666,
              "#ed7953"
             ],
             [
              0.7777777777777778,
              "#fb9f3a"
             ],
             [
              0.8888888888888888,
              "#fdca26"
             ],
             [
              1,
              "#f0f921"
             ]
            ],
            "type": "histogram2d"
           }
          ],
          "histogram2dcontour": [
           {
            "colorbar": {
             "outlinewidth": 0,
             "ticks": ""
            },
            "colorscale": [
             [
              0,
              "#0d0887"
             ],
             [
              0.1111111111111111,
              "#46039f"
             ],
             [
              0.2222222222222222,
              "#7201a8"
             ],
             [
              0.3333333333333333,
              "#9c179e"
             ],
             [
              0.4444444444444444,
              "#bd3786"
             ],
             [
              0.5555555555555556,
              "#d8576b"
             ],
             [
              0.6666666666666666,
              "#ed7953"
             ],
             [
              0.7777777777777778,
              "#fb9f3a"
             ],
             [
              0.8888888888888888,
              "#fdca26"
             ],
             [
              1,
              "#f0f921"
             ]
            ],
            "type": "histogram2dcontour"
           }
          ],
          "mesh3d": [
           {
            "colorbar": {
             "outlinewidth": 0,
             "ticks": ""
            },
            "type": "mesh3d"
           }
          ],
          "parcoords": [
           {
            "line": {
             "colorbar": {
              "outlinewidth": 0,
              "ticks": ""
             }
            },
            "type": "parcoords"
           }
          ],
          "pie": [
           {
            "automargin": true,
            "type": "pie"
           }
          ],
          "scatter": [
           {
            "fillpattern": {
             "fillmode": "overlay",
             "size": 10,
             "solidity": 0.2
            },
            "type": "scatter"
           }
          ],
          "scatter3d": [
           {
            "line": {
             "colorbar": {
              "outlinewidth": 0,
              "ticks": ""
             }
            },
            "marker": {
             "colorbar": {
              "outlinewidth": 0,
              "ticks": ""
             }
            },
            "type": "scatter3d"
           }
          ],
          "scattercarpet": [
           {
            "marker": {
             "colorbar": {
              "outlinewidth": 0,
              "ticks": ""
             }
            },
            "type": "scattercarpet"
           }
          ],
          "scattergeo": [
           {
            "marker": {
             "colorbar": {
              "outlinewidth": 0,
              "ticks": ""
             }
            },
            "type": "scattergeo"
           }
          ],
          "scattergl": [
           {
            "marker": {
             "colorbar": {
              "outlinewidth": 0,
              "ticks": ""
             }
            },
            "type": "scattergl"
           }
          ],
          "scattermapbox": [
           {
            "marker": {
             "colorbar": {
              "outlinewidth": 0,
              "ticks": ""
             }
            },
            "type": "scattermapbox"
           }
          ],
          "scatterpolar": [
           {
            "marker": {
             "colorbar": {
              "outlinewidth": 0,
              "ticks": ""
             }
            },
            "type": "scatterpolar"
           }
          ],
          "scatterpolargl": [
           {
            "marker": {
             "colorbar": {
              "outlinewidth": 0,
              "ticks": ""
             }
            },
            "type": "scatterpolargl"
           }
          ],
          "scatterternary": [
           {
            "marker": {
             "colorbar": {
              "outlinewidth": 0,
              "ticks": ""
             }
            },
            "type": "scatterternary"
           }
          ],
          "surface": [
           {
            "colorbar": {
             "outlinewidth": 0,
             "ticks": ""
            },
            "colorscale": [
             [
              0,
              "#0d0887"
             ],
             [
              0.1111111111111111,
              "#46039f"
             ],
             [
              0.2222222222222222,
              "#7201a8"
             ],
             [
              0.3333333333333333,
              "#9c179e"
             ],
             [
              0.4444444444444444,
              "#bd3786"
             ],
             [
              0.5555555555555556,
              "#d8576b"
             ],
             [
              0.6666666666666666,
              "#ed7953"
             ],
             [
              0.7777777777777778,
              "#fb9f3a"
             ],
             [
              0.8888888888888888,
              "#fdca26"
             ],
             [
              1,
              "#f0f921"
             ]
            ],
            "type": "surface"
           }
          ],
          "table": [
           {
            "cells": {
             "fill": {
              "color": "#EBF0F8"
             },
             "line": {
              "color": "white"
             }
            },
            "header": {
             "fill": {
              "color": "#C8D4E3"
             },
             "line": {
              "color": "white"
             }
            },
            "type": "table"
           }
          ]
         },
         "layout": {
          "annotationdefaults": {
           "arrowcolor": "#2a3f5f",
           "arrowhead": 0,
           "arrowwidth": 1
          },
          "autotypenumbers": "strict",
          "coloraxis": {
           "colorbar": {
            "outlinewidth": 0,
            "ticks": ""
           }
          },
          "colorscale": {
           "diverging": [
            [
             0,
             "#8e0152"
            ],
            [
             0.1,
             "#c51b7d"
            ],
            [
             0.2,
             "#de77ae"
            ],
            [
             0.3,
             "#f1b6da"
            ],
            [
             0.4,
             "#fde0ef"
            ],
            [
             0.5,
             "#f7f7f7"
            ],
            [
             0.6,
             "#e6f5d0"
            ],
            [
             0.7,
             "#b8e186"
            ],
            [
             0.8,
             "#7fbc41"
            ],
            [
             0.9,
             "#4d9221"
            ],
            [
             1,
             "#276419"
            ]
           ],
           "sequential": [
            [
             0,
             "#0d0887"
            ],
            [
             0.1111111111111111,
             "#46039f"
            ],
            [
             0.2222222222222222,
             "#7201a8"
            ],
            [
             0.3333333333333333,
             "#9c179e"
            ],
            [
             0.4444444444444444,
             "#bd3786"
            ],
            [
             0.5555555555555556,
             "#d8576b"
            ],
            [
             0.6666666666666666,
             "#ed7953"
            ],
            [
             0.7777777777777778,
             "#fb9f3a"
            ],
            [
             0.8888888888888888,
             "#fdca26"
            ],
            [
             1,
             "#f0f921"
            ]
           ],
           "sequentialminus": [
            [
             0,
             "#0d0887"
            ],
            [
             0.1111111111111111,
             "#46039f"
            ],
            [
             0.2222222222222222,
             "#7201a8"
            ],
            [
             0.3333333333333333,
             "#9c179e"
            ],
            [
             0.4444444444444444,
             "#bd3786"
            ],
            [
             0.5555555555555556,
             "#d8576b"
            ],
            [
             0.6666666666666666,
             "#ed7953"
            ],
            [
             0.7777777777777778,
             "#fb9f3a"
            ],
            [
             0.8888888888888888,
             "#fdca26"
            ],
            [
             1,
             "#f0f921"
            ]
           ]
          },
          "colorway": [
           "#636efa",
           "#EF553B",
           "#00cc96",
           "#ab63fa",
           "#FFA15A",
           "#19d3f3",
           "#FF6692",
           "#B6E880",
           "#FF97FF",
           "#FECB52"
          ],
          "font": {
           "color": "#2a3f5f"
          },
          "geo": {
           "bgcolor": "white",
           "lakecolor": "white",
           "landcolor": "#E5ECF6",
           "showlakes": true,
           "showland": true,
           "subunitcolor": "white"
          },
          "hoverlabel": {
           "align": "left"
          },
          "hovermode": "closest",
          "mapbox": {
           "style": "light"
          },
          "paper_bgcolor": "white",
          "plot_bgcolor": "#E5ECF6",
          "polar": {
           "angularaxis": {
            "gridcolor": "white",
            "linecolor": "white",
            "ticks": ""
           },
           "bgcolor": "#E5ECF6",
           "radialaxis": {
            "gridcolor": "white",
            "linecolor": "white",
            "ticks": ""
           }
          },
          "scene": {
           "xaxis": {
            "backgroundcolor": "#E5ECF6",
            "gridcolor": "white",
            "gridwidth": 2,
            "linecolor": "white",
            "showbackground": true,
            "ticks": "",
            "zerolinecolor": "white"
           },
           "yaxis": {
            "backgroundcolor": "#E5ECF6",
            "gridcolor": "white",
            "gridwidth": 2,
            "linecolor": "white",
            "showbackground": true,
            "ticks": "",
            "zerolinecolor": "white"
           },
           "zaxis": {
            "backgroundcolor": "#E5ECF6",
            "gridcolor": "white",
            "gridwidth": 2,
            "linecolor": "white",
            "showbackground": true,
            "ticks": "",
            "zerolinecolor": "white"
           }
          },
          "shapedefaults": {
           "line": {
            "color": "#2a3f5f"
           }
          },
          "ternary": {
           "aaxis": {
            "gridcolor": "white",
            "linecolor": "white",
            "ticks": ""
           },
           "baxis": {
            "gridcolor": "white",
            "linecolor": "white",
            "ticks": ""
           },
           "bgcolor": "#E5ECF6",
           "caxis": {
            "gridcolor": "white",
            "linecolor": "white",
            "ticks": ""
           }
          },
          "title": {
           "x": 0.05
          },
          "xaxis": {
           "automargin": true,
           "gridcolor": "white",
           "linecolor": "white",
           "ticks": "",
           "title": {
            "standoff": 15
           },
           "zerolinecolor": "white",
           "zerolinewidth": 2
          },
          "yaxis": {
           "automargin": true,
           "gridcolor": "white",
           "linecolor": "white",
           "ticks": "",
           "title": {
            "standoff": 15
           },
           "zerolinecolor": "white",
           "zerolinewidth": 2
          }
         }
        },
        "title": {
         "text": "Port of embarkation"
        }
       }
      },
      "text/html": [
       "<div>                            <div id=\"92da2968-73ed-4da5-9cda-78c8701020df\" class=\"plotly-graph-div\" style=\"height:525px; width:100%;\"></div>            <script type=\"text/javascript\">                require([\"plotly\"], function(Plotly) {                    window.PLOTLYENV=window.PLOTLYENV || {};                                    if (document.getElementById(\"92da2968-73ed-4da5-9cda-78c8701020df\")) {                    Plotly.newPlot(                        \"92da2968-73ed-4da5-9cda-78c8701020df\",                        [{\"hole\":0.3,\"labels\":[\"Southampton\",\"Cherbourg\",\"Queenstown\"],\"pull\":[0,0,0.06,0],\"values\":[644,168,77],\"type\":\"pie\",\"marker\":{\"colors\":[\"#D3DBDD\",\"navy\",\"#57A7F3\"]}}],                        {\"template\":{\"data\":{\"histogram2dcontour\":[{\"type\":\"histogram2dcontour\",\"colorbar\":{\"outlinewidth\":0,\"ticks\":\"\"},\"colorscale\":[[0.0,\"#0d0887\"],[0.1111111111111111,\"#46039f\"],[0.2222222222222222,\"#7201a8\"],[0.3333333333333333,\"#9c179e\"],[0.4444444444444444,\"#bd3786\"],[0.5555555555555556,\"#d8576b\"],[0.6666666666666666,\"#ed7953\"],[0.7777777777777778,\"#fb9f3a\"],[0.8888888888888888,\"#fdca26\"],[1.0,\"#f0f921\"]]}],\"choropleth\":[{\"type\":\"choropleth\",\"colorbar\":{\"outlinewidth\":0,\"ticks\":\"\"}}],\"histogram2d\":[{\"type\":\"histogram2d\",\"colorbar\":{\"outlinewidth\":0,\"ticks\":\"\"},\"colorscale\":[[0.0,\"#0d0887\"],[0.1111111111111111,\"#46039f\"],[0.2222222222222222,\"#7201a8\"],[0.3333333333333333,\"#9c179e\"],[0.4444444444444444,\"#bd3786\"],[0.5555555555555556,\"#d8576b\"],[0.6666666666666666,\"#ed7953\"],[0.7777777777777778,\"#fb9f3a\"],[0.8888888888888888,\"#fdca26\"],[1.0,\"#f0f921\"]]}],\"heatmap\":[{\"type\":\"heatmap\",\"colorbar\":{\"outlinewidth\":0,\"ticks\":\"\"},\"colorscale\":[[0.0,\"#0d0887\"],[0.1111111111111111,\"#46039f\"],[0.2222222222222222,\"#7201a8\"],[0.3333333333333333,\"#9c179e\"],[0.4444444444444444,\"#bd3786\"],[0.5555555555555556,\"#d8576b\"],[0.6666666666666666,\"#ed7953\"],[0.7777777777777778,\"#fb9f3a\"],[0.8888888888888888,\"#fdca26\"],[1.0,\"#f0f921\"]]}],\"heatmapgl\":[{\"type\":\"heatmapgl\",\"colorbar\":{\"outlinewidth\":0,\"ticks\":\"\"},\"colorscale\":[[0.0,\"#0d0887\"],[0.1111111111111111,\"#46039f\"],[0.2222222222222222,\"#7201a8\"],[0.3333333333333333,\"#9c179e\"],[0.4444444444444444,\"#bd3786\"],[0.5555555555555556,\"#d8576b\"],[0.6666666666666666,\"#ed7953\"],[0.7777777777777778,\"#fb9f3a\"],[0.8888888888888888,\"#fdca26\"],[1.0,\"#f0f921\"]]}],\"contourcarpet\":[{\"type\":\"contourcarpet\",\"colorbar\":{\"outlinewidth\":0,\"ticks\":\"\"}}],\"contour\":[{\"type\":\"contour\",\"colorbar\":{\"outlinewidth\":0,\"ticks\":\"\"},\"colorscale\":[[0.0,\"#0d0887\"],[0.1111111111111111,\"#46039f\"],[0.2222222222222222,\"#7201a8\"],[0.3333333333333333,\"#9c179e\"],[0.4444444444444444,\"#bd3786\"],[0.5555555555555556,\"#d8576b\"],[0.6666666666666666,\"#ed7953\"],[0.7777777777777778,\"#fb9f3a\"],[0.8888888888888888,\"#fdca26\"],[1.0,\"#f0f921\"]]}],\"surface\":[{\"type\":\"surface\",\"colorbar\":{\"outlinewidth\":0,\"ticks\":\"\"},\"colorscale\":[[0.0,\"#0d0887\"],[0.1111111111111111,\"#46039f\"],[0.2222222222222222,\"#7201a8\"],[0.3333333333333333,\"#9c179e\"],[0.4444444444444444,\"#bd3786\"],[0.5555555555555556,\"#d8576b\"],[0.6666666666666666,\"#ed7953\"],[0.7777777777777778,\"#fb9f3a\"],[0.8888888888888888,\"#fdca26\"],[1.0,\"#f0f921\"]]}],\"mesh3d\":[{\"type\":\"mesh3d\",\"colorbar\":{\"outlinewidth\":0,\"ticks\":\"\"}}],\"scatter\":[{\"fillpattern\":{\"fillmode\":\"overlay\",\"size\":10,\"solidity\":0.2},\"type\":\"scatter\"}],\"parcoords\":[{\"type\":\"parcoords\",\"line\":{\"colorbar\":{\"outlinewidth\":0,\"ticks\":\"\"}}}],\"scatterpolargl\":[{\"type\":\"scatterpolargl\",\"marker\":{\"colorbar\":{\"outlinewidth\":0,\"ticks\":\"\"}}}],\"bar\":[{\"error_x\":{\"color\":\"#2a3f5f\"},\"error_y\":{\"color\":\"#2a3f5f\"},\"marker\":{\"line\":{\"color\":\"#E5ECF6\",\"width\":0.5},\"pattern\":{\"fillmode\":\"overlay\",\"size\":10,\"solidity\":0.2}},\"type\":\"bar\"}],\"scattergeo\":[{\"type\":\"scattergeo\",\"marker\":{\"colorbar\":{\"outlinewidth\":0,\"ticks\":\"\"}}}],\"scatterpolar\":[{\"type\":\"scatterpolar\",\"marker\":{\"colorbar\":{\"outlinewidth\":0,\"ticks\":\"\"}}}],\"histogram\":[{\"marker\":{\"pattern\":{\"fillmode\":\"overlay\",\"size\":10,\"solidity\":0.2}},\"type\":\"histogram\"}],\"scattergl\":[{\"type\":\"scattergl\",\"marker\":{\"colorbar\":{\"outlinewidth\":0,\"ticks\":\"\"}}}],\"scatter3d\":[{\"type\":\"scatter3d\",\"line\":{\"colorbar\":{\"outlinewidth\":0,\"ticks\":\"\"}},\"marker\":{\"colorbar\":{\"outlinewidth\":0,\"ticks\":\"\"}}}],\"scattermapbox\":[{\"type\":\"scattermapbox\",\"marker\":{\"colorbar\":{\"outlinewidth\":0,\"ticks\":\"\"}}}],\"scatterternary\":[{\"type\":\"scatterternary\",\"marker\":{\"colorbar\":{\"outlinewidth\":0,\"ticks\":\"\"}}}],\"scattercarpet\":[{\"type\":\"scattercarpet\",\"marker\":{\"colorbar\":{\"outlinewidth\":0,\"ticks\":\"\"}}}],\"carpet\":[{\"aaxis\":{\"endlinecolor\":\"#2a3f5f\",\"gridcolor\":\"white\",\"linecolor\":\"white\",\"minorgridcolor\":\"white\",\"startlinecolor\":\"#2a3f5f\"},\"baxis\":{\"endlinecolor\":\"#2a3f5f\",\"gridcolor\":\"white\",\"linecolor\":\"white\",\"minorgridcolor\":\"white\",\"startlinecolor\":\"#2a3f5f\"},\"type\":\"carpet\"}],\"table\":[{\"cells\":{\"fill\":{\"color\":\"#EBF0F8\"},\"line\":{\"color\":\"white\"}},\"header\":{\"fill\":{\"color\":\"#C8D4E3\"},\"line\":{\"color\":\"white\"}},\"type\":\"table\"}],\"barpolar\":[{\"marker\":{\"line\":{\"color\":\"#E5ECF6\",\"width\":0.5},\"pattern\":{\"fillmode\":\"overlay\",\"size\":10,\"solidity\":0.2}},\"type\":\"barpolar\"}],\"pie\":[{\"automargin\":true,\"type\":\"pie\"}]},\"layout\":{\"autotypenumbers\":\"strict\",\"colorway\":[\"#636efa\",\"#EF553B\",\"#00cc96\",\"#ab63fa\",\"#FFA15A\",\"#19d3f3\",\"#FF6692\",\"#B6E880\",\"#FF97FF\",\"#FECB52\"],\"font\":{\"color\":\"#2a3f5f\"},\"hovermode\":\"closest\",\"hoverlabel\":{\"align\":\"left\"},\"paper_bgcolor\":\"white\",\"plot_bgcolor\":\"#E5ECF6\",\"polar\":{\"bgcolor\":\"#E5ECF6\",\"angularaxis\":{\"gridcolor\":\"white\",\"linecolor\":\"white\",\"ticks\":\"\"},\"radialaxis\":{\"gridcolor\":\"white\",\"linecolor\":\"white\",\"ticks\":\"\"}},\"ternary\":{\"bgcolor\":\"#E5ECF6\",\"aaxis\":{\"gridcolor\":\"white\",\"linecolor\":\"white\",\"ticks\":\"\"},\"baxis\":{\"gridcolor\":\"white\",\"linecolor\":\"white\",\"ticks\":\"\"},\"caxis\":{\"gridcolor\":\"white\",\"linecolor\":\"white\",\"ticks\":\"\"}},\"coloraxis\":{\"colorbar\":{\"outlinewidth\":0,\"ticks\":\"\"}},\"colorscale\":{\"sequential\":[[0.0,\"#0d0887\"],[0.1111111111111111,\"#46039f\"],[0.2222222222222222,\"#7201a8\"],[0.3333333333333333,\"#9c179e\"],[0.4444444444444444,\"#bd3786\"],[0.5555555555555556,\"#d8576b\"],[0.6666666666666666,\"#ed7953\"],[0.7777777777777778,\"#fb9f3a\"],[0.8888888888888888,\"#fdca26\"],[1.0,\"#f0f921\"]],\"sequentialminus\":[[0.0,\"#0d0887\"],[0.1111111111111111,\"#46039f\"],[0.2222222222222222,\"#7201a8\"],[0.3333333333333333,\"#9c179e\"],[0.4444444444444444,\"#bd3786\"],[0.5555555555555556,\"#d8576b\"],[0.6666666666666666,\"#ed7953\"],[0.7777777777777778,\"#fb9f3a\"],[0.8888888888888888,\"#fdca26\"],[1.0,\"#f0f921\"]],\"diverging\":[[0,\"#8e0152\"],[0.1,\"#c51b7d\"],[0.2,\"#de77ae\"],[0.3,\"#f1b6da\"],[0.4,\"#fde0ef\"],[0.5,\"#f7f7f7\"],[0.6,\"#e6f5d0\"],[0.7,\"#b8e186\"],[0.8,\"#7fbc41\"],[0.9,\"#4d9221\"],[1,\"#276419\"]]},\"xaxis\":{\"gridcolor\":\"white\",\"linecolor\":\"white\",\"ticks\":\"\",\"title\":{\"standoff\":15},\"zerolinecolor\":\"white\",\"automargin\":true,\"zerolinewidth\":2},\"yaxis\":{\"gridcolor\":\"white\",\"linecolor\":\"white\",\"ticks\":\"\",\"title\":{\"standoff\":15},\"zerolinecolor\":\"white\",\"automargin\":true,\"zerolinewidth\":2},\"scene\":{\"xaxis\":{\"backgroundcolor\":\"#E5ECF6\",\"gridcolor\":\"white\",\"linecolor\":\"white\",\"showbackground\":true,\"ticks\":\"\",\"zerolinecolor\":\"white\",\"gridwidth\":2},\"yaxis\":{\"backgroundcolor\":\"#E5ECF6\",\"gridcolor\":\"white\",\"linecolor\":\"white\",\"showbackground\":true,\"ticks\":\"\",\"zerolinecolor\":\"white\",\"gridwidth\":2},\"zaxis\":{\"backgroundcolor\":\"#E5ECF6\",\"gridcolor\":\"white\",\"linecolor\":\"white\",\"showbackground\":true,\"ticks\":\"\",\"zerolinecolor\":\"white\",\"gridwidth\":2}},\"shapedefaults\":{\"line\":{\"color\":\"#2a3f5f\"}},\"annotationdefaults\":{\"arrowcolor\":\"#2a3f5f\",\"arrowhead\":0,\"arrowwidth\":1},\"geo\":{\"bgcolor\":\"white\",\"landcolor\":\"#E5ECF6\",\"subunitcolor\":\"white\",\"showland\":true,\"showlakes\":true,\"lakecolor\":\"white\"},\"title\":{\"x\":0.05},\"mapbox\":{\"style\":\"light\"}}},\"title\":{\"text\":\"Port of embarkation\"}},                        {\"responsive\": true}                    ).then(function(){\n",
       "                            \n",
       "var gd = document.getElementById('92da2968-73ed-4da5-9cda-78c8701020df');\n",
       "var x = new MutationObserver(function (mutations, observer) {{\n",
       "        var display = window.getComputedStyle(gd).display;\n",
       "        if (!display || display === 'none') {{\n",
       "            console.log([gd, 'removed!']);\n",
       "            Plotly.purge(gd);\n",
       "            observer.disconnect();\n",
       "        }}\n",
       "}});\n",
       "\n",
       "// Listen for the removal of the full notebook cells\n",
       "var notebookContainer = gd.closest('#notebook-container');\n",
       "if (notebookContainer) {{\n",
       "    x.observe(notebookContainer, {childList: true});\n",
       "}}\n",
       "\n",
       "// Listen for the clearing of the current output cell\n",
       "var outputEl = gd.closest('.output');\n",
       "if (outputEl) {{\n",
       "    x.observe(outputEl, {childList: true});\n",
       "}}\n",
       "\n",
       "                        })                };                });            </script>        </div>"
      ]
     },
     "metadata": {},
     "output_type": "display_data"
    }
   ],
   "source": [
    "import plotly.graph_objects as go\n",
    "\n",
    "night_colors = ['#D3DBDD',  'navy',  '#57A7F3']\n",
    "labels = [x for x in data.Embarked.value_counts().index]\n",
    "values = data.Embarked.value_counts()\n",
    "\n",
    "# Use `hole` to create a donut-like pie chart\n",
    "fig=go.Figure(data=[go.Pie(labels=[\"Southampton\",\"Cherbourg\",\"Queenstown\"],values=values,hole=.3,pull=[0,0,0.06,0])])\n",
    "\n",
    "fig.update_layout(\n",
    "    title_text=\"Port of embarkation\")\n",
    "fig.update_traces(marker=dict(colors=night_colors))\n",
    "fig.show()"
   ]
  },
  {
   "cell_type": "code",
   "execution_count": 49,
   "id": "ae75ece8",
   "metadata": {},
   "outputs": [
    {
     "data": {
      "image/png": "[encoded data removed]",
      "text/plain": [
       "<Figure size 432x288 with 1 Axes>"
      ]
     },
     "metadata": {
      "needs_background": "light"
     },
     "output_type": "display_data"
    }
   ],
   "source": [
    "sns.barplot(x='Pclass', y='Survived', data=data)\n",
    "plt.title('Survival Rate by Ticket Class')\n",
    "plt.xlabel('Ticket Class')\n",
    "plt.ylabel('Survival Rate')\n",
    "plt.show()"
   ]
  },
  {
   "cell_type": "markdown",
   "id": "665a91f5",
   "metadata": {},
   "source": [
    "The majority of the passenegers from southampton and least number of passengers from Queenstown."
   ]
  },
  {
   "cell_type": "code",
   "execution_count": 50,
   "id": "df6e8a9a",
   "metadata": {},
   "outputs": [
    {
     "data": {
      "application/vnd.plotly.v1+json": {
       "config": {
        "plotlyServerURL": "https://plot.ly"
       },
       "data": [
        {
         "hole": 0.3,
         "labels": [
          "male",
          "female"
         ],
         "marker": {
          "colors": [
           "#D3DBDD",
           "navy",
           "#57A7F3"
          ]
         },
         "pull": [
          0.03,
          0
         ],
         "type": "pie",
         "values": [
          577,
          314
         ]
        }
       ],
       "layout": {
        "template": {
         "data": {
          "bar": [
           {
            "error_x": {
             "color": "#2a3f5f"
            },
            "error_y": {
             "color": "#2a3f5f"
            },
            "marker": {
             "line": {
              "color": "#E5ECF6",
              "width": 0.5
             },
             "pattern": {
              "fillmode": "overlay",
              "size": 10,
              "solidity": 0.2
             }
            },
            "type": "bar"
           }
          ],
          "barpolar": [
           {
            "marker": {
             "line": {
              "color": "#E5ECF6",
              "width": 0.5
             },
             "pattern": {
              "fillmode": "overlay",
              "size": 10,
              "solidity": 0.2
             }
            },
            "type": "barpolar"
           }
          ],
          "carpet": [
           {
            "aaxis": {
             "endlinecolor": "#2a3f5f",
             "gridcolor": "white",
             "linecolor": "white",
             "minorgridcolor": "white",
             "startlinecolor": "#2a3f5f"
            },
            "baxis": {
             "endlinecolor": "#2a3f5f",
             "gridcolor": "white",
             "linecolor": "white",
             "minorgridcolor": "white",
             "startlinecolor": "#2a3f5f"
            },
            "type": "carpet"
           }
          ],
          "choropleth": [
           {
            "colorbar": {
             "outlinewidth": 0,
             "ticks": ""
            },
            "type": "choropleth"
           }
          ],
          "contour": [
           {
            "colorbar": {
             "outlinewidth": 0,
             "ticks": ""
            },
            "colorscale": [
             [
              0,
              "#0d0887"
             ],
             [
              0.1111111111111111,
              "#46039f"
             ],
             [
              0.2222222222222222,
              "#7201a8"
             ],
             [
              0.3333333333333333,
              "#9c179e"
             ],
             [
              0.4444444444444444,
              "#bd3786"
             ],
             [
              0.5555555555555556,
              "#d8576b"
             ],
             [
              0.6666666666666666,
              "#ed7953"
             ],
             [
              0.7777777777777778,
              "#fb9f3a"
             ],
             [
              0.8888888888888888,
              "#fdca26"
             ],
             [
              1,
              "#f0f921"
             ]
            ],
            "type": "contour"
           }
          ],
          "contourcarpet": [
           {
            "colorbar": {
             "outlinewidth": 0,
             "ticks": ""
            },
            "type": "contourcarpet"
           }
          ],
          "heatmap": [
           {
            "colorbar": {
             "outlinewidth": 0,
             "ticks": ""
            },
            "colorscale": [
             [
              0,
              "#0d0887"
             ],
             [
              0.1111111111111111,
              "#46039f"
             ],
             [
              0.2222222222222222,
              "#7201a8"
             ],
             [
              0.3333333333333333,
              "#9c179e"
             ],
             [
              0.4444444444444444,
              "#bd3786"
             ],
             [
              0.5555555555555556,
              "#d8576b"
             ],
             [
              0.6666666666666666,
              "#ed7953"
             ],
             [
              0.7777777777777778,
              "#fb9f3a"
             ],
             [
              0.8888888888888888,
              "#fdca26"
             ],
             [
              1,
              "#f0f921"
             ]
            ],
            "type": "heatmap"
           }
          ],
          "heatmapgl": [
           {
            "colorbar": {
             "outlinewidth": 0,
             "ticks": ""
            },
            "colorscale": [
             [
              0,
              "#0d0887"
             ],
             [
              0.1111111111111111,
              "#46039f"
             ],
             [
              0.2222222222222222,
              "#7201a8"
             ],
             [
              0.3333333333333333,
              "#9c179e"
             ],
             [
              0.4444444444444444,
              "#bd3786"
             ],
             [
              0.5555555555555556,
              "#d8576b"
             ],
             [
              0.6666666666666666,
              "#ed7953"
             ],
             [
              0.7777777777777778,
              "#fb9f3a"
             ],
             [
              0.8888888888888888,
              "#fdca26"
             ],
             [
              1,
              "#f0f921"
             ]
            ],
            "type": "heatmapgl"
           }
          ],
          "histogram": [
           {
            "marker": {
             "pattern": {
              "fillmode": "overlay",
              "size": 10,
              "solidity": 0.2
             }
            },
            "type": "histogram"
           }
          ],
          "histogram2d": [
           {
            "colorbar": {
             "outlinewidth": 0,
             "ticks": ""
            },
            "colorscale": [
             [
              0,
              "#0d0887"
             ],
             [
              0.1111111111111111,
              "#46039f"
             ],
             [
              0.2222222222222222,
              "#7201a8"
             ],
             [
              0.3333333333333333,
              "#9c179e"
             ],
             [
              0.4444444444444444,
              "#bd3786"
             ],
             [
              0.5555555555555556,
              "#d8576b"
             ],
             [
              0.6666666666666666,
              "#ed7953"
             ],
             [
              0.7777777777777778,
              "#fb9f3a"
             ],
             [
              0.8888888888888888,
              "#fdca26"
             ],
             [
              1,
              "#f0f921"
             ]
            ],
            "type": "histogram2d"
           }
          ],
          "histogram2dcontour": [
           {
            "colorbar": {
             "outlinewidth": 0,
             "ticks": ""
            },
            "colorscale": [
             [
              0,
              "#0d0887"
             ],
             [
              0.1111111111111111,
              "#46039f"
             ],
             [
              0.2222222222222222,
              "#7201a8"
             ],
             [
              0.3333333333333333,
              "#9c179e"
             ],
             [
              0.4444444444444444,
              "#bd3786"
             ],
             [
              0.5555555555555556,
              "#d8576b"
             ],
             [
              0.6666666666666666,
              "#ed7953"
             ],
             [
              0.7777777777777778,
              "#fb9f3a"
             ],
             [
              0.8888888888888888,
              "#fdca26"
             ],
             [
              1,
              "#f0f921"
             ]
            ],
            "type": "histogram2dcontour"
           }
          ],
          "mesh3d": [
           {
            "colorbar": {
             "outlinewidth": 0,
             "ticks": ""
            },
            "type": "mesh3d"
           }
          ],
          "parcoords": [
           {
            "line": {
             "colorbar": {
              "outlinewidth": 0,
              "ticks": ""
             }
            },
            "type": "parcoords"
           }
          ],
          "pie": [
           {
            "automargin": true,
            "type": "pie"
           }
          ],
          "scatter": [
           {
            "fillpattern": {
             "fillmode": "overlay",
             "size": 10,
             "solidity": 0.2
            },
            "type": "scatter"
           }
          ],
          "scatter3d": [
           {
            "line": {
             "colorbar": {
              "outlinewidth": 0,
              "ticks": ""
             }
            },
            "marker": {
             "colorbar": {
              "outlinewidth": 0,
              "ticks": ""
             }
            },
            "type": "scatter3d"
           }
          ],
          "scattercarpet": [
           {
            "marker": {
             "colorbar": {
              "outlinewidth": 0,
              "ticks": ""
             }
            },
            "type": "scattercarpet"
           }
          ],
          "scattergeo": [
           {
            "marker": {
             "colorbar": {
              "outlinewidth": 0,
              "ticks": ""
             }
            },
            "type": "scattergeo"
           }
          ],
          "scattergl": [
           {
            "marker": {
             "colorbar": {
              "outlinewidth": 0,
              "ticks": ""
             }
            },
            "type": "scattergl"
           }
          ],
          "scattermapbox": [
           {
            "marker": {
             "colorbar": {
              "outlinewidth": 0,
              "ticks": ""
             }
            },
            "type": "scattermapbox"
           }
          ],
          "scatterpolar": [
           {
            "marker": {
             "colorbar": {
              "outlinewidth": 0,
              "ticks": ""
             }
            },
            "type": "scatterpolar"
           }
          ],
          "scatterpolargl": [
           {
            "marker": {
             "colorbar": {
              "outlinewidth": 0,
              "ticks": ""
             }
            },
            "type": "scatterpolargl"
           }
          ],
          "scatterternary": [
           {
            "marker": {
             "colorbar": {
              "outlinewidth": 0,
              "ticks": ""
             }
            },
            "type": "scatterternary"
           }
          ],
          "surface": [
           {
            "colorbar": {
             "outlinewidth": 0,
             "ticks": ""
            },
            "colorscale": [
             [
              0,
              "#0d0887"
             ],
             [
              0.1111111111111111,
              "#46039f"
             ],
             [
              0.2222222222222222,
              "#7201a8"
             ],
             [
              0.3333333333333333,
              "#9c179e"
             ],
             [
              0.4444444444444444,
              "#bd3786"
             ],
             [
              0.5555555555555556,
              "#d8576b"
             ],
             [
              0.6666666666666666,
              "#ed7953"
             ],
             [
              0.7777777777777778,
              "#fb9f3a"
             ],
             [
              0.8888888888888888,
              "#fdca26"
             ],
             [
              1,
              "#f0f921"
             ]
            ],
            "type": "surface"
           }
          ],
          "table": [
           {
            "cells": {
             "fill": {
              "color": "#EBF0F8"
             },
             "line": {
              "color": "white"
             }
            },
            "header": {
             "fill": {
              "color": "#C8D4E3"
             },
             "line": {
              "color": "white"
             }
            },
            "type": "table"
           }
          ]
         },
         "layout": {
          "annotationdefaults": {
           "arrowcolor": "#2a3f5f",
           "arrowhead": 0,
           "arrowwidth": 1
          },
          "autotypenumbers": "strict",
          "coloraxis": {
           "colorbar": {
            "outlinewidth": 0,
            "ticks": ""
           }
          },
          "colorscale": {
           "diverging": [
            [
             0,
             "#8e0152"
            ],
            [
             0.1,
             "#c51b7d"
            ],
            [
             0.2,
             "#de77ae"
            ],
            [
             0.3,
             "#f1b6da"
            ],
            [
             0.4,
             "#fde0ef"
            ],
            [
             0.5,
             "#f7f7f7"
            ],
            [
             0.6,
             "#e6f5d0"
            ],
            [
             0.7,
             "#b8e186"
            ],
            [
             0.8,
             "#7fbc41"
            ],
            [
             0.9,
             "#4d9221"
            ],
            [
             1,
             "#276419"
            ]
           ],
           "sequential": [
            [
             0,
             "#0d0887"
            ],
            [
             0.1111111111111111,
             "#46039f"
            ],
            [
             0.2222222222222222,
             "#7201a8"
            ],
            [
             0.3333333333333333,
             "#9c179e"
            ],
            [
             0.4444444444444444,
             "#bd3786"
            ],
            [
             0.5555555555555556,
             "#d8576b"
            ],
            [
             0.6666666666666666,
             "#ed7953"
            ],
            [
             0.7777777777777778,
             "#fb9f3a"
            ],
            [
             0.8888888888888888,
             "#fdca26"
            ],
            [
             1,
             "#f0f921"
            ]
           ],
           "sequentialminus": [
            [
             0,
             "#0d0887"
            ],
            [
             0.1111111111111111,
             "#46039f"
            ],
            [
             0.2222222222222222,
             "#7201a8"
            ],
            [
             0.3333333333333333,
             "#9c179e"
            ],
            [
             0.4444444444444444,
             "#bd3786"
            ],
            [
             0.5555555555555556,
             "#d8576b"
            ],
            [
             0.6666666666666666,
             "#ed7953"
            ],
            [
             0.7777777777777778,
             "#fb9f3a"
            ],
            [
             0.8888888888888888,
             "#fdca26"
            ],
            [
             1,
             "#f0f921"
            ]
           ]
          },
          "colorway": [
           "#636efa",
           "#EF553B",
           "#00cc96",
           "#ab63fa",
           "#FFA15A",
           "#19d3f3",
           "#FF6692",
           "#B6E880",
           "#FF97FF",
           "#FECB52"
          ],
          "font": {
           "color": "#2a3f5f"
          },
          "geo": {
           "bgcolor": "white",
           "lakecolor": "white",
           "landcolor": "#E5ECF6",
           "showlakes": true,
           "showland": true,
           "subunitcolor": "white"
          },
          "hoverlabel": {
           "align": "left"
          },
          "hovermode": "closest",
          "mapbox": {
           "style": "light"
          },
          "paper_bgcolor": "white",
          "plot_bgcolor": "#E5ECF6",
          "polar": {
           "angularaxis": {
            "gridcolor": "white",
            "linecolor": "white",
            "ticks": ""
           },
           "bgcolor": "#E5ECF6",
           "radialaxis": {
            "gridcolor": "white",
            "linecolor": "white",
            "ticks": ""
           }
          },
          "scene": {
           "xaxis": {
            "backgroundcolor": "#E5ECF6",
            "gridcolor": "white",
            "gridwidth": 2,
            "linecolor": "white",
            "showbackground": true,
            "ticks": "",
            "zerolinecolor": "white"
           },
           "yaxis": {
            "backgroundcolor": "#E5ECF6",
            "gridcolor": "white",
            "gridwidth": 2,
            "linecolor": "white",
            "showbackground": true,
            "ticks": "",
            "zerolinecolor": "white"
           },
           "zaxis": {
            "backgroundcolor": "#E5ECF6",
            "gridcolor": "white",
            "gridwidth": 2,
            "linecolor": "white",
            "showbackground": true,
            "ticks": "",
            "zerolinecolor": "white"
           }
          },
          "shapedefaults": {
           "line": {
            "color": "#2a3f5f"
           }
          },
          "ternary": {
           "aaxis": {
            "gridcolor": "white",
            "linecolor": "white",
            "ticks": ""
           },
           "baxis": {
            "gridcolor": "white",
            "linecolor": "white",
            "ticks": ""
           },
           "bgcolor": "#E5ECF6",
           "caxis": {
            "gridcolor": "white",
            "linecolor": "white",
            "ticks": ""
           }
          },
          "title": {
           "x": 0.05
          },
          "xaxis": {
           "automargin": true,
           "gridcolor": "white",
           "linecolor": "white",
           "ticks": "",
           "title": {
            "standoff": 15
           },
           "zerolinecolor": "white",
           "zerolinewidth": 2
          },
          "yaxis": {
           "automargin": true,
           "gridcolor": "white",
           "linecolor": "white",
           "ticks": "",
           "title": {
            "standoff": 15
           },
           "zerolinecolor": "white",
           "zerolinewidth": 2
          }
         }
        },
        "title": {
         "text": "Gender "
        }
       }
      },
      "text/html": [
       "<div>                            <div id=\"9adff8c0-3dbe-4578-8564-115ffc4626b1\" class=\"plotly-graph-div\" style=\"height:525px; width:100%;\"></div>            <script type=\"text/javascript\">                require([\"plotly\"], function(Plotly) {                    window.PLOTLYENV=window.PLOTLYENV || {};                                    if (document.getElementById(\"9adff8c0-3dbe-4578-8564-115ffc4626b1\")) {                    Plotly.newPlot(                        \"9adff8c0-3dbe-4578-8564-115ffc4626b1\",                        [{\"hole\":0.3,\"labels\":[\"male\",\"female\"],\"pull\":[0.03,0],\"values\":[577,314],\"type\":\"pie\",\"marker\":{\"colors\":[\"#D3DBDD\",\"navy\",\"#57A7F3\"]}}],                        {\"template\":{\"data\":{\"histogram2dcontour\":[{\"type\":\"histogram2dcontour\",\"colorbar\":{\"outlinewidth\":0,\"ticks\":\"\"},\"colorscale\":[[0.0,\"#0d0887\"],[0.1111111111111111,\"#46039f\"],[0.2222222222222222,\"#7201a8\"],[0.3333333333333333,\"#9c179e\"],[0.4444444444444444,\"#bd3786\"],[0.5555555555555556,\"#d8576b\"],[0.6666666666666666,\"#ed7953\"],[0.7777777777777778,\"#fb9f3a\"],[0.8888888888888888,\"#fdca26\"],[1.0,\"#f0f921\"]]}],\"choropleth\":[{\"type\":\"choropleth\",\"colorbar\":{\"outlinewidth\":0,\"ticks\":\"\"}}],\"histogram2d\":[{\"type\":\"histogram2d\",\"colorbar\":{\"outlinewidth\":0,\"ticks\":\"\"},\"colorscale\":[[0.0,\"#0d0887\"],[0.1111111111111111,\"#46039f\"],[0.2222222222222222,\"#7201a8\"],[0.3333333333333333,\"#9c179e\"],[0.4444444444444444,\"#bd3786\"],[0.5555555555555556,\"#d8576b\"],[0.6666666666666666,\"#ed7953\"],[0.7777777777777778,\"#fb9f3a\"],[0.8888888888888888,\"#fdca26\"],[1.0,\"#f0f921\"]]}],\"heatmap\":[{\"type\":\"heatmap\",\"colorbar\":{\"outlinewidth\":0,\"ticks\":\"\"},\"colorscale\":[[0.0,\"#0d0887\"],[0.1111111111111111,\"#46039f\"],[0.2222222222222222,\"#7201a8\"],[0.3333333333333333,\"#9c179e\"],[0.4444444444444444,\"#bd3786\"],[0.5555555555555556,\"#d8576b\"],[0.6666666666666666,\"#ed7953\"],[0.7777777777777778,\"#fb9f3a\"],[0.8888888888888888,\"#fdca26\"],[1.0,\"#f0f921\"]]}],\"heatmapgl\":[{\"type\":\"heatmapgl\",\"colorbar\":{\"outlinewidth\":0,\"ticks\":\"\"},\"colorscale\":[[0.0,\"#0d0887\"],[0.1111111111111111,\"#46039f\"],[0.2222222222222222,\"#7201a8\"],[0.3333333333333333,\"#9c179e\"],[0.4444444444444444,\"#bd3786\"],[0.5555555555555556,\"#d8576b\"],[0.6666666666666666,\"#ed7953\"],[0.7777777777777778,\"#fb9f3a\"],[0.8888888888888888,\"#fdca26\"],[1.0,\"#f0f921\"]]}],\"contourcarpet\":[{\"type\":\"contourcarpet\",\"colorbar\":{\"outlinewidth\":0,\"ticks\":\"\"}}],\"contour\":[{\"type\":\"contour\",\"colorbar\":{\"outlinewidth\":0,\"ticks\":\"\"},\"colorscale\":[[0.0,\"#0d0887\"],[0.1111111111111111,\"#46039f\"],[0.2222222222222222,\"#7201a8\"],[0.3333333333333333,\"#9c179e\"],[0.4444444444444444,\"#bd3786\"],[0.5555555555555556,\"#d8576b\"],[0.6666666666666666,\"#ed7953\"],[0.7777777777777778,\"#fb9f3a\"],[0.8888888888888888,\"#fdca26\"],[1.0,\"#f0f921\"]]}],\"surface\":[{\"type\":\"surface\",\"colorbar\":{\"outlinewidth\":0,\"ticks\":\"\"},\"colorscale\":[[0.0,\"#0d0887\"],[0.1111111111111111,\"#46039f\"],[0.2222222222222222,\"#7201a8\"],[0.3333333333333333,\"#9c179e\"],[0.4444444444444444,\"#bd3786\"],[0.5555555555555556,\"#d8576b\"],[0.6666666666666666,\"#ed7953\"],[0.7777777777777778,\"#fb9f3a\"],[0.8888888888888888,\"#fdca26\"],[1.0,\"#f0f921\"]]}],\"mesh3d\":[{\"type\":\"mesh3d\",\"colorbar\":{\"outlinewidth\":0,\"ticks\":\"\"}}],\"scatter\":[{\"fillpattern\":{\"fillmode\":\"overlay\",\"size\":10,\"solidity\":0.2},\"type\":\"scatter\"}],\"parcoords\":[{\"type\":\"parcoords\",\"line\":{\"colorbar\":{\"outlinewidth\":0,\"ticks\":\"\"}}}],\"scatterpolargl\":[{\"type\":\"scatterpolargl\",\"marker\":{\"colorbar\":{\"outlinewidth\":0,\"ticks\":\"\"}}}],\"bar\":[{\"error_x\":{\"color\":\"#2a3f5f\"},\"error_y\":{\"color\":\"#2a3f5f\"},\"marker\":{\"line\":{\"color\":\"#E5ECF6\",\"width\":0.5},\"pattern\":{\"fillmode\":\"overlay\",\"size\":10,\"solidity\":0.2}},\"type\":\"bar\"}],\"scattergeo\":[{\"type\":\"scattergeo\",\"marker\":{\"colorbar\":{\"outlinewidth\":0,\"ticks\":\"\"}}}],\"scatterpolar\":[{\"type\":\"scatterpolar\",\"marker\":{\"colorbar\":{\"outlinewidth\":0,\"ticks\":\"\"}}}],\"histogram\":[{\"marker\":{\"pattern\":{\"fillmode\":\"overlay\",\"size\":10,\"solidity\":0.2}},\"type\":\"histogram\"}],\"scattergl\":[{\"type\":\"scattergl\",\"marker\":{\"colorbar\":{\"outlinewidth\":0,\"ticks\":\"\"}}}],\"scatter3d\":[{\"type\":\"scatter3d\",\"line\":{\"colorbar\":{\"outlinewidth\":0,\"ticks\":\"\"}},\"marker\":{\"colorbar\":{\"outlinewidth\":0,\"ticks\":\"\"}}}],\"scattermapbox\":[{\"type\":\"scattermapbox\",\"marker\":{\"colorbar\":{\"outlinewidth\":0,\"ticks\":\"\"}}}],\"scatterternary\":[{\"type\":\"scatterternary\",\"marker\":{\"colorbar\":{\"outlinewidth\":0,\"ticks\":\"\"}}}],\"scattercarpet\":[{\"type\":\"scattercarpet\",\"marker\":{\"colorbar\":{\"outlinewidth\":0,\"ticks\":\"\"}}}],\"carpet\":[{\"aaxis\":{\"endlinecolor\":\"#2a3f5f\",\"gridcolor\":\"white\",\"linecolor\":\"white\",\"minorgridcolor\":\"white\",\"startlinecolor\":\"#2a3f5f\"},\"baxis\":{\"endlinecolor\":\"#2a3f5f\",\"gridcolor\":\"white\",\"linecolor\":\"white\",\"minorgridcolor\":\"white\",\"startlinecolor\":\"#2a3f5f\"},\"type\":\"carpet\"}],\"table\":[{\"cells\":{\"fill\":{\"color\":\"#EBF0F8\"},\"line\":{\"color\":\"white\"}},\"header\":{\"fill\":{\"color\":\"#C8D4E3\"},\"line\":{\"color\":\"white\"}},\"type\":\"table\"}],\"barpolar\":[{\"marker\":{\"line\":{\"color\":\"#E5ECF6\",\"width\":0.5},\"pattern\":{\"fillmode\":\"overlay\",\"size\":10,\"solidity\":0.2}},\"type\":\"barpolar\"}],\"pie\":[{\"automargin\":true,\"type\":\"pie\"}]},\"layout\":{\"autotypenumbers\":\"strict\",\"colorway\":[\"#636efa\",\"#EF553B\",\"#00cc96\",\"#ab63fa\",\"#FFA15A\",\"#19d3f3\",\"#FF6692\",\"#B6E880\",\"#FF97FF\",\"#FECB52\"],\"font\":{\"color\":\"#2a3f5f\"},\"hovermode\":\"closest\",\"hoverlabel\":{\"align\":\"left\"},\"paper_bgcolor\":\"white\",\"plot_bgcolor\":\"#E5ECF6\",\"polar\":{\"bgcolor\":\"#E5ECF6\",\"angularaxis\":{\"gridcolor\":\"white\",\"linecolor\":\"white\",\"ticks\":\"\"},\"radialaxis\":{\"gridcolor\":\"white\",\"linecolor\":\"white\",\"ticks\":\"\"}},\"ternary\":{\"bgcolor\":\"#E5ECF6\",\"aaxis\":{\"gridcolor\":\"white\",\"linecolor\":\"white\",\"ticks\":\"\"},\"baxis\":{\"gridcolor\":\"white\",\"linecolor\":\"white\",\"ticks\":\"\"},\"caxis\":{\"gridcolor\":\"white\",\"linecolor\":\"white\",\"ticks\":\"\"}},\"coloraxis\":{\"colorbar\":{\"outlinewidth\":0,\"ticks\":\"\"}},\"colorscale\":{\"sequential\":[[0.0,\"#0d0887\"],[0.1111111111111111,\"#46039f\"],[0.2222222222222222,\"#7201a8\"],[0.3333333333333333,\"#9c179e\"],[0.4444444444444444,\"#bd3786\"],[0.5555555555555556,\"#d8576b\"],[0.6666666666666666,\"#ed7953\"],[0.7777777777777778,\"#fb9f3a\"],[0.8888888888888888,\"#fdca26\"],[1.0,\"#f0f921\"]],\"sequentialminus\":[[0.0,\"#0d0887\"],[0.1111111111111111,\"#46039f\"],[0.2222222222222222,\"#7201a8\"],[0.3333333333333333,\"#9c179e\"],[0.4444444444444444,\"#bd3786\"],[0.5555555555555556,\"#d8576b\"],[0.6666666666666666,\"#ed7953\"],[0.7777777777777778,\"#fb9f3a\"],[0.8888888888888888,\"#fdca26\"],[1.0,\"#f0f921\"]],\"diverging\":[[0,\"#8e0152\"],[0.1,\"#c51b7d\"],[0.2,\"#de77ae\"],[0.3,\"#f1b6da\"],[0.4,\"#fde0ef\"],[0.5,\"#f7f7f7\"],[0.6,\"#e6f5d0\"],[0.7,\"#b8e186\"],[0.8,\"#7fbc41\"],[0.9,\"#4d9221\"],[1,\"#276419\"]]},\"xaxis\":{\"gridcolor\":\"white\",\"linecolor\":\"white\",\"ticks\":\"\",\"title\":{\"standoff\":15},\"zerolinecolor\":\"white\",\"automargin\":true,\"zerolinewidth\":2},\"yaxis\":{\"gridcolor\":\"white\",\"linecolor\":\"white\",\"ticks\":\"\",\"title\":{\"standoff\":15},\"zerolinecolor\":\"white\",\"automargin\":true,\"zerolinewidth\":2},\"scene\":{\"xaxis\":{\"backgroundcolor\":\"#E5ECF6\",\"gridcolor\":\"white\",\"linecolor\":\"white\",\"showbackground\":true,\"ticks\":\"\",\"zerolinecolor\":\"white\",\"gridwidth\":2},\"yaxis\":{\"backgroundcolor\":\"#E5ECF6\",\"gridcolor\":\"white\",\"linecolor\":\"white\",\"showbackground\":true,\"ticks\":\"\",\"zerolinecolor\":\"white\",\"gridwidth\":2},\"zaxis\":{\"backgroundcolor\":\"#E5ECF6\",\"gridcolor\":\"white\",\"linecolor\":\"white\",\"showbackground\":true,\"ticks\":\"\",\"zerolinecolor\":\"white\",\"gridwidth\":2}},\"shapedefaults\":{\"line\":{\"color\":\"#2a3f5f\"}},\"annotationdefaults\":{\"arrowcolor\":\"#2a3f5f\",\"arrowhead\":0,\"arrowwidth\":1},\"geo\":{\"bgcolor\":\"white\",\"landcolor\":\"#E5ECF6\",\"subunitcolor\":\"white\",\"showland\":true,\"showlakes\":true,\"lakecolor\":\"white\"},\"title\":{\"x\":0.05},\"mapbox\":{\"style\":\"light\"}}},\"title\":{\"text\":\"Gender \"}},                        {\"responsive\": true}                    ).then(function(){\n",
       "                            \n",
       "var gd = document.getElementById('9adff8c0-3dbe-4578-8564-115ffc4626b1');\n",
       "var x = new MutationObserver(function (mutations, observer) {{\n",
       "        var display = window.getComputedStyle(gd).display;\n",
       "        if (!display || display === 'none') {{\n",
       "            console.log([gd, 'removed!']);\n",
       "            Plotly.purge(gd);\n",
       "            observer.disconnect();\n",
       "        }}\n",
       "}});\n",
       "\n",
       "// Listen for the removal of the full notebook cells\n",
       "var notebookContainer = gd.closest('#notebook-container');\n",
       "if (notebookContainer) {{\n",
       "    x.observe(notebookContainer, {childList: true});\n",
       "}}\n",
       "\n",
       "// Listen for the clearing of the current output cell\n",
       "var outputEl = gd.closest('.output');\n",
       "if (outputEl) {{\n",
       "    x.observe(outputEl, {childList: true});\n",
       "}}\n",
       "\n",
       "                        })                };                });            </script>        </div>"
      ]
     },
     "metadata": {},
     "output_type": "display_data"
    }
   ],
   "source": [
    "labels = [x for x in data.Sex.value_counts().index]\n",
    "values = data.Sex.value_counts()\n",
    "\n",
    "# Use `hole` to create a donut-like pie chart\n",
    "fig = go.Figure(data=[go.Pie(labels=labels, values=values, hole=.3,pull=[0.03, 0])])\n",
    "\n",
    "fig.update_layout(\n",
    "    title_text=\"Gender \")\n",
    "fig.update_traces(marker=dict(colors=night_colors))\n",
    "fig.show()"
   ]
  },
  {
   "cell_type": "markdown",
   "id": "58a55bd4",
   "metadata": {},
   "source": [
    "There were 64.8% male passengers on the ship which is significantly greater than female passengers."
   ]
  },
  {
   "cell_type": "code",
   "execution_count": 51,
   "id": "4d79832f",
   "metadata": {},
   "outputs": [
    {
     "data": {
      "application/vnd.plotly.v1+json": {
       "config": {
        "linkText": "Export to plot.ly",
        "plotlyServerURL": "https://plot.ly",
        "showLink": false
       },
       "data": [
        {
         "autobinx": false,
         "histnorm": "probability density",
         "legendgroup": "Age",
         "marker": {
          "color": "rgb(31, 119, 180)"
         },
         "name": "Age",
         "opacity": 0.7,
         "type": "histogram",
         "x": [
          22,
          38,
          26,
          35,
          35,
          54,
          2,
          27,
          14,
          4,
          58,
          20,
          39,
          14,
          55,
          2,
          31,
          35,
          34,
          15,
          28,
          8,
          38,
          19,
          40,
          66,
          28,
          42,
          21,
          18,
          14,
          40,
          27,
          3,
          19,
          18,
          7,
          21,
          49,
          29,
          65,
          21,
          28.5,
          5,
          11,
          22,
          38,
          45,
          4,
          29,
          19,
          17,
          26,
          32,
          16,
          21,
          26,
          32,
          25,
          0.83,
          30,
          22,
          29,
          28,
          17,
          33,
          16,
          23,
          24,
          29,
          20,
          46,
          26,
          59,
          71,
          23,
          34,
          34,
          28,
          21,
          33,
          37,
          28,
          21,
          38,
          47,
          14.5,
          22,
          20,
          17,
          21,
          70.5,
          29,
          24,
          2,
          21,
          32.5,
          32.5,
          54,
          12,
          24,
          45,
          33,
          20,
          47,
          29,
          25,
          23,
          19,
          37,
          16,
          24,
          22,
          24,
          19,
          18,
          19,
          27,
          9,
          36.5,
          42,
          51,
          22,
          55.5,
          40.5,
          51,
          16,
          30,
          44,
          40,
          26,
          17,
          1,
          9,
          45,
          28,
          61,
          4,
          1,
          21,
          56,
          18,
          50,
          30,
          36,
          9,
          1,
          4,
          45,
          40,
          36,
          32,
          19,
          19,
          3,
          44,
          58,
          42,
          24,
          28,
          34,
          45.5,
          18,
          2,
          32,
          26,
          16,
          40,
          24,
          35,
          22,
          30,
          31,
          27,
          42,
          32,
          30,
          16,
          27,
          51,
          38,
          22,
          19,
          20.5,
          18,
          35,
          29,
          59,
          5,
          24,
          44,
          8,
          19,
          33,
          29,
          22,
          30,
          44,
          25,
          24,
          37,
          54,
          29,
          62,
          30,
          41,
          29,
          30,
          35,
          50,
          3,
          52,
          40,
          36,
          16,
          25,
          58,
          35,
          25,
          41,
          37,
          63,
          45,
          7,
          35,
          65,
          28,
          16,
          19,
          33,
          30,
          22,
          42,
          22,
          26,
          19,
          36,
          24,
          24,
          23.5,
          2,
          50,
          19,
          0.92,
          17,
          30,
          30,
          24,
          18,
          26,
          28,
          43,
          26,
          24,
          54,
          31,
          40,
          22,
          27,
          30,
          22,
          36,
          61,
          36,
          31,
          16,
          45.5,
          38,
          16,
          29,
          41,
          45,
          45,
          2,
          24,
          28,
          25,
          36,
          24,
          40,
          3,
          42,
          23,
          15,
          25,
          28,
          22,
          38,
          40,
          29,
          45,
          35,
          30,
          60,
          24,
          25,
          18,
          19,
          22,
          3,
          22,
          27,
          20,
          19,
          42,
          1,
          32,
          35,
          18,
          1,
          36,
          17,
          36,
          21,
          28,
          23,
          24,
          22,
          31,
          46,
          23,
          28,
          39,
          26,
          21,
          28,
          20,
          34,
          51,
          3,
          21,
          33,
          44,
          34,
          18,
          30,
          10,
          21,
          29,
          28,
          18,
          28,
          19,
          32,
          28,
          42,
          17,
          50,
          14,
          21,
          24,
          64,
          31,
          45,
          20,
          25,
          28,
          4,
          13,
          34,
          5,
          52,
          36,
          30,
          49,
          29,
          65,
          50,
          48,
          34,
          47,
          48,
          38,
          56,
          0.75,
          38,
          33,
          23,
          22,
          34,
          29,
          22,
          2,
          9,
          50,
          63,
          25,
          35,
          58,
          30,
          9,
          21,
          55,
          71,
          21,
          54,
          25,
          24,
          17,
          21,
          37,
          16,
          18,
          33,
          28,
          26,
          29,
          36,
          54,
          24,
          47,
          34,
          36,
          32,
          30,
          22,
          44,
          40.5,
          50,
          39,
          23,
          2,
          17,
          30,
          7,
          45,
          30,
          22,
          36,
          9,
          11,
          32,
          50,
          64,
          19,
          33,
          8,
          17,
          27,
          22,
          22,
          62,
          48,
          39,
          36,
          40,
          28,
          24,
          19,
          29,
          32,
          62,
          53,
          36,
          16,
          19,
          34,
          39,
          32,
          25,
          39,
          54,
          36,
          18,
          47,
          60,
          22,
          35,
          52,
          47,
          37,
          36,
          49,
          49,
          24,
          44,
          35,
          36,
          30,
          27,
          22,
          40,
          39,
          35,
          24,
          34,
          26,
          4,
          26,
          27,
          42,
          20,
          21,
          21,
          61,
          57,
          21,
          26,
          80,
          51,
          32,
          9,
          28,
          32,
          31,
          41,
          20,
          24,
          2,
          0.75,
          48,
          19,
          56,
          23,
          18,
          21,
          18,
          24,
          32,
          23,
          58,
          50,
          40,
          47,
          36,
          20,
          32,
          25,
          43,
          40,
          31,
          70,
          31,
          18,
          24.5,
          18,
          43,
          36,
          27,
          20,
          14,
          60,
          25,
          14,
          19,
          18,
          15,
          31,
          4,
          25,
          60,
          52,
          44,
          49,
          42,
          18,
          35,
          18,
          25,
          26,
          39,
          45,
          42,
          22,
          24,
          48,
          29,
          52,
          19,
          38,
          27,
          33,
          6,
          17,
          34,
          50,
          27,
          20,
          30,
          25,
          25,
          29,
          11,
          23,
          23,
          28.5,
          48,
          35,
          36,
          21,
          24,
          31,
          70,
          16,
          30,
          19,
          31,
          4,
          6,
          33,
          23,
          48,
          0.67,
          28,
          18,
          34,
          33,
          41,
          20,
          36,
          16,
          51,
          30.5,
          32,
          24,
          48,
          57,
          54,
          18,
          5,
          43,
          13,
          17,
          29,
          25,
          25,
          18,
          8,
          1,
          46,
          16,
          25,
          39,
          49,
          31,
          30,
          30,
          34,
          31,
          11,
          0.42,
          27,
          31,
          39,
          18,
          39,
          33,
          26,
          39,
          35,
          6,
          30.5,
          23,
          31,
          43,
          10,
          52,
          27,
          38,
          27,
          2,
          1,
          62,
          15,
          0.83,
          23,
          18,
          39,
          21,
          32,
          20,
          16,
          30,
          34.5,
          17,
          42,
          35,
          28,
          4,
          74,
          9,
          16,
          44,
          18,
          45,
          51,
          24,
          41,
          21,
          48,
          24,
          42,
          27,
          31,
          4,
          26,
          47,
          33,
          47,
          28,
          15,
          20,
          19,
          56,
          25,
          33,
          22,
          28,
          25,
          39,
          27,
          19,
          26,
          32
         ],
         "xaxis": "x",
         "xbins": {
          "end": 80,
          "size": 1,
          "start": 0.42
         },
         "yaxis": "y"
        },
        {
         "legendgroup": "Age",
         "marker": {
          "color": "rgb(31, 119, 180)"
         },
         "mode": "lines",
         "name": "Age",
         "showlegend": false,
         "type": "scatter",
         "x": [
          0.42,
          0.57916,
          0.73832,
          0.89748,
          1.05664,
          1.2158,
          1.37496,
          1.53412,
          1.69328,
          1.85244,
          2.0116,
          2.17076,
          2.32992,
          2.48908,
          2.64824,
          2.8074,
          2.96656,
          3.12572,
          3.2848800000000002,
          3.4440399999999998,
          3.6031999999999997,
          3.76236,
          3.92152,
          4.08068,
          4.23984,
          4.399,
          4.55816,
          4.71732,
          4.87648,
          5.03564,
          5.1948,
          5.35396,
          5.51312,
          5.67228,
          5.83144,
          5.9906,
          6.149760000000001,
          6.30892,
          6.46808,
          6.62724,
          6.7863999999999995,
          6.9455599999999995,
          7.10472,
          7.26388,
          7.42304,
          7.582199999999999,
          7.741359999999999,
          7.900519999999999,
          8.05968,
          8.21884,
          8.378,
          8.53716,
          8.69632,
          8.85548,
          9.01464,
          9.1738,
          9.33296,
          9.492119999999998,
          9.65128,
          9.81044,
          9.9696,
          10.12876,
          10.28792,
          10.44708,
          10.60624,
          10.7654,
          10.92456,
          11.08372,
          11.24288,
          11.40204,
          11.5612,
          11.720360000000001,
          11.879520000000001,
          12.03868,
          12.19784,
          12.357,
          12.51616,
          12.67532,
          12.83448,
          12.99364,
          13.1528,
          13.31196,
          13.471119999999999,
          13.630279999999999,
          13.78944,
          13.9486,
          14.10776,
          14.26692,
          14.42608,
          14.585239999999999,
          14.744399999999999,
          14.903559999999999,
          15.062719999999999,
          15.221879999999999,
          15.381039999999999,
          15.540199999999999,
          15.69936,
          15.85852,
          16.017680000000002,
          16.176840000000002,
          16.336000000000002,
          16.495160000000002,
          16.654320000000002,
          16.813480000000002,
          16.972640000000002,
          17.131800000000002,
          17.290960000000002,
          17.450120000000002,
          17.609280000000002,
          17.768440000000002,
          17.9276,
          18.08676,
          18.24592,
          18.405079999999998,
          18.564239999999998,
          18.723399999999998,
          18.88256,
          19.04172,
          19.20088,
          19.36004,
          19.5192,
          19.67836,
          19.83752,
          19.99668,
          20.15584,
          20.315,
          20.47416,
          20.63332,
          20.79248,
          20.95164,
          21.1108,
          21.26996,
          21.42912,
          21.58828,
          21.74744,
          21.9066,
          22.06576,
          22.22492,
          22.38408,
          22.54324,
          22.7024,
          22.861560000000004,
          23.020720000000004,
          23.179880000000004,
          23.339040000000004,
          23.498200000000004,
          23.65736,
          23.81652,
          23.97568,
          24.13484,
          24.294,
          24.45316,
          24.61232,
          24.77148,
          24.93064,
          25.0898,
          25.24896,
          25.40812,
          25.56728,
          25.72644,
          25.8856,
          26.04476,
          26.20392,
          26.36308,
          26.52224,
          26.6814,
          26.84056,
          26.999720000000003,
          27.158880000000003,
          27.318040000000003,
          27.477200000000003,
          27.636360000000003,
          27.795520000000003,
          27.954680000000003,
          28.113840000000003,
          28.273000000000003,
          28.432160000000003,
          28.591320000000003,
          28.75048,
          28.90964,
          29.0688,
          29.22796,
          29.38712,
          29.54628,
          29.70544,
          29.8646,
          30.02376,
          30.18292,
          30.34208,
          30.50124,
          30.6604,
          30.81956,
          30.978720000000003,
          31.137880000000003,
          31.297040000000003,
          31.456200000000003,
          31.615360000000003,
          31.774520000000003,
          31.933680000000003,
          32.09284,
          32.252,
          32.41116,
          32.57032,
          32.72948,
          32.88864,
          33.0478,
          33.20696,
          33.36612,
          33.52528,
          33.68444,
          33.8436,
          34.00276,
          34.16192,
          34.32108,
          34.48024,
          34.6394,
          34.79856,
          34.95772,
          35.11688,
          35.27604,
          35.4352,
          35.59436,
          35.75352,
          35.91268,
          36.07184,
          36.231,
          36.390159999999995,
          36.54932,
          36.708479999999994,
          36.86764,
          37.026799999999994,
          37.18596,
          37.34512,
          37.50428,
          37.66344,
          37.8226,
          37.98176,
          38.14092,
          38.30008,
          38.45924,
          38.6184,
          38.77756,
          38.93672,
          39.09588,
          39.25504,
          39.4142,
          39.57336,
          39.73252,
          39.89168,
          40.05084,
          40.21,
          40.36916,
          40.52832,
          40.68748,
          40.84664,
          41.0058,
          41.16496,
          41.32412000000001,
          41.48328,
          41.64244,
          41.8016,
          41.96076,
          42.11992,
          42.27908,
          42.43824,
          42.5974,
          42.75656,
          42.91572,
          43.07488,
          43.23404,
          43.3932,
          43.55236,
          43.71152,
          43.87068,
          44.02984,
          44.189,
          44.34816,
          44.50732,
          44.66648,
          44.82564,
          44.9848,
          45.14396,
          45.30312000000001,
          45.46228,
          45.62144000000001,
          45.7806,
          45.93976000000001,
          46.09892,
          46.25808000000001,
          46.41724,
          46.57640000000001,
          46.73556,
          46.89472,
          47.05388,
          47.21304,
          47.3722,
          47.53136,
          47.69052,
          47.84968,
          48.00884,
          48.168,
          48.32716,
          48.48632,
          48.64548,
          48.80464,
          48.9638,
          49.12296,
          49.28212,
          49.44128,
          49.600440000000006,
          49.7596,
          49.918760000000006,
          50.07792,
          50.237080000000006,
          50.39624,
          50.555400000000006,
          50.71456,
          50.873720000000006,
          51.03288,
          51.192040000000006,
          51.3512,
          51.510360000000006,
          51.66952,
          51.82868,
          51.98784,
          52.147,
          52.30616,
          52.46532,
          52.62448,
          52.78364,
          52.9428,
          53.10196,
          53.26112,
          53.42028,
          53.579440000000005,
          53.7386,
          53.897760000000005,
          54.05692,
          54.216080000000005,
          54.37524,
          54.534400000000005,
          54.69356,
          54.852720000000005,
          55.01188,
          55.171040000000005,
          55.3302,
          55.489360000000005,
          55.64852,
          55.807680000000005,
          55.96684,
          56.126000000000005,
          56.28516,
          56.444320000000005,
          56.60348,
          56.762640000000005,
          56.9218,
          57.08096,
          57.24012,
          57.39928,
          57.558440000000004,
          57.7176,
          57.876760000000004,
          58.03592,
          58.195080000000004,
          58.35424,
          58.513400000000004,
          58.67256,
          58.831720000000004,
          58.99088,
          59.150040000000004,
          59.3092,
          59.468360000000004,
          59.62752,
          59.786680000000004,
          59.94584,
          60.105000000000004,
          60.26416,
          60.423320000000004,
          60.58248,
          60.741640000000004,
          60.9008,
          61.059960000000004,
          61.21912,
          61.378280000000004,
          61.537440000000004,
          61.696600000000004,
          61.855760000000004,
          62.01492,
          62.174080000000004,
          62.333239999999996,
          62.4924,
          62.651559999999996,
          62.81072,
          62.969879999999996,
          63.12904,
          63.288199999999996,
          63.44736,
          63.606519999999996,
          63.76568,
          63.924839999999996,
          64.084,
          64.24315999999999,
          64.40232,
          64.56148,
          64.72064,
          64.8798,
          65.03896,
          65.19812,
          65.35728,
          65.51644,
          65.6756,
          65.83476,
          65.99392,
          66.15308,
          66.31224,
          66.4714,
          66.63056,
          66.78972,
          66.94888,
          67.10803999999999,
          67.2672,
          67.42636,
          67.58552,
          67.74467999999999,
          67.90384,
          68.063,
          68.22216,
          68.38131999999999,
          68.54048,
          68.69964,
          68.8588,
          69.01795999999999,
          69.17712,
          69.33628,
          69.49544,
          69.65459999999999,
          69.81376,
          69.97292,
          70.13208,
          70.29124,
          70.4504,
          70.60956,
          70.76872,
          70.92788,
          71.08704,
          71.2462,
          71.40536,
          71.56452,
          71.72368,
          71.88284,
          72.042,
          72.20116,
          72.36031999999999,
          72.51948,
          72.67864,
          72.8378,
          72.99695999999999,
          73.15612,
          73.31528,
          73.47444,
          73.63359999999999,
          73.79276,
          73.95192,
          74.11108,
          74.27024,
          74.4294,
          74.58856,
          74.74772,
          74.90688,
          75.06604,
          75.2252,
          75.38436,
          75.54352,
          75.70268,
          75.86184,
          76.021,
          76.18016,
          76.33932,
          76.49848,
          76.65764,
          76.8168,
          76.97596,
          77.13512,
          77.29428,
          77.45344,
          77.61259999999999,
          77.77176,
          77.93092,
          78.09008,
          78.24924,
          78.4084,
          78.56756,
          78.72672,
          78.88588,
          79.04504,
          79.2042,
          79.36336,
          79.52252,
          79.68168,
          79.84084
         ],
         "xaxis": "x",
         "y": [
          0.005709426317874252,
          0.005842364372311974,
          0.0059712167593029665,
          0.006095672425124256,
          0.006215439174474745,
          0.006330245519308325,
          0.006439842391322171,
          0.006544004704096003,
          0.006642532752605716,
          0.006735253439716999,
          0.006822021321273901,
          0.0069027194635041525,
          0.006977260108635805,
          0.007045585146825745,
          0.0071076663947064874,
          0.0071635056830297375,
          0.007213134757990633,
          0.007256615002823096,
          0.007294036988134199,
          0.007325519861165343,
          0.007351210585704816,
          0.007371283045707447,
          0.0073859370267833156,
          0.007395397090583745,
          0.007399911357727825,
          0.007399750215269521,
          0.007395204964801831,
          0.007386586427131972,
          0.007374223519047133,
          0.007358461817034144,
          0.007339662121933587,
          0.007318199037417914,
          0.007294459573906214,
          0.007268841788090619,
          0.0072417534666789,
          0.007213610861284593,
          0.007184837479651786,
          0.007155862936619099,
          0.007127121866439921,
          0.007099052896316364,
          0.0070720976793055435,
          0.0070466999831496485,
          0.007023304830095235,
          0.007002357681429625,
          0.006984303659297252,
          0.006969586797387703,
          0.0069586493113275565,
          0.006951930879073723,
          0.006949867921306704,
          0.00695289287176336,
          0.006961433427631749,
          0.006975911770552407,
          0.006996743749423445,
          0.007024338017080187,
          0.007059095113997906,
          0.007101406493430138,
          0.007151653483822745,
          0.007210206185910147,
          0.00727742230357796,
          0.00735364590933551,
          0.007439206147052254,
          0.00753441587644125,
          0.007639570265588984,
          0.007754945339601232,
          0.007880796495128245,
          0.008017356992118536,
          0.008164836435600646,
          0.00832341926157958,
          0.008493263242235411,
          0.008674498026504556,
          0.008867223732791816,
          0.009071509610989188,
          0.009287392791155147,
          0.009514877136129226,
          0.009753932215018576,
          0.01000449241389764,
          0.010266456199214333,
          0.010539685548306164,
          0.010824005560110402,
          0.011119204257620915,
          0.011425032591920613,
          0.0117412046557257,
          0.01206739811234179,
          0.012403254843780435,
          0.012748381819547244,
          0.013102352185320477,
          0.013464706568423848,
          0.013834954594690724,
          0.014212576609051711,
          0.014597025589984165,
          0.01498772924587131,
          0.015384092279358276,
          0.01578549880398951,
          0.01619131489579012,
          0.016600891261034634,
          0.01701356600024801,
          0.017428667447520724,
          0.01784551706350302,
          0.018263432359981454,
          0.018681729833735606,
          0.019099727887426463,
          0.019516749715574065,
          0.019932126134234774,
          0.02034519833377601,
          0.020755320535153703,
          0.02116186253130835,
          0.021564212096688785,
          0.021961777249465363,
          0.02235398835268369,
          0.022740300042407638,
          0.023120192972782144,
          0.023493175369881988,
          0.023858784388177193,
          0.024216587265409862,
          0.024566182273616226,
          0.024907199465915443,
          0.02523930122050121,
          0.025562182584990736,
          0.025875571425891166,
          0.026179228389418188,
          0.026472946681233837,
          0.02675655167384858,
          0.027029900351450878,
          0.027292880602780494,
          0.02754541037334967,
          0.027787436688840567,
          0.02801893456187275,
          0.02823990579454864,
          0.028450377689257206,
          0.02865040168015762,
          0.02884005189759004,
          0.02901942367738144,
          0.029188632026649414,
          0.029347810057267366,
          0.02949710739766028,
          0.029636688593062503,
          0.0297667315038053,
          0.029887425710623198,
          0.02999897093538788,
          0.030101575485106082,
          0.030195454726462408,
          0.030280829597655753,
          0.0303579251637739,
          0.030426969221477168,
          0.03048819095831959,
          0.030541819671624063,
          0.030588083551442703,
          0.030627208531771914,
          0.030659417213847295,
          0.030684927865009905,
          0.03070395349630654,
          0.030716701021654098,
          0.03072337050105504,
          0.03072415446999124,
          0.03071923735673939,
          0.030708794988939272,
          0.030692994190301175,
          0.030671992467858948,
          0.03064593778965944,
          0.030614968452228147,
          0.030579213036567833,
          0.030538790450835622,
          0.03049381005721092,
          0.030444371879819767,
          0.030390566889928892,
          0.030332477363976318,
          0.030270177309375475,
          0.03020373295242869,
          0.030133203282125327,
          0.030058640643092535,
          0.02998009137052395,
          0.029897596459544314,
          0.029811192261186847,
          0.02972091119697219,
          0.029626782483991268,
          0.02952883286241286,
          0.029427087317463706,
          0.02932156978816459,
          0.02921230385544838,
          0.029099313402730802,
          0.02898262324254616,
          0.02886225970348869,
          0.028738251172405402,
          0.02861062858755621,
          0.028479425879277192,
          0.028344680355537995,
          0.028206433030659818,
          0.028064728896338008,
          0.027919617134978342,
          0.02777115127619156,
          0.027619389298081762,
          0.027464393675696426,
          0.027306231379666635,
          0.02714497382864413,
          0.026980696799628178,
          0.026813480300663408,
          0.026643408410674065,
          0.026470569091379903,
          0.02629505397631265,
          0.026116958141924194,
          0.02593637986565073,
          0.02575342037558092,
          0.02556818359607651,
          0.025380775893323427,
          0.02519130582436119,
          0.024999883892660238,
          0.024806622312805934,
          0.024611634786316137,
          0.02441503629008155,
          0.024216942878386254,
          0.024017471498954224,
          0.02381673982298548,
          0.023614866088705104,
          0.023411968957556407,
          0.0232081673818345,
          0.02300358048228273,
          0.022798327433965485,
          0.02259252735858786,
          0.02238629922135593,
          0.022179761730458082,
          0.02197303323729412,
          0.021766231635680637,
          0.02155947425841055,
          0.02135287776973541,
          0.021146558052562752,
          0.02094063008940819,
          0.020735207836405693,
          0.020530404089949186,
          0.020326330345807504,
          0.020123096650813237,
          0.019920811447469666,
          0.019719581412038546,
          0.01951951128686516,
          0.019320703707856376,
          0.019123259028154507,
          0.018927275139139384,
          0.018732847289945606,
          0.01854006790670074,
          0.018349026412676175,
          0.018159809050497633,
          0.017972498707491798,
          0.017787174745152658,
          0.017603912833601073,
          0.017422784791789863,
          0.017243858434078378,
          0.017067197423671823,
          0.01689286113329536,
          0.01672090451335699,
          0.016551377967750157,
          0.01638432723736062,
          0.01621979329127511,
          0.016057812225644497,
          0.01589841517013191,
          0.015741628201878067,
          0.015587472266940624,
          0.01543596310921163,
          0.015287111206884686,
          0.015140921716628671,
          0.014997394425725872,
          0.014856523712543932,
          0.014718298515831911,
          0.01458270231345371,
          0.014449713111296501,
          0.014319303443210646,
          0.014191440382948747,
          0.014066085569169832,
          0.013943195244657675,
          0.013822720310966017,
          0.01370460639974533,
          0.013588793962023603,
          0.013475218376705256,
          0.01336381007951665,
          0.013254494713562655,
          0.01314719330256625,
          0.013041822447742305,
          0.012938294549108303,
          0.012836518051859635,
          0.012736397718237476,
          0.012637834925094602,
          0.01254072798712119,
          0.012444972505432066,
          0.012350461740940994,
          0.012257087011660733,
          0.012164738112772279,
          0.012073303758007276,
          0.011982672040587741,
          0.01189273091167016,
          0.011803368673951955,
          0.011714474487819765,
          0.01162593888715638,
          0.011537654301679027,
          0.01144951558246106,
          0.011361420527094521,
          0.011273270400787228,
          0.011184970449556627,
          0.011096430401588336,
          0.011007564952771177,
          0.010918294232405727,
          0.010828544245111156,
          0.010738247285027171,
          0.01064734231852419,
          0.01055577533179663,
          0.010463499639919698,
          0.010370476154199433,
          0.010276673604936315,
          0.010182068717052553,
          0.010086646336399307,
          0.009990399504958433,
          0.00989332948358036,
          0.009795445721349933,
          0.009696765771141,
          0.009597315151401886,
          0.009497127154702656,
          0.009396242604063687,
          0.009294709558569415,
          0.009192582970242303,
          0.009089924294606833,
          0.008986801057802762,
          0.008883286383508163,
          0.00877945848329844,
          0.00867540011439438,
          0.008571198009035328,
          0.008466942279950283,
          0.008362725806586263,
          0.008258643606889158,
          0.008154792199515124,
          0.008051268961381199,
          0.007948171485442228,
          0.00784559694350872,
          0.007743641458799687,
          0.007642399492758022,
          0.007541963250447225,
          0.0074424221086018625,
          0.007343862070123572,
          0.007246365248505716,
          0.0071500093853369626,
          0.007054867403683319,
          0.006961006999784427,
          0.00686849027512807,
          0.006777373410593054,
          0.006687706383978163,
          0.006599532731870284,
          0.006512889356449454,
          0.006427806377489251,
          0.006344307029487493,
          0.006262407603560042,
          0.0061821174334489816,
          0.0061034389247392904,
          0.006026367626143994,
          0.005950892341508792,
          0.005876995281001321,
          0.005804652249788564,
          0.005733832872365441,
          0.005664500850578839,
          0.005596614253290376,
          0.005530125835538206,
          0.005464983384989143,
          0.005401130093416669,
          0.005338504950894684,
          0.005277043160359871,
          0.005216676570164952,
          0.005157334122218929,
          0.005098942313287898,
          0.005041425667008674,
          0.004984707214147916,
          0.004928708978619197,
          0.0048733524667512376,
          0.00481855915728046,
          0.004764250989522123,
          0.004710350847155986,
          0.004656783035046822,
          0.004603473746507491,
          0.0045503515184050335,
          0.004497347671509399,
          0.004444396733492497,
          0.004391436842003584,
          0.004338410125278285,
          0.00428526305778416,
          0.004231946788468476,
          0.004178417439254533,
          0.004124636371534668,
          0.004070570418530816,
          0.00401619208154029,
          0.003961479688254406,
          0.003906417511533137,
          0.0038509958472387894,
          0.003795211049976975,
          0.003739065525862127,
          0.003682567681717425,
          0.003625731830433056,
          0.0035685780525405025,
          0.0035111320144117215,
          0.003453424743857211,
          0.0033954923642735483,
          0.0033373757888739467,
          0.0032791203769222815,
          0.003220775554275406,
          0.0031623944009174375,
          0.0031040332085367404,
          0.0030457510115472755,
          0.0029876090952847376,
          0.0029296704854106003,
          0.002871999422826713,
          0.0028146608286370983,
          0.0027577197638844696,
          0.002701240888935493,
          0.0026452879274845467,
          0.002589923140189156,
          0.002535206812937986,
          0.002481196764682466,
          0.002427947879634974,
          0.002375511668449088,
          0.0023239358627521003,
          0.0022732640470974623,
          0.0022235353320480284,
          0.002174784071692827,
          0.002127039628444937,
          0.0020803261874709285,
          0.0020346626225686937,
          0.0019900624147474308,
          0.0019465336241775426,
          0.001904078915577469,
          0.0018626956364964369,
          0.0018223759473458955,
          0.0017831070014354695,
          0.001744871172691127,
          0.0017076463281810112,
          0.0016714061420573978,
          0.001636120447047671,
          0.0016017556192011678,
          0.0015682749912276385,
          0.0015356392894530996,
          0.001503807089173878,
          0.0014727352830136429,
          0.0014423795567833637,
          0.0014126948673120886,
          0.001383635916756875,
          0.001355157618012806,
          0.0013272155460260628,
          0.0012997663700620192,
          0.0012727682622914675,
          0.0012461812784266286,
          0.0012199677065585282,
          0.0011940923808118002,
          0.0011685229569347783,
          0.001143230147474099,
          0.0011181879147357332,
          0.00109337362030022,
          0.0010687681304303344,
          0.0010443558772764631,
          0.0010201248763403552,
          0.0009960667011941044,
          0.0009721764169610314,
          0.000948452474541919,
          0.0009248965680081107,
          0.0009015134579767549,
          0.0008783107641293505,
          0.0008552987303284901,
          0.0008324899660274637,
          0.0008098991678509553,
          0.000787542825352248,
          0.0007654389150226988,
          0.0007436065866442774,
          0.0007220658460368219,
          0.0007008372381615129,
          0.0006799415344032924,
          0.0006593994276718043,
          0.0006392312387367709,
          0.000619456636954218,
          0.00060009437824954,
          0.0005811620629070014,
          0.0005626759153783919,
          0.0005446505879712143,
          0.0005270989899144349,
          0.0005100321429325232,
          0.0004934590640912727,
          0.0004773866763164526,
          0.0004618197466332141,
          0.00044676085183437185,
          0.0004322103709631554,
          0.0004181665036939644,
          0.00040462531341612106,
          0.00039158079357307383,
          0.0003790249555850236,
          0.0003669479364881771,
          0.00035533812425988224,
          0.00034418229866661044,
          0.0003334657853713798,
          0.0003231726209686152,
          0.00031328572657734013,
          0.00030378708761689683,
          0.0002946579374121699,
          0.0002858789423258745,
          0.00027743038619226285,
          0.00026929235192748745,
          0.00026144489831468127,
          0.00025386823010417,
          0.00024654285972855667,
          0.00023944975910608537,
          0.00023257050019095913
         ],
         "yaxis": "y"
        },
        {
         "legendgroup": "Age",
         "marker": {
          "color": "rgb(31, 119, 180)",
          "symbol": "line-ns-open"
         },
         "mode": "markers",
         "name": "Age",
         "showlegend": false,
         "type": "scatter",
         "x": [
          22,
          38,
          26,
          35,
          35,
          54,
          2,
          27,
          14,
          4,
          58,
          20,
          39,
          14,
          55,
          2,
          31,
          35,
          34,
          15,
          28,
          8,
          38,
          19,
          40,
          66,
          28,
          42,
          21,
          18,
          14,
          40,
          27,
          3,
          19,
          18,
          7,
          21,
          49,
          29,
          65,
          21,
          28.5,
          5,
          11,
          22,
          38,
          45,
          4,
          29,
          19,
          17,
          26,
          32,
          16,
          21,
          26,
          32,
          25,
          0.83,
          30,
          22,
          29,
          28,
          17,
          33,
          16,
          23,
          24,
          29,
          20,
          46,
          26,
          59,
          71,
          23,
          34,
          34,
          28,
          21,
          33,
          37,
          28,
          21,
          38,
          47,
          14.5,
          22,
          20,
          17,
          21,
          70.5,
          29,
          24,
          2,
          21,
          32.5,
          32.5,
          54,
          12,
          24,
          45,
          33,
          20,
          47,
          29,
          25,
          23,
          19,
          37,
          16,
          24,
          22,
          24,
          19,
          18,
          19,
          27,
          9,
          36.5,
          42,
          51,
          22,
          55.5,
          40.5,
          51,
          16,
          30,
          44,
          40,
          26,
          17,
          1,
          9,
          45,
          28,
          61,
          4,
          1,
          21,
          56,
          18,
          50,
          30,
          36,
          9,
          1,
          4,
          45,
          40,
          36,
          32,
          19,
          19,
          3,
          44,
          58,
          42,
          24,
          28,
          34,
          45.5,
          18,
          2,
          32,
          26,
          16,
          40,
          24,
          35,
          22,
          30,
          31,
          27,
          42,
          32,
          30,
          16,
          27,
          51,
          38,
          22,
          19,
          20.5,
          18,
          35,
          29,
          59,
          5,
          24,
          44,
          8,
          19,
          33,
          29,
          22,
          30,
          44,
          25,
          24,
          37,
          54,
          29,
          62,
          30,
          41,
          29,
          30,
          35,
          50,
          3,
          52,
          40,
          36,
          16,
          25,
          58,
          35,
          25,
          41,
          37,
          63,
          45,
          7,
          35,
          65,
          28,
          16,
          19,
          33,
          30,
          22,
          42,
          22,
          26,
          19,
          36,
          24,
          24,
          23.5,
          2,
          50,
          19,
          0.92,
          17,
          30,
          30,
          24,
          18,
          26,
          28,
          43,
          26,
          24,
          54,
          31,
          40,
          22,
          27,
          30,
          22,
          36,
          61,
          36,
          31,
          16,
          45.5,
          38,
          16,
          29,
          41,
          45,
          45,
          2,
          24,
          28,
          25,
          36,
          24,
          40,
          3,
          42,
          23,
          15,
          25,
          28,
          22,
          38,
          40,
          29,
          45,
          35,
          30,
          60,
          24,
          25,
          18,
          19,
          22,
          3,
          22,
          27,
          20,
          19,
          42,
          1,
          32,
          35,
          18,
          1,
          36,
          17,
          36,
          21,
          28,
          23,
          24,
          22,
          31,
          46,
          23,
          28,
          39,
          26,
          21,
          28,
          20,
          34,
          51,
          3,
          21,
          33,
          44,
          34,
          18,
          30,
          10,
          21,
          29,
          28,
          18,
          28,
          19,
          32,
          28,
          42,
          17,
          50,
          14,
          21,
          24,
          64,
          31,
          45,
          20,
          25,
          28,
          4,
          13,
          34,
          5,
          52,
          36,
          30,
          49,
          29,
          65,
          50,
          48,
          34,
          47,
          48,
          38,
          56,
          0.75,
          38,
          33,
          23,
          22,
          34,
          29,
          22,
          2,
          9,
          50,
          63,
          25,
          35,
          58,
          30,
          9,
          21,
          55,
          71,
          21,
          54,
          25,
          24,
          17,
          21,
          37,
          16,
          18,
          33,
          28,
          26,
          29,
          36,
          54,
          24,
          47,
          34,
          36,
          32,
          30,
          22,
          44,
          40.5,
          50,
          39,
          23,
          2,
          17,
          30,
          7,
          45,
          30,
          22,
          36,
          9,
          11,
          32,
          50,
          64,
          19,
          33,
          8,
          17,
          27,
          22,
          22,
          62,
          48,
          39,
          36,
          40,
          28,
          24,
          19,
          29,
          32,
          62,
          53,
          36,
          16,
          19,
          34,
          39,
          32,
          25,
          39,
          54,
          36,
          18,
          47,
          60,
          22,
          35,
          52,
          47,
          37,
          36,
          49,
          49,
          24,
          44,
          35,
          36,
          30,
          27,
          22,
          40,
          39,
          35,
          24,
          34,
          26,
          4,
          26,
          27,
          42,
          20,
          21,
          21,
          61,
          57,
          21,
          26,
          80,
          51,
          32,
          9,
          28,
          32,
          31,
          41,
          20,
          24,
          2,
          0.75,
          48,
          19,
          56,
          23,
          18,
          21,
          18,
          24,
          32,
          23,
          58,
          50,
          40,
          47,
          36,
          20,
          32,
          25,
          43,
          40,
          31,
          70,
          31,
          18,
          24.5,
          18,
          43,
          36,
          27,
          20,
          14,
          60,
          25,
          14,
          19,
          18,
          15,
          31,
          4,
          25,
          60,
          52,
          44,
          49,
          42,
          18,
          35,
          18,
          25,
          26,
          39,
          45,
          42,
          22,
          24,
          48,
          29,
          52,
          19,
          38,
          27,
          33,
          6,
          17,
          34,
          50,
          27,
          20,
          30,
          25,
          25,
          29,
          11,
          23,
          23,
          28.5,
          48,
          35,
          36,
          21,
          24,
          31,
          70,
          16,
          30,
          19,
          31,
          4,
          6,
          33,
          23,
          48,
          0.67,
          28,
          18,
          34,
          33,
          41,
          20,
          36,
          16,
          51,
          30.5,
          32,
          24,
          48,
          57,
          54,
          18,
          5,
          43,
          13,
          17,
          29,
          25,
          25,
          18,
          8,
          1,
          46,
          16,
          25,
          39,
          49,
          31,
          30,
          30,
          34,
          31,
          11,
          0.42,
          27,
          31,
          39,
          18,
          39,
          33,
          26,
          39,
          35,
          6,
          30.5,
          23,
          31,
          43,
          10,
          52,
          27,
          38,
          27,
          2,
          1,
          62,
          15,
          0.83,
          23,
          18,
          39,
          21,
          32,
          20,
          16,
          30,
          34.5,
          17,
          42,
          35,
          28,
          4,
          74,
          9,
          16,
          44,
          18,
          45,
          51,
          24,
          41,
          21,
          48,
          24,
          42,
          27,
          31,
          4,
          26,
          47,
          33,
          47,
          28,
          15,
          20,
          19,
          56,
          25,
          33,
          22,
          28,
          25,
          39,
          27,
          19,
          26,
          32
         ],
         "xaxis": "x",
         "y": [
          "Age",
          "Age",
          "Age",
          "Age",
          "Age",
          "Age",
          "Age",
          "Age",
          "Age",
          "Age",
          "Age",
          "Age",
          "Age",
          "Age",
          "Age",
          "Age",
          "Age",
          "Age",
          "Age",
          "Age",
          "Age",
          "Age",
          "Age",
          "Age",
          "Age",
          "Age",
          "Age",
          "Age",
          "Age",
          "Age",
          "Age",
          "Age",
          "Age",
          "Age",
          "Age",
          "Age",
          "Age",
          "Age",
          "Age",
          "Age",
          "Age",
          "Age",
          "Age",
          "Age",
          "Age",
          "Age",
          "Age",
          "Age",
          "Age",
          "Age",
          "Age",
          "Age",
          "Age",
          "Age",
          "Age",
          "Age",
          "Age",
          "Age",
          "Age",
          "Age",
          "Age",
          "Age",
          "Age",
          "Age",
          "Age",
          "Age",
          "Age",
          "Age",
          "Age",
          "Age",
          "Age",
          "Age",
          "Age",
          "Age",
          "Age",
          "Age",
          "Age",
          "Age",
          "Age",
          "Age",
          "Age",
          "Age",
          "Age",
          "Age",
          "Age",
          "Age",
          "Age",
          "Age",
          "Age",
          "Age",
          "Age",
          "Age",
          "Age",
          "Age",
          "Age",
          "Age",
          "Age",
          "Age",
          "Age",
          "Age",
          "Age",
          "Age",
          "Age",
          "Age",
          "Age",
          "Age",
          "Age",
          "Age",
          "Age",
          "Age",
          "Age",
          "Age",
          "Age",
          "Age",
          "Age",
          "Age",
          "Age",
          "Age",
          "Age",
          "Age",
          "Age",
          "Age",
          "Age",
          "Age",
          "Age",
          "Age",
          "Age",
          "Age",
          "Age",
          "Age",
          "Age",
          "Age",
          "Age",
          "Age",
          "Age",
          "Age",
          "Age",
          "Age",
          "Age",
          "Age",
          "Age",
          "Age",
          "Age",
          "Age",
          "Age",
          "Age",
          "Age",
          "Age",
          "Age",
          "Age",
          "Age",
          "Age",
          "Age",
          "Age",
          "Age",
          "Age",
          "Age",
          "Age",
          "Age",
          "Age",
          "Age",
          "Age",
          "Age",
          "Age",
          "Age",
          "Age",
          "Age",
          "Age",
          "Age",
          "Age",
          "Age",
          "Age",
          "Age",
          "Age",
          "Age",
          "Age",
          "Age",
          "Age",
          "Age",
          "Age",
          "Age",
          "Age",
          "Age",
          "Age",
          "Age",
          "Age",
          "Age",
          "Age",
          "Age",
          "Age",
          "Age",
          "Age",
          "Age",
          "Age",
          "Age",
          "Age",
          "Age",
          "Age",
          "Age",
          "Age",
          "Age",
          "Age",
          "Age",
          "Age",
          "Age",
          "Age",
          "Age",
          "Age",
          "Age",
          "Age",
          "Age",
          "Age",
          "Age",
          "Age",
          "Age",
          "Age",
          "Age",
          "Age",
          "Age",
          "Age",
          "Age",
          "Age",
          "Age",
          "Age",
          "Age",
          "Age",
          "Age",
          "Age",
          "Age",
          "Age",
          "Age",
          "Age",
          "Age",
          "Age",
          "Age",
          "Age",
          "Age",
          "Age",
          "Age",
          "Age",
          "Age",
          "Age",
          "Age",
          "Age",
          "Age",
          "Age",
          "Age",
          "Age",
          "Age",
          "Age",
          "Age",
          "Age",
          "Age",
          "Age",
          "Age",
          "Age",
          "Age",
          "Age",
          "Age",
          "Age",
          "Age",
          "Age",
          "Age",
          "Age",
          "Age",
          "Age",
          "Age",
          "Age",
          "Age",
          "Age",
          "Age",
          "Age",
          "Age",
          "Age",
          "Age",
          "Age",
          "Age",
          "Age",
          "Age",
          "Age",
          "Age",
          "Age",
          "Age",
          "Age",
          "Age",
          "Age",
          "Age",
          "Age",
          "Age",
          "Age",
          "Age",
          "Age",
          "Age",
          "Age",
          "Age",
          "Age",
          "Age",
          "Age",
          "Age",
          "Age",
          "Age",
          "Age",
          "Age",
          "Age",
          "Age",
          "Age",
          "Age",
          "Age",
          "Age",
          "Age",
          "Age",
          "Age",
          "Age",
          "Age",
          "Age",
          "Age",
          "Age",
          "Age",
          "Age",
          "Age",
          "Age",
          "Age",
          "Age",
          "Age",
          "Age",
          "Age",
          "Age",
          "Age",
          "Age",
          "Age",
          "Age",
          "Age",
          "Age",
          "Age",
          "Age",
          "Age",
          "Age",
          "Age",
          "Age",
          "Age",
          "Age",
          "Age",
          "Age",
          "Age",
          "Age",
          "Age",
          "Age",
          "Age",
          "Age",
          "Age",
          "Age",
          "Age",
          "Age",
          "Age",
          "Age",
          "Age",
          "Age",
          "Age",
          "Age",
          "Age",
          "Age",
          "Age",
          "Age",
          "Age",
          "Age",
          "Age",
          "Age",
          "Age",
          "Age",
          "Age",
          "Age",
          "Age",
          "Age",
          "Age",
          "Age",
          "Age",
          "Age",
          "Age",
          "Age",
          "Age",
          "Age",
          "Age",
          "Age",
          "Age",
          "Age",
          "Age",
          "Age",
          "Age",
          "Age",
          "Age",
          "Age",
          "Age",
          "Age",
          "Age",
          "Age",
          "Age",
          "Age",
          "Age",
          "Age",
          "Age",
          "Age",
          "Age",
          "Age",
          "Age",
          "Age",
          "Age",
          "Age",
          "Age",
          "Age",
          "Age",
          "Age",
          "Age",
          "Age",
          "Age",
          "Age",
          "Age",
          "Age",
          "Age",
          "Age",
          "Age",
          "Age",
          "Age",
          "Age",
          "Age",
          "Age",
          "Age",
          "Age",
          "Age",
          "Age",
          "Age",
          "Age",
          "Age",
          "Age",
          "Age",
          "Age",
          "Age",
          "Age",
          "Age",
          "Age",
          "Age",
          "Age",
          "Age",
          "Age",
          "Age",
          "Age",
          "Age",
          "Age",
          "Age",
          "Age",
          "Age",
          "Age",
          "Age",
          "Age",
          "Age",
          "Age",
          "Age",
          "Age",
          "Age",
          "Age",
          "Age",
          "Age",
          "Age",
          "Age",
          "Age",
          "Age",
          "Age",
          "Age",
          "Age",
          "Age",
          "Age",
          "Age",
          "Age",
          "Age",
          "Age",
          "Age",
          "Age",
          "Age",
          "Age",
          "Age",
          "Age",
          "Age",
          "Age",
          "Age",
          "Age",
          "Age",
          "Age",
          "Age",
          "Age",
          "Age",
          "Age",
          "Age",
          "Age",
          "Age",
          "Age",
          "Age",
          "Age",
          "Age",
          "Age",
          "Age",
          "Age",
          "Age",
          "Age",
          "Age",
          "Age",
          "Age",
          "Age",
          "Age",
          "Age",
          "Age",
          "Age",
          "Age",
          "Age",
          "Age",
          "Age",
          "Age",
          "Age",
          "Age",
          "Age",
          "Age",
          "Age",
          "Age",
          "Age",
          "Age",
          "Age",
          "Age",
          "Age",
          "Age",
          "Age",
          "Age",
          "Age",
          "Age",
          "Age",
          "Age",
          "Age",
          "Age",
          "Age",
          "Age",
          "Age",
          "Age",
          "Age",
          "Age",
          "Age",
          "Age",
          "Age",
          "Age",
          "Age",
          "Age",
          "Age",
          "Age",
          "Age",
          "Age",
          "Age",
          "Age",
          "Age",
          "Age",
          "Age",
          "Age",
          "Age",
          "Age",
          "Age",
          "Age",
          "Age",
          "Age",
          "Age",
          "Age",
          "Age",
          "Age",
          "Age",
          "Age",
          "Age",
          "Age",
          "Age",
          "Age",
          "Age",
          "Age",
          "Age",
          "Age",
          "Age",
          "Age",
          "Age",
          "Age",
          "Age",
          "Age",
          "Age",
          "Age",
          "Age",
          "Age",
          "Age",
          "Age",
          "Age",
          "Age",
          "Age",
          "Age",
          "Age",
          "Age",
          "Age",
          "Age",
          "Age",
          "Age",
          "Age",
          "Age",
          "Age",
          "Age",
          "Age",
          "Age",
          "Age",
          "Age",
          "Age",
          "Age",
          "Age",
          "Age",
          "Age",
          "Age",
          "Age",
          "Age",
          "Age",
          "Age",
          "Age",
          "Age",
          "Age",
          "Age",
          "Age",
          "Age",
          "Age",
          "Age",
          "Age",
          "Age",
          "Age",
          "Age",
          "Age",
          "Age",
          "Age",
          "Age",
          "Age",
          "Age",
          "Age",
          "Age",
          "Age",
          "Age",
          "Age",
          "Age",
          "Age",
          "Age",
          "Age",
          "Age",
          "Age",
          "Age",
          "Age",
          "Age",
          "Age",
          "Age",
          "Age",
          "Age",
          "Age",
          "Age",
          "Age",
          "Age",
          "Age",
          "Age",
          "Age",
          "Age",
          "Age",
          "Age",
          "Age",
          "Age",
          "Age",
          "Age",
          "Age",
          "Age",
          "Age",
          "Age",
          "Age",
          "Age",
          "Age",
          "Age",
          "Age",
          "Age",
          "Age",
          "Age",
          "Age",
          "Age",
          "Age",
          "Age",
          "Age",
          "Age",
          "Age",
          "Age",
          "Age",
          "Age",
          "Age",
          "Age",
          "Age",
          "Age",
          "Age",
          "Age",
          "Age",
          "Age",
          "Age",
          "Age",
          "Age",
          "Age",
          "Age",
          "Age",
          "Age",
          "Age",
          "Age",
          "Age",
          "Age",
          "Age",
          "Age",
          "Age",
          "Age",
          "Age",
          "Age"
         ],
         "yaxis": "y2"
        }
       ],
       "layout": {
        "barmode": "overlay",
        "hovermode": "closest",
        "legend": {
         "traceorder": "reversed"
        },
        "template": {
         "data": {
          "bar": [
           {
            "error_x": {
             "color": "#2a3f5f"
            },
            "error_y": {
             "color": "#2a3f5f"
            },
            "marker": {
             "line": {
              "color": "#E5ECF6",
              "width": 0.5
             },
             "pattern": {
              "fillmode": "overlay",
              "size": 10,
              "solidity": 0.2
             }
            },
            "type": "bar"
           }
          ],
          "barpolar": [
           {
            "marker": {
             "line": {
              "color": "#E5ECF6",
              "width": 0.5
             },
             "pattern": {
              "fillmode": "overlay",
              "size": 10,
              "solidity": 0.2
             }
            },
            "type": "barpolar"
           }
          ],
          "carpet": [
           {
            "aaxis": {
             "endlinecolor": "#2a3f5f",
             "gridcolor": "white",
             "linecolor": "white",
             "minorgridcolor": "white",
             "startlinecolor": "#2a3f5f"
            },
            "baxis": {
             "endlinecolor": "#2a3f5f",
             "gridcolor": "white",
             "linecolor": "white",
             "minorgridcolor": "white",
             "startlinecolor": "#2a3f5f"
            },
            "type": "carpet"
           }
          ],
          "choropleth": [
           {
            "colorbar": {
             "outlinewidth": 0,
             "ticks": ""
            },
            "type": "choropleth"
           }
          ],
          "contour": [
           {
            "colorbar": {
             "outlinewidth": 0,
             "ticks": ""
            },
            "colorscale": [
             [
              0,
              "#0d0887"
             ],
             [
              0.1111111111111111,
              "#46039f"
             ],
             [
              0.2222222222222222,
              "#7201a8"
             ],
             [
              0.3333333333333333,
              "#9c179e"
             ],
             [
              0.4444444444444444,
              "#bd3786"
             ],
             [
              0.5555555555555556,
              "#d8576b"
             ],
             [
              0.6666666666666666,
              "#ed7953"
             ],
             [
              0.7777777777777778,
              "#fb9f3a"
             ],
             [
              0.8888888888888888,
              "#fdca26"
             ],
             [
              1,
              "#f0f921"
             ]
            ],
            "type": "contour"
           }
          ],
          "contourcarpet": [
           {
            "colorbar": {
             "outlinewidth": 0,
             "ticks": ""
            },
            "type": "contourcarpet"
           }
          ],
          "heatmap": [
           {
            "colorbar": {
             "outlinewidth": 0,
             "ticks": ""
            },
            "colorscale": [
             [
              0,
              "#0d0887"
             ],
             [
              0.1111111111111111,
              "#46039f"
             ],
             [
              0.2222222222222222,
              "#7201a8"
             ],
             [
              0.3333333333333333,
              "#9c179e"
             ],
             [
              0.4444444444444444,
              "#bd3786"
             ],
             [
              0.5555555555555556,
              "#d8576b"
             ],
             [
              0.6666666666666666,
              "#ed7953"
             ],
             [
              0.7777777777777778,
              "#fb9f3a"
             ],
             [
              0.8888888888888888,
              "#fdca26"
             ],
             [
              1,
              "#f0f921"
             ]
            ],
            "type": "heatmap"
           }
          ],
          "heatmapgl": [
           {
            "colorbar": {
             "outlinewidth": 0,
             "ticks": ""
            },
            "colorscale": [
             [
              0,
              "#0d0887"
             ],
             [
              0.1111111111111111,
              "#46039f"
             ],
             [
              0.2222222222222222,
              "#7201a8"
             ],
             [
              0.3333333333333333,
              "#9c179e"
             ],
             [
              0.4444444444444444,
              "#bd3786"
             ],
             [
              0.5555555555555556,
              "#d8576b"
             ],
             [
              0.6666666666666666,
              "#ed7953"
             ],
             [
              0.7777777777777778,
              "#fb9f3a"
             ],
             [
              0.8888888888888888,
              "#fdca26"
             ],
             [
              1,
              "#f0f921"
             ]
            ],
            "type": "heatmapgl"
           }
          ],
          "histogram": [
           {
            "marker": {
             "pattern": {
              "fillmode": "overlay",
              "size": 10,
              "solidity": 0.2
             }
            },
            "type": "histogram"
           }
          ],
          "histogram2d": [
           {
            "colorbar": {
             "outlinewidth": 0,
             "ticks": ""
            },
            "colorscale": [
             [
              0,
              "#0d0887"
             ],
             [
              0.1111111111111111,
              "#46039f"
             ],
             [
              0.2222222222222222,
              "#7201a8"
             ],
             [
              0.3333333333333333,
              "#9c179e"
             ],
             [
              0.4444444444444444,
              "#bd3786"
             ],
             [
              0.5555555555555556,
              "#d8576b"
             ],
             [
              0.6666666666666666,
              "#ed7953"
             ],
             [
              0.7777777777777778,
              "#fb9f3a"
             ],
             [
              0.8888888888888888,
              "#fdca26"
             ],
             [
              1,
              "#f0f921"
             ]
            ],
            "type": "histogram2d"
           }
          ],
          "histogram2dcontour": [
           {
            "colorbar": {
             "outlinewidth": 0,
             "ticks": ""
            },
            "colorscale": [
             [
              0,
              "#0d0887"
             ],
             [
              0.1111111111111111,
              "#46039f"
             ],
             [
              0.2222222222222222,
              "#7201a8"
             ],
             [
              0.3333333333333333,
              "#9c179e"
             ],
             [
              0.4444444444444444,
              "#bd3786"
             ],
             [
              0.5555555555555556,
              "#d8576b"
             ],
             [
              0.6666666666666666,
              "#ed7953"
             ],
             [
              0.7777777777777778,
              "#fb9f3a"
             ],
             [
              0.8888888888888888,
              "#fdca26"
             ],
             [
              1,
              "#f0f921"
             ]
            ],
            "type": "histogram2dcontour"
           }
          ],
          "mesh3d": [
           {
            "colorbar": {
             "outlinewidth": 0,
             "ticks": ""
            },
            "type": "mesh3d"
           }
          ],
          "parcoords": [
           {
            "line": {
             "colorbar": {
              "outlinewidth": 0,
              "ticks": ""
             }
            },
            "type": "parcoords"
           }
          ],
          "pie": [
           {
            "automargin": true,
            "type": "pie"
           }
          ],
          "scatter": [
           {
            "fillpattern": {
             "fillmode": "overlay",
             "size": 10,
             "solidity": 0.2
            },
            "type": "scatter"
           }
          ],
          "scatter3d": [
           {
            "line": {
             "colorbar": {
              "outlinewidth": 0,
              "ticks": ""
             }
            },
            "marker": {
             "colorbar": {
              "outlinewidth": 0,
              "ticks": ""
             }
            },
            "type": "scatter3d"
           }
          ],
          "scattercarpet": [
           {
            "marker": {
             "colorbar": {
              "outlinewidth": 0,
              "ticks": ""
             }
            },
            "type": "scattercarpet"
           }
          ],
          "scattergeo": [
           {
            "marker": {
             "colorbar": {
              "outlinewidth": 0,
              "ticks": ""
             }
            },
            "type": "scattergeo"
           }
          ],
          "scattergl": [
           {
            "marker": {
             "colorbar": {
              "outlinewidth": 0,
              "ticks": ""
             }
            },
            "type": "scattergl"
           }
          ],
          "scattermapbox": [
           {
            "marker": {
             "colorbar": {
              "outlinewidth": 0,
              "ticks": ""
             }
            },
            "type": "scattermapbox"
           }
          ],
          "scatterpolar": [
           {
            "marker": {
             "colorbar": {
              "outlinewidth": 0,
              "ticks": ""
             }
            },
            "type": "scatterpolar"
           }
          ],
          "scatterpolargl": [
           {
            "marker": {
             "colorbar": {
              "outlinewidth": 0,
              "ticks": ""
             }
            },
            "type": "scatterpolargl"
           }
          ],
          "scatterternary": [
           {
            "marker": {
             "colorbar": {
              "outlinewidth": 0,
              "ticks": ""
             }
            },
            "type": "scatterternary"
           }
          ],
          "surface": [
           {
            "colorbar": {
             "outlinewidth": 0,
             "ticks": ""
            },
            "colorscale": [
             [
              0,
              "#0d0887"
             ],
             [
              0.1111111111111111,
              "#46039f"
             ],
             [
              0.2222222222222222,
              "#7201a8"
             ],
             [
              0.3333333333333333,
              "#9c179e"
             ],
             [
              0.4444444444444444,
              "#bd3786"
             ],
             [
              0.5555555555555556,
              "#d8576b"
             ],
             [
              0.6666666666666666,
              "#ed7953"
             ],
             [
              0.7777777777777778,
              "#fb9f3a"
             ],
             [
              0.8888888888888888,
              "#fdca26"
             ],
             [
              1,
              "#f0f921"
             ]
            ],
            "type": "surface"
           }
          ],
          "table": [
           {
            "cells": {
             "fill": {
              "color": "#EBF0F8"
             },
             "line": {
              "color": "white"
             }
            },
            "header": {
             "fill": {
              "color": "#C8D4E3"
             },
             "line": {
              "color": "white"
             }
            },
            "type": "table"
           }
          ]
         },
         "layout": {
          "annotationdefaults": {
           "arrowcolor": "#2a3f5f",
           "arrowhead": 0,
           "arrowwidth": 1
          },
          "autotypenumbers": "strict",
          "coloraxis": {
           "colorbar": {
            "outlinewidth": 0,
            "ticks": ""
           }
          },
          "colorscale": {
           "diverging": [
            [
             0,
             "#8e0152"
            ],
            [
             0.1,
             "#c51b7d"
            ],
            [
             0.2,
             "#de77ae"
            ],
            [
             0.3,
             "#f1b6da"
            ],
            [
             0.4,
             "#fde0ef"
            ],
            [
             0.5,
             "#f7f7f7"
            ],
            [
             0.6,
             "#e6f5d0"
            ],
            [
             0.7,
             "#b8e186"
            ],
            [
             0.8,
             "#7fbc41"
            ],
            [
             0.9,
             "#4d9221"
            ],
            [
             1,
             "#276419"
            ]
           ],
           "sequential": [
            [
             0,
             "#0d0887"
            ],
            [
             0.1111111111111111,
             "#46039f"
            ],
            [
             0.2222222222222222,
             "#7201a8"
            ],
            [
             0.3333333333333333,
             "#9c179e"
            ],
            [
             0.4444444444444444,
             "#bd3786"
            ],
            [
             0.5555555555555556,
             "#d8576b"
            ],
            [
             0.6666666666666666,
             "#ed7953"
            ],
            [
             0.7777777777777778,
             "#fb9f3a"
            ],
            [
             0.8888888888888888,
             "#fdca26"
            ],
            [
             1,
             "#f0f921"
            ]
           ],
           "sequentialminus": [
            [
             0,
             "#0d0887"
            ],
            [
             0.1111111111111111,
             "#46039f"
            ],
            [
             0.2222222222222222,
             "#7201a8"
            ],
            [
             0.3333333333333333,
             "#9c179e"
            ],
            [
             0.4444444444444444,
             "#bd3786"
            ],
            [
             0.5555555555555556,
             "#d8576b"
            ],
            [
             0.6666666666666666,
             "#ed7953"
            ],
            [
             0.7777777777777778,
             "#fb9f3a"
            ],
            [
             0.8888888888888888,
             "#fdca26"
            ],
            [
             1,
             "#f0f921"
            ]
           ]
          },
          "colorway": [
           "#636efa",
           "#EF553B",
           "#00cc96",
           "#ab63fa",
           "#FFA15A",
           "#19d3f3",
           "#FF6692",
           "#B6E880",
           "#FF97FF",
           "#FECB52"
          ],
          "font": {
           "color": "#2a3f5f"
          },
          "geo": {
           "bgcolor": "white",
           "lakecolor": "white",
           "landcolor": "#E5ECF6",
           "showlakes": true,
           "showland": true,
           "subunitcolor": "white"
          },
          "hoverlabel": {
           "align": "left"
          },
          "hovermode": "closest",
          "mapbox": {
           "style": "light"
          },
          "paper_bgcolor": "white",
          "plot_bgcolor": "#E5ECF6",
          "polar": {
           "angularaxis": {
            "gridcolor": "white",
            "linecolor": "white",
            "ticks": ""
           },
           "bgcolor": "#E5ECF6",
           "radialaxis": {
            "gridcolor": "white",
            "linecolor": "white",
            "ticks": ""
           }
          },
          "scene": {
           "xaxis": {
            "backgroundcolor": "#E5ECF6",
            "gridcolor": "white",
            "gridwidth": 2,
            "linecolor": "white",
            "showbackground": true,
            "ticks": "",
            "zerolinecolor": "white"
           },
           "yaxis": {
            "backgroundcolor": "#E5ECF6",
            "gridcolor": "white",
            "gridwidth": 2,
            "linecolor": "white",
            "showbackground": true,
            "ticks": "",
            "zerolinecolor": "white"
           },
           "zaxis": {
            "backgroundcolor": "#E5ECF6",
            "gridcolor": "white",
            "gridwidth": 2,
            "linecolor": "white",
            "showbackground": true,
            "ticks": "",
            "zerolinecolor": "white"
           }
          },
          "shapedefaults": {
           "line": {
            "color": "#2a3f5f"
           }
          },
          "ternary": {
           "aaxis": {
            "gridcolor": "white",
            "linecolor": "white",
            "ticks": ""
           },
           "baxis": {
            "gridcolor": "white",
            "linecolor": "white",
            "ticks": ""
           },
           "bgcolor": "#E5ECF6",
           "caxis": {
            "gridcolor": "white",
            "linecolor": "white",
            "ticks": ""
           }
          },
          "title": {
           "x": 0.05
          },
          "xaxis": {
           "automargin": true,
           "gridcolor": "white",
           "linecolor": "white",
           "ticks": "",
           "title": {
            "standoff": 15
           },
           "zerolinecolor": "white",
           "zerolinewidth": 2
          },
          "yaxis": {
           "automargin": true,
           "gridcolor": "white",
           "linecolor": "white",
           "ticks": "",
           "title": {
            "standoff": 15
           },
           "zerolinecolor": "white",
           "zerolinewidth": 2
          }
         }
        },
        "title": {
         "text": "Age Distribution"
        },
        "xaxis": {
         "anchor": "y2",
         "domain": [
          0,
          1
         ],
         "zeroline": false
        },
        "yaxis": {
         "anchor": "free",
         "domain": [
          0.35,
          1
         ],
         "position": 0
        },
        "yaxis2": {
         "anchor": "x",
         "domain": [
          0,
          0.25
         ],
         "dtick": 1,
         "showticklabels": false
        }
       }
      },
      "text/html": [
       "<div>                            <div id=\"e72e4f2c-800e-42a9-9148-e5fd59eb02c3\" class=\"plotly-graph-div\" style=\"height:525px; width:100%;\"></div>            <script type=\"text/javascript\">                require([\"plotly\"], function(Plotly) {                    window.PLOTLYENV=window.PLOTLYENV || {};                                    if (document.getElementById(\"e72e4f2c-800e-42a9-9148-e5fd59eb02c3\")) {                    Plotly.newPlot(                        \"e72e4f2c-800e-42a9-9148-e5fd59eb02c3\",                        [{\"autobinx\":false,\"histnorm\":\"probability density\",\"legendgroup\":\"Age\",\"marker\":{\"color\":\"rgb(31, 119, 180)\"},\"name\":\"Age\",\"opacity\":0.7,\"x\":[22.0,38.0,26.0,35.0,35.0,54.0,2.0,27.0,14.0,4.0,58.0,20.0,39.0,14.0,55.0,2.0,31.0,35.0,34.0,15.0,28.0,8.0,38.0,19.0,40.0,66.0,28.0,42.0,21.0,18.0,14.0,40.0,27.0,3.0,19.0,18.0,7.0,21.0,49.0,29.0,65.0,21.0,28.5,5.0,11.0,22.0,38.0,45.0,4.0,29.0,19.0,17.0,26.0,32.0,16.0,21.0,26.0,32.0,25.0,0.83,30.0,22.0,29.0,28.0,17.0,33.0,16.0,23.0,24.0,29.0,20.0,46.0,26.0,59.0,71.0,23.0,34.0,34.0,28.0,21.0,33.0,37.0,28.0,21.0,38.0,47.0,14.5,22.0,20.0,17.0,21.0,70.5,29.0,24.0,2.0,21.0,32.5,32.5,54.0,12.0,24.0,45.0,33.0,20.0,47.0,29.0,25.0,23.0,19.0,37.0,16.0,24.0,22.0,24.0,19.0,18.0,19.0,27.0,9.0,36.5,42.0,51.0,22.0,55.5,40.5,51.0,16.0,30.0,44.0,40.0,26.0,17.0,1.0,9.0,45.0,28.0,61.0,4.0,1.0,21.0,56.0,18.0,50.0,30.0,36.0,9.0,1.0,4.0,45.0,40.0,36.0,32.0,19.0,19.0,3.0,44.0,58.0,42.0,24.0,28.0,34.0,45.5,18.0,2.0,32.0,26.0,16.0,40.0,24.0,35.0,22.0,30.0,31.0,27.0,42.0,32.0,30.0,16.0,27.0,51.0,38.0,22.0,19.0,20.5,18.0,35.0,29.0,59.0,5.0,24.0,44.0,8.0,19.0,33.0,29.0,22.0,30.0,44.0,25.0,24.0,37.0,54.0,29.0,62.0,30.0,41.0,29.0,30.0,35.0,50.0,3.0,52.0,40.0,36.0,16.0,25.0,58.0,35.0,25.0,41.0,37.0,63.0,45.0,7.0,35.0,65.0,28.0,16.0,19.0,33.0,30.0,22.0,42.0,22.0,26.0,19.0,36.0,24.0,24.0,23.5,2.0,50.0,19.0,0.92,17.0,30.0,30.0,24.0,18.0,26.0,28.0,43.0,26.0,24.0,54.0,31.0,40.0,22.0,27.0,30.0,22.0,36.0,61.0,36.0,31.0,16.0,45.5,38.0,16.0,29.0,41.0,45.0,45.0,2.0,24.0,28.0,25.0,36.0,24.0,40.0,3.0,42.0,23.0,15.0,25.0,28.0,22.0,38.0,40.0,29.0,45.0,35.0,30.0,60.0,24.0,25.0,18.0,19.0,22.0,3.0,22.0,27.0,20.0,19.0,42.0,1.0,32.0,35.0,18.0,1.0,36.0,17.0,36.0,21.0,28.0,23.0,24.0,22.0,31.0,46.0,23.0,28.0,39.0,26.0,21.0,28.0,20.0,34.0,51.0,3.0,21.0,33.0,44.0,34.0,18.0,30.0,10.0,21.0,29.0,28.0,18.0,28.0,19.0,32.0,28.0,42.0,17.0,50.0,14.0,21.0,24.0,64.0,31.0,45.0,20.0,25.0,28.0,4.0,13.0,34.0,5.0,52.0,36.0,30.0,49.0,29.0,65.0,50.0,48.0,34.0,47.0,48.0,38.0,56.0,0.75,38.0,33.0,23.0,22.0,34.0,29.0,22.0,2.0,9.0,50.0,63.0,25.0,35.0,58.0,30.0,9.0,21.0,55.0,71.0,21.0,54.0,25.0,24.0,17.0,21.0,37.0,16.0,18.0,33.0,28.0,26.0,29.0,36.0,54.0,24.0,47.0,34.0,36.0,32.0,30.0,22.0,44.0,40.5,50.0,39.0,23.0,2.0,17.0,30.0,7.0,45.0,30.0,22.0,36.0,9.0,11.0,32.0,50.0,64.0,19.0,33.0,8.0,17.0,27.0,22.0,22.0,62.0,48.0,39.0,36.0,40.0,28.0,24.0,19.0,29.0,32.0,62.0,53.0,36.0,16.0,19.0,34.0,39.0,32.0,25.0,39.0,54.0,36.0,18.0,47.0,60.0,22.0,35.0,52.0,47.0,37.0,36.0,49.0,49.0,24.0,44.0,35.0,36.0,30.0,27.0,22.0,40.0,39.0,35.0,24.0,34.0,26.0,4.0,26.0,27.0,42.0,20.0,21.0,21.0,61.0,57.0,21.0,26.0,80.0,51.0,32.0,9.0,28.0,32.0,31.0,41.0,20.0,24.0,2.0,0.75,48.0,19.0,56.0,23.0,18.0,21.0,18.0,24.0,32.0,23.0,58.0,50.0,40.0,47.0,36.0,20.0,32.0,25.0,43.0,40.0,31.0,70.0,31.0,18.0,24.5,18.0,43.0,36.0,27.0,20.0,14.0,60.0,25.0,14.0,19.0,18.0,15.0,31.0,4.0,25.0,60.0,52.0,44.0,49.0,42.0,18.0,35.0,18.0,25.0,26.0,39.0,45.0,42.0,22.0,24.0,48.0,29.0,52.0,19.0,38.0,27.0,33.0,6.0,17.0,34.0,50.0,27.0,20.0,30.0,25.0,25.0,29.0,11.0,23.0,23.0,28.5,48.0,35.0,36.0,21.0,24.0,31.0,70.0,16.0,30.0,19.0,31.0,4.0,6.0,33.0,23.0,48.0,0.67,28.0,18.0,34.0,33.0,41.0,20.0,36.0,16.0,51.0,30.5,32.0,24.0,48.0,57.0,54.0,18.0,5.0,43.0,13.0,17.0,29.0,25.0,25.0,18.0,8.0,1.0,46.0,16.0,25.0,39.0,49.0,31.0,30.0,30.0,34.0,31.0,11.0,0.42,27.0,31.0,39.0,18.0,39.0,33.0,26.0,39.0,35.0,6.0,30.5,23.0,31.0,43.0,10.0,52.0,27.0,38.0,27.0,2.0,1.0,62.0,15.0,0.83,23.0,18.0,39.0,21.0,32.0,20.0,16.0,30.0,34.5,17.0,42.0,35.0,28.0,4.0,74.0,9.0,16.0,44.0,18.0,45.0,51.0,24.0,41.0,21.0,48.0,24.0,42.0,27.0,31.0,4.0,26.0,47.0,33.0,47.0,28.0,15.0,20.0,19.0,56.0,25.0,33.0,22.0,28.0,25.0,39.0,27.0,19.0,26.0,32.0],\"xaxis\":\"x\",\"xbins\":{\"end\":80.0,\"size\":1,\"start\":0.42},\"yaxis\":\"y\",\"type\":\"histogram\"},{\"legendgroup\":\"Age\",\"marker\":{\"color\":\"rgb(31, 119, 180)\"},\"mode\":\"lines\",\"name\":\"Age\",\"showlegend\":false,\"x\":[0.42,0.57916,0.73832,0.89748,1.05664,1.2158,1.37496,1.53412,1.69328,1.85244,2.0116,2.17076,2.32992,2.48908,2.64824,2.8074,2.96656,3.12572,3.2848800000000002,3.4440399999999998,3.6031999999999997,3.76236,3.92152,4.08068,4.23984,4.399,4.55816,4.71732,4.87648,5.03564,5.1948,5.35396,5.51312,5.67228,5.83144,5.9906,6.149760000000001,6.30892,6.46808,6.62724,6.7863999999999995,6.9455599999999995,7.10472,7.26388,7.42304,7.582199999999999,7.741359999999999,7.900519999999999,8.05968,8.21884,8.378,8.53716,8.69632,8.85548,9.01464,9.1738,9.33296,9.492119999999998,9.65128,9.81044,9.9696,10.12876,10.28792,10.44708,10.60624,10.7654,10.92456,11.08372,11.24288,11.40204,11.5612,11.720360000000001,11.879520000000001,12.03868,12.19784,12.357,12.51616,12.67532,12.83448,12.99364,13.1528,13.31196,13.471119999999999,13.630279999999999,13.78944,13.9486,14.10776,14.26692,14.42608,14.585239999999999,14.744399999999999,14.903559999999999,15.062719999999999,15.221879999999999,15.381039999999999,15.540199999999999,15.69936,15.85852,16.017680000000002,16.176840000000002,16.336000000000002,16.495160000000002,16.654320000000002,16.813480000000002,16.972640000000002,17.131800000000002,17.290960000000002,17.450120000000002,17.609280000000002,17.768440000000002,17.9276,18.08676,18.24592,18.405079999999998,18.564239999999998,18.723399999999998,18.88256,19.04172,19.20088,19.36004,19.5192,19.67836,19.83752,19.99668,20.15584,20.315,20.47416,20.63332,20.79248,20.95164,21.1108,21.26996,21.42912,21.58828,21.74744,21.9066,22.06576,22.22492,22.38408,22.54324,22.7024,22.861560000000004,23.020720000000004,23.179880000000004,23.339040000000004,23.498200000000004,23.65736,23.81652,23.97568,24.13484,24.294,24.45316,24.61232,24.77148,24.93064,25.0898,25.24896,25.40812,25.56728,25.72644,25.8856,26.04476,26.20392,26.36308,26.52224,26.6814,26.84056,26.999720000000003,27.158880000000003,27.318040000000003,27.477200000000003,27.636360000000003,27.795520000000003,27.954680000000003,28.113840000000003,28.273000000000003,28.432160000000003,28.591320000000003,28.75048,28.90964,29.0688,29.22796,29.38712,29.54628,29.70544,29.8646,30.02376,30.18292,30.34208,30.50124,30.6604,30.81956,30.978720000000003,31.137880000000003,31.297040000000003,31.456200000000003,31.615360000000003,31.774520000000003,31.933680000000003,32.09284,32.252,32.41116,32.57032,32.72948,32.88864,33.0478,33.20696,33.36612,33.52528,33.68444,33.8436,34.00276,34.16192,34.32108,34.48024,34.6394,34.79856,34.95772,35.11688,35.27604,35.4352,35.59436,35.75352,35.91268,36.07184,36.231,36.390159999999995,36.54932,36.708479999999994,36.86764,37.026799999999994,37.18596,37.34512,37.50428,37.66344,37.8226,37.98176,38.14092,38.30008,38.45924,38.6184,38.77756,38.93672,39.09588,39.25504,39.4142,39.57336,39.73252,39.89168,40.05084,40.21,40.36916,40.52832,40.68748,40.84664,41.0058,41.16496,41.32412000000001,41.48328,41.64244,41.8016,41.96076,42.11992,42.27908,42.43824,42.5974,42.75656,42.91572,43.07488,43.23404,43.3932,43.55236,43.71152,43.87068,44.02984,44.189,44.34816,44.50732,44.66648,44.82564,44.9848,45.14396,45.30312000000001,45.46228,45.62144000000001,45.7806,45.93976000000001,46.09892,46.25808000000001,46.41724,46.57640000000001,46.73556,46.89472,47.05388,47.21304,47.3722,47.53136,47.69052,47.84968,48.00884,48.168,48.32716,48.48632,48.64548,48.80464,48.9638,49.12296,49.28212,49.44128,49.600440000000006,49.7596,49.918760000000006,50.07792,50.237080000000006,50.39624,50.555400000000006,50.71456,50.873720000000006,51.03288,51.192040000000006,51.3512,51.510360000000006,51.66952,51.82868,51.98784,52.147,52.30616,52.46532,52.62448,52.78364,52.9428,53.10196,53.26112,53.42028,53.579440000000005,53.7386,53.897760000000005,54.05692,54.216080000000005,54.37524,54.534400000000005,54.69356,54.852720000000005,55.01188,55.171040000000005,55.3302,55.489360000000005,55.64852,55.807680000000005,55.96684,56.126000000000005,56.28516,56.444320000000005,56.60348,56.762640000000005,56.9218,57.08096,57.24012,57.39928,57.558440000000004,57.7176,57.876760000000004,58.03592,58.195080000000004,58.35424,58.513400000000004,58.67256,58.831720000000004,58.99088,59.150040000000004,59.3092,59.468360000000004,59.62752,59.786680000000004,59.94584,60.105000000000004,60.26416,60.423320000000004,60.58248,60.741640000000004,60.9008,61.059960000000004,61.21912,61.378280000000004,61.537440000000004,61.696600000000004,61.855760000000004,62.01492,62.174080000000004,62.333239999999996,62.4924,62.651559999999996,62.81072,62.969879999999996,63.12904,63.288199999999996,63.44736,63.606519999999996,63.76568,63.924839999999996,64.084,64.24315999999999,64.40232,64.56148,64.72064,64.8798,65.03896,65.19812,65.35728,65.51644,65.6756,65.83476,65.99392,66.15308,66.31224,66.4714,66.63056,66.78972,66.94888,67.10803999999999,67.2672,67.42636,67.58552,67.74467999999999,67.90384,68.063,68.22216,68.38131999999999,68.54048,68.69964,68.8588,69.01795999999999,69.17712,69.33628,69.49544,69.65459999999999,69.81376,69.97292,70.13208,70.29124,70.4504,70.60956,70.76872,70.92788,71.08704,71.2462,71.40536,71.56452,71.72368,71.88284,72.042,72.20116,72.36031999999999,72.51948,72.67864,72.8378,72.99695999999999,73.15612,73.31528,73.47444,73.63359999999999,73.79276,73.95192,74.11108,74.27024,74.4294,74.58856,74.74772,74.90688,75.06604,75.2252,75.38436,75.54352,75.70268,75.86184,76.021,76.18016,76.33932,76.49848,76.65764,76.8168,76.97596,77.13512,77.29428,77.45344,77.61259999999999,77.77176,77.93092,78.09008,78.24924,78.4084,78.56756,78.72672,78.88588,79.04504,79.2042,79.36336,79.52252,79.68168,79.84084],\"xaxis\":\"x\",\"y\":[0.005709426317874252,0.005842364372311974,0.0059712167593029665,0.006095672425124256,0.006215439174474745,0.006330245519308325,0.006439842391322171,0.006544004704096003,0.006642532752605716,0.006735253439716999,0.006822021321273901,0.0069027194635041525,0.006977260108635805,0.007045585146825745,0.0071076663947064874,0.0071635056830297375,0.007213134757990633,0.007256615002823096,0.007294036988134199,0.007325519861165343,0.007351210585704816,0.007371283045707447,0.0073859370267833156,0.007395397090583745,0.007399911357727825,0.007399750215269521,0.007395204964801831,0.007386586427131972,0.007374223519047133,0.007358461817034144,0.007339662121933587,0.007318199037417914,0.007294459573906214,0.007268841788090619,0.0072417534666789,0.007213610861284593,0.007184837479651786,0.007155862936619099,0.007127121866439921,0.007099052896316364,0.0070720976793055435,0.0070466999831496485,0.007023304830095235,0.007002357681429625,0.006984303659297252,0.006969586797387703,0.0069586493113275565,0.006951930879073723,0.006949867921306704,0.00695289287176336,0.006961433427631749,0.006975911770552407,0.006996743749423445,0.007024338017080187,0.007059095113997906,0.007101406493430138,0.007151653483822745,0.007210206185910147,0.00727742230357796,0.00735364590933551,0.007439206147052254,0.00753441587644125,0.007639570265588984,0.007754945339601232,0.007880796495128245,0.008017356992118536,0.008164836435600646,0.00832341926157958,0.008493263242235411,0.008674498026504556,0.008867223732791816,0.009071509610989188,0.009287392791155147,0.009514877136129226,0.009753932215018576,0.01000449241389764,0.010266456199214333,0.010539685548306164,0.010824005560110402,0.011119204257620915,0.011425032591920613,0.0117412046557257,0.01206739811234179,0.012403254843780435,0.012748381819547244,0.013102352185320477,0.013464706568423848,0.013834954594690724,0.014212576609051711,0.014597025589984165,0.01498772924587131,0.015384092279358276,0.01578549880398951,0.01619131489579012,0.016600891261034634,0.01701356600024801,0.017428667447520724,0.01784551706350302,0.018263432359981454,0.018681729833735606,0.019099727887426463,0.019516749715574065,0.019932126134234774,0.02034519833377601,0.020755320535153703,0.02116186253130835,0.021564212096688785,0.021961777249465363,0.02235398835268369,0.022740300042407638,0.023120192972782144,0.023493175369881988,0.023858784388177193,0.024216587265409862,0.024566182273616226,0.024907199465915443,0.02523930122050121,0.025562182584990736,0.025875571425891166,0.026179228389418188,0.026472946681233837,0.02675655167384858,0.027029900351450878,0.027292880602780494,0.02754541037334967,0.027787436688840567,0.02801893456187275,0.02823990579454864,0.028450377689257206,0.02865040168015762,0.02884005189759004,0.02901942367738144,0.029188632026649414,0.029347810057267366,0.02949710739766028,0.029636688593062503,0.0297667315038053,0.029887425710623198,0.02999897093538788,0.030101575485106082,0.030195454726462408,0.030280829597655753,0.0303579251637739,0.030426969221477168,0.03048819095831959,0.030541819671624063,0.030588083551442703,0.030627208531771914,0.030659417213847295,0.030684927865009905,0.03070395349630654,0.030716701021654098,0.03072337050105504,0.03072415446999124,0.03071923735673939,0.030708794988939272,0.030692994190301175,0.030671992467858948,0.03064593778965944,0.030614968452228147,0.030579213036567833,0.030538790450835622,0.03049381005721092,0.030444371879819767,0.030390566889928892,0.030332477363976318,0.030270177309375475,0.03020373295242869,0.030133203282125327,0.030058640643092535,0.02998009137052395,0.029897596459544314,0.029811192261186847,0.02972091119697219,0.029626782483991268,0.02952883286241286,0.029427087317463706,0.02932156978816459,0.02921230385544838,0.029099313402730802,0.02898262324254616,0.02886225970348869,0.028738251172405402,0.02861062858755621,0.028479425879277192,0.028344680355537995,0.028206433030659818,0.028064728896338008,0.027919617134978342,0.02777115127619156,0.027619389298081762,0.027464393675696426,0.027306231379666635,0.02714497382864413,0.026980696799628178,0.026813480300663408,0.026643408410674065,0.026470569091379903,0.02629505397631265,0.026116958141924194,0.02593637986565073,0.02575342037558092,0.02556818359607651,0.025380775893323427,0.02519130582436119,0.024999883892660238,0.024806622312805934,0.024611634786316137,0.02441503629008155,0.024216942878386254,0.024017471498954224,0.02381673982298548,0.023614866088705104,0.023411968957556407,0.0232081673818345,0.02300358048228273,0.022798327433965485,0.02259252735858786,0.02238629922135593,0.022179761730458082,0.02197303323729412,0.021766231635680637,0.02155947425841055,0.02135287776973541,0.021146558052562752,0.02094063008940819,0.020735207836405693,0.020530404089949186,0.020326330345807504,0.020123096650813237,0.019920811447469666,0.019719581412038546,0.01951951128686516,0.019320703707856376,0.019123259028154507,0.018927275139139384,0.018732847289945606,0.01854006790670074,0.018349026412676175,0.018159809050497633,0.017972498707491798,0.017787174745152658,0.017603912833601073,0.017422784791789863,0.017243858434078378,0.017067197423671823,0.01689286113329536,0.01672090451335699,0.016551377967750157,0.01638432723736062,0.01621979329127511,0.016057812225644497,0.01589841517013191,0.015741628201878067,0.015587472266940624,0.01543596310921163,0.015287111206884686,0.015140921716628671,0.014997394425725872,0.014856523712543932,0.014718298515831911,0.01458270231345371,0.014449713111296501,0.014319303443210646,0.014191440382948747,0.014066085569169832,0.013943195244657675,0.013822720310966017,0.01370460639974533,0.013588793962023603,0.013475218376705256,0.01336381007951665,0.013254494713562655,0.01314719330256625,0.013041822447742305,0.012938294549108303,0.012836518051859635,0.012736397718237476,0.012637834925094602,0.01254072798712119,0.012444972505432066,0.012350461740940994,0.012257087011660733,0.012164738112772279,0.012073303758007276,0.011982672040587741,0.01189273091167016,0.011803368673951955,0.011714474487819765,0.01162593888715638,0.011537654301679027,0.01144951558246106,0.011361420527094521,0.011273270400787228,0.011184970449556627,0.011096430401588336,0.011007564952771177,0.010918294232405727,0.010828544245111156,0.010738247285027171,0.01064734231852419,0.01055577533179663,0.010463499639919698,0.010370476154199433,0.010276673604936315,0.010182068717052553,0.010086646336399307,0.009990399504958433,0.00989332948358036,0.009795445721349933,0.009696765771141,0.009597315151401886,0.009497127154702656,0.009396242604063687,0.009294709558569415,0.009192582970242303,0.009089924294606833,0.008986801057802762,0.008883286383508163,0.00877945848329844,0.00867540011439438,0.008571198009035328,0.008466942279950283,0.008362725806586263,0.008258643606889158,0.008154792199515124,0.008051268961381199,0.007948171485442228,0.00784559694350872,0.007743641458799687,0.007642399492758022,0.007541963250447225,0.0074424221086018625,0.007343862070123572,0.007246365248505716,0.0071500093853369626,0.007054867403683319,0.006961006999784427,0.00686849027512807,0.006777373410593054,0.006687706383978163,0.006599532731870284,0.006512889356449454,0.006427806377489251,0.006344307029487493,0.006262407603560042,0.0061821174334489816,0.0061034389247392904,0.006026367626143994,0.005950892341508792,0.005876995281001321,0.005804652249788564,0.005733832872365441,0.005664500850578839,0.005596614253290376,0.005530125835538206,0.005464983384989143,0.005401130093416669,0.005338504950894684,0.005277043160359871,0.005216676570164952,0.005157334122218929,0.005098942313287898,0.005041425667008674,0.004984707214147916,0.004928708978619197,0.0048733524667512376,0.00481855915728046,0.004764250989522123,0.004710350847155986,0.004656783035046822,0.004603473746507491,0.0045503515184050335,0.004497347671509399,0.004444396733492497,0.004391436842003584,0.004338410125278285,0.00428526305778416,0.004231946788468476,0.004178417439254533,0.004124636371534668,0.004070570418530816,0.00401619208154029,0.003961479688254406,0.003906417511533137,0.0038509958472387894,0.003795211049976975,0.003739065525862127,0.003682567681717425,0.003625731830433056,0.0035685780525405025,0.0035111320144117215,0.003453424743857211,0.0033954923642735483,0.0033373757888739467,0.0032791203769222815,0.003220775554275406,0.0031623944009174375,0.0031040332085367404,0.0030457510115472755,0.0029876090952847376,0.0029296704854106003,0.002871999422826713,0.0028146608286370983,0.0027577197638844696,0.002701240888935493,0.0026452879274845467,0.002589923140189156,0.002535206812937986,0.002481196764682466,0.002427947879634974,0.002375511668449088,0.0023239358627521003,0.0022732640470974623,0.0022235353320480284,0.002174784071692827,0.002127039628444937,0.0020803261874709285,0.0020346626225686937,0.0019900624147474308,0.0019465336241775426,0.001904078915577469,0.0018626956364964369,0.0018223759473458955,0.0017831070014354695,0.001744871172691127,0.0017076463281810112,0.0016714061420573978,0.001636120447047671,0.0016017556192011678,0.0015682749912276385,0.0015356392894530996,0.001503807089173878,0.0014727352830136429,0.0014423795567833637,0.0014126948673120886,0.001383635916756875,0.001355157618012806,0.0013272155460260628,0.0012997663700620192,0.0012727682622914675,0.0012461812784266286,0.0012199677065585282,0.0011940923808118002,0.0011685229569347783,0.001143230147474099,0.0011181879147357332,0.00109337362030022,0.0010687681304303344,0.0010443558772764631,0.0010201248763403552,0.0009960667011941044,0.0009721764169610314,0.000948452474541919,0.0009248965680081107,0.0009015134579767549,0.0008783107641293505,0.0008552987303284901,0.0008324899660274637,0.0008098991678509553,0.000787542825352248,0.0007654389150226988,0.0007436065866442774,0.0007220658460368219,0.0007008372381615129,0.0006799415344032924,0.0006593994276718043,0.0006392312387367709,0.000619456636954218,0.00060009437824954,0.0005811620629070014,0.0005626759153783919,0.0005446505879712143,0.0005270989899144349,0.0005100321429325232,0.0004934590640912727,0.0004773866763164526,0.0004618197466332141,0.00044676085183437185,0.0004322103709631554,0.0004181665036939644,0.00040462531341612106,0.00039158079357307383,0.0003790249555850236,0.0003669479364881771,0.00035533812425988224,0.00034418229866661044,0.0003334657853713798,0.0003231726209686152,0.00031328572657734013,0.00030378708761689683,0.0002946579374121699,0.0002858789423258745,0.00027743038619226285,0.00026929235192748745,0.00026144489831468127,0.00025386823010417,0.00024654285972855667,0.00023944975910608537,0.00023257050019095913],\"yaxis\":\"y\",\"type\":\"scatter\"},{\"legendgroup\":\"Age\",\"marker\":{\"color\":\"rgb(31, 119, 180)\",\"symbol\":\"line-ns-open\"},\"mode\":\"markers\",\"name\":\"Age\",\"showlegend\":false,\"x\":[22.0,38.0,26.0,35.0,35.0,54.0,2.0,27.0,14.0,4.0,58.0,20.0,39.0,14.0,55.0,2.0,31.0,35.0,34.0,15.0,28.0,8.0,38.0,19.0,40.0,66.0,28.0,42.0,21.0,18.0,14.0,40.0,27.0,3.0,19.0,18.0,7.0,21.0,49.0,29.0,65.0,21.0,28.5,5.0,11.0,22.0,38.0,45.0,4.0,29.0,19.0,17.0,26.0,32.0,16.0,21.0,26.0,32.0,25.0,0.83,30.0,22.0,29.0,28.0,17.0,33.0,16.0,23.0,24.0,29.0,20.0,46.0,26.0,59.0,71.0,23.0,34.0,34.0,28.0,21.0,33.0,37.0,28.0,21.0,38.0,47.0,14.5,22.0,20.0,17.0,21.0,70.5,29.0,24.0,2.0,21.0,32.5,32.5,54.0,12.0,24.0,45.0,33.0,20.0,47.0,29.0,25.0,23.0,19.0,37.0,16.0,24.0,22.0,24.0,19.0,18.0,19.0,27.0,9.0,36.5,42.0,51.0,22.0,55.5,40.5,51.0,16.0,30.0,44.0,40.0,26.0,17.0,1.0,9.0,45.0,28.0,61.0,4.0,1.0,21.0,56.0,18.0,50.0,30.0,36.0,9.0,1.0,4.0,45.0,40.0,36.0,32.0,19.0,19.0,3.0,44.0,58.0,42.0,24.0,28.0,34.0,45.5,18.0,2.0,32.0,26.0,16.0,40.0,24.0,35.0,22.0,30.0,31.0,27.0,42.0,32.0,30.0,16.0,27.0,51.0,38.0,22.0,19.0,20.5,18.0,35.0,29.0,59.0,5.0,24.0,44.0,8.0,19.0,33.0,29.0,22.0,30.0,44.0,25.0,24.0,37.0,54.0,29.0,62.0,30.0,41.0,29.0,30.0,35.0,50.0,3.0,52.0,40.0,36.0,16.0,25.0,58.0,35.0,25.0,41.0,37.0,63.0,45.0,7.0,35.0,65.0,28.0,16.0,19.0,33.0,30.0,22.0,42.0,22.0,26.0,19.0,36.0,24.0,24.0,23.5,2.0,50.0,19.0,0.92,17.0,30.0,30.0,24.0,18.0,26.0,28.0,43.0,26.0,24.0,54.0,31.0,40.0,22.0,27.0,30.0,22.0,36.0,61.0,36.0,31.0,16.0,45.5,38.0,16.0,29.0,41.0,45.0,45.0,2.0,24.0,28.0,25.0,36.0,24.0,40.0,3.0,42.0,23.0,15.0,25.0,28.0,22.0,38.0,40.0,29.0,45.0,35.0,30.0,60.0,24.0,25.0,18.0,19.0,22.0,3.0,22.0,27.0,20.0,19.0,42.0,1.0,32.0,35.0,18.0,1.0,36.0,17.0,36.0,21.0,28.0,23.0,24.0,22.0,31.0,46.0,23.0,28.0,39.0,26.0,21.0,28.0,20.0,34.0,51.0,3.0,21.0,33.0,44.0,34.0,18.0,30.0,10.0,21.0,29.0,28.0,18.0,28.0,19.0,32.0,28.0,42.0,17.0,50.0,14.0,21.0,24.0,64.0,31.0,45.0,20.0,25.0,28.0,4.0,13.0,34.0,5.0,52.0,36.0,30.0,49.0,29.0,65.0,50.0,48.0,34.0,47.0,48.0,38.0,56.0,0.75,38.0,33.0,23.0,22.0,34.0,29.0,22.0,2.0,9.0,50.0,63.0,25.0,35.0,58.0,30.0,9.0,21.0,55.0,71.0,21.0,54.0,25.0,24.0,17.0,21.0,37.0,16.0,18.0,33.0,28.0,26.0,29.0,36.0,54.0,24.0,47.0,34.0,36.0,32.0,30.0,22.0,44.0,40.5,50.0,39.0,23.0,2.0,17.0,30.0,7.0,45.0,30.0,22.0,36.0,9.0,11.0,32.0,50.0,64.0,19.0,33.0,8.0,17.0,27.0,22.0,22.0,62.0,48.0,39.0,36.0,40.0,28.0,24.0,19.0,29.0,32.0,62.0,53.0,36.0,16.0,19.0,34.0,39.0,32.0,25.0,39.0,54.0,36.0,18.0,47.0,60.0,22.0,35.0,52.0,47.0,37.0,36.0,49.0,49.0,24.0,44.0,35.0,36.0,30.0,27.0,22.0,40.0,39.0,35.0,24.0,34.0,26.0,4.0,26.0,27.0,42.0,20.0,21.0,21.0,61.0,57.0,21.0,26.0,80.0,51.0,32.0,9.0,28.0,32.0,31.0,41.0,20.0,24.0,2.0,0.75,48.0,19.0,56.0,23.0,18.0,21.0,18.0,24.0,32.0,23.0,58.0,50.0,40.0,47.0,36.0,20.0,32.0,25.0,43.0,40.0,31.0,70.0,31.0,18.0,24.5,18.0,43.0,36.0,27.0,20.0,14.0,60.0,25.0,14.0,19.0,18.0,15.0,31.0,4.0,25.0,60.0,52.0,44.0,49.0,42.0,18.0,35.0,18.0,25.0,26.0,39.0,45.0,42.0,22.0,24.0,48.0,29.0,52.0,19.0,38.0,27.0,33.0,6.0,17.0,34.0,50.0,27.0,20.0,30.0,25.0,25.0,29.0,11.0,23.0,23.0,28.5,48.0,35.0,36.0,21.0,24.0,31.0,70.0,16.0,30.0,19.0,31.0,4.0,6.0,33.0,23.0,48.0,0.67,28.0,18.0,34.0,33.0,41.0,20.0,36.0,16.0,51.0,30.5,32.0,24.0,48.0,57.0,54.0,18.0,5.0,43.0,13.0,17.0,29.0,25.0,25.0,18.0,8.0,1.0,46.0,16.0,25.0,39.0,49.0,31.0,30.0,30.0,34.0,31.0,11.0,0.42,27.0,31.0,39.0,18.0,39.0,33.0,26.0,39.0,35.0,6.0,30.5,23.0,31.0,43.0,10.0,52.0,27.0,38.0,27.0,2.0,1.0,62.0,15.0,0.83,23.0,18.0,39.0,21.0,32.0,20.0,16.0,30.0,34.5,17.0,42.0,35.0,28.0,4.0,74.0,9.0,16.0,44.0,18.0,45.0,51.0,24.0,41.0,21.0,48.0,24.0,42.0,27.0,31.0,4.0,26.0,47.0,33.0,47.0,28.0,15.0,20.0,19.0,56.0,25.0,33.0,22.0,28.0,25.0,39.0,27.0,19.0,26.0,32.0],\"xaxis\":\"x\",\"y\":[\"Age\",\"Age\",\"Age\",\"Age\",\"Age\",\"Age\",\"Age\",\"Age\",\"Age\",\"Age\",\"Age\",\"Age\",\"Age\",\"Age\",\"Age\",\"Age\",\"Age\",\"Age\",\"Age\",\"Age\",\"Age\",\"Age\",\"Age\",\"Age\",\"Age\",\"Age\",\"Age\",\"Age\",\"Age\",\"Age\",\"Age\",\"Age\",\"Age\",\"Age\",\"Age\",\"Age\",\"Age\",\"Age\",\"Age\",\"Age\",\"Age\",\"Age\",\"Age\",\"Age\",\"Age\",\"Age\",\"Age\",\"Age\",\"Age\",\"Age\",\"Age\",\"Age\",\"Age\",\"Age\",\"Age\",\"Age\",\"Age\",\"Age\",\"Age\",\"Age\",\"Age\",\"Age\",\"Age\",\"Age\",\"Age\",\"Age\",\"Age\",\"Age\",\"Age\",\"Age\",\"Age\",\"Age\",\"Age\",\"Age\",\"Age\",\"Age\",\"Age\",\"Age\",\"Age\",\"Age\",\"Age\",\"Age\",\"Age\",\"Age\",\"Age\",\"Age\",\"Age\",\"Age\",\"Age\",\"Age\",\"Age\",\"Age\",\"Age\",\"Age\",\"Age\",\"Age\",\"Age\",\"Age\",\"Age\",\"Age\",\"Age\",\"Age\",\"Age\",\"Age\",\"Age\",\"Age\",\"Age\",\"Age\",\"Age\",\"Age\",\"Age\",\"Age\",\"Age\",\"Age\",\"Age\",\"Age\",\"Age\",\"Age\",\"Age\",\"Age\",\"Age\",\"Age\",\"Age\",\"Age\",\"Age\",\"Age\",\"Age\",\"Age\",\"Age\",\"Age\",\"Age\",\"Age\",\"Age\",\"Age\",\"Age\",\"Age\",\"Age\",\"Age\",\"Age\",\"Age\",\"Age\",\"Age\",\"Age\",\"Age\",\"Age\",\"Age\",\"Age\",\"Age\",\"Age\",\"Age\",\"Age\",\"Age\",\"Age\",\"Age\",\"Age\",\"Age\",\"Age\",\"Age\",\"Age\",\"Age\",\"Age\",\"Age\",\"Age\",\"Age\",\"Age\",\"Age\",\"Age\",\"Age\",\"Age\",\"Age\",\"Age\",\"Age\",\"Age\",\"Age\",\"Age\",\"Age\",\"Age\",\"Age\",\"Age\",\"Age\",\"Age\",\"Age\",\"Age\",\"Age\",\"Age\",\"Age\",\"Age\",\"Age\",\"Age\",\"Age\",\"Age\",\"Age\",\"Age\",\"Age\",\"Age\",\"Age\",\"Age\",\"Age\",\"Age\",\"Age\",\"Age\",\"Age\",\"Age\",\"Age\",\"Age\",\"Age\",\"Age\",\"Age\",\"Age\",\"Age\",\"Age\",\"Age\",\"Age\",\"Age\",\"Age\",\"Age\",\"Age\",\"Age\",\"Age\",\"Age\",\"Age\",\"Age\",\"Age\",\"Age\",\"Age\",\"Age\",\"Age\",\"Age\",\"Age\",\"Age\",\"Age\",\"Age\",\"Age\",\"Age\",\"Age\",\"Age\",\"Age\",\"Age\",\"Age\",\"Age\",\"Age\",\"Age\",\"Age\",\"Age\",\"Age\",\"Age\",\"Age\",\"Age\",\"Age\",\"Age\",\"Age\",\"Age\",\"Age\",\"Age\",\"Age\",\"Age\",\"Age\",\"Age\",\"Age\",\"Age\",\"Age\",\"Age\",\"Age\",\"Age\",\"Age\",\"Age\",\"Age\",\"Age\",\"Age\",\"Age\",\"Age\",\"Age\",\"Age\",\"Age\",\"Age\",\"Age\",\"Age\",\"Age\",\"Age\",\"Age\",\"Age\",\"Age\",\"Age\",\"Age\",\"Age\",\"Age\",\"Age\",\"Age\",\"Age\",\"Age\",\"Age\",\"Age\",\"Age\",\"Age\",\"Age\",\"Age\",\"Age\",\"Age\",\"Age\",\"Age\",\"Age\",\"Age\",\"Age\",\"Age\",\"Age\",\"Age\",\"Age\",\"Age\",\"Age\",\"Age\",\"Age\",\"Age\",\"Age\",\"Age\",\"Age\",\"Age\",\"Age\",\"Age\",\"Age\",\"Age\",\"Age\",\"Age\",\"Age\",\"Age\",\"Age\",\"Age\",\"Age\",\"Age\",\"Age\",\"Age\",\"Age\",\"Age\",\"Age\",\"Age\",\"Age\",\"Age\",\"Age\",\"Age\",\"Age\",\"Age\",\"Age\",\"Age\",\"Age\",\"Age\",\"Age\",\"Age\",\"Age\",\"Age\",\"Age\",\"Age\",\"Age\",\"Age\",\"Age\",\"Age\",\"Age\",\"Age\",\"Age\",\"Age\",\"Age\",\"Age\",\"Age\",\"Age\",\"Age\",\"Age\",\"Age\",\"Age\",\"Age\",\"Age\",\"Age\",\"Age\",\"Age\",\"Age\",\"Age\",\"Age\",\"Age\",\"Age\",\"Age\",\"Age\",\"Age\",\"Age\",\"Age\",\"Age\",\"Age\",\"Age\",\"Age\",\"Age\",\"Age\",\"Age\",\"Age\",\"Age\",\"Age\",\"Age\",\"Age\",\"Age\",\"Age\",\"Age\",\"Age\",\"Age\",\"Age\",\"Age\",\"Age\",\"Age\",\"Age\",\"Age\",\"Age\",\"Age\",\"Age\",\"Age\",\"Age\",\"Age\",\"Age\",\"Age\",\"Age\",\"Age\",\"Age\",\"Age\",\"Age\",\"Age\",\"Age\",\"Age\",\"Age\",\"Age\",\"Age\",\"Age\",\"Age\",\"Age\",\"Age\",\"Age\",\"Age\",\"Age\",\"Age\",\"Age\",\"Age\",\"Age\",\"Age\",\"Age\",\"Age\",\"Age\",\"Age\",\"Age\",\"Age\",\"Age\",\"Age\",\"Age\",\"Age\",\"Age\",\"Age\",\"Age\",\"Age\",\"Age\",\"Age\",\"Age\",\"Age\",\"Age\",\"Age\",\"Age\",\"Age\",\"Age\",\"Age\",\"Age\",\"Age\",\"Age\",\"Age\",\"Age\",\"Age\",\"Age\",\"Age\",\"Age\",\"Age\",\"Age\",\"Age\",\"Age\",\"Age\",\"Age\",\"Age\",\"Age\",\"Age\",\"Age\",\"Age\",\"Age\",\"Age\",\"Age\",\"Age\",\"Age\",\"Age\",\"Age\",\"Age\",\"Age\",\"Age\",\"Age\",\"Age\",\"Age\",\"Age\",\"Age\",\"Age\",\"Age\",\"Age\",\"Age\",\"Age\",\"Age\",\"Age\",\"Age\",\"Age\",\"Age\",\"Age\",\"Age\",\"Age\",\"Age\",\"Age\",\"Age\",\"Age\",\"Age\",\"Age\",\"Age\",\"Age\",\"Age\",\"Age\",\"Age\",\"Age\",\"Age\",\"Age\",\"Age\",\"Age\",\"Age\",\"Age\",\"Age\",\"Age\",\"Age\",\"Age\",\"Age\",\"Age\",\"Age\",\"Age\",\"Age\",\"Age\",\"Age\",\"Age\",\"Age\",\"Age\",\"Age\",\"Age\",\"Age\",\"Age\",\"Age\",\"Age\",\"Age\",\"Age\",\"Age\",\"Age\",\"Age\",\"Age\",\"Age\",\"Age\",\"Age\",\"Age\",\"Age\",\"Age\",\"Age\",\"Age\",\"Age\",\"Age\",\"Age\",\"Age\",\"Age\",\"Age\",\"Age\",\"Age\",\"Age\",\"Age\",\"Age\",\"Age\",\"Age\",\"Age\",\"Age\",\"Age\",\"Age\",\"Age\",\"Age\",\"Age\",\"Age\",\"Age\",\"Age\",\"Age\",\"Age\",\"Age\",\"Age\",\"Age\",\"Age\",\"Age\",\"Age\",\"Age\",\"Age\",\"Age\",\"Age\",\"Age\",\"Age\",\"Age\",\"Age\",\"Age\",\"Age\",\"Age\",\"Age\",\"Age\",\"Age\",\"Age\",\"Age\",\"Age\",\"Age\",\"Age\",\"Age\",\"Age\",\"Age\",\"Age\",\"Age\",\"Age\",\"Age\",\"Age\",\"Age\",\"Age\",\"Age\",\"Age\",\"Age\",\"Age\",\"Age\",\"Age\",\"Age\",\"Age\",\"Age\",\"Age\",\"Age\",\"Age\",\"Age\",\"Age\",\"Age\",\"Age\",\"Age\",\"Age\",\"Age\",\"Age\",\"Age\",\"Age\",\"Age\",\"Age\",\"Age\",\"Age\",\"Age\",\"Age\",\"Age\",\"Age\",\"Age\",\"Age\",\"Age\",\"Age\",\"Age\",\"Age\",\"Age\",\"Age\",\"Age\",\"Age\",\"Age\",\"Age\",\"Age\",\"Age\",\"Age\",\"Age\",\"Age\",\"Age\",\"Age\",\"Age\",\"Age\",\"Age\",\"Age\",\"Age\",\"Age\",\"Age\",\"Age\",\"Age\",\"Age\",\"Age\",\"Age\",\"Age\",\"Age\",\"Age\",\"Age\",\"Age\",\"Age\",\"Age\",\"Age\",\"Age\",\"Age\",\"Age\",\"Age\",\"Age\",\"Age\",\"Age\",\"Age\",\"Age\",\"Age\",\"Age\",\"Age\",\"Age\",\"Age\",\"Age\",\"Age\",\"Age\",\"Age\",\"Age\",\"Age\",\"Age\",\"Age\",\"Age\",\"Age\",\"Age\",\"Age\"],\"yaxis\":\"y2\",\"type\":\"scatter\"}],                        {\"barmode\":\"overlay\",\"hovermode\":\"closest\",\"legend\":{\"traceorder\":\"reversed\"},\"template\":{\"data\":{\"barpolar\":[{\"marker\":{\"line\":{\"color\":\"#E5ECF6\",\"width\":0.5},\"pattern\":{\"fillmode\":\"overlay\",\"size\":10,\"solidity\":0.2}},\"type\":\"barpolar\"}],\"bar\":[{\"error_x\":{\"color\":\"#2a3f5f\"},\"error_y\":{\"color\":\"#2a3f5f\"},\"marker\":{\"line\":{\"color\":\"#E5ECF6\",\"width\":0.5},\"pattern\":{\"fillmode\":\"overlay\",\"size\":10,\"solidity\":0.2}},\"type\":\"bar\"}],\"carpet\":[{\"aaxis\":{\"endlinecolor\":\"#2a3f5f\",\"gridcolor\":\"white\",\"linecolor\":\"white\",\"minorgridcolor\":\"white\",\"startlinecolor\":\"#2a3f5f\"},\"baxis\":{\"endlinecolor\":\"#2a3f5f\",\"gridcolor\":\"white\",\"linecolor\":\"white\",\"minorgridcolor\":\"white\",\"startlinecolor\":\"#2a3f5f\"},\"type\":\"carpet\"}],\"choropleth\":[{\"colorbar\":{\"outlinewidth\":0,\"ticks\":\"\"},\"type\":\"choropleth\"}],\"contourcarpet\":[{\"colorbar\":{\"outlinewidth\":0,\"ticks\":\"\"},\"type\":\"contourcarpet\"}],\"contour\":[{\"colorbar\":{\"outlinewidth\":0,\"ticks\":\"\"},\"colorscale\":[[0.0,\"#0d0887\"],[0.1111111111111111,\"#46039f\"],[0.2222222222222222,\"#7201a8\"],[0.3333333333333333,\"#9c179e\"],[0.4444444444444444,\"#bd3786\"],[0.5555555555555556,\"#d8576b\"],[0.6666666666666666,\"#ed7953\"],[0.7777777777777778,\"#fb9f3a\"],[0.8888888888888888,\"#fdca26\"],[1.0,\"#f0f921\"]],\"type\":\"contour\"}],\"heatmapgl\":[{\"colorbar\":{\"outlinewidth\":0,\"ticks\":\"\"},\"colorscale\":[[0.0,\"#0d0887\"],[0.1111111111111111,\"#46039f\"],[0.2222222222222222,\"#7201a8\"],[0.3333333333333333,\"#9c179e\"],[0.4444444444444444,\"#bd3786\"],[0.5555555555555556,\"#d8576b\"],[0.6666666666666666,\"#ed7953\"],[0.7777777777777778,\"#fb9f3a\"],[0.8888888888888888,\"#fdca26\"],[1.0,\"#f0f921\"]],\"type\":\"heatmapgl\"}],\"heatmap\":[{\"colorbar\":{\"outlinewidth\":0,\"ticks\":\"\"},\"colorscale\":[[0.0,\"#0d0887\"],[0.1111111111111111,\"#46039f\"],[0.2222222222222222,\"#7201a8\"],[0.3333333333333333,\"#9c179e\"],[0.4444444444444444,\"#bd3786\"],[0.5555555555555556,\"#d8576b\"],[0.6666666666666666,\"#ed7953\"],[0.7777777777777778,\"#fb9f3a\"],[0.8888888888888888,\"#fdca26\"],[1.0,\"#f0f921\"]],\"type\":\"heatmap\"}],\"histogram2dcontour\":[{\"colorbar\":{\"outlinewidth\":0,\"ticks\":\"\"},\"colorscale\":[[0.0,\"#0d0887\"],[0.1111111111111111,\"#46039f\"],[0.2222222222222222,\"#7201a8\"],[0.3333333333333333,\"#9c179e\"],[0.4444444444444444,\"#bd3786\"],[0.5555555555555556,\"#d8576b\"],[0.6666666666666666,\"#ed7953\"],[0.7777777777777778,\"#fb9f3a\"],[0.8888888888888888,\"#fdca26\"],[1.0,\"#f0f921\"]],\"type\":\"histogram2dcontour\"}],\"histogram2d\":[{\"colorbar\":{\"outlinewidth\":0,\"ticks\":\"\"},\"colorscale\":[[0.0,\"#0d0887\"],[0.1111111111111111,\"#46039f\"],[0.2222222222222222,\"#7201a8\"],[0.3333333333333333,\"#9c179e\"],[0.4444444444444444,\"#bd3786\"],[0.5555555555555556,\"#d8576b\"],[0.6666666666666666,\"#ed7953\"],[0.7777777777777778,\"#fb9f3a\"],[0.8888888888888888,\"#fdca26\"],[1.0,\"#f0f921\"]],\"type\":\"histogram2d\"}],\"histogram\":[{\"marker\":{\"pattern\":{\"fillmode\":\"overlay\",\"size\":10,\"solidity\":0.2}},\"type\":\"histogram\"}],\"mesh3d\":[{\"colorbar\":{\"outlinewidth\":0,\"ticks\":\"\"},\"type\":\"mesh3d\"}],\"parcoords\":[{\"line\":{\"colorbar\":{\"outlinewidth\":0,\"ticks\":\"\"}},\"type\":\"parcoords\"}],\"pie\":[{\"automargin\":true,\"type\":\"pie\"}],\"scatter3d\":[{\"line\":{\"colorbar\":{\"outlinewidth\":0,\"ticks\":\"\"}},\"marker\":{\"colorbar\":{\"outlinewidth\":0,\"ticks\":\"\"}},\"type\":\"scatter3d\"}],\"scattercarpet\":[{\"marker\":{\"colorbar\":{\"outlinewidth\":0,\"ticks\":\"\"}},\"type\":\"scattercarpet\"}],\"scattergeo\":[{\"marker\":{\"colorbar\":{\"outlinewidth\":0,\"ticks\":\"\"}},\"type\":\"scattergeo\"}],\"scattergl\":[{\"marker\":{\"colorbar\":{\"outlinewidth\":0,\"ticks\":\"\"}},\"type\":\"scattergl\"}],\"scattermapbox\":[{\"marker\":{\"colorbar\":{\"outlinewidth\":0,\"ticks\":\"\"}},\"type\":\"scattermapbox\"}],\"scatterpolargl\":[{\"marker\":{\"colorbar\":{\"outlinewidth\":0,\"ticks\":\"\"}},\"type\":\"scatterpolargl\"}],\"scatterpolar\":[{\"marker\":{\"colorbar\":{\"outlinewidth\":0,\"ticks\":\"\"}},\"type\":\"scatterpolar\"}],\"scatter\":[{\"fillpattern\":{\"fillmode\":\"overlay\",\"size\":10,\"solidity\":0.2},\"type\":\"scatter\"}],\"scatterternary\":[{\"marker\":{\"colorbar\":{\"outlinewidth\":0,\"ticks\":\"\"}},\"type\":\"scatterternary\"}],\"surface\":[{\"colorbar\":{\"outlinewidth\":0,\"ticks\":\"\"},\"colorscale\":[[0.0,\"#0d0887\"],[0.1111111111111111,\"#46039f\"],[0.2222222222222222,\"#7201a8\"],[0.3333333333333333,\"#9c179e\"],[0.4444444444444444,\"#bd3786\"],[0.5555555555555556,\"#d8576b\"],[0.6666666666666666,\"#ed7953\"],[0.7777777777777778,\"#fb9f3a\"],[0.8888888888888888,\"#fdca26\"],[1.0,\"#f0f921\"]],\"type\":\"surface\"}],\"table\":[{\"cells\":{\"fill\":{\"color\":\"#EBF0F8\"},\"line\":{\"color\":\"white\"}},\"header\":{\"fill\":{\"color\":\"#C8D4E3\"},\"line\":{\"color\":\"white\"}},\"type\":\"table\"}]},\"layout\":{\"annotationdefaults\":{\"arrowcolor\":\"#2a3f5f\",\"arrowhead\":0,\"arrowwidth\":1},\"autotypenumbers\":\"strict\",\"coloraxis\":{\"colorbar\":{\"outlinewidth\":0,\"ticks\":\"\"}},\"colorscale\":{\"diverging\":[[0,\"#8e0152\"],[0.1,\"#c51b7d\"],[0.2,\"#de77ae\"],[0.3,\"#f1b6da\"],[0.4,\"#fde0ef\"],[0.5,\"#f7f7f7\"],[0.6,\"#e6f5d0\"],[0.7,\"#b8e186\"],[0.8,\"#7fbc41\"],[0.9,\"#4d9221\"],[1,\"#276419\"]],\"sequential\":[[0.0,\"#0d0887\"],[0.1111111111111111,\"#46039f\"],[0.2222222222222222,\"#7201a8\"],[0.3333333333333333,\"#9c179e\"],[0.4444444444444444,\"#bd3786\"],[0.5555555555555556,\"#d8576b\"],[0.6666666666666666,\"#ed7953\"],[0.7777777777777778,\"#fb9f3a\"],[0.8888888888888888,\"#fdca26\"],[1.0,\"#f0f921\"]],\"sequentialminus\":[[0.0,\"#0d0887\"],[0.1111111111111111,\"#46039f\"],[0.2222222222222222,\"#7201a8\"],[0.3333333333333333,\"#9c179e\"],[0.4444444444444444,\"#bd3786\"],[0.5555555555555556,\"#d8576b\"],[0.6666666666666666,\"#ed7953\"],[0.7777777777777778,\"#fb9f3a\"],[0.8888888888888888,\"#fdca26\"],[1.0,\"#f0f921\"]]},\"colorway\":[\"#636efa\",\"#EF553B\",\"#00cc96\",\"#ab63fa\",\"#FFA15A\",\"#19d3f3\",\"#FF6692\",\"#B6E880\",\"#FF97FF\",\"#FECB52\"],\"font\":{\"color\":\"#2a3f5f\"},\"geo\":{\"bgcolor\":\"white\",\"lakecolor\":\"white\",\"landcolor\":\"#E5ECF6\",\"showlakes\":true,\"showland\":true,\"subunitcolor\":\"white\"},\"hoverlabel\":{\"align\":\"left\"},\"hovermode\":\"closest\",\"mapbox\":{\"style\":\"light\"},\"paper_bgcolor\":\"white\",\"plot_bgcolor\":\"#E5ECF6\",\"polar\":{\"angularaxis\":{\"gridcolor\":\"white\",\"linecolor\":\"white\",\"ticks\":\"\"},\"bgcolor\":\"#E5ECF6\",\"radialaxis\":{\"gridcolor\":\"white\",\"linecolor\":\"white\",\"ticks\":\"\"}},\"scene\":{\"xaxis\":{\"backgroundcolor\":\"#E5ECF6\",\"gridcolor\":\"white\",\"gridwidth\":2,\"linecolor\":\"white\",\"showbackground\":true,\"ticks\":\"\",\"zerolinecolor\":\"white\"},\"yaxis\":{\"backgroundcolor\":\"#E5ECF6\",\"gridcolor\":\"white\",\"gridwidth\":2,\"linecolor\":\"white\",\"showbackground\":true,\"ticks\":\"\",\"zerolinecolor\":\"white\"},\"zaxis\":{\"backgroundcolor\":\"#E5ECF6\",\"gridcolor\":\"white\",\"gridwidth\":2,\"linecolor\":\"white\",\"showbackground\":true,\"ticks\":\"\",\"zerolinecolor\":\"white\"}},\"shapedefaults\":{\"line\":{\"color\":\"#2a3f5f\"}},\"ternary\":{\"aaxis\":{\"gridcolor\":\"white\",\"linecolor\":\"white\",\"ticks\":\"\"},\"baxis\":{\"gridcolor\":\"white\",\"linecolor\":\"white\",\"ticks\":\"\"},\"bgcolor\":\"#E5ECF6\",\"caxis\":{\"gridcolor\":\"white\",\"linecolor\":\"white\",\"ticks\":\"\"}},\"title\":{\"x\":0.05},\"xaxis\":{\"automargin\":true,\"gridcolor\":\"white\",\"linecolor\":\"white\",\"ticks\":\"\",\"title\":{\"standoff\":15},\"zerolinecolor\":\"white\",\"zerolinewidth\":2},\"yaxis\":{\"automargin\":true,\"gridcolor\":\"white\",\"linecolor\":\"white\",\"ticks\":\"\",\"title\":{\"standoff\":15},\"zerolinecolor\":\"white\",\"zerolinewidth\":2}}},\"title\":{\"text\":\"Age Distribution\"},\"xaxis\":{\"anchor\":\"y2\",\"domain\":[0.0,1.0],\"zeroline\":false},\"yaxis\":{\"anchor\":\"free\",\"domain\":[0.35,1],\"position\":0.0},\"yaxis2\":{\"anchor\":\"x\",\"domain\":[0,0.25],\"dtick\":1,\"showticklabels\":false}},                        {\"responsive\": true}                    ).then(function(){\n",
       "                            \n",
       "var gd = document.getElementById('e72e4f2c-800e-42a9-9148-e5fd59eb02c3');\n",
       "var x = new MutationObserver(function (mutations, observer) {{\n",
       "        var display = window.getComputedStyle(gd).display;\n",
       "        if (!display || display === 'none') {{\n",
       "            console.log([gd, 'removed!']);\n",
       "            Plotly.purge(gd);\n",
       "            observer.disconnect();\n",
       "        }}\n",
       "}});\n",
       "\n",
       "// Listen for the removal of the full notebook cells\n",
       "var notebookContainer = gd.closest('#notebook-container');\n",
       "if (notebookContainer) {{\n",
       "    x.observe(notebookContainer, {childList: true});\n",
       "}}\n",
       "\n",
       "// Listen for the clearing of the current output cell\n",
       "var outputEl = gd.closest('.output');\n",
       "if (outputEl) {{\n",
       "    x.observe(outputEl, {childList: true});\n",
       "}}\n",
       "\n",
       "                        })                };                });            </script>        </div>"
      ]
     },
     "metadata": {},
     "output_type": "display_data"
    }
   ],
   "source": [
    "import plotly.figure_factory as ff\n",
    "from plotly.offline import iplot\n",
    "age=data['Age'].dropna()\n",
    "fig = ff.create_distplot([age],['Age'],bin_size=1,)\n",
    "fig.update_traces()\n",
    "fig.update_layout(\n",
    "    title=\"Age Distribution\",\n",
    ")\n",
    "iplot(fig, filename='Basic Distplot')"
   ]
  },
  {
   "cell_type": "markdown",
   "id": "3fb53d2d",
   "metadata": {},
   "source": [
    "Age of the passengers are positively skewed and also there were some missing values in this variable."
   ]
  },
  {
   "cell_type": "code",
   "execution_count": 52,
   "id": "4dd306f8",
   "metadata": {},
   "outputs": [
    {
     "data": {
      "application/vnd.plotly.v1+json": {
       "config": {
        "linkText": "Export to plot.ly",
        "plotlyServerURL": "https://plot.ly",
        "showLink": false
       },
       "data": [
        {
         "autobinx": false,
         "histnorm": "probability density",
         "legendgroup": "Fare",
         "marker": {
          "color": "rgb(31, 119, 180)"
         },
         "name": "Fare",
         "opacity": 0.7,
         "type": "histogram",
         "x": [
          7.25,
          71.2833,
          7.925,
          53.1,
          8.05,
          8.4583,
          51.8625,
          21.075,
          11.1333,
          30.0708,
          16.7,
          26.55,
          8.05,
          31.275,
          7.8542,
          16,
          29.125,
          13,
          18,
          7.225,
          26,
          13,
          8.0292,
          35.5,
          21.075,
          31.3875,
          7.225,
          263,
          7.8792,
          7.8958,
          27.7208,
          146.5208,
          7.75,
          10.5,
          82.1708,
          52,
          7.2292,
          8.05,
          18,
          11.2417,
          9.475,
          21,
          7.8958,
          41.5792,
          7.8792,
          8.05,
          15.5,
          7.75,
          21.6792,
          17.8,
          39.6875,
          7.8,
          76.7292,
          26,
          61.9792,
          35.5,
          10.5,
          7.2292,
          27.75,
          46.9,
          7.2292,
          80,
          83.475,
          27.9,
          27.7208,
          15.2458,
          10.5,
          8.1583,
          7.925,
          8.6625,
          10.5,
          46.9,
          73.5,
          14.4542,
          56.4958,
          7.65,
          7.8958,
          8.05,
          29,
          12.475,
          9,
          9.5,
          7.7875,
          47.1,
          10.5,
          15.85,
          34.375,
          8.05,
          263,
          8.05,
          8.05,
          7.8542,
          61.175,
          20.575,
          7.25,
          8.05,
          34.6542,
          63.3583,
          23,
          26,
          7.8958,
          7.8958,
          77.2875,
          8.6542,
          7.925,
          7.8958,
          7.65,
          7.775,
          7.8958,
          24.15,
          52,
          14.4542,
          8.05,
          9.825,
          14.4583,
          7.925,
          7.75,
          21,
          247.5208,
          31.275,
          73.5,
          8.05,
          30.0708,
          13,
          77.2875,
          11.2417,
          7.75,
          7.1417,
          22.3583,
          6.975,
          7.8958,
          7.05,
          14.5,
          26,
          13,
          15.0458,
          26.2833,
          53.1,
          9.2167,
          79.2,
          15.2458,
          7.75,
          15.85,
          6.75,
          11.5,
          36.75,
          7.7958,
          34.375,
          26,
          13,
          12.525,
          66.6,
          8.05,
          14.5,
          7.3125,
          61.3792,
          7.7333,
          8.05,
          8.6625,
          69.55,
          16.1,
          15.75,
          7.775,
          8.6625,
          39.6875,
          20.525,
          55,
          27.9,
          25.925,
          56.4958,
          33.5,
          29.125,
          11.1333,
          7.925,
          30.6958,
          7.8542,
          25.4667,
          28.7125,
          13,
          0,
          69.55,
          15.05,
          31.3875,
          39,
          22.025,
          50,
          15.5,
          26.55,
          15.5,
          7.8958,
          13,
          13,
          7.8542,
          26,
          27.7208,
          146.5208,
          7.75,
          8.4042,
          7.75,
          13,
          9.5,
          69.55,
          6.4958,
          7.225,
          8.05,
          10.4625,
          15.85,
          18.7875,
          7.75,
          31,
          7.05,
          21,
          7.25,
          13,
          7.75,
          113.275,
          7.925,
          27,
          76.2917,
          10.5,
          8.05,
          13,
          8.05,
          7.8958,
          90,
          9.35,
          10.5,
          7.25,
          13,
          25.4667,
          83.475,
          7.775,
          13.5,
          31.3875,
          10.5,
          7.55,
          26,
          26.25,
          10.5,
          12.275,
          14.4542,
          15.5,
          10.5,
          7.125,
          7.225,
          90,
          7.775,
          14.5,
          52.5542,
          26,
          7.25,
          10.4625,
          26.55,
          16.1,
          20.2125,
          15.2458,
          79.2,
          86.5,
          512.3292,
          26,
          7.75,
          31.3875,
          79.65,
          0,
          7.75,
          10.5,
          39.6875,
          7.775,
          153.4625,
          135.6333,
          31,
          0,
          19.5,
          29.7,
          7.75,
          77.9583,
          7.75,
          0,
          29.125,
          20.25,
          7.75,
          7.8542,
          9.5,
          8.05,
          26,
          8.6625,
          9.5,
          7.8958,
          13,
          7.75,
          78.85,
          91.0792,
          12.875,
          8.85,
          7.8958,
          27.7208,
          7.2292,
          151.55,
          30.5,
          247.5208,
          7.75,
          23.25,
          0,
          12.35,
          8.05,
          151.55,
          110.8833,
          108.9,
          24,
          56.9292,
          83.1583,
          262.375,
          26,
          7.8958,
          26.25,
          7.8542,
          26,
          14,
          164.8667,
          134.5,
          7.25,
          7.8958,
          12.35,
          29,
          69.55,
          135.6333,
          6.2375,
          13,
          20.525,
          57.9792,
          23.25,
          28.5,
          153.4625,
          18,
          133.65,
          7.8958,
          66.6,
          134.5,
          8.05,
          35.5,
          26,
          263,
          13,
          13,
          13,
          13,
          13,
          16.1,
          15.9,
          8.6625,
          9.225,
          35,
          7.2292,
          17.8,
          7.225,
          9.5,
          55,
          13,
          7.8792,
          7.8792,
          27.9,
          27.7208,
          14.4542,
          7.05,
          15.5,
          7.25,
          75.25,
          7.2292,
          7.75,
          69.3,
          55.4417,
          6.4958,
          8.05,
          135.6333,
          21.075,
          82.1708,
          7.25,
          211.5,
          4.0125,
          7.775,
          227.525,
          15.7417,
          7.925,
          52,
          7.8958,
          73.5,
          46.9,
          13,
          7.7292,
          12,
          120,
          7.7958,
          7.925,
          113.275,
          16.7,
          7.7958,
          7.8542,
          26,
          10.5,
          12.65,
          7.925,
          8.05,
          9.825,
          15.85,
          8.6625,
          21,
          7.75,
          18.75,
          7.775,
          25.4667,
          7.8958,
          6.8583,
          90,
          0,
          7.925,
          8.05,
          32.5,
          13,
          13,
          24.15,
          7.8958,
          7.7333,
          7.875,
          14.4,
          20.2125,
          7.25,
          26,
          26,
          7.75,
          8.05,
          26.55,
          16.1,
          26,
          7.125,
          55.9,
          120,
          34.375,
          18.75,
          263,
          10.5,
          26.25,
          9.5,
          7.775,
          13,
          8.1125,
          81.8583,
          19.5,
          26.55,
          19.2583,
          30.5,
          27.75,
          19.9667,
          27.75,
          89.1042,
          8.05,
          7.8958,
          26.55,
          51.8625,
          10.5,
          7.75,
          26.55,
          8.05,
          38.5,
          13,
          8.05,
          7.05,
          0,
          26.55,
          7.725,
          19.2583,
          7.25,
          8.6625,
          27.75,
          13.7917,
          9.8375,
          52,
          21,
          7.0458,
          7.5208,
          12.2875,
          46.9,
          0,
          8.05,
          9.5875,
          91.0792,
          25.4667,
          90,
          29.7,
          8.05,
          15.9,
          19.9667,
          7.25,
          30.5,
          49.5042,
          8.05,
          14.4583,
          78.2667,
          15.1,
          151.55,
          7.7958,
          8.6625,
          7.75,
          7.6292,
          9.5875,
          86.5,
          108.9,
          26,
          26.55,
          22.525,
          56.4958,
          7.75,
          8.05,
          26.2875,
          59.4,
          7.4958,
          34.0208,
          10.5,
          24.15,
          26,
          7.8958,
          93.5,
          7.8958,
          7.225,
          57.9792,
          7.2292,
          7.75,
          10.5,
          221.7792,
          7.925,
          11.5,
          26,
          7.2292,
          7.2292,
          22.3583,
          8.6625,
          26.25,
          26.55,
          106.425,
          14.5,
          49.5,
          71,
          31.275,
          31.275,
          26,
          106.425,
          26,
          26,
          13.8625,
          20.525,
          36.75,
          110.8833,
          26,
          7.8292,
          7.225,
          7.775,
          26.55,
          39.6,
          227.525,
          79.65,
          17.4,
          7.75,
          7.8958,
          13.5,
          8.05,
          8.05,
          24.15,
          7.8958,
          21.075,
          7.2292,
          7.8542,
          10.5,
          51.4792,
          26.3875,
          7.75,
          8.05,
          14.5,
          13,
          55.9,
          14.4583,
          7.925,
          30,
          110.8833,
          26,
          40.125,
          8.7125,
          79.65,
          15,
          79.2,
          8.05,
          8.05,
          7.125,
          78.2667,
          7.25,
          7.75,
          26,
          24.15,
          33,
          0,
          7.225,
          56.9292,
          27,
          7.8958,
          42.4,
          8.05,
          26.55,
          15.55,
          7.8958,
          30.5,
          41.5792,
          153.4625,
          31.275,
          7.05,
          15.5,
          7.75,
          8.05,
          65,
          14.4,
          16.1,
          39,
          10.5,
          14.4542,
          52.5542,
          15.7417,
          7.8542,
          16.1,
          32.3208,
          12.35,
          77.9583,
          7.8958,
          7.7333,
          30,
          7.0542,
          30.5,
          0,
          27.9,
          13,
          7.925,
          26.25,
          39.6875,
          16.1,
          7.8542,
          69.3,
          27.9,
          56.4958,
          19.2583,
          76.7292,
          7.8958,
          35.5,
          7.55,
          7.55,
          7.8958,
          23,
          8.4333,
          7.8292,
          6.75,
          73.5,
          7.8958,
          15.5,
          13,
          113.275,
          133.65,
          7.225,
          25.5875,
          7.4958,
          7.925,
          73.5,
          13,
          7.775,
          8.05,
          52,
          39,
          52,
          10.5,
          13,
          0,
          7.775,
          8.05,
          9.8417,
          46.9,
          512.3292,
          8.1375,
          76.7292,
          9.225,
          46.9,
          39,
          41.5792,
          39.6875,
          10.1708,
          7.7958,
          211.3375,
          57,
          13.4167,
          56.4958,
          7.225,
          26.55,
          13.5,
          8.05,
          7.7333,
          110.8833,
          7.65,
          227.525,
          26.2875,
          14.4542,
          7.7417,
          7.8542,
          26,
          13.5,
          26.2875,
          151.55,
          15.2458,
          49.5042,
          26.55,
          52,
          9.4833,
          13,
          7.65,
          227.525,
          10.5,
          15.5,
          7.775,
          33,
          7.0542,
          13,
          13,
          53.1,
          8.6625,
          21,
          7.7375,
          26,
          7.925,
          211.3375,
          18.7875,
          0,
          13,
          13,
          16.1,
          34.375,
          512.3292,
          7.8958,
          7.8958,
          30,
          78.85,
          262.375,
          16.1,
          7.925,
          71,
          20.25,
          13,
          53.1,
          7.75,
          23,
          12.475,
          9.5,
          7.8958,
          65,
          14.5,
          7.7958,
          11.5,
          8.05,
          86.5,
          14.5,
          7.125,
          7.2292,
          120,
          7.775,
          77.9583,
          39.6,
          7.75,
          24.15,
          8.3625,
          9.5,
          7.8542,
          10.5,
          7.225,
          23,
          7.75,
          7.75,
          12.475,
          7.7375,
          211.3375,
          7.2292,
          57,
          30,
          23.45,
          7.05,
          7.25,
          7.4958,
          29.125,
          20.575,
          79.2,
          7.75,
          26,
          69.55,
          30.6958,
          7.8958,
          13,
          25.9292,
          8.6833,
          7.2292,
          24.15,
          13,
          26.25,
          120,
          8.5167,
          6.975,
          7.775,
          0,
          7.775,
          13,
          53.1,
          7.8875,
          24.15,
          10.5,
          31.275,
          8.05,
          0,
          7.925,
          37.0042,
          6.45,
          27.9,
          93.5,
          8.6625,
          0,
          12.475,
          39.6875,
          6.95,
          56.4958,
          37.0042,
          7.75,
          80,
          14.4542,
          18.75,
          7.2292,
          7.8542,
          8.3,
          83.1583,
          8.6625,
          8.05,
          56.4958,
          29.7,
          7.925,
          10.5,
          31,
          6.4375,
          8.6625,
          7.55,
          69.55,
          7.8958,
          33,
          89.1042,
          31.275,
          7.775,
          15.2458,
          39.4,
          26,
          9.35,
          164.8667,
          26.55,
          19.2583,
          7.2292,
          14.1083,
          11.5,
          25.9292,
          69.55,
          13,
          13,
          13.8583,
          50.4958,
          9.5,
          11.1333,
          7.8958,
          52.5542,
          5,
          9,
          24,
          7.225,
          9.8458,
          7.8958,
          7.8958,
          83.1583,
          26,
          7.8958,
          10.5167,
          10.5,
          7.05,
          29.125,
          13,
          30,
          23.45,
          30,
          7.75
         ],
         "xaxis": "x",
         "xbins": {
          "end": 512.3292,
          "size": 10,
          "start": 0
         },
         "yaxis": "y"
        },
        {
         "legendgroup": "Fare",
         "marker": {
          "color": "rgb(31, 119, 180)"
         },
         "mode": "lines",
         "name": "Fare",
         "showlegend": false,
         "type": "scatter",
         "x": [
          0,
          1.0246584,
          2.0493168,
          3.0739752,
          4.0986336,
          5.123292,
          6.1479504,
          7.1726088,
          8.1972672,
          9.2219256,
          10.246584,
          11.2712424,
          12.2959008,
          13.3205592,
          14.3452176,
          15.369876,
          16.3945344,
          17.4191928,
          18.4438512,
          19.4685096,
          20.493168,
          21.5178264,
          22.5424848,
          23.567143200000004,
          24.5918016,
          25.61646,
          26.6411184,
          27.6657768,
          28.6904352,
          29.7150936,
          30.739752,
          31.7644104,
          32.7890688,
          33.8137272,
          34.8383856,
          35.863044,
          36.8877024,
          37.9123608,
          38.9370192,
          39.9616776,
          40.986336,
          42.0109944,
          43.0356528,
          44.0603112,
          45.0849696,
          46.109628,
          47.13428640000001,
          48.15894480000001,
          49.1836032,
          50.2082616,
          51.23292,
          52.2575784,
          53.2822368,
          54.3068952,
          55.3315536,
          56.356212,
          57.3808704,
          58.4055288,
          59.4301872,
          60.4548456,
          61.479504,
          62.5041624,
          63.5288208,
          64.5534792,
          65.5781376,
          66.602796,
          67.6274544,
          68.6521128,
          69.6767712,
          70.7014296,
          71.726088,
          72.7507464,
          73.7754048,
          74.80006320000001,
          75.8247216,
          76.84938000000001,
          77.8740384,
          78.89869680000001,
          79.9233552,
          80.94801360000001,
          81.972672,
          82.99733040000001,
          84.0219888,
          85.04664720000001,
          86.0713056,
          87.09596400000001,
          88.1206224,
          89.14528080000001,
          90.1699392,
          91.19459760000001,
          92.219256,
          93.24391440000001,
          94.26857280000002,
          95.29323120000001,
          96.31788960000002,
          97.34254800000001,
          98.3672064,
          99.3918648,
          100.4165232,
          101.4411816,
          102.46584,
          103.49049839999999,
          104.5151568,
          105.53981519999999,
          106.5644736,
          107.58913199999999,
          108.6137904,
          109.63844879999999,
          110.6631072,
          111.6877656,
          112.712424,
          113.7370824,
          114.7617408,
          115.7863992,
          116.8110576,
          117.835716,
          118.8603744,
          119.8850328,
          120.9096912,
          121.9343496,
          122.959008,
          123.9836664,
          125.0083248,
          126.0329832,
          127.0576416,
          128.0823,
          129.1069584,
          130.13161680000002,
          131.1562752,
          132.1809336,
          133.205592,
          134.2302504,
          135.2549088,
          136.2795672,
          137.3042256,
          138.328884,
          139.3535424,
          140.3782008,
          141.4028592,
          142.4275176,
          143.452176,
          144.4768344,
          145.5014928,
          146.5261512,
          147.5508096,
          148.575468,
          149.60012640000002,
          150.6247848,
          151.6494432,
          152.6741016,
          153.69876000000002,
          154.72341839999999,
          155.7480768,
          156.7727352,
          157.79739360000002,
          158.82205199999999,
          159.8467104,
          160.8713688,
          161.89602720000002,
          162.92068559999998,
          163.945344,
          164.9700024,
          165.99466080000002,
          167.01931919999998,
          168.0439776,
          169.068636,
          170.09329440000002,
          171.1179528,
          172.1426112,
          173.1672696,
          174.19192800000002,
          175.2165864,
          176.2412448,
          177.2659032,
          178.29056160000002,
          179.31522,
          180.3398784,
          181.3645368,
          182.38919520000002,
          183.4138536,
          184.438512,
          185.4631704,
          186.48782880000002,
          187.5124872,
          188.53714560000003,
          189.561804,
          190.58646240000002,
          191.6111208,
          192.63577920000003,
          193.6604376,
          194.68509600000002,
          195.7097544,
          196.7344128,
          197.7590712,
          198.7837296,
          199.808388,
          200.8330464,
          201.8577048,
          202.8823632,
          203.9070216,
          204.93168,
          205.95633840000002,
          206.98099679999999,
          208.0056552,
          209.0303136,
          210.05497200000002,
          211.07963039999999,
          212.1042888,
          213.1289472,
          214.15360560000002,
          215.17826399999998,
          216.2029224,
          217.2275808,
          218.25223920000002,
          219.27689759999998,
          220.301556,
          221.3262144,
          222.35087280000002,
          223.3755312,
          224.4001896,
          225.424848,
          226.44950640000002,
          227.4741648,
          228.4988232,
          229.5234816,
          230.54814000000002,
          231.5727984,
          232.5974568,
          233.6221152,
          234.64677360000002,
          235.671432,
          236.6960904,
          237.7207488,
          238.74540720000002,
          239.7700656,
          240.79472400000003,
          241.8193824,
          242.84404080000002,
          243.8686992,
          244.89335760000003,
          245.918016,
          246.94267440000002,
          247.9673328,
          248.99199120000003,
          250.0166496,
          251.04130800000001,
          252.0659664,
          253.09062480000003,
          254.1152832,
          255.13994160000001,
          256.1646,
          257.1892584,
          258.2139168,
          259.2385752,
          260.26323360000004,
          261.287892,
          262.3125504,
          263.33720880000004,
          264.3618672,
          265.38652559999997,
          266.411184,
          267.4358424,
          268.4605008,
          269.4851592,
          270.5098176,
          271.53447600000004,
          272.5591344,
          273.58379279999997,
          274.6084512,
          275.6331096,
          276.657768,
          277.6824264,
          278.7070848,
          279.73174320000004,
          280.7564016,
          281.78106,
          282.8057184,
          283.8303768,
          284.8550352,
          285.8796936,
          286.904352,
          287.92901040000004,
          288.9536688,
          289.9783272,
          291.0029856,
          292.027644,
          293.0523024,
          294.0769608,
          295.1016192,
          296.12627760000004,
          297.150936,
          298.1755944,
          299.20025280000004,
          300.2249112,
          301.2495696,
          302.274228,
          303.2988864,
          304.32354480000004,
          305.3482032,
          306.3728616,
          307.39752000000004,
          308.4221784,
          309.44683679999997,
          310.4714952,
          311.4961536,
          312.52081200000003,
          313.5454704,
          314.5701288,
          315.59478720000004,
          316.61944560000006,
          317.64410399999997,
          318.6687624,
          319.6934208,
          320.71807920000003,
          321.7427376,
          322.767396,
          323.79205440000004,
          324.81671280000006,
          325.84137119999997,
          326.8660296,
          327.890688,
          328.9153464,
          329.9400048,
          330.9646632,
          331.98932160000004,
          333.01398,
          334.03863839999997,
          335.0632968,
          336.0879552,
          337.1126136,
          338.137272,
          339.1619304,
          340.18658880000004,
          341.2112472,
          342.2359056,
          343.260564,
          344.2852224,
          345.3098808,
          346.3345392,
          347.3591976,
          348.38385600000004,
          349.4085144,
          350.4331728,
          351.4578312,
          352.4824896,
          353.507148,
          354.5318064,
          355.5564648,
          356.58112320000004,
          357.6057816,
          358.63044,
          359.65509840000004,
          360.6797568,
          361.70441519999997,
          362.7290736,
          363.753732,
          364.77839040000003,
          365.8030488,
          366.8277072,
          367.85236560000004,
          368.877024,
          369.90168239999997,
          370.9263408,
          371.9509992,
          372.97565760000003,
          374.000316,
          375.0249744,
          376.04963280000004,
          377.07429120000006,
          378.09894959999997,
          379.123608,
          380.1482664,
          381.17292480000003,
          382.1975832,
          383.2222416,
          384.24690000000004,
          385.27155840000006,
          386.29621679999997,
          387.3208752,
          388.3455336,
          389.37019200000003,
          390.3948504,
          391.4195088,
          392.44416720000004,
          393.4688256,
          394.493484,
          395.5181424,
          396.5428008,
          397.5674592,
          398.5921176,
          399.616776,
          400.64143440000004,
          401.6660928,
          402.6907512,
          403.7154096,
          404.740068,
          405.7647264,
          406.7893848,
          407.8140432,
          408.83870160000004,
          409.86336,
          410.8880184,
          411.91267680000004,
          412.9373352,
          413.96199359999997,
          414.986652,
          416.0113104,
          417.03596880000003,
          418.0606272,
          419.0852856,
          420.10994400000004,
          421.1346024,
          422.15926079999997,
          423.1839192,
          424.2085776,
          425.23323600000003,
          426.2578944,
          427.2825528,
          428.30721120000004,
          429.33186960000006,
          430.35652799999997,
          431.3811864,
          432.4058448,
          433.43050320000003,
          434.4551616,
          435.47982,
          436.50447840000004,
          437.52913680000006,
          438.55379519999997,
          439.5784536,
          440.603112,
          441.62777040000003,
          442.6524288,
          443.6770872,
          444.70174560000004,
          445.72640400000006,
          446.7510624,
          447.7757208,
          448.8003792,
          449.82503760000003,
          450.849696,
          451.8743544,
          452.89901280000004,
          453.92367120000006,
          454.9483296,
          455.972988,
          456.9976464,
          458.02230480000003,
          459.0469632,
          460.0716216,
          461.09628000000004,
          462.1209384,
          463.1455968,
          464.17025520000004,
          465.1949136,
          466.21957199999997,
          467.2442304,
          468.2688888,
          469.29354720000003,
          470.3182056,
          471.342864,
          472.36752240000004,
          473.3921808,
          474.41683919999997,
          475.4414976,
          476.466156,
          477.49081440000003,
          478.5154728,
          479.5401312,
          480.56478960000004,
          481.58944800000006,
          482.61410639999997,
          483.6387648,
          484.6634232,
          485.68808160000003,
          486.71274,
          487.7373984,
          488.76205680000004,
          489.78671520000006,
          490.81137359999997,
          491.836032,
          492.8606904,
          493.88534880000003,
          494.9100072,
          495.9346656,
          496.95932400000004,
          497.98398240000006,
          499.00864079999997,
          500.0332992,
          501.0579576,
          502.08261600000003,
          503.1072744,
          504.1319328,
          505.15659120000004,
          506.18124960000006,
          507.205908,
          508.2305664,
          509.2552248,
          510.27988320000003,
          511.3045416
         ],
         "xaxis": "x",
         "y": [
          0.014097761631635841,
          0.01496018330389399,
          0.015789822549127936,
          0.016576682480197197,
          0.01731118159324057,
          0.017984383781424182,
          0.018588213163879194,
          0.019115645620190403,
          0.01956086984760969,
          0.019919412062462623,
          0.020188220077673943,
          0.020365704312915504,
          0.020451735226104325,
          0.020447598581438728,
          0.020355911777592387,
          0.020180506046977187,
          0.019926280616429502,
          0.019599035826882872,
          0.019205292706578492,
          0.018752106569505326,
          0.018246881886480985,
          0.017697194994604634,
          0.017110630236989468,
          0.01649463393939347,
          0.015856389322980304,
          0.015202714113969253,
          0.014539981327271767,
          0.013874062547214915,
          0.013210292063269494,
          0.012553449482689587,
          0.011907757955325417,
          0.011276894908951637,
          0.010664012188650221,
          0.010071762688650896,
          0.009502330916282069,
          0.008957465385701604,
          0.008438511252449073,
          0.007946442119616698,
          0.007481890429630119,
          0.007045176268065215,
          0.006636334723872272,
          0.0062551421612504635,
          0.005901141860480002,
          0.005573669486246,
          0.0052718787582440325,
          0.004994767551660598,
          0.004741204469186032,
          0.004509955727009811,
          0.0042997120087508445,
          0.0041091147841103015,
          0.003936781479056338,
          0.0037813288317680538,
          0.0036413937776058414,
          0.0035156512754501153,
          0.003402828610075079,
          0.0033017158697803473,
          0.003211172491248726,
          0.0031301299688042713,
          0.0030575910268510883,
          0.002992625737158477,
          0.002934365213738489,
          0.0028819936271543543,
          0.0028347393405035374,
          0.002791865978107236,
          0.0027526641959392468,
          0.0027164448343517137,
          0.0026825340059865935,
          0.002650270514472528,
          0.0026190058236652655,
          0.0025881066145171244,
          0.002556959788706753,
          0.0025249796155499505,
          0.0024916165805151384,
          0.0024563673869196618,
          0.0024187854917861644,
          0.002378491524634966,
          0.0023351829440144004,
          0.002288642328457846,
          0.0022387437720574888,
          0.002185456954250794,
          0.0021288485720182804,
          0.0020690809532604728,
          0.00200640780536228,
          0.0019411671859081508,
          0.0018737719068999425,
          0.0018046976942966652,
          0.0017344695169789935,
          0.0016636465702528534,
          0.0015928064468388608,
          0.0015225290521700661,
          0.0014533808209946496,
          0.0013858997699154924,
          0.001320581877527865,
          0.0012578692228012002,
          0.0011981402363480005,
          0.0011417023316588968,
          0.001088787087939811,
          0.0010395480566954534,
          0.0009940611645376264,
          0.0009523275886713709,
          0.0009142788927714753,
          0.0008797841328653806,
          0.0008486585783394306,
          0.0008206736447095146,
          0.0007955676041270628,
          0.0007730566277653752,
          0.0007528457214668329,
          0.0007346391416830337,
          0.0007181499212992091,
          0.0007031081920796211,
          0.0006892680591660704,
          0.0006764128597048679,
          0.0006643587182898722,
          0.0006529563923562062,
          0.0006420914768901051,
          0.0006316831061065579,
          0.0006216813469055374,
          0.0006120635225030481,
          0.0006028297330763542,
          0.0005939978529553922,
          0.0005855982812026867,
          0.0005776687056437181,
          0.0005702491116362389,
          0.0005633772288297199,
          0.0005570845650095561,
          0.0005513931291623027,
          0.000546312899380406,
          0.0005418400480801582,
          0.0005379558996562211,
          0.0005346265658969213,
          0.0005318031832369978,
          0.0005294226634469827,
          0.0005274088651296422,
          0.0005256740962567944,
          0.0005241208662961819,
          0.0005226438183181383,
          0.0005211317848199717,
          0.0005194699239630594,
          0.0005175419038798887,
          0.0005152321105076942,
          0.0005124278583981733,
          0.0005090215840501335,
          0.0005049129979516297,
          0.0005000111655831085,
          0.0004942364803270027,
          0.00048752248392441584,
          0.0004798174841935275,
          0.00047108591640343804,
          0.0004613093949223954,
          0.00045048740608867463,
          0.00043863760180692186,
          0.0004257956658313663,
          0.0004120147403368993,
          0.0003973644181550714,
          0.000381929324707549,
          0.0003658073318608,
          0.000349107462349787,
          0.0003319475569303007,
          0.000314451786126805,
          0.0002967480937705726,
          0.00027896566024462855,
          0.00026123246958524284,
          0.0002436730567611077,
          0.00022640650023753546,
          0.0002095447111839777,
          0.00019319105533972453,
          0.00017743932756460654,
          0.000162373083356755,
          0.00014806531688716564,
          0.0001345784619948709,
          0.00012196468154774905,
          0.00011026640187152475,
          0.00009951704269679677,
          0.0000897418892557563,
          0.00008095905166493316,
          0.00007318045738252006,
          0.00006641282511839956,
          0.000060658572878860745,
          0.000055916618622996516,
          0.000052183039074942844,
          0.000049451560356446565,
          0.000047713863049409454,
          0.000046959693818076155,
          0.00004717678553255704,
          0.00004835059761609615,
          0.00005046389772337942,
          0.00005349621444789622,
          0.00005742319813719309,
          0.0000622159326573317,
          0.0000678402447217941,
          0.00007425605888807678,
          0.00008141684533678405,
          0.00008926920402946136,
          0.00009775262289695851,
          0.00010679943961153181,
          0.0001163350266771381,
          0.0001262782086089343,
          0.00013654190854587634,
          0.0001470340104870361,
          0.00015765841319873025,
          0.00016831624337769295,
          0.00017890718942301402,
          0.00018933091353765506,
          0.0001994884990059549,
          0.00020928389129995254,
          0.0002186252958473063,
          0.00022742650133458957,
          0.0002356081046512384,
          0.00024309862123672794,
          0.00024983547189343086,
          0.0002557658433471408,
          0.0002608474243885008,
          0.0002650490219199916,
          0.00026835106151181534,
          0.00027074597523869023,
          0.0002722384759770666,
          0.00027284571254706955,
          0.0002725972947946727,
          0.0002715351727112209,
          0.00026971334975426855,
          0.00026719740834811845,
          0.00026406382562114755,
          0.00026039906007594284,
          0.0002562983951316951,
          0.00025186453311502763,
          0.00024720594286232534,
          0.0002424349750061652,
          0.000237665770504165,
          0.0002330119992407394,
          0.0002285844758343438,
          0.00022448870846012106,
          0.0002208224430507362,
          0.00021767326935366946,
          0.00021511635688352705,
          0.0002132123878751163,
          0.00021200575112421442,
          0.00021152305540156783,
          0.0002117720142865437,
          0.00021274074612369614,
          0.00021439752363808478,
          0.00021669099775285236,
          0.0002195509094476741,
          0.00022288929211864995,
          0.00022660215484807163,
          0.00023057162427059455,
          0.00023466850939222856,
          0.00023875523994798295,
          0.00024268911498545113,
          0.0002463257848119543,
          0.00024952287687990534,
          0.0002521436653780522,
          0.0002540606760920499,
          0.00025515911334669913,
          0.00025533999531131144,
          0.000254522888232964,
          0.0002526481395980126,
          0.00024967852482689985,
          0.0002456002415370325,
          0.00024042320895084507,
          0.00023418065662724987,
          0.0002269280150196331,
          0.0002187411488858047,
          0.00020971400168678302,
          0.0001999557432433791,
          0.00018958753266357052,
          0.00017873902276945158,
          0.00016754474015532225,
          0.0001561404762257321,
          0.00014465981915693537,
          0.00013323094518230335,
          0.0001219737707832236,
          0.0001109975464346362,
          0.00010039894887790519,
          0.00009026070394218534,
          0.0000806507471693164,
          0.00007162190626743777,
          0.00006321206888103625,
          0.000055444782216620984,
          0.000048330218302118054,
          0.000041866430370340225,
          0.00003604082202809865,
          0.000030831751219051405,
          0.000026210195006940634,
          0.000022141408231913006,
          0.000018586518364636776,
          0.000015504009605033836,
          0.000012851060671463804,
          0.000010584712099115977,
          0.000008662849616124048,
          0.000007044999824037868,
          0.000005692942646185812,
          0.000004571151630940433,
          0.0000036470781415421693,
          0.0000028912987733383726,
          0.0000022775471430842436,
          0.0000017826516856779375,
          0.0000013864005020459857,
          0.0000010713528748181902,
          8.226150503846448e-7,
          6.275955040526664e-7,
          4.7575235861961343e-7,
          3.5834308081803114e-7,
          2.6818416294623164e-7,
          1.994263002648274e-7,
          1.4734865641939444e-7,
          1.0817419794000109e-7,
          7.890677947051084e-8,
          5.718966010881017e-8,
          4.1184401460916134e-8,
          2.946860506600279e-8,
          2.0950652225782894e-8,
          1.4799473945367048e-8,
          1.038736560054212e-8,
          7.243936660849787e-9,
          5.019421501807704e-9,
          3.455749227169268e-9,
          2.363959661414107e-9,
          1.6067450587144149e-9,
          1.0850824878533278e-9,
          7.280936179853973e-10,
          4.854228517838981e-10,
          3.2155967660938305e-10,
          2.1164654592655977e-10,
          1.384104557644922e-10,
          8.993621589920103e-11,
          5.806416933261484e-11,
          3.72468564711066e-11,
          2.373989255238014e-11,
          1.5034033379881275e-11,
          9.45975389412695e-12,
          5.914140904962072e-12,
          3.6737613402137016e-12,
          2.267449382107909e-12,
          1.3905019478662714e-12,
          8.472525745264673e-13,
          5.129339518748214e-13,
          3.085440759825159e-13,
          1.8440817094593423e-13,
          1.0950911241362574e-13,
          6.461412680952641e-14,
          3.788015925380839e-14,
          2.2064962025164107e-14,
          1.2770315356078737e-14,
          7.343567464220811e-15,
          4.195846257135394e-15,
          2.3819850829120417e-15,
          1.343586049162311e-15,
          7.530067982239811e-16,
          4.193138985666824e-16,
          2.3199923633534594e-16,
          1.2753834534839551e-16,
          6.966295870881462e-17,
          3.7806803310780953e-17,
          2.0386604389644073e-17,
          1.0922617351992722e-17,
          5.81454079784554e-18,
          3.0754664643770904e-18,
          1.6162682183545356e-18,
          8.439616798177261e-19,
          4.37863630246302e-19,
          2.257157497254067e-19,
          1.1560901301433695e-19,
          5.883399742150992e-20,
          2.9748964236146385e-20,
          1.4945903231436277e-20,
          7.460695274997679e-21,
          3.700353829701611e-21,
          1.8235346445071387e-21,
          8.928769361980617e-22,
          4.343862432956542e-22,
          2.0997502991245403e-22,
          1.0084807800092172e-22,
          4.812624834394295e-23,
          2.2821262313897155e-23,
          1.0756694091911869e-23,
          5.0473129634531344e-24,
          2.3747449642324972e-24,
          1.1578492102610202e-24,
          6.646236471554067e-25,
          5.9387160441384275e-25,
          9.00337840610375e-25,
          1.7671464407643034e-24,
          3.709610091000002e-24,
          7.866013274601232e-24,
          1.663050824536394e-23,
          3.496069200884469e-23,
          7.303424127512763e-23,
          1.515976436804665e-22,
          3.126560454914491e-22,
          6.406891495727e-22,
          1.304468474952725e-21,
          2.6389149138717984e-21,
          5.304234877932719e-21,
          1.0593163164375826e-20,
          2.102006869420036e-20,
          4.144271074269893e-20,
          8.118349284804259e-20,
          1.5801301678701065e-19,
          3.0557903225557537e-19,
          5.871645023052434e-19,
          1.1209896091041266e-18,
          2.1264194511695445e-18,
          4.007761231385544e-18,
          7.505165918272513e-18,
          1.396446525712781e-17,
          2.581629269521662e-17,
          4.742081317203216e-17,
          8.654653239622745e-17,
          1.5694081414453216e-16,
          2.82766323196902e-16,
          5.062033588826172e-16,
          9.003843021892449e-16,
          1.5912424681966734e-15,
          2.7941541483955085e-15,
          4.874947203756848e-15,
          8.450745557957729e-15,
          1.4555451761077797e-14,
          2.490932201678119e-14,
          4.235490179236338e-14,
          7.155681558710708e-14,
          1.2011683657576714e-13,
          2.0033753272298534e-13,
          3.3199099963661033e-13,
          5.466330089826811e-13,
          8.942747142095005e-13,
          1.453622388014442e-12,
          2.3476741035492234e-12,
          3.76729448621968e-12,
          6.006574731711692e-12,
          9.515459253401568e-12,
          1.497746030559086e-11,
          2.3423519736293025e-11,
          3.639751107519681e-11,
          5.6194883224669935e-11,
          8.620399907275387e-11,
          1.3139039199631831e-10,
          1.9897813565349172e-10,
          2.9940059612019795e-10,
          4.4761591379048617e-10,
          6.649116313997607e-10,
          9.813589698033301e-10,
          1.439121352039876e-9,
          2.096874756988464e-9,
          3.035659947011191e-9,
          4.366558710058576e-9,
          6.240667459243165e-9,
          8.861930366057528e-9,
          1.2503487932334799e-8,
          1.752829120262756e-8,
          2.4414820425882716e-8,
          3.3788821402195594e-8,
          4.646202204193691e-8,
          6.347880229935537e-8,
          8.617174662331866e-8,
          1.1622689126988481e-7,
          1.5575926967204225e-7,
          2.0739903760619926e-7,
          2.743880072940635e-7,
          3.606858200517633e-7,
          4.7108423028399257e-7,
          6.113270572723224e-7,
          7.882322940795876e-7,
          0.0000010098116676164373,
          0.000001285381659563979,
          0.0000016256586818710973,
          0.0000020428298296935436,
          0.0000025505895044737957,
          0.0000031641313224795687,
          0.000003900084223865582,
          0.00000477638170422203,
          0.0000058120537315909704,
          0.000007026932300256051,
          0.000008441263795465541,
          0.000010075224448995511,
          0.000011948339151038452,
          0.000014078808683749234,
          0.00001648275591971706,
          0.000019173407473864984,
          0.000022160233425988873,
          0.000025448073694258914,
          0.000029036285038111394,
          0.00003291794707363853,
          0.00003707916866624027,
          0.00004149853722503144,
          0.00004614675242795921,
          0.00005098648252216307,
          0.00005597247546805466,
          0.00006105194888050738,
          0.00006616527218954026,
          0.00007124694209253368,
          0.00007622683876006109,
          0.00008103173608588275,
          0.00008558702533699083,
          0.00008981859871098847,
          0.0000936548283879095,
          0.00009702856844583553,
          0.0000998791021395826,
          0.00010215395598171661,
          0.0001038105050520524,
          0.00010481730097951783
         ],
         "yaxis": "y"
        },
        {
         "legendgroup": "Fare",
         "marker": {
          "color": "rgb(31, 119, 180)",
          "symbol": "line-ns-open"
         },
         "mode": "markers",
         "name": "Fare",
         "showlegend": false,
         "type": "scatter",
         "x": [
          7.25,
          71.2833,
          7.925,
          53.1,
          8.05,
          8.4583,
          51.8625,
          21.075,
          11.1333,
          30.0708,
          16.7,
          26.55,
          8.05,
          31.275,
          7.8542,
          16,
          29.125,
          13,
          18,
          7.225,
          26,
          13,
          8.0292,
          35.5,
          21.075,
          31.3875,
          7.225,
          263,
          7.8792,
          7.8958,
          27.7208,
          146.5208,
          7.75,
          10.5,
          82.1708,
          52,
          7.2292,
          8.05,
          18,
          11.2417,
          9.475,
          21,
          7.8958,
          41.5792,
          7.8792,
          8.05,
          15.5,
          7.75,
          21.6792,
          17.8,
          39.6875,
          7.8,
          76.7292,
          26,
          61.9792,
          35.5,
          10.5,
          7.2292,
          27.75,
          46.9,
          7.2292,
          80,
          83.475,
          27.9,
          27.7208,
          15.2458,
          10.5,
          8.1583,
          7.925,
          8.6625,
          10.5,
          46.9,
          73.5,
          14.4542,
          56.4958,
          7.65,
          7.8958,
          8.05,
          29,
          12.475,
          9,
          9.5,
          7.7875,
          47.1,
          10.5,
          15.85,
          34.375,
          8.05,
          263,
          8.05,
          8.05,
          7.8542,
          61.175,
          20.575,
          7.25,
          8.05,
          34.6542,
          63.3583,
          23,
          26,
          7.8958,
          7.8958,
          77.2875,
          8.6542,
          7.925,
          7.8958,
          7.65,
          7.775,
          7.8958,
          24.15,
          52,
          14.4542,
          8.05,
          9.825,
          14.4583,
          7.925,
          7.75,
          21,
          247.5208,
          31.275,
          73.5,
          8.05,
          30.0708,
          13,
          77.2875,
          11.2417,
          7.75,
          7.1417,
          22.3583,
          6.975,
          7.8958,
          7.05,
          14.5,
          26,
          13,
          15.0458,
          26.2833,
          53.1,
          9.2167,
          79.2,
          15.2458,
          7.75,
          15.85,
          6.75,
          11.5,
          36.75,
          7.7958,
          34.375,
          26,
          13,
          12.525,
          66.6,
          8.05,
          14.5,
          7.3125,
          61.3792,
          7.7333,
          8.05,
          8.6625,
          69.55,
          16.1,
          15.75,
          7.775,
          8.6625,
          39.6875,
          20.525,
          55,
          27.9,
          25.925,
          56.4958,
          33.5,
          29.125,
          11.1333,
          7.925,
          30.6958,
          7.8542,
          25.4667,
          28.7125,
          13,
          0,
          69.55,
          15.05,
          31.3875,
          39,
          22.025,
          50,
          15.5,
          26.55,
          15.5,
          7.8958,
          13,
          13,
          7.8542,
          26,
          27.7208,
          146.5208,
          7.75,
          8.4042,
          7.75,
          13,
          9.5,
          69.55,
          6.4958,
          7.225,
          8.05,
          10.4625,
          15.85,
          18.7875,
          7.75,
          31,
          7.05,
          21,
          7.25,
          13,
          7.75,
          113.275,
          7.925,
          27,
          76.2917,
          10.5,
          8.05,
          13,
          8.05,
          7.8958,
          90,
          9.35,
          10.5,
          7.25,
          13,
          25.4667,
          83.475,
          7.775,
          13.5,
          31.3875,
          10.5,
          7.55,
          26,
          26.25,
          10.5,
          12.275,
          14.4542,
          15.5,
          10.5,
          7.125,
          7.225,
          90,
          7.775,
          14.5,
          52.5542,
          26,
          7.25,
          10.4625,
          26.55,
          16.1,
          20.2125,
          15.2458,
          79.2,
          86.5,
          512.3292,
          26,
          7.75,
          31.3875,
          79.65,
          0,
          7.75,
          10.5,
          39.6875,
          7.775,
          153.4625,
          135.6333,
          31,
          0,
          19.5,
          29.7,
          7.75,
          77.9583,
          7.75,
          0,
          29.125,
          20.25,
          7.75,
          7.8542,
          9.5,
          8.05,
          26,
          8.6625,
          9.5,
          7.8958,
          13,
          7.75,
          78.85,
          91.0792,
          12.875,
          8.85,
          7.8958,
          27.7208,
          7.2292,
          151.55,
          30.5,
          247.5208,
          7.75,
          23.25,
          0,
          12.35,
          8.05,
          151.55,
          110.8833,
          108.9,
          24,
          56.9292,
          83.1583,
          262.375,
          26,
          7.8958,
          26.25,
          7.8542,
          26,
          14,
          164.8667,
          134.5,
          7.25,
          7.8958,
          12.35,
          29,
          69.55,
          135.6333,
          6.2375,
          13,
          20.525,
          57.9792,
          23.25,
          28.5,
          153.4625,
          18,
          133.65,
          7.8958,
          66.6,
          134.5,
          8.05,
          35.5,
          26,
          263,
          13,
          13,
          13,
          13,
          13,
          16.1,
          15.9,
          8.6625,
          9.225,
          35,
          7.2292,
          17.8,
          7.225,
          9.5,
          55,
          13,
          7.8792,
          7.8792,
          27.9,
          27.7208,
          14.4542,
          7.05,
          15.5,
          7.25,
          75.25,
          7.2292,
          7.75,
          69.3,
          55.4417,
          6.4958,
          8.05,
          135.6333,
          21.075,
          82.1708,
          7.25,
          211.5,
          4.0125,
          7.775,
          227.525,
          15.7417,
          7.925,
          52,
          7.8958,
          73.5,
          46.9,
          13,
          7.7292,
          12,
          120,
          7.7958,
          7.925,
          113.275,
          16.7,
          7.7958,
          7.8542,
          26,
          10.5,
          12.65,
          7.925,
          8.05,
          9.825,
          15.85,
          8.6625,
          21,
          7.75,
          18.75,
          7.775,
          25.4667,
          7.8958,
          6.8583,
          90,
          0,
          7.925,
          8.05,
          32.5,
          13,
          13,
          24.15,
          7.8958,
          7.7333,
          7.875,
          14.4,
          20.2125,
          7.25,
          26,
          26,
          7.75,
          8.05,
          26.55,
          16.1,
          26,
          7.125,
          55.9,
          120,
          34.375,
          18.75,
          263,
          10.5,
          26.25,
          9.5,
          7.775,
          13,
          8.1125,
          81.8583,
          19.5,
          26.55,
          19.2583,
          30.5,
          27.75,
          19.9667,
          27.75,
          89.1042,
          8.05,
          7.8958,
          26.55,
          51.8625,
          10.5,
          7.75,
          26.55,
          8.05,
          38.5,
          13,
          8.05,
          7.05,
          0,
          26.55,
          7.725,
          19.2583,
          7.25,
          8.6625,
          27.75,
          13.7917,
          9.8375,
          52,
          21,
          7.0458,
          7.5208,
          12.2875,
          46.9,
          0,
          8.05,
          9.5875,
          91.0792,
          25.4667,
          90,
          29.7,
          8.05,
          15.9,
          19.9667,
          7.25,
          30.5,
          49.5042,
          8.05,
          14.4583,
          78.2667,
          15.1,
          151.55,
          7.7958,
          8.6625,
          7.75,
          7.6292,
          9.5875,
          86.5,
          108.9,
          26,
          26.55,
          22.525,
          56.4958,
          7.75,
          8.05,
          26.2875,
          59.4,
          7.4958,
          34.0208,
          10.5,
          24.15,
          26,
          7.8958,
          93.5,
          7.8958,
          7.225,
          57.9792,
          7.2292,
          7.75,
          10.5,
          221.7792,
          7.925,
          11.5,
          26,
          7.2292,
          7.2292,
          22.3583,
          8.6625,
          26.25,
          26.55,
          106.425,
          14.5,
          49.5,
          71,
          31.275,
          31.275,
          26,
          106.425,
          26,
          26,
          13.8625,
          20.525,
          36.75,
          110.8833,
          26,
          7.8292,
          7.225,
          7.775,
          26.55,
          39.6,
          227.525,
          79.65,
          17.4,
          7.75,
          7.8958,
          13.5,
          8.05,
          8.05,
          24.15,
          7.8958,
          21.075,
          7.2292,
          7.8542,
          10.5,
          51.4792,
          26.3875,
          7.75,
          8.05,
          14.5,
          13,
          55.9,
          14.4583,
          7.925,
          30,
          110.8833,
          26,
          40.125,
          8.7125,
          79.65,
          15,
          79.2,
          8.05,
          8.05,
          7.125,
          78.2667,
          7.25,
          7.75,
          26,
          24.15,
          33,
          0,
          7.225,
          56.9292,
          27,
          7.8958,
          42.4,
          8.05,
          26.55,
          15.55,
          7.8958,
          30.5,
          41.5792,
          153.4625,
          31.275,
          7.05,
          15.5,
          7.75,
          8.05,
          65,
          14.4,
          16.1,
          39,
          10.5,
          14.4542,
          52.5542,
          15.7417,
          7.8542,
          16.1,
          32.3208,
          12.35,
          77.9583,
          7.8958,
          7.7333,
          30,
          7.0542,
          30.5,
          0,
          27.9,
          13,
          7.925,
          26.25,
          39.6875,
          16.1,
          7.8542,
          69.3,
          27.9,
          56.4958,
          19.2583,
          76.7292,
          7.8958,
          35.5,
          7.55,
          7.55,
          7.8958,
          23,
          8.4333,
          7.8292,
          6.75,
          73.5,
          7.8958,
          15.5,
          13,
          113.275,
          133.65,
          7.225,
          25.5875,
          7.4958,
          7.925,
          73.5,
          13,
          7.775,
          8.05,
          52,
          39,
          52,
          10.5,
          13,
          0,
          7.775,
          8.05,
          9.8417,
          46.9,
          512.3292,
          8.1375,
          76.7292,
          9.225,
          46.9,
          39,
          41.5792,
          39.6875,
          10.1708,
          7.7958,
          211.3375,
          57,
          13.4167,
          56.4958,
          7.225,
          26.55,
          13.5,
          8.05,
          7.7333,
          110.8833,
          7.65,
          227.525,
          26.2875,
          14.4542,
          7.7417,
          7.8542,
          26,
          13.5,
          26.2875,
          151.55,
          15.2458,
          49.5042,
          26.55,
          52,
          9.4833,
          13,
          7.65,
          227.525,
          10.5,
          15.5,
          7.775,
          33,
          7.0542,
          13,
          13,
          53.1,
          8.6625,
          21,
          7.7375,
          26,
          7.925,
          211.3375,
          18.7875,
          0,
          13,
          13,
          16.1,
          34.375,
          512.3292,
          7.8958,
          7.8958,
          30,
          78.85,
          262.375,
          16.1,
          7.925,
          71,
          20.25,
          13,
          53.1,
          7.75,
          23,
          12.475,
          9.5,
          7.8958,
          65,
          14.5,
          7.7958,
          11.5,
          8.05,
          86.5,
          14.5,
          7.125,
          7.2292,
          120,
          7.775,
          77.9583,
          39.6,
          7.75,
          24.15,
          8.3625,
          9.5,
          7.8542,
          10.5,
          7.225,
          23,
          7.75,
          7.75,
          12.475,
          7.7375,
          211.3375,
          7.2292,
          57,
          30,
          23.45,
          7.05,
          7.25,
          7.4958,
          29.125,
          20.575,
          79.2,
          7.75,
          26,
          69.55,
          30.6958,
          7.8958,
          13,
          25.9292,
          8.6833,
          7.2292,
          24.15,
          13,
          26.25,
          120,
          8.5167,
          6.975,
          7.775,
          0,
          7.775,
          13,
          53.1,
          7.8875,
          24.15,
          10.5,
          31.275,
          8.05,
          0,
          7.925,
          37.0042,
          6.45,
          27.9,
          93.5,
          8.6625,
          0,
          12.475,
          39.6875,
          6.95,
          56.4958,
          37.0042,
          7.75,
          80,
          14.4542,
          18.75,
          7.2292,
          7.8542,
          8.3,
          83.1583,
          8.6625,
          8.05,
          56.4958,
          29.7,
          7.925,
          10.5,
          31,
          6.4375,
          8.6625,
          7.55,
          69.55,
          7.8958,
          33,
          89.1042,
          31.275,
          7.775,
          15.2458,
          39.4,
          26,
          9.35,
          164.8667,
          26.55,
          19.2583,
          7.2292,
          14.1083,
          11.5,
          25.9292,
          69.55,
          13,
          13,
          13.8583,
          50.4958,
          9.5,
          11.1333,
          7.8958,
          52.5542,
          5,
          9,
          24,
          7.225,
          9.8458,
          7.8958,
          7.8958,
          83.1583,
          26,
          7.8958,
          10.5167,
          10.5,
          7.05,
          29.125,
          13,
          30,
          23.45,
          30,
          7.75
         ],
         "xaxis": "x",
         "y": [
          "Fare",
          "Fare",
          "Fare",
          "Fare",
          "Fare",
          "Fare",
          "Fare",
          "Fare",
          "Fare",
          "Fare",
          "Fare",
          "Fare",
          "Fare",
          "Fare",
          "Fare",
          "Fare",
          "Fare",
          "Fare",
          "Fare",
          "Fare",
          "Fare",
          "Fare",
          "Fare",
          "Fare",
          "Fare",
          "Fare",
          "Fare",
          "Fare",
          "Fare",
          "Fare",
          "Fare",
          "Fare",
          "Fare",
          "Fare",
          "Fare",
          "Fare",
          "Fare",
          "Fare",
          "Fare",
          "Fare",
          "Fare",
          "Fare",
          "Fare",
          "Fare",
          "Fare",
          "Fare",
          "Fare",
          "Fare",
          "Fare",
          "Fare",
          "Fare",
          "Fare",
          "Fare",
          "Fare",
          "Fare",
          "Fare",
          "Fare",
          "Fare",
          "Fare",
          "Fare",
          "Fare",
          "Fare",
          "Fare",
          "Fare",
          "Fare",
          "Fare",
          "Fare",
          "Fare",
          "Fare",
          "Fare",
          "Fare",
          "Fare",
          "Fare",
          "Fare",
          "Fare",
          "Fare",
          "Fare",
          "Fare",
          "Fare",
          "Fare",
          "Fare",
          "Fare",
          "Fare",
          "Fare",
          "Fare",
          "Fare",
          "Fare",
          "Fare",
          "Fare",
          "Fare",
          "Fare",
          "Fare",
          "Fare",
          "Fare",
          "Fare",
          "Fare",
          "Fare",
          "Fare",
          "Fare",
          "Fare",
          "Fare",
          "Fare",
          "Fare",
          "Fare",
          "Fare",
          "Fare",
          "Fare",
          "Fare",
          "Fare",
          "Fare",
          "Fare",
          "Fare",
          "Fare",
          "Fare",
          "Fare",
          "Fare",
          "Fare",
          "Fare",
          "Fare",
          "Fare",
          "Fare",
          "Fare",
          "Fare",
          "Fare",
          "Fare",
          "Fare",
          "Fare",
          "Fare",
          "Fare",
          "Fare",
          "Fare",
          "Fare",
          "Fare",
          "Fare",
          "Fare",
          "Fare",
          "Fare",
          "Fare",
          "Fare",
          "Fare",
          "Fare",
          "Fare",
          "Fare",
          "Fare",
          "Fare",
          "Fare",
          "Fare",
          "Fare",
          "Fare",
          "Fare",
          "Fare",
          "Fare",
          "Fare",
          "Fare",
          "Fare",
          "Fare",
          "Fare",
          "Fare",
          "Fare",
          "Fare",
          "Fare",
          "Fare",
          "Fare",
          "Fare",
          "Fare",
          "Fare",
          "Fare",
          "Fare",
          "Fare",
          "Fare",
          "Fare",
          "Fare",
          "Fare",
          "Fare",
          "Fare",
          "Fare",
          "Fare",
          "Fare",
          "Fare",
          "Fare",
          "Fare",
          "Fare",
          "Fare",
          "Fare",
          "Fare",
          "Fare",
          "Fare",
          "Fare",
          "Fare",
          "Fare",
          "Fare",
          "Fare",
          "Fare",
          "Fare",
          "Fare",
          "Fare",
          "Fare",
          "Fare",
          "Fare",
          "Fare",
          "Fare",
          "Fare",
          "Fare",
          "Fare",
          "Fare",
          "Fare",
          "Fare",
          "Fare",
          "Fare",
          "Fare",
          "Fare",
          "Fare",
          "Fare",
          "Fare",
          "Fare",
          "Fare",
          "Fare",
          "Fare",
          "Fare",
          "Fare",
          "Fare",
          "Fare",
          "Fare",
          "Fare",
          "Fare",
          "Fare",
          "Fare",
          "Fare",
          "Fare",
          "Fare",
          "Fare",
          "Fare",
          "Fare",
          "Fare",
          "Fare",
          "Fare",
          "Fare",
          "Fare",
          "Fare",
          "Fare",
          "Fare",
          "Fare",
          "Fare",
          "Fare",
          "Fare",
          "Fare",
          "Fare",
          "Fare",
          "Fare",
          "Fare",
          "Fare",
          "Fare",
          "Fare",
          "Fare",
          "Fare",
          "Fare",
          "Fare",
          "Fare",
          "Fare",
          "Fare",
          "Fare",
          "Fare",
          "Fare",
          "Fare",
          "Fare",
          "Fare",
          "Fare",
          "Fare",
          "Fare",
          "Fare",
          "Fare",
          "Fare",
          "Fare",
          "Fare",
          "Fare",
          "Fare",
          "Fare",
          "Fare",
          "Fare",
          "Fare",
          "Fare",
          "Fare",
          "Fare",
          "Fare",
          "Fare",
          "Fare",
          "Fare",
          "Fare",
          "Fare",
          "Fare",
          "Fare",
          "Fare",
          "Fare",
          "Fare",
          "Fare",
          "Fare",
          "Fare",
          "Fare",
          "Fare",
          "Fare",
          "Fare",
          "Fare",
          "Fare",
          "Fare",
          "Fare",
          "Fare",
          "Fare",
          "Fare",
          "Fare",
          "Fare",
          "Fare",
          "Fare",
          "Fare",
          "Fare",
          "Fare",
          "Fare",
          "Fare",
          "Fare",
          "Fare",
          "Fare",
          "Fare",
          "Fare",
          "Fare",
          "Fare",
          "Fare",
          "Fare",
          "Fare",
          "Fare",
          "Fare",
          "Fare",
          "Fare",
          "Fare",
          "Fare",
          "Fare",
          "Fare",
          "Fare",
          "Fare",
          "Fare",
          "Fare",
          "Fare",
          "Fare",
          "Fare",
          "Fare",
          "Fare",
          "Fare",
          "Fare",
          "Fare",
          "Fare",
          "Fare",
          "Fare",
          "Fare",
          "Fare",
          "Fare",
          "Fare",
          "Fare",
          "Fare",
          "Fare",
          "Fare",
          "Fare",
          "Fare",
          "Fare",
          "Fare",
          "Fare",
          "Fare",
          "Fare",
          "Fare",
          "Fare",
          "Fare",
          "Fare",
          "Fare",
          "Fare",
          "Fare",
          "Fare",
          "Fare",
          "Fare",
          "Fare",
          "Fare",
          "Fare",
          "Fare",
          "Fare",
          "Fare",
          "Fare",
          "Fare",
          "Fare",
          "Fare",
          "Fare",
          "Fare",
          "Fare",
          "Fare",
          "Fare",
          "Fare",
          "Fare",
          "Fare",
          "Fare",
          "Fare",
          "Fare",
          "Fare",
          "Fare",
          "Fare",
          "Fare",
          "Fare",
          "Fare",
          "Fare",
          "Fare",
          "Fare",
          "Fare",
          "Fare",
          "Fare",
          "Fare",
          "Fare",
          "Fare",
          "Fare",
          "Fare",
          "Fare",
          "Fare",
          "Fare",
          "Fare",
          "Fare",
          "Fare",
          "Fare",
          "Fare",
          "Fare",
          "Fare",
          "Fare",
          "Fare",
          "Fare",
          "Fare",
          "Fare",
          "Fare",
          "Fare",
          "Fare",
          "Fare",
          "Fare",
          "Fare",
          "Fare",
          "Fare",
          "Fare",
          "Fare",
          "Fare",
          "Fare",
          "Fare",
          "Fare",
          "Fare",
          "Fare",
          "Fare",
          "Fare",
          "Fare",
          "Fare",
          "Fare",
          "Fare",
          "Fare",
          "Fare",
          "Fare",
          "Fare",
          "Fare",
          "Fare",
          "Fare",
          "Fare",
          "Fare",
          "Fare",
          "Fare",
          "Fare",
          "Fare",
          "Fare",
          "Fare",
          "Fare",
          "Fare",
          "Fare",
          "Fare",
          "Fare",
          "Fare",
          "Fare",
          "Fare",
          "Fare",
          "Fare",
          "Fare",
          "Fare",
          "Fare",
          "Fare",
          "Fare",
          "Fare",
          "Fare",
          "Fare",
          "Fare",
          "Fare",
          "Fare",
          "Fare",
          "Fare",
          "Fare",
          "Fare",
          "Fare",
          "Fare",
          "Fare",
          "Fare",
          "Fare",
          "Fare",
          "Fare",
          "Fare",
          "Fare",
          "Fare",
          "Fare",
          "Fare",
          "Fare",
          "Fare",
          "Fare",
          "Fare",
          "Fare",
          "Fare",
          "Fare",
          "Fare",
          "Fare",
          "Fare",
          "Fare",
          "Fare",
          "Fare",
          "Fare",
          "Fare",
          "Fare",
          "Fare",
          "Fare",
          "Fare",
          "Fare",
          "Fare",
          "Fare",
          "Fare",
          "Fare",
          "Fare",
          "Fare",
          "Fare",
          "Fare",
          "Fare",
          "Fare",
          "Fare",
          "Fare",
          "Fare",
          "Fare",
          "Fare",
          "Fare",
          "Fare",
          "Fare",
          "Fare",
          "Fare",
          "Fare",
          "Fare",
          "Fare",
          "Fare",
          "Fare",
          "Fare",
          "Fare",
          "Fare",
          "Fare",
          "Fare",
          "Fare",
          "Fare",
          "Fare",
          "Fare",
          "Fare",
          "Fare",
          "Fare",
          "Fare",
          "Fare",
          "Fare",
          "Fare",
          "Fare",
          "Fare",
          "Fare",
          "Fare",
          "Fare",
          "Fare",
          "Fare",
          "Fare",
          "Fare",
          "Fare",
          "Fare",
          "Fare",
          "Fare",
          "Fare",
          "Fare",
          "Fare",
          "Fare",
          "Fare",
          "Fare",
          "Fare",
          "Fare",
          "Fare",
          "Fare",
          "Fare",
          "Fare",
          "Fare",
          "Fare",
          "Fare",
          "Fare",
          "Fare",
          "Fare",
          "Fare",
          "Fare",
          "Fare",
          "Fare",
          "Fare",
          "Fare",
          "Fare",
          "Fare",
          "Fare",
          "Fare",
          "Fare",
          "Fare",
          "Fare",
          "Fare",
          "Fare",
          "Fare",
          "Fare",
          "Fare",
          "Fare",
          "Fare",
          "Fare",
          "Fare",
          "Fare",
          "Fare",
          "Fare",
          "Fare",
          "Fare",
          "Fare",
          "Fare",
          "Fare",
          "Fare",
          "Fare",
          "Fare",
          "Fare",
          "Fare",
          "Fare",
          "Fare",
          "Fare",
          "Fare",
          "Fare",
          "Fare",
          "Fare",
          "Fare",
          "Fare",
          "Fare",
          "Fare",
          "Fare",
          "Fare",
          "Fare",
          "Fare",
          "Fare",
          "Fare",
          "Fare",
          "Fare",
          "Fare",
          "Fare",
          "Fare",
          "Fare",
          "Fare",
          "Fare",
          "Fare",
          "Fare",
          "Fare",
          "Fare",
          "Fare",
          "Fare",
          "Fare",
          "Fare",
          "Fare",
          "Fare",
          "Fare",
          "Fare",
          "Fare",
          "Fare",
          "Fare",
          "Fare",
          "Fare",
          "Fare",
          "Fare",
          "Fare",
          "Fare",
          "Fare",
          "Fare",
          "Fare",
          "Fare",
          "Fare",
          "Fare",
          "Fare",
          "Fare",
          "Fare",
          "Fare",
          "Fare",
          "Fare",
          "Fare",
          "Fare",
          "Fare",
          "Fare",
          "Fare",
          "Fare",
          "Fare",
          "Fare",
          "Fare",
          "Fare",
          "Fare",
          "Fare",
          "Fare",
          "Fare",
          "Fare",
          "Fare",
          "Fare",
          "Fare",
          "Fare",
          "Fare",
          "Fare",
          "Fare",
          "Fare",
          "Fare",
          "Fare",
          "Fare",
          "Fare",
          "Fare",
          "Fare",
          "Fare",
          "Fare",
          "Fare",
          "Fare",
          "Fare",
          "Fare",
          "Fare",
          "Fare",
          "Fare",
          "Fare",
          "Fare",
          "Fare",
          "Fare",
          "Fare",
          "Fare",
          "Fare",
          "Fare",
          "Fare",
          "Fare",
          "Fare",
          "Fare",
          "Fare",
          "Fare",
          "Fare",
          "Fare",
          "Fare",
          "Fare",
          "Fare",
          "Fare",
          "Fare",
          "Fare",
          "Fare",
          "Fare",
          "Fare",
          "Fare",
          "Fare",
          "Fare",
          "Fare",
          "Fare",
          "Fare",
          "Fare",
          "Fare",
          "Fare",
          "Fare",
          "Fare",
          "Fare",
          "Fare",
          "Fare",
          "Fare",
          "Fare",
          "Fare",
          "Fare",
          "Fare",
          "Fare",
          "Fare",
          "Fare",
          "Fare",
          "Fare",
          "Fare",
          "Fare",
          "Fare",
          "Fare",
          "Fare",
          "Fare",
          "Fare",
          "Fare",
          "Fare",
          "Fare",
          "Fare",
          "Fare",
          "Fare",
          "Fare",
          "Fare",
          "Fare",
          "Fare",
          "Fare",
          "Fare",
          "Fare",
          "Fare",
          "Fare",
          "Fare",
          "Fare",
          "Fare",
          "Fare",
          "Fare",
          "Fare",
          "Fare",
          "Fare",
          "Fare",
          "Fare",
          "Fare",
          "Fare",
          "Fare",
          "Fare",
          "Fare",
          "Fare",
          "Fare",
          "Fare",
          "Fare",
          "Fare",
          "Fare",
          "Fare",
          "Fare",
          "Fare",
          "Fare",
          "Fare",
          "Fare",
          "Fare",
          "Fare",
          "Fare",
          "Fare",
          "Fare",
          "Fare",
          "Fare",
          "Fare",
          "Fare",
          "Fare",
          "Fare",
          "Fare",
          "Fare",
          "Fare",
          "Fare",
          "Fare",
          "Fare",
          "Fare",
          "Fare",
          "Fare",
          "Fare",
          "Fare",
          "Fare",
          "Fare",
          "Fare",
          "Fare",
          "Fare",
          "Fare",
          "Fare",
          "Fare",
          "Fare",
          "Fare",
          "Fare",
          "Fare",
          "Fare",
          "Fare",
          "Fare",
          "Fare",
          "Fare",
          "Fare",
          "Fare",
          "Fare",
          "Fare",
          "Fare",
          "Fare",
          "Fare",
          "Fare",
          "Fare",
          "Fare",
          "Fare",
          "Fare",
          "Fare",
          "Fare",
          "Fare",
          "Fare",
          "Fare",
          "Fare",
          "Fare",
          "Fare",
          "Fare",
          "Fare",
          "Fare",
          "Fare",
          "Fare",
          "Fare",
          "Fare",
          "Fare",
          "Fare"
         ],
         "yaxis": "y2"
        }
       ],
       "layout": {
        "barmode": "overlay",
        "hovermode": "closest",
        "legend": {
         "traceorder": "reversed"
        },
        "template": {
         "data": {
          "bar": [
           {
            "error_x": {
             "color": "#2a3f5f"
            },
            "error_y": {
             "color": "#2a3f5f"
            },
            "marker": {
             "line": {
              "color": "#E5ECF6",
              "width": 0.5
             },
             "pattern": {
              "fillmode": "overlay",
              "size": 10,
              "solidity": 0.2
             }
            },
            "type": "bar"
           }
          ],
          "barpolar": [
           {
            "marker": {
             "line": {
              "color": "#E5ECF6",
              "width": 0.5
             },
             "pattern": {
              "fillmode": "overlay",
              "size": 10,
              "solidity": 0.2
             }
            },
            "type": "barpolar"
           }
          ],
          "carpet": [
           {
            "aaxis": {
             "endlinecolor": "#2a3f5f",
             "gridcolor": "white",
             "linecolor": "white",
             "minorgridcolor": "white",
             "startlinecolor": "#2a3f5f"
            },
            "baxis": {
             "endlinecolor": "#2a3f5f",
             "gridcolor": "white",
             "linecolor": "white",
             "minorgridcolor": "white",
             "startlinecolor": "#2a3f5f"
            },
            "type": "carpet"
           }
          ],
          "choropleth": [
           {
            "colorbar": {
             "outlinewidth": 0,
             "ticks": ""
            },
            "type": "choropleth"
           }
          ],
          "contour": [
           {
            "colorbar": {
             "outlinewidth": 0,
             "ticks": ""
            },
            "colorscale": [
             [
              0,
              "#0d0887"
             ],
             [
              0.1111111111111111,
              "#46039f"
             ],
             [
              0.2222222222222222,
              "#7201a8"
             ],
             [
              0.3333333333333333,
              "#9c179e"
             ],
             [
              0.4444444444444444,
              "#bd3786"
             ],
             [
              0.5555555555555556,
              "#d8576b"
             ],
             [
              0.6666666666666666,
              "#ed7953"
             ],
             [
              0.7777777777777778,
              "#fb9f3a"
             ],
             [
              0.8888888888888888,
              "#fdca26"
             ],
             [
              1,
              "#f0f921"
             ]
            ],
            "type": "contour"
           }
          ],
          "contourcarpet": [
           {
            "colorbar": {
             "outlinewidth": 0,
             "ticks": ""
            },
            "type": "contourcarpet"
           }
          ],
          "heatmap": [
           {
            "colorbar": {
             "outlinewidth": 0,
             "ticks": ""
            },
            "colorscale": [
             [
              0,
              "#0d0887"
             ],
             [
              0.1111111111111111,
              "#46039f"
             ],
             [
              0.2222222222222222,
              "#7201a8"
             ],
             [
              0.3333333333333333,
              "#9c179e"
             ],
             [
              0.4444444444444444,
              "#bd3786"
             ],
             [
              0.5555555555555556,
              "#d8576b"
             ],
             [
              0.6666666666666666,
              "#ed7953"
             ],
             [
              0.7777777777777778,
              "#fb9f3a"
             ],
             [
              0.8888888888888888,
              "#fdca26"
             ],
             [
              1,
              "#f0f921"
             ]
            ],
            "type": "heatmap"
           }
          ],
          "heatmapgl": [
           {
            "colorbar": {
             "outlinewidth": 0,
             "ticks": ""
            },
            "colorscale": [
             [
              0,
              "#0d0887"
             ],
             [
              0.1111111111111111,
              "#46039f"
             ],
             [
              0.2222222222222222,
              "#7201a8"
             ],
             [
              0.3333333333333333,
              "#9c179e"
             ],
             [
              0.4444444444444444,
              "#bd3786"
             ],
             [
              0.5555555555555556,
              "#d8576b"
             ],
             [
              0.6666666666666666,
              "#ed7953"
             ],
             [
              0.7777777777777778,
              "#fb9f3a"
             ],
             [
              0.8888888888888888,
              "#fdca26"
             ],
             [
              1,
              "#f0f921"
             ]
            ],
            "type": "heatmapgl"
           }
          ],
          "histogram": [
           {
            "marker": {
             "pattern": {
              "fillmode": "overlay",
              "size": 10,
              "solidity": 0.2
             }
            },
            "type": "histogram"
           }
          ],
          "histogram2d": [
           {
            "colorbar": {
             "outlinewidth": 0,
             "ticks": ""
            },
            "colorscale": [
             [
              0,
              "#0d0887"
             ],
             [
              0.1111111111111111,
              "#46039f"
             ],
             [
              0.2222222222222222,
              "#7201a8"
             ],
             [
              0.3333333333333333,
              "#9c179e"
             ],
             [
              0.4444444444444444,
              "#bd3786"
             ],
             [
              0.5555555555555556,
              "#d8576b"
             ],
             [
              0.6666666666666666,
              "#ed7953"
             ],
             [
              0.7777777777777778,
              "#fb9f3a"
             ],
             [
              0.8888888888888888,
              "#fdca26"
             ],
             [
              1,
              "#f0f921"
             ]
            ],
            "type": "histogram2d"
           }
          ],
          "histogram2dcontour": [
           {
            "colorbar": {
             "outlinewidth": 0,
             "ticks": ""
            },
            "colorscale": [
             [
              0,
              "#0d0887"
             ],
             [
              0.1111111111111111,
              "#46039f"
             ],
             [
              0.2222222222222222,
              "#7201a8"
             ],
             [
              0.3333333333333333,
              "#9c179e"
             ],
             [
              0.4444444444444444,
              "#bd3786"
             ],
             [
              0.5555555555555556,
              "#d8576b"
             ],
             [
              0.6666666666666666,
              "#ed7953"
             ],
             [
              0.7777777777777778,
              "#fb9f3a"
             ],
             [
              0.8888888888888888,
              "#fdca26"
             ],
             [
              1,
              "#f0f921"
             ]
            ],
            "type": "histogram2dcontour"
           }
          ],
          "mesh3d": [
           {
            "colorbar": {
             "outlinewidth": 0,
             "ticks": ""
            },
            "type": "mesh3d"
           }
          ],
          "parcoords": [
           {
            "line": {
             "colorbar": {
              "outlinewidth": 0,
              "ticks": ""
             }
            },
            "type": "parcoords"
           }
          ],
          "pie": [
           {
            "automargin": true,
            "type": "pie"
           }
          ],
          "scatter": [
           {
            "fillpattern": {
             "fillmode": "overlay",
             "size": 10,
             "solidity": 0.2
            },
            "type": "scatter"
           }
          ],
          "scatter3d": [
           {
            "line": {
             "colorbar": {
              "outlinewidth": 0,
              "ticks": ""
             }
            },
            "marker": {
             "colorbar": {
              "outlinewidth": 0,
              "ticks": ""
             }
            },
            "type": "scatter3d"
           }
          ],
          "scattercarpet": [
           {
            "marker": {
             "colorbar": {
              "outlinewidth": 0,
              "ticks": ""
             }
            },
            "type": "scattercarpet"
           }
          ],
          "scattergeo": [
           {
            "marker": {
             "colorbar": {
              "outlinewidth": 0,
              "ticks": ""
             }
            },
            "type": "scattergeo"
           }
          ],
          "scattergl": [
           {
            "marker": {
             "colorbar": {
              "outlinewidth": 0,
              "ticks": ""
             }
            },
            "type": "scattergl"
           }
          ],
          "scattermapbox": [
           {
            "marker": {
             "colorbar": {
              "outlinewidth": 0,
              "ticks": ""
             }
            },
            "type": "scattermapbox"
           }
          ],
          "scatterpolar": [
           {
            "marker": {
             "colorbar": {
              "outlinewidth": 0,
              "ticks": ""
             }
            },
            "type": "scatterpolar"
           }
          ],
          "scatterpolargl": [
           {
            "marker": {
             "colorbar": {
              "outlinewidth": 0,
              "ticks": ""
             }
            },
            "type": "scatterpolargl"
           }
          ],
          "scatterternary": [
           {
            "marker": {
             "colorbar": {
              "outlinewidth": 0,
              "ticks": ""
             }
            },
            "type": "scatterternary"
           }
          ],
          "surface": [
           {
            "colorbar": {
             "outlinewidth": 0,
             "ticks": ""
            },
            "colorscale": [
             [
              0,
              "#0d0887"
             ],
             [
              0.1111111111111111,
              "#46039f"
             ],
             [
              0.2222222222222222,
              "#7201a8"
             ],
             [
              0.3333333333333333,
              "#9c179e"
             ],
             [
              0.4444444444444444,
              "#bd3786"
             ],
             [
              0.5555555555555556,
              "#d8576b"
             ],
             [
              0.6666666666666666,
              "#ed7953"
             ],
             [
              0.7777777777777778,
              "#fb9f3a"
             ],
             [
              0.8888888888888888,
              "#fdca26"
             ],
             [
              1,
              "#f0f921"
             ]
            ],
            "type": "surface"
           }
          ],
          "table": [
           {
            "cells": {
             "fill": {
              "color": "#EBF0F8"
             },
             "line": {
              "color": "white"
             }
            },
            "header": {
             "fill": {
              "color": "#C8D4E3"
             },
             "line": {
              "color": "white"
             }
            },
            "type": "table"
           }
          ]
         },
         "layout": {
          "annotationdefaults": {
           "arrowcolor": "#2a3f5f",
           "arrowhead": 0,
           "arrowwidth": 1
          },
          "autotypenumbers": "strict",
          "coloraxis": {
           "colorbar": {
            "outlinewidth": 0,
            "ticks": ""
           }
          },
          "colorscale": {
           "diverging": [
            [
             0,
             "#8e0152"
            ],
            [
             0.1,
             "#c51b7d"
            ],
            [
             0.2,
             "#de77ae"
            ],
            [
             0.3,
             "#f1b6da"
            ],
            [
             0.4,
             "#fde0ef"
            ],
            [
             0.5,
             "#f7f7f7"
            ],
            [
             0.6,
             "#e6f5d0"
            ],
            [
             0.7,
             "#b8e186"
            ],
            [
             0.8,
             "#7fbc41"
            ],
            [
             0.9,
             "#4d9221"
            ],
            [
             1,
             "#276419"
            ]
           ],
           "sequential": [
            [
             0,
             "#0d0887"
            ],
            [
             0.1111111111111111,
             "#46039f"
            ],
            [
             0.2222222222222222,
             "#7201a8"
            ],
            [
             0.3333333333333333,
             "#9c179e"
            ],
            [
             0.4444444444444444,
             "#bd3786"
            ],
            [
             0.5555555555555556,
             "#d8576b"
            ],
            [
             0.6666666666666666,
             "#ed7953"
            ],
            [
             0.7777777777777778,
             "#fb9f3a"
            ],
            [
             0.8888888888888888,
             "#fdca26"
            ],
            [
             1,
             "#f0f921"
            ]
           ],
           "sequentialminus": [
            [
             0,
             "#0d0887"
            ],
            [
             0.1111111111111111,
             "#46039f"
            ],
            [
             0.2222222222222222,
             "#7201a8"
            ],
            [
             0.3333333333333333,
             "#9c179e"
            ],
            [
             0.4444444444444444,
             "#bd3786"
            ],
            [
             0.5555555555555556,
             "#d8576b"
            ],
            [
             0.6666666666666666,
             "#ed7953"
            ],
            [
             0.7777777777777778,
             "#fb9f3a"
            ],
            [
             0.8888888888888888,
             "#fdca26"
            ],
            [
             1,
             "#f0f921"
            ]
           ]
          },
          "colorway": [
           "#636efa",
           "#EF553B",
           "#00cc96",
           "#ab63fa",
           "#FFA15A",
           "#19d3f3",
           "#FF6692",
           "#B6E880",
           "#FF97FF",
           "#FECB52"
          ],
          "font": {
           "color": "#2a3f5f"
          },
          "geo": {
           "bgcolor": "white",
           "lakecolor": "white",
           "landcolor": "#E5ECF6",
           "showlakes": true,
           "showland": true,
           "subunitcolor": "white"
          },
          "hoverlabel": {
           "align": "left"
          },
          "hovermode": "closest",
          "mapbox": {
           "style": "light"
          },
          "paper_bgcolor": "white",
          "plot_bgcolor": "#E5ECF6",
          "polar": {
           "angularaxis": {
            "gridcolor": "white",
            "linecolor": "white",
            "ticks": ""
           },
           "bgcolor": "#E5ECF6",
           "radialaxis": {
            "gridcolor": "white",
            "linecolor": "white",
            "ticks": ""
           }
          },
          "scene": {
           "xaxis": {
            "backgroundcolor": "#E5ECF6",
            "gridcolor": "white",
            "gridwidth": 2,
            "linecolor": "white",
            "showbackground": true,
            "ticks": "",
            "zerolinecolor": "white"
           },
           "yaxis": {
            "backgroundcolor": "#E5ECF6",
            "gridcolor": "white",
            "gridwidth": 2,
            "linecolor": "white",
            "showbackground": true,
            "ticks": "",
            "zerolinecolor": "white"
           },
           "zaxis": {
            "backgroundcolor": "#E5ECF6",
            "gridcolor": "white",
            "gridwidth": 2,
            "linecolor": "white",
            "showbackground": true,
            "ticks": "",
            "zerolinecolor": "white"
           }
          },
          "shapedefaults": {
           "line": {
            "color": "#2a3f5f"
           }
          },
          "ternary": {
           "aaxis": {
            "gridcolor": "white",
            "linecolor": "white",
            "ticks": ""
           },
           "baxis": {
            "gridcolor": "white",
            "linecolor": "white",
            "ticks": ""
           },
           "bgcolor": "#E5ECF6",
           "caxis": {
            "gridcolor": "white",
            "linecolor": "white",
            "ticks": ""
           }
          },
          "title": {
           "x": 0.05
          },
          "xaxis": {
           "automargin": true,
           "gridcolor": "white",
           "linecolor": "white",
           "ticks": "",
           "title": {
            "standoff": 15
           },
           "zerolinecolor": "white",
           "zerolinewidth": 2
          },
          "yaxis": {
           "automargin": true,
           "gridcolor": "white",
           "linecolor": "white",
           "ticks": "",
           "title": {
            "standoff": 15
           },
           "zerolinecolor": "white",
           "zerolinewidth": 2
          }
         }
        },
        "title": {
         "text": "Fare Distribution"
        },
        "xaxis": {
         "anchor": "y2",
         "domain": [
          0,
          1
         ],
         "zeroline": false
        },
        "yaxis": {
         "anchor": "free",
         "domain": [
          0.35,
          1
         ],
         "position": 0
        },
        "yaxis2": {
         "anchor": "x",
         "domain": [
          0,
          0.25
         ],
         "dtick": 1,
         "showticklabels": false
        }
       }
      },
      "text/html": [
       "<div>                            <div id=\"08f31a95-14a6-4333-b854-3db542531ca9\" class=\"plotly-graph-div\" style=\"height:525px; width:100%;\"></div>            <script type=\"text/javascript\">                require([\"plotly\"], function(Plotly) {                    window.PLOTLYENV=window.PLOTLYENV || {};                                    if (document.getElementById(\"08f31a95-14a6-4333-b854-3db542531ca9\")) {                    Plotly.newPlot(                        \"08f31a95-14a6-4333-b854-3db542531ca9\",                        [{\"autobinx\":false,\"histnorm\":\"probability density\",\"legendgroup\":\"Fare\",\"marker\":{\"color\":\"rgb(31, 119, 180)\"},\"name\":\"Fare\",\"opacity\":0.7,\"x\":[7.25,71.2833,7.925,53.1,8.05,8.4583,51.8625,21.075,11.1333,30.0708,16.7,26.55,8.05,31.275,7.8542,16.0,29.125,13.0,18.0,7.225,26.0,13.0,8.0292,35.5,21.075,31.3875,7.225,263.0,7.8792,7.8958,27.7208,146.5208,7.75,10.5,82.1708,52.0,7.2292,8.05,18.0,11.2417,9.475,21.0,7.8958,41.5792,7.8792,8.05,15.5,7.75,21.6792,17.8,39.6875,7.8,76.7292,26.0,61.9792,35.5,10.5,7.2292,27.75,46.9,7.2292,80.0,83.475,27.9,27.7208,15.2458,10.5,8.1583,7.925,8.6625,10.5,46.9,73.5,14.4542,56.4958,7.65,7.8958,8.05,29.0,12.475,9.0,9.5,7.7875,47.1,10.5,15.85,34.375,8.05,263.0,8.05,8.05,7.8542,61.175,20.575,7.25,8.05,34.6542,63.3583,23.0,26.0,7.8958,7.8958,77.2875,8.6542,7.925,7.8958,7.65,7.775,7.8958,24.15,52.0,14.4542,8.05,9.825,14.4583,7.925,7.75,21.0,247.5208,31.275,73.5,8.05,30.0708,13.0,77.2875,11.2417,7.75,7.1417,22.3583,6.975,7.8958,7.05,14.5,26.0,13.0,15.0458,26.2833,53.1,9.2167,79.2,15.2458,7.75,15.85,6.75,11.5,36.75,7.7958,34.375,26.0,13.0,12.525,66.6,8.05,14.5,7.3125,61.3792,7.7333,8.05,8.6625,69.55,16.1,15.75,7.775,8.6625,39.6875,20.525,55.0,27.9,25.925,56.4958,33.5,29.125,11.1333,7.925,30.6958,7.8542,25.4667,28.7125,13.0,0.0,69.55,15.05,31.3875,39.0,22.025,50.0,15.5,26.55,15.5,7.8958,13.0,13.0,7.8542,26.0,27.7208,146.5208,7.75,8.4042,7.75,13.0,9.5,69.55,6.4958,7.225,8.05,10.4625,15.85,18.7875,7.75,31.0,7.05,21.0,7.25,13.0,7.75,113.275,7.925,27.0,76.2917,10.5,8.05,13.0,8.05,7.8958,90.0,9.35,10.5,7.25,13.0,25.4667,83.475,7.775,13.5,31.3875,10.5,7.55,26.0,26.25,10.5,12.275,14.4542,15.5,10.5,7.125,7.225,90.0,7.775,14.5,52.5542,26.0,7.25,10.4625,26.55,16.1,20.2125,15.2458,79.2,86.5,512.3292,26.0,7.75,31.3875,79.65,0.0,7.75,10.5,39.6875,7.775,153.4625,135.6333,31.0,0.0,19.5,29.7,7.75,77.9583,7.75,0.0,29.125,20.25,7.75,7.8542,9.5,8.05,26.0,8.6625,9.5,7.8958,13.0,7.75,78.85,91.0792,12.875,8.85,7.8958,27.7208,7.2292,151.55,30.5,247.5208,7.75,23.25,0.0,12.35,8.05,151.55,110.8833,108.9,24.0,56.9292,83.1583,262.375,26.0,7.8958,26.25,7.8542,26.0,14.0,164.8667,134.5,7.25,7.8958,12.35,29.0,69.55,135.6333,6.2375,13.0,20.525,57.9792,23.25,28.5,153.4625,18.0,133.65,7.8958,66.6,134.5,8.05,35.5,26.0,263.0,13.0,13.0,13.0,13.0,13.0,16.1,15.9,8.6625,9.225,35.0,7.2292,17.8,7.225,9.5,55.0,13.0,7.8792,7.8792,27.9,27.7208,14.4542,7.05,15.5,7.25,75.25,7.2292,7.75,69.3,55.4417,6.4958,8.05,135.6333,21.075,82.1708,7.25,211.5,4.0125,7.775,227.525,15.7417,7.925,52.0,7.8958,73.5,46.9,13.0,7.7292,12.0,120.0,7.7958,7.925,113.275,16.7,7.7958,7.8542,26.0,10.5,12.65,7.925,8.05,9.825,15.85,8.6625,21.0,7.75,18.75,7.775,25.4667,7.8958,6.8583,90.0,0.0,7.925,8.05,32.5,13.0,13.0,24.15,7.8958,7.7333,7.875,14.4,20.2125,7.25,26.0,26.0,7.75,8.05,26.55,16.1,26.0,7.125,55.9,120.0,34.375,18.75,263.0,10.5,26.25,9.5,7.775,13.0,8.1125,81.8583,19.5,26.55,19.2583,30.5,27.75,19.9667,27.75,89.1042,8.05,7.8958,26.55,51.8625,10.5,7.75,26.55,8.05,38.5,13.0,8.05,7.05,0.0,26.55,7.725,19.2583,7.25,8.6625,27.75,13.7917,9.8375,52.0,21.0,7.0458,7.5208,12.2875,46.9,0.0,8.05,9.5875,91.0792,25.4667,90.0,29.7,8.05,15.9,19.9667,7.25,30.5,49.5042,8.05,14.4583,78.2667,15.1,151.55,7.7958,8.6625,7.75,7.6292,9.5875,86.5,108.9,26.0,26.55,22.525,56.4958,7.75,8.05,26.2875,59.4,7.4958,34.0208,10.5,24.15,26.0,7.8958,93.5,7.8958,7.225,57.9792,7.2292,7.75,10.5,221.7792,7.925,11.5,26.0,7.2292,7.2292,22.3583,8.6625,26.25,26.55,106.425,14.5,49.5,71.0,31.275,31.275,26.0,106.425,26.0,26.0,13.8625,20.525,36.75,110.8833,26.0,7.8292,7.225,7.775,26.55,39.6,227.525,79.65,17.4,7.75,7.8958,13.5,8.05,8.05,24.15,7.8958,21.075,7.2292,7.8542,10.5,51.4792,26.3875,7.75,8.05,14.5,13.0,55.9,14.4583,7.925,30.0,110.8833,26.0,40.125,8.7125,79.65,15.0,79.2,8.05,8.05,7.125,78.2667,7.25,7.75,26.0,24.15,33.0,0.0,7.225,56.9292,27.0,7.8958,42.4,8.05,26.55,15.55,7.8958,30.5,41.5792,153.4625,31.275,7.05,15.5,7.75,8.05,65.0,14.4,16.1,39.0,10.5,14.4542,52.5542,15.7417,7.8542,16.1,32.3208,12.35,77.9583,7.8958,7.7333,30.0,7.0542,30.5,0.0,27.9,13.0,7.925,26.25,39.6875,16.1,7.8542,69.3,27.9,56.4958,19.2583,76.7292,7.8958,35.5,7.55,7.55,7.8958,23.0,8.4333,7.8292,6.75,73.5,7.8958,15.5,13.0,113.275,133.65,7.225,25.5875,7.4958,7.925,73.5,13.0,7.775,8.05,52.0,39.0,52.0,10.5,13.0,0.0,7.775,8.05,9.8417,46.9,512.3292,8.1375,76.7292,9.225,46.9,39.0,41.5792,39.6875,10.1708,7.7958,211.3375,57.0,13.4167,56.4958,7.225,26.55,13.5,8.05,7.7333,110.8833,7.65,227.525,26.2875,14.4542,7.7417,7.8542,26.0,13.5,26.2875,151.55,15.2458,49.5042,26.55,52.0,9.4833,13.0,7.65,227.525,10.5,15.5,7.775,33.0,7.0542,13.0,13.0,53.1,8.6625,21.0,7.7375,26.0,7.925,211.3375,18.7875,0.0,13.0,13.0,16.1,34.375,512.3292,7.8958,7.8958,30.0,78.85,262.375,16.1,7.925,71.0,20.25,13.0,53.1,7.75,23.0,12.475,9.5,7.8958,65.0,14.5,7.7958,11.5,8.05,86.5,14.5,7.125,7.2292,120.0,7.775,77.9583,39.6,7.75,24.15,8.3625,9.5,7.8542,10.5,7.225,23.0,7.75,7.75,12.475,7.7375,211.3375,7.2292,57.0,30.0,23.45,7.05,7.25,7.4958,29.125,20.575,79.2,7.75,26.0,69.55,30.6958,7.8958,13.0,25.9292,8.6833,7.2292,24.15,13.0,26.25,120.0,8.5167,6.975,7.775,0.0,7.775,13.0,53.1,7.8875,24.15,10.5,31.275,8.05,0.0,7.925,37.0042,6.45,27.9,93.5,8.6625,0.0,12.475,39.6875,6.95,56.4958,37.0042,7.75,80.0,14.4542,18.75,7.2292,7.8542,8.3,83.1583,8.6625,8.05,56.4958,29.7,7.925,10.5,31.0,6.4375,8.6625,7.55,69.55,7.8958,33.0,89.1042,31.275,7.775,15.2458,39.4,26.0,9.35,164.8667,26.55,19.2583,7.2292,14.1083,11.5,25.9292,69.55,13.0,13.0,13.8583,50.4958,9.5,11.1333,7.8958,52.5542,5.0,9.0,24.0,7.225,9.8458,7.8958,7.8958,83.1583,26.0,7.8958,10.5167,10.5,7.05,29.125,13.0,30.0,23.45,30.0,7.75],\"xaxis\":\"x\",\"xbins\":{\"end\":512.3292,\"size\":10,\"start\":0.0},\"yaxis\":\"y\",\"type\":\"histogram\"},{\"legendgroup\":\"Fare\",\"marker\":{\"color\":\"rgb(31, 119, 180)\"},\"mode\":\"lines\",\"name\":\"Fare\",\"showlegend\":false,\"x\":[0.0,1.0246584,2.0493168,3.0739752,4.0986336,5.123292,6.1479504,7.1726088,8.1972672,9.2219256,10.246584,11.2712424,12.2959008,13.3205592,14.3452176,15.369876,16.3945344,17.4191928,18.4438512,19.4685096,20.493168,21.5178264,22.5424848,23.567143200000004,24.5918016,25.61646,26.6411184,27.6657768,28.6904352,29.7150936,30.739752,31.7644104,32.7890688,33.8137272,34.8383856,35.863044,36.8877024,37.9123608,38.9370192,39.9616776,40.986336,42.0109944,43.0356528,44.0603112,45.0849696,46.109628,47.13428640000001,48.15894480000001,49.1836032,50.2082616,51.23292,52.2575784,53.2822368,54.3068952,55.3315536,56.356212,57.3808704,58.4055288,59.4301872,60.4548456,61.479504,62.5041624,63.5288208,64.5534792,65.5781376,66.602796,67.6274544,68.6521128,69.6767712,70.7014296,71.726088,72.7507464,73.7754048,74.80006320000001,75.8247216,76.84938000000001,77.8740384,78.89869680000001,79.9233552,80.94801360000001,81.972672,82.99733040000001,84.0219888,85.04664720000001,86.0713056,87.09596400000001,88.1206224,89.14528080000001,90.1699392,91.19459760000001,92.219256,93.24391440000001,94.26857280000002,95.29323120000001,96.31788960000002,97.34254800000001,98.3672064,99.3918648,100.4165232,101.4411816,102.46584,103.49049839999999,104.5151568,105.53981519999999,106.5644736,107.58913199999999,108.6137904,109.63844879999999,110.6631072,111.6877656,112.712424,113.7370824,114.7617408,115.7863992,116.8110576,117.835716,118.8603744,119.8850328,120.9096912,121.9343496,122.959008,123.9836664,125.0083248,126.0329832,127.0576416,128.0823,129.1069584,130.13161680000002,131.1562752,132.1809336,133.205592,134.2302504,135.2549088,136.2795672,137.3042256,138.328884,139.3535424,140.3782008,141.4028592,142.4275176,143.452176,144.4768344,145.5014928,146.5261512,147.5508096,148.575468,149.60012640000002,150.6247848,151.6494432,152.6741016,153.69876000000002,154.72341839999999,155.7480768,156.7727352,157.79739360000002,158.82205199999999,159.8467104,160.8713688,161.89602720000002,162.92068559999998,163.945344,164.9700024,165.99466080000002,167.01931919999998,168.0439776,169.068636,170.09329440000002,171.1179528,172.1426112,173.1672696,174.19192800000002,175.2165864,176.2412448,177.2659032,178.29056160000002,179.31522,180.3398784,181.3645368,182.38919520000002,183.4138536,184.438512,185.4631704,186.48782880000002,187.5124872,188.53714560000003,189.561804,190.58646240000002,191.6111208,192.63577920000003,193.6604376,194.68509600000002,195.7097544,196.7344128,197.7590712,198.7837296,199.808388,200.8330464,201.8577048,202.8823632,203.9070216,204.93168,205.95633840000002,206.98099679999999,208.0056552,209.0303136,210.05497200000002,211.07963039999999,212.1042888,213.1289472,214.15360560000002,215.17826399999998,216.2029224,217.2275808,218.25223920000002,219.27689759999998,220.301556,221.3262144,222.35087280000002,223.3755312,224.4001896,225.424848,226.44950640000002,227.4741648,228.4988232,229.5234816,230.54814000000002,231.5727984,232.5974568,233.6221152,234.64677360000002,235.671432,236.6960904,237.7207488,238.74540720000002,239.7700656,240.79472400000003,241.8193824,242.84404080000002,243.8686992,244.89335760000003,245.918016,246.94267440000002,247.9673328,248.99199120000003,250.0166496,251.04130800000001,252.0659664,253.09062480000003,254.1152832,255.13994160000001,256.1646,257.1892584,258.2139168,259.2385752,260.26323360000004,261.287892,262.3125504,263.33720880000004,264.3618672,265.38652559999997,266.411184,267.4358424,268.4605008,269.4851592,270.5098176,271.53447600000004,272.5591344,273.58379279999997,274.6084512,275.6331096,276.657768,277.6824264,278.7070848,279.73174320000004,280.7564016,281.78106,282.8057184,283.8303768,284.8550352,285.8796936,286.904352,287.92901040000004,288.9536688,289.9783272,291.0029856,292.027644,293.0523024,294.0769608,295.1016192,296.12627760000004,297.150936,298.1755944,299.20025280000004,300.2249112,301.2495696,302.274228,303.2988864,304.32354480000004,305.3482032,306.3728616,307.39752000000004,308.4221784,309.44683679999997,310.4714952,311.4961536,312.52081200000003,313.5454704,314.5701288,315.59478720000004,316.61944560000006,317.64410399999997,318.6687624,319.6934208,320.71807920000003,321.7427376,322.767396,323.79205440000004,324.81671280000006,325.84137119999997,326.8660296,327.890688,328.9153464,329.9400048,330.9646632,331.98932160000004,333.01398,334.03863839999997,335.0632968,336.0879552,337.1126136,338.137272,339.1619304,340.18658880000004,341.2112472,342.2359056,343.260564,344.2852224,345.3098808,346.3345392,347.3591976,348.38385600000004,349.4085144,350.4331728,351.4578312,352.4824896,353.507148,354.5318064,355.5564648,356.58112320000004,357.6057816,358.63044,359.65509840000004,360.6797568,361.70441519999997,362.7290736,363.753732,364.77839040000003,365.8030488,366.8277072,367.85236560000004,368.877024,369.90168239999997,370.9263408,371.9509992,372.97565760000003,374.000316,375.0249744,376.04963280000004,377.07429120000006,378.09894959999997,379.123608,380.1482664,381.17292480000003,382.1975832,383.2222416,384.24690000000004,385.27155840000006,386.29621679999997,387.3208752,388.3455336,389.37019200000003,390.3948504,391.4195088,392.44416720000004,393.4688256,394.493484,395.5181424,396.5428008,397.5674592,398.5921176,399.616776,400.64143440000004,401.6660928,402.6907512,403.7154096,404.740068,405.7647264,406.7893848,407.8140432,408.83870160000004,409.86336,410.8880184,411.91267680000004,412.9373352,413.96199359999997,414.986652,416.0113104,417.03596880000003,418.0606272,419.0852856,420.10994400000004,421.1346024,422.15926079999997,423.1839192,424.2085776,425.23323600000003,426.2578944,427.2825528,428.30721120000004,429.33186960000006,430.35652799999997,431.3811864,432.4058448,433.43050320000003,434.4551616,435.47982,436.50447840000004,437.52913680000006,438.55379519999997,439.5784536,440.603112,441.62777040000003,442.6524288,443.6770872,444.70174560000004,445.72640400000006,446.7510624,447.7757208,448.8003792,449.82503760000003,450.849696,451.8743544,452.89901280000004,453.92367120000006,454.9483296,455.972988,456.9976464,458.02230480000003,459.0469632,460.0716216,461.09628000000004,462.1209384,463.1455968,464.17025520000004,465.1949136,466.21957199999997,467.2442304,468.2688888,469.29354720000003,470.3182056,471.342864,472.36752240000004,473.3921808,474.41683919999997,475.4414976,476.466156,477.49081440000003,478.5154728,479.5401312,480.56478960000004,481.58944800000006,482.61410639999997,483.6387648,484.6634232,485.68808160000003,486.71274,487.7373984,488.76205680000004,489.78671520000006,490.81137359999997,491.836032,492.8606904,493.88534880000003,494.9100072,495.9346656,496.95932400000004,497.98398240000006,499.00864079999997,500.0332992,501.0579576,502.08261600000003,503.1072744,504.1319328,505.15659120000004,506.18124960000006,507.205908,508.2305664,509.2552248,510.27988320000003,511.3045416],\"xaxis\":\"x\",\"y\":[0.014097761631635841,0.01496018330389399,0.015789822549127936,0.016576682480197197,0.01731118159324057,0.017984383781424182,0.018588213163879194,0.019115645620190403,0.01956086984760969,0.019919412062462623,0.020188220077673943,0.020365704312915504,0.020451735226104325,0.020447598581438728,0.020355911777592387,0.020180506046977187,0.019926280616429502,0.019599035826882872,0.019205292706578492,0.018752106569505326,0.018246881886480985,0.017697194994604634,0.017110630236989468,0.01649463393939347,0.015856389322980304,0.015202714113969253,0.014539981327271767,0.013874062547214915,0.013210292063269494,0.012553449482689587,0.011907757955325417,0.011276894908951637,0.010664012188650221,0.010071762688650896,0.009502330916282069,0.008957465385701604,0.008438511252449073,0.007946442119616698,0.007481890429630119,0.007045176268065215,0.006636334723872272,0.0062551421612504635,0.005901141860480002,0.005573669486246,0.0052718787582440325,0.004994767551660598,0.004741204469186032,0.004509955727009811,0.0042997120087508445,0.0041091147841103015,0.003936781479056338,0.0037813288317680538,0.0036413937776058414,0.0035156512754501153,0.003402828610075079,0.0033017158697803473,0.003211172491248726,0.0031301299688042713,0.0030575910268510883,0.002992625737158477,0.002934365213738489,0.0028819936271543543,0.0028347393405035374,0.002791865978107236,0.0027526641959392468,0.0027164448343517137,0.0026825340059865935,0.002650270514472528,0.0026190058236652655,0.0025881066145171244,0.002556959788706753,0.0025249796155499505,0.0024916165805151384,0.0024563673869196618,0.0024187854917861644,0.002378491524634966,0.0023351829440144004,0.002288642328457846,0.0022387437720574888,0.002185456954250794,0.0021288485720182804,0.0020690809532604728,0.00200640780536228,0.0019411671859081508,0.0018737719068999425,0.0018046976942966652,0.0017344695169789935,0.0016636465702528534,0.0015928064468388608,0.0015225290521700661,0.0014533808209946496,0.0013858997699154924,0.001320581877527865,0.0012578692228012002,0.0011981402363480005,0.0011417023316588968,0.001088787087939811,0.0010395480566954534,0.0009940611645376264,0.0009523275886713709,0.0009142788927714753,0.0008797841328653806,0.0008486585783394306,0.0008206736447095146,0.0007955676041270628,0.0007730566277653752,0.0007528457214668329,0.0007346391416830337,0.0007181499212992091,0.0007031081920796211,0.0006892680591660704,0.0006764128597048679,0.0006643587182898722,0.0006529563923562062,0.0006420914768901051,0.0006316831061065579,0.0006216813469055374,0.0006120635225030481,0.0006028297330763542,0.0005939978529553922,0.0005855982812026867,0.0005776687056437181,0.0005702491116362389,0.0005633772288297199,0.0005570845650095561,0.0005513931291623027,0.000546312899380406,0.0005418400480801582,0.0005379558996562211,0.0005346265658969213,0.0005318031832369978,0.0005294226634469827,0.0005274088651296422,0.0005256740962567944,0.0005241208662961819,0.0005226438183181383,0.0005211317848199717,0.0005194699239630594,0.0005175419038798887,0.0005152321105076942,0.0005124278583981733,0.0005090215840501335,0.0005049129979516297,0.0005000111655831085,0.0004942364803270027,0.00048752248392441584,0.0004798174841935275,0.00047108591640343804,0.0004613093949223954,0.00045048740608867463,0.00043863760180692186,0.0004257956658313663,0.0004120147403368993,0.0003973644181550714,0.000381929324707549,0.0003658073318608,0.000349107462349787,0.0003319475569303007,0.000314451786126805,0.0002967480937705726,0.00027896566024462855,0.00026123246958524284,0.0002436730567611077,0.00022640650023753546,0.0002095447111839777,0.00019319105533972453,0.00017743932756460654,0.000162373083356755,0.00014806531688716564,0.0001345784619948709,0.00012196468154774905,0.00011026640187152475,9.951704269679677e-05,8.97418892557563e-05,8.095905166493316e-05,7.318045738252006e-05,6.641282511839956e-05,6.0658572878860745e-05,5.5916618622996516e-05,5.2183039074942844e-05,4.9451560356446565e-05,4.7713863049409454e-05,4.6959693818076155e-05,4.717678553255704e-05,4.835059761609615e-05,5.046389772337942e-05,5.349621444789622e-05,5.742319813719309e-05,6.22159326573317e-05,6.78402447217941e-05,7.425605888807678e-05,8.141684533678405e-05,8.926920402946136e-05,9.775262289695851e-05,0.00010679943961153181,0.0001163350266771381,0.0001262782086089343,0.00013654190854587634,0.0001470340104870361,0.00015765841319873025,0.00016831624337769295,0.00017890718942301402,0.00018933091353765506,0.0001994884990059549,0.00020928389129995254,0.0002186252958473063,0.00022742650133458957,0.0002356081046512384,0.00024309862123672794,0.00024983547189343086,0.0002557658433471408,0.0002608474243885008,0.0002650490219199916,0.00026835106151181534,0.00027074597523869023,0.0002722384759770666,0.00027284571254706955,0.0002725972947946727,0.0002715351727112209,0.00026971334975426855,0.00026719740834811845,0.00026406382562114755,0.00026039906007594284,0.0002562983951316951,0.00025186453311502763,0.00024720594286232534,0.0002424349750061652,0.000237665770504165,0.0002330119992407394,0.0002285844758343438,0.00022448870846012106,0.0002208224430507362,0.00021767326935366946,0.00021511635688352705,0.0002132123878751163,0.00021200575112421442,0.00021152305540156783,0.0002117720142865437,0.00021274074612369614,0.00021439752363808478,0.00021669099775285236,0.0002195509094476741,0.00022288929211864995,0.00022660215484807163,0.00023057162427059455,0.00023466850939222856,0.00023875523994798295,0.00024268911498545113,0.0002463257848119543,0.00024952287687990534,0.0002521436653780522,0.0002540606760920499,0.00025515911334669913,0.00025533999531131144,0.000254522888232964,0.0002526481395980126,0.00024967852482689985,0.0002456002415370325,0.00024042320895084507,0.00023418065662724987,0.0002269280150196331,0.0002187411488858047,0.00020971400168678302,0.0001999557432433791,0.00018958753266357052,0.00017873902276945158,0.00016754474015532225,0.0001561404762257321,0.00014465981915693537,0.00013323094518230335,0.0001219737707832236,0.0001109975464346362,0.00010039894887790519,9.026070394218534e-05,8.06507471693164e-05,7.162190626743777e-05,6.321206888103625e-05,5.5444782216620984e-05,4.8330218302118054e-05,4.1866430370340225e-05,3.604082202809865e-05,3.0831751219051405e-05,2.6210195006940634e-05,2.2141408231913006e-05,1.8586518364636776e-05,1.5504009605033836e-05,1.2851060671463804e-05,1.0584712099115977e-05,8.662849616124048e-06,7.044999824037868e-06,5.692942646185812e-06,4.571151630940433e-06,3.6470781415421693e-06,2.8912987733383726e-06,2.2775471430842436e-06,1.7826516856779375e-06,1.3864005020459857e-06,1.0713528748181902e-06,8.226150503846448e-07,6.275955040526664e-07,4.7575235861961343e-07,3.5834308081803114e-07,2.6818416294623164e-07,1.994263002648274e-07,1.4734865641939444e-07,1.0817419794000109e-07,7.890677947051084e-08,5.718966010881017e-08,4.1184401460916134e-08,2.946860506600279e-08,2.0950652225782894e-08,1.4799473945367048e-08,1.038736560054212e-08,7.243936660849787e-09,5.019421501807704e-09,3.455749227169268e-09,2.363959661414107e-09,1.6067450587144149e-09,1.0850824878533278e-09,7.280936179853973e-10,4.854228517838981e-10,3.2155967660938305e-10,2.1164654592655977e-10,1.384104557644922e-10,8.993621589920103e-11,5.806416933261484e-11,3.72468564711066e-11,2.373989255238014e-11,1.5034033379881275e-11,9.45975389412695e-12,5.914140904962072e-12,3.6737613402137016e-12,2.267449382107909e-12,1.3905019478662714e-12,8.472525745264673e-13,5.129339518748214e-13,3.085440759825159e-13,1.8440817094593423e-13,1.0950911241362574e-13,6.461412680952641e-14,3.788015925380839e-14,2.2064962025164107e-14,1.2770315356078737e-14,7.343567464220811e-15,4.195846257135394e-15,2.3819850829120417e-15,1.343586049162311e-15,7.530067982239811e-16,4.193138985666824e-16,2.3199923633534594e-16,1.2753834534839551e-16,6.966295870881462e-17,3.7806803310780953e-17,2.0386604389644073e-17,1.0922617351992722e-17,5.81454079784554e-18,3.0754664643770904e-18,1.6162682183545356e-18,8.439616798177261e-19,4.37863630246302e-19,2.257157497254067e-19,1.1560901301433695e-19,5.883399742150992e-20,2.9748964236146385e-20,1.4945903231436277e-20,7.460695274997679e-21,3.700353829701611e-21,1.8235346445071387e-21,8.928769361980617e-22,4.343862432956542e-22,2.0997502991245403e-22,1.0084807800092172e-22,4.812624834394295e-23,2.2821262313897155e-23,1.0756694091911869e-23,5.0473129634531344e-24,2.3747449642324972e-24,1.1578492102610202e-24,6.646236471554067e-25,5.9387160441384275e-25,9.00337840610375e-25,1.7671464407643034e-24,3.709610091000002e-24,7.866013274601232e-24,1.663050824536394e-23,3.496069200884469e-23,7.303424127512763e-23,1.515976436804665e-22,3.126560454914491e-22,6.406891495727e-22,1.304468474952725e-21,2.6389149138717984e-21,5.304234877932719e-21,1.0593163164375826e-20,2.102006869420036e-20,4.144271074269893e-20,8.118349284804259e-20,1.5801301678701065e-19,3.0557903225557537e-19,5.871645023052434e-19,1.1209896091041266e-18,2.1264194511695445e-18,4.007761231385544e-18,7.505165918272513e-18,1.396446525712781e-17,2.581629269521662e-17,4.742081317203216e-17,8.654653239622745e-17,1.5694081414453216e-16,2.82766323196902e-16,5.062033588826172e-16,9.003843021892449e-16,1.5912424681966734e-15,2.7941541483955085e-15,4.874947203756848e-15,8.450745557957729e-15,1.4555451761077797e-14,2.490932201678119e-14,4.235490179236338e-14,7.155681558710708e-14,1.2011683657576714e-13,2.0033753272298534e-13,3.3199099963661033e-13,5.466330089826811e-13,8.942747142095005e-13,1.453622388014442e-12,2.3476741035492234e-12,3.76729448621968e-12,6.006574731711692e-12,9.515459253401568e-12,1.497746030559086e-11,2.3423519736293025e-11,3.639751107519681e-11,5.6194883224669935e-11,8.620399907275387e-11,1.3139039199631831e-10,1.9897813565349172e-10,2.9940059612019795e-10,4.4761591379048617e-10,6.649116313997607e-10,9.813589698033301e-10,1.439121352039876e-09,2.096874756988464e-09,3.035659947011191e-09,4.366558710058576e-09,6.240667459243165e-09,8.861930366057528e-09,1.2503487932334799e-08,1.752829120262756e-08,2.4414820425882716e-08,3.3788821402195594e-08,4.646202204193691e-08,6.347880229935537e-08,8.617174662331866e-08,1.1622689126988481e-07,1.5575926967204225e-07,2.0739903760619926e-07,2.743880072940635e-07,3.606858200517633e-07,4.7108423028399257e-07,6.113270572723224e-07,7.882322940795876e-07,1.0098116676164373e-06,1.285381659563979e-06,1.6256586818710973e-06,2.0428298296935436e-06,2.5505895044737957e-06,3.1641313224795687e-06,3.900084223865582e-06,4.77638170422203e-06,5.8120537315909704e-06,7.026932300256051e-06,8.441263795465541e-06,1.0075224448995511e-05,1.1948339151038452e-05,1.4078808683749234e-05,1.648275591971706e-05,1.9173407473864984e-05,2.2160233425988873e-05,2.5448073694258914e-05,2.9036285038111394e-05,3.291794707363853e-05,3.707916866624027e-05,4.149853722503144e-05,4.614675242795921e-05,5.098648252216307e-05,5.597247546805466e-05,6.105194888050738e-05,6.616527218954026e-05,7.124694209253368e-05,7.622683876006109e-05,8.103173608588275e-05,8.558702533699083e-05,8.981859871098847e-05,9.36548283879095e-05,9.702856844583553e-05,9.98791021395826e-05,0.00010215395598171661,0.0001038105050520524,0.00010481730097951783],\"yaxis\":\"y\",\"type\":\"scatter\"},{\"legendgroup\":\"Fare\",\"marker\":{\"color\":\"rgb(31, 119, 180)\",\"symbol\":\"line-ns-open\"},\"mode\":\"markers\",\"name\":\"Fare\",\"showlegend\":false,\"x\":[7.25,71.2833,7.925,53.1,8.05,8.4583,51.8625,21.075,11.1333,30.0708,16.7,26.55,8.05,31.275,7.8542,16.0,29.125,13.0,18.0,7.225,26.0,13.0,8.0292,35.5,21.075,31.3875,7.225,263.0,7.8792,7.8958,27.7208,146.5208,7.75,10.5,82.1708,52.0,7.2292,8.05,18.0,11.2417,9.475,21.0,7.8958,41.5792,7.8792,8.05,15.5,7.75,21.6792,17.8,39.6875,7.8,76.7292,26.0,61.9792,35.5,10.5,7.2292,27.75,46.9,7.2292,80.0,83.475,27.9,27.7208,15.2458,10.5,8.1583,7.925,8.6625,10.5,46.9,73.5,14.4542,56.4958,7.65,7.8958,8.05,29.0,12.475,9.0,9.5,7.7875,47.1,10.5,15.85,34.375,8.05,263.0,8.05,8.05,7.8542,61.175,20.575,7.25,8.05,34.6542,63.3583,23.0,26.0,7.8958,7.8958,77.2875,8.6542,7.925,7.8958,7.65,7.775,7.8958,24.15,52.0,14.4542,8.05,9.825,14.4583,7.925,7.75,21.0,247.5208,31.275,73.5,8.05,30.0708,13.0,77.2875,11.2417,7.75,7.1417,22.3583,6.975,7.8958,7.05,14.5,26.0,13.0,15.0458,26.2833,53.1,9.2167,79.2,15.2458,7.75,15.85,6.75,11.5,36.75,7.7958,34.375,26.0,13.0,12.525,66.6,8.05,14.5,7.3125,61.3792,7.7333,8.05,8.6625,69.55,16.1,15.75,7.775,8.6625,39.6875,20.525,55.0,27.9,25.925,56.4958,33.5,29.125,11.1333,7.925,30.6958,7.8542,25.4667,28.7125,13.0,0.0,69.55,15.05,31.3875,39.0,22.025,50.0,15.5,26.55,15.5,7.8958,13.0,13.0,7.8542,26.0,27.7208,146.5208,7.75,8.4042,7.75,13.0,9.5,69.55,6.4958,7.225,8.05,10.4625,15.85,18.7875,7.75,31.0,7.05,21.0,7.25,13.0,7.75,113.275,7.925,27.0,76.2917,10.5,8.05,13.0,8.05,7.8958,90.0,9.35,10.5,7.25,13.0,25.4667,83.475,7.775,13.5,31.3875,10.5,7.55,26.0,26.25,10.5,12.275,14.4542,15.5,10.5,7.125,7.225,90.0,7.775,14.5,52.5542,26.0,7.25,10.4625,26.55,16.1,20.2125,15.2458,79.2,86.5,512.3292,26.0,7.75,31.3875,79.65,0.0,7.75,10.5,39.6875,7.775,153.4625,135.6333,31.0,0.0,19.5,29.7,7.75,77.9583,7.75,0.0,29.125,20.25,7.75,7.8542,9.5,8.05,26.0,8.6625,9.5,7.8958,13.0,7.75,78.85,91.0792,12.875,8.85,7.8958,27.7208,7.2292,151.55,30.5,247.5208,7.75,23.25,0.0,12.35,8.05,151.55,110.8833,108.9,24.0,56.9292,83.1583,262.375,26.0,7.8958,26.25,7.8542,26.0,14.0,164.8667,134.5,7.25,7.8958,12.35,29.0,69.55,135.6333,6.2375,13.0,20.525,57.9792,23.25,28.5,153.4625,18.0,133.65,7.8958,66.6,134.5,8.05,35.5,26.0,263.0,13.0,13.0,13.0,13.0,13.0,16.1,15.9,8.6625,9.225,35.0,7.2292,17.8,7.225,9.5,55.0,13.0,7.8792,7.8792,27.9,27.7208,14.4542,7.05,15.5,7.25,75.25,7.2292,7.75,69.3,55.4417,6.4958,8.05,135.6333,21.075,82.1708,7.25,211.5,4.0125,7.775,227.525,15.7417,7.925,52.0,7.8958,73.5,46.9,13.0,7.7292,12.0,120.0,7.7958,7.925,113.275,16.7,7.7958,7.8542,26.0,10.5,12.65,7.925,8.05,9.825,15.85,8.6625,21.0,7.75,18.75,7.775,25.4667,7.8958,6.8583,90.0,0.0,7.925,8.05,32.5,13.0,13.0,24.15,7.8958,7.7333,7.875,14.4,20.2125,7.25,26.0,26.0,7.75,8.05,26.55,16.1,26.0,7.125,55.9,120.0,34.375,18.75,263.0,10.5,26.25,9.5,7.775,13.0,8.1125,81.8583,19.5,26.55,19.2583,30.5,27.75,19.9667,27.75,89.1042,8.05,7.8958,26.55,51.8625,10.5,7.75,26.55,8.05,38.5,13.0,8.05,7.05,0.0,26.55,7.725,19.2583,7.25,8.6625,27.75,13.7917,9.8375,52.0,21.0,7.0458,7.5208,12.2875,46.9,0.0,8.05,9.5875,91.0792,25.4667,90.0,29.7,8.05,15.9,19.9667,7.25,30.5,49.5042,8.05,14.4583,78.2667,15.1,151.55,7.7958,8.6625,7.75,7.6292,9.5875,86.5,108.9,26.0,26.55,22.525,56.4958,7.75,8.05,26.2875,59.4,7.4958,34.0208,10.5,24.15,26.0,7.8958,93.5,7.8958,7.225,57.9792,7.2292,7.75,10.5,221.7792,7.925,11.5,26.0,7.2292,7.2292,22.3583,8.6625,26.25,26.55,106.425,14.5,49.5,71.0,31.275,31.275,26.0,106.425,26.0,26.0,13.8625,20.525,36.75,110.8833,26.0,7.8292,7.225,7.775,26.55,39.6,227.525,79.65,17.4,7.75,7.8958,13.5,8.05,8.05,24.15,7.8958,21.075,7.2292,7.8542,10.5,51.4792,26.3875,7.75,8.05,14.5,13.0,55.9,14.4583,7.925,30.0,110.8833,26.0,40.125,8.7125,79.65,15.0,79.2,8.05,8.05,7.125,78.2667,7.25,7.75,26.0,24.15,33.0,0.0,7.225,56.9292,27.0,7.8958,42.4,8.05,26.55,15.55,7.8958,30.5,41.5792,153.4625,31.275,7.05,15.5,7.75,8.05,65.0,14.4,16.1,39.0,10.5,14.4542,52.5542,15.7417,7.8542,16.1,32.3208,12.35,77.9583,7.8958,7.7333,30.0,7.0542,30.5,0.0,27.9,13.0,7.925,26.25,39.6875,16.1,7.8542,69.3,27.9,56.4958,19.2583,76.7292,7.8958,35.5,7.55,7.55,7.8958,23.0,8.4333,7.8292,6.75,73.5,7.8958,15.5,13.0,113.275,133.65,7.225,25.5875,7.4958,7.925,73.5,13.0,7.775,8.05,52.0,39.0,52.0,10.5,13.0,0.0,7.775,8.05,9.8417,46.9,512.3292,8.1375,76.7292,9.225,46.9,39.0,41.5792,39.6875,10.1708,7.7958,211.3375,57.0,13.4167,56.4958,7.225,26.55,13.5,8.05,7.7333,110.8833,7.65,227.525,26.2875,14.4542,7.7417,7.8542,26.0,13.5,26.2875,151.55,15.2458,49.5042,26.55,52.0,9.4833,13.0,7.65,227.525,10.5,15.5,7.775,33.0,7.0542,13.0,13.0,53.1,8.6625,21.0,7.7375,26.0,7.925,211.3375,18.7875,0.0,13.0,13.0,16.1,34.375,512.3292,7.8958,7.8958,30.0,78.85,262.375,16.1,7.925,71.0,20.25,13.0,53.1,7.75,23.0,12.475,9.5,7.8958,65.0,14.5,7.7958,11.5,8.05,86.5,14.5,7.125,7.2292,120.0,7.775,77.9583,39.6,7.75,24.15,8.3625,9.5,7.8542,10.5,7.225,23.0,7.75,7.75,12.475,7.7375,211.3375,7.2292,57.0,30.0,23.45,7.05,7.25,7.4958,29.125,20.575,79.2,7.75,26.0,69.55,30.6958,7.8958,13.0,25.9292,8.6833,7.2292,24.15,13.0,26.25,120.0,8.5167,6.975,7.775,0.0,7.775,13.0,53.1,7.8875,24.15,10.5,31.275,8.05,0.0,7.925,37.0042,6.45,27.9,93.5,8.6625,0.0,12.475,39.6875,6.95,56.4958,37.0042,7.75,80.0,14.4542,18.75,7.2292,7.8542,8.3,83.1583,8.6625,8.05,56.4958,29.7,7.925,10.5,31.0,6.4375,8.6625,7.55,69.55,7.8958,33.0,89.1042,31.275,7.775,15.2458,39.4,26.0,9.35,164.8667,26.55,19.2583,7.2292,14.1083,11.5,25.9292,69.55,13.0,13.0,13.8583,50.4958,9.5,11.1333,7.8958,52.5542,5.0,9.0,24.0,7.225,9.8458,7.8958,7.8958,83.1583,26.0,7.8958,10.5167,10.5,7.05,29.125,13.0,30.0,23.45,30.0,7.75],\"xaxis\":\"x\",\"y\":[\"Fare\",\"Fare\",\"Fare\",\"Fare\",\"Fare\",\"Fare\",\"Fare\",\"Fare\",\"Fare\",\"Fare\",\"Fare\",\"Fare\",\"Fare\",\"Fare\",\"Fare\",\"Fare\",\"Fare\",\"Fare\",\"Fare\",\"Fare\",\"Fare\",\"Fare\",\"Fare\",\"Fare\",\"Fare\",\"Fare\",\"Fare\",\"Fare\",\"Fare\",\"Fare\",\"Fare\",\"Fare\",\"Fare\",\"Fare\",\"Fare\",\"Fare\",\"Fare\",\"Fare\",\"Fare\",\"Fare\",\"Fare\",\"Fare\",\"Fare\",\"Fare\",\"Fare\",\"Fare\",\"Fare\",\"Fare\",\"Fare\",\"Fare\",\"Fare\",\"Fare\",\"Fare\",\"Fare\",\"Fare\",\"Fare\",\"Fare\",\"Fare\",\"Fare\",\"Fare\",\"Fare\",\"Fare\",\"Fare\",\"Fare\",\"Fare\",\"Fare\",\"Fare\",\"Fare\",\"Fare\",\"Fare\",\"Fare\",\"Fare\",\"Fare\",\"Fare\",\"Fare\",\"Fare\",\"Fare\",\"Fare\",\"Fare\",\"Fare\",\"Fare\",\"Fare\",\"Fare\",\"Fare\",\"Fare\",\"Fare\",\"Fare\",\"Fare\",\"Fare\",\"Fare\",\"Fare\",\"Fare\",\"Fare\",\"Fare\",\"Fare\",\"Fare\",\"Fare\",\"Fare\",\"Fare\",\"Fare\",\"Fare\",\"Fare\",\"Fare\",\"Fare\",\"Fare\",\"Fare\",\"Fare\",\"Fare\",\"Fare\",\"Fare\",\"Fare\",\"Fare\",\"Fare\",\"Fare\",\"Fare\",\"Fare\",\"Fare\",\"Fare\",\"Fare\",\"Fare\",\"Fare\",\"Fare\",\"Fare\",\"Fare\",\"Fare\",\"Fare\",\"Fare\",\"Fare\",\"Fare\",\"Fare\",\"Fare\",\"Fare\",\"Fare\",\"Fare\",\"Fare\",\"Fare\",\"Fare\",\"Fare\",\"Fare\",\"Fare\",\"Fare\",\"Fare\",\"Fare\",\"Fare\",\"Fare\",\"Fare\",\"Fare\",\"Fare\",\"Fare\",\"Fare\",\"Fare\",\"Fare\",\"Fare\",\"Fare\",\"Fare\",\"Fare\",\"Fare\",\"Fare\",\"Fare\",\"Fare\",\"Fare\",\"Fare\",\"Fare\",\"Fare\",\"Fare\",\"Fare\",\"Fare\",\"Fare\",\"Fare\",\"Fare\",\"Fare\",\"Fare\",\"Fare\",\"Fare\",\"Fare\",\"Fare\",\"Fare\",\"Fare\",\"Fare\",\"Fare\",\"Fare\",\"Fare\",\"Fare\",\"Fare\",\"Fare\",\"Fare\",\"Fare\",\"Fare\",\"Fare\",\"Fare\",\"Fare\",\"Fare\",\"Fare\",\"Fare\",\"Fare\",\"Fare\",\"Fare\",\"Fare\",\"Fare\",\"Fare\",\"Fare\",\"Fare\",\"Fare\",\"Fare\",\"Fare\",\"Fare\",\"Fare\",\"Fare\",\"Fare\",\"Fare\",\"Fare\",\"Fare\",\"Fare\",\"Fare\",\"Fare\",\"Fare\",\"Fare\",\"Fare\",\"Fare\",\"Fare\",\"Fare\",\"Fare\",\"Fare\",\"Fare\",\"Fare\",\"Fare\",\"Fare\",\"Fare\",\"Fare\",\"Fare\",\"Fare\",\"Fare\",\"Fare\",\"Fare\",\"Fare\",\"Fare\",\"Fare\",\"Fare\",\"Fare\",\"Fare\",\"Fare\",\"Fare\",\"Fare\",\"Fare\",\"Fare\",\"Fare\",\"Fare\",\"Fare\",\"Fare\",\"Fare\",\"Fare\",\"Fare\",\"Fare\",\"Fare\",\"Fare\",\"Fare\",\"Fare\",\"Fare\",\"Fare\",\"Fare\",\"Fare\",\"Fare\",\"Fare\",\"Fare\",\"Fare\",\"Fare\",\"Fare\",\"Fare\",\"Fare\",\"Fare\",\"Fare\",\"Fare\",\"Fare\",\"Fare\",\"Fare\",\"Fare\",\"Fare\",\"Fare\",\"Fare\",\"Fare\",\"Fare\",\"Fare\",\"Fare\",\"Fare\",\"Fare\",\"Fare\",\"Fare\",\"Fare\",\"Fare\",\"Fare\",\"Fare\",\"Fare\",\"Fare\",\"Fare\",\"Fare\",\"Fare\",\"Fare\",\"Fare\",\"Fare\",\"Fare\",\"Fare\",\"Fare\",\"Fare\",\"Fare\",\"Fare\",\"Fare\",\"Fare\",\"Fare\",\"Fare\",\"Fare\",\"Fare\",\"Fare\",\"Fare\",\"Fare\",\"Fare\",\"Fare\",\"Fare\",\"Fare\",\"Fare\",\"Fare\",\"Fare\",\"Fare\",\"Fare\",\"Fare\",\"Fare\",\"Fare\",\"Fare\",\"Fare\",\"Fare\",\"Fare\",\"Fare\",\"Fare\",\"Fare\",\"Fare\",\"Fare\",\"Fare\",\"Fare\",\"Fare\",\"Fare\",\"Fare\",\"Fare\",\"Fare\",\"Fare\",\"Fare\",\"Fare\",\"Fare\",\"Fare\",\"Fare\",\"Fare\",\"Fare\",\"Fare\",\"Fare\",\"Fare\",\"Fare\",\"Fare\",\"Fare\",\"Fare\",\"Fare\",\"Fare\",\"Fare\",\"Fare\",\"Fare\",\"Fare\",\"Fare\",\"Fare\",\"Fare\",\"Fare\",\"Fare\",\"Fare\",\"Fare\",\"Fare\",\"Fare\",\"Fare\",\"Fare\",\"Fare\",\"Fare\",\"Fare\",\"Fare\",\"Fare\",\"Fare\",\"Fare\",\"Fare\",\"Fare\",\"Fare\",\"Fare\",\"Fare\",\"Fare\",\"Fare\",\"Fare\",\"Fare\",\"Fare\",\"Fare\",\"Fare\",\"Fare\",\"Fare\",\"Fare\",\"Fare\",\"Fare\",\"Fare\",\"Fare\",\"Fare\",\"Fare\",\"Fare\",\"Fare\",\"Fare\",\"Fare\",\"Fare\",\"Fare\",\"Fare\",\"Fare\",\"Fare\",\"Fare\",\"Fare\",\"Fare\",\"Fare\",\"Fare\",\"Fare\",\"Fare\",\"Fare\",\"Fare\",\"Fare\",\"Fare\",\"Fare\",\"Fare\",\"Fare\",\"Fare\",\"Fare\",\"Fare\",\"Fare\",\"Fare\",\"Fare\",\"Fare\",\"Fare\",\"Fare\",\"Fare\",\"Fare\",\"Fare\",\"Fare\",\"Fare\",\"Fare\",\"Fare\",\"Fare\",\"Fare\",\"Fare\",\"Fare\",\"Fare\",\"Fare\",\"Fare\",\"Fare\",\"Fare\",\"Fare\",\"Fare\",\"Fare\",\"Fare\",\"Fare\",\"Fare\",\"Fare\",\"Fare\",\"Fare\",\"Fare\",\"Fare\",\"Fare\",\"Fare\",\"Fare\",\"Fare\",\"Fare\",\"Fare\",\"Fare\",\"Fare\",\"Fare\",\"Fare\",\"Fare\",\"Fare\",\"Fare\",\"Fare\",\"Fare\",\"Fare\",\"Fare\",\"Fare\",\"Fare\",\"Fare\",\"Fare\",\"Fare\",\"Fare\",\"Fare\",\"Fare\",\"Fare\",\"Fare\",\"Fare\",\"Fare\",\"Fare\",\"Fare\",\"Fare\",\"Fare\",\"Fare\",\"Fare\",\"Fare\",\"Fare\",\"Fare\",\"Fare\",\"Fare\",\"Fare\",\"Fare\",\"Fare\",\"Fare\",\"Fare\",\"Fare\",\"Fare\",\"Fare\",\"Fare\",\"Fare\",\"Fare\",\"Fare\",\"Fare\",\"Fare\",\"Fare\",\"Fare\",\"Fare\",\"Fare\",\"Fare\",\"Fare\",\"Fare\",\"Fare\",\"Fare\",\"Fare\",\"Fare\",\"Fare\",\"Fare\",\"Fare\",\"Fare\",\"Fare\",\"Fare\",\"Fare\",\"Fare\",\"Fare\",\"Fare\",\"Fare\",\"Fare\",\"Fare\",\"Fare\",\"Fare\",\"Fare\",\"Fare\",\"Fare\",\"Fare\",\"Fare\",\"Fare\",\"Fare\",\"Fare\",\"Fare\",\"Fare\",\"Fare\",\"Fare\",\"Fare\",\"Fare\",\"Fare\",\"Fare\",\"Fare\",\"Fare\",\"Fare\",\"Fare\",\"Fare\",\"Fare\",\"Fare\",\"Fare\",\"Fare\",\"Fare\",\"Fare\",\"Fare\",\"Fare\",\"Fare\",\"Fare\",\"Fare\",\"Fare\",\"Fare\",\"Fare\",\"Fare\",\"Fare\",\"Fare\",\"Fare\",\"Fare\",\"Fare\",\"Fare\",\"Fare\",\"Fare\",\"Fare\",\"Fare\",\"Fare\",\"Fare\",\"Fare\",\"Fare\",\"Fare\",\"Fare\",\"Fare\",\"Fare\",\"Fare\",\"Fare\",\"Fare\",\"Fare\",\"Fare\",\"Fare\",\"Fare\",\"Fare\",\"Fare\",\"Fare\",\"Fare\",\"Fare\",\"Fare\",\"Fare\",\"Fare\",\"Fare\",\"Fare\",\"Fare\",\"Fare\",\"Fare\",\"Fare\",\"Fare\",\"Fare\",\"Fare\",\"Fare\",\"Fare\",\"Fare\",\"Fare\",\"Fare\",\"Fare\",\"Fare\",\"Fare\",\"Fare\",\"Fare\",\"Fare\",\"Fare\",\"Fare\",\"Fare\",\"Fare\",\"Fare\",\"Fare\",\"Fare\",\"Fare\",\"Fare\",\"Fare\",\"Fare\",\"Fare\",\"Fare\",\"Fare\",\"Fare\",\"Fare\",\"Fare\",\"Fare\",\"Fare\",\"Fare\",\"Fare\",\"Fare\",\"Fare\",\"Fare\",\"Fare\",\"Fare\",\"Fare\",\"Fare\",\"Fare\",\"Fare\",\"Fare\",\"Fare\",\"Fare\",\"Fare\",\"Fare\",\"Fare\",\"Fare\",\"Fare\",\"Fare\",\"Fare\",\"Fare\",\"Fare\",\"Fare\",\"Fare\",\"Fare\",\"Fare\",\"Fare\",\"Fare\",\"Fare\",\"Fare\",\"Fare\",\"Fare\",\"Fare\",\"Fare\",\"Fare\",\"Fare\",\"Fare\",\"Fare\",\"Fare\",\"Fare\",\"Fare\",\"Fare\",\"Fare\",\"Fare\",\"Fare\",\"Fare\",\"Fare\",\"Fare\",\"Fare\",\"Fare\",\"Fare\",\"Fare\",\"Fare\",\"Fare\",\"Fare\",\"Fare\",\"Fare\",\"Fare\",\"Fare\",\"Fare\",\"Fare\",\"Fare\",\"Fare\",\"Fare\",\"Fare\",\"Fare\",\"Fare\",\"Fare\",\"Fare\",\"Fare\",\"Fare\",\"Fare\",\"Fare\",\"Fare\",\"Fare\",\"Fare\",\"Fare\",\"Fare\",\"Fare\",\"Fare\",\"Fare\",\"Fare\",\"Fare\",\"Fare\",\"Fare\",\"Fare\",\"Fare\",\"Fare\",\"Fare\",\"Fare\",\"Fare\",\"Fare\",\"Fare\",\"Fare\",\"Fare\",\"Fare\",\"Fare\",\"Fare\",\"Fare\",\"Fare\",\"Fare\",\"Fare\",\"Fare\",\"Fare\",\"Fare\",\"Fare\",\"Fare\",\"Fare\",\"Fare\",\"Fare\",\"Fare\",\"Fare\",\"Fare\",\"Fare\",\"Fare\",\"Fare\",\"Fare\",\"Fare\",\"Fare\",\"Fare\",\"Fare\",\"Fare\",\"Fare\",\"Fare\",\"Fare\",\"Fare\",\"Fare\",\"Fare\",\"Fare\",\"Fare\",\"Fare\",\"Fare\",\"Fare\",\"Fare\",\"Fare\",\"Fare\",\"Fare\",\"Fare\",\"Fare\",\"Fare\",\"Fare\",\"Fare\",\"Fare\",\"Fare\",\"Fare\",\"Fare\",\"Fare\",\"Fare\",\"Fare\",\"Fare\",\"Fare\",\"Fare\",\"Fare\",\"Fare\",\"Fare\",\"Fare\",\"Fare\",\"Fare\",\"Fare\",\"Fare\",\"Fare\",\"Fare\",\"Fare\",\"Fare\",\"Fare\",\"Fare\",\"Fare\",\"Fare\",\"Fare\",\"Fare\",\"Fare\",\"Fare\",\"Fare\",\"Fare\",\"Fare\",\"Fare\",\"Fare\",\"Fare\",\"Fare\",\"Fare\",\"Fare\",\"Fare\",\"Fare\",\"Fare\",\"Fare\",\"Fare\",\"Fare\",\"Fare\",\"Fare\",\"Fare\",\"Fare\",\"Fare\",\"Fare\",\"Fare\",\"Fare\",\"Fare\",\"Fare\",\"Fare\",\"Fare\",\"Fare\",\"Fare\",\"Fare\",\"Fare\",\"Fare\",\"Fare\",\"Fare\",\"Fare\",\"Fare\",\"Fare\",\"Fare\",\"Fare\",\"Fare\",\"Fare\",\"Fare\",\"Fare\",\"Fare\",\"Fare\",\"Fare\",\"Fare\",\"Fare\",\"Fare\",\"Fare\",\"Fare\",\"Fare\",\"Fare\",\"Fare\",\"Fare\",\"Fare\",\"Fare\",\"Fare\",\"Fare\",\"Fare\",\"Fare\",\"Fare\",\"Fare\",\"Fare\",\"Fare\",\"Fare\",\"Fare\",\"Fare\",\"Fare\"],\"yaxis\":\"y2\",\"type\":\"scatter\"}],                        {\"barmode\":\"overlay\",\"hovermode\":\"closest\",\"legend\":{\"traceorder\":\"reversed\"},\"template\":{\"data\":{\"barpolar\":[{\"marker\":{\"line\":{\"color\":\"#E5ECF6\",\"width\":0.5},\"pattern\":{\"fillmode\":\"overlay\",\"size\":10,\"solidity\":0.2}},\"type\":\"barpolar\"}],\"bar\":[{\"error_x\":{\"color\":\"#2a3f5f\"},\"error_y\":{\"color\":\"#2a3f5f\"},\"marker\":{\"line\":{\"color\":\"#E5ECF6\",\"width\":0.5},\"pattern\":{\"fillmode\":\"overlay\",\"size\":10,\"solidity\":0.2}},\"type\":\"bar\"}],\"carpet\":[{\"aaxis\":{\"endlinecolor\":\"#2a3f5f\",\"gridcolor\":\"white\",\"linecolor\":\"white\",\"minorgridcolor\":\"white\",\"startlinecolor\":\"#2a3f5f\"},\"baxis\":{\"endlinecolor\":\"#2a3f5f\",\"gridcolor\":\"white\",\"linecolor\":\"white\",\"minorgridcolor\":\"white\",\"startlinecolor\":\"#2a3f5f\"},\"type\":\"carpet\"}],\"choropleth\":[{\"colorbar\":{\"outlinewidth\":0,\"ticks\":\"\"},\"type\":\"choropleth\"}],\"contourcarpet\":[{\"colorbar\":{\"outlinewidth\":0,\"ticks\":\"\"},\"type\":\"contourcarpet\"}],\"contour\":[{\"colorbar\":{\"outlinewidth\":0,\"ticks\":\"\"},\"colorscale\":[[0.0,\"#0d0887\"],[0.1111111111111111,\"#46039f\"],[0.2222222222222222,\"#7201a8\"],[0.3333333333333333,\"#9c179e\"],[0.4444444444444444,\"#bd3786\"],[0.5555555555555556,\"#d8576b\"],[0.6666666666666666,\"#ed7953\"],[0.7777777777777778,\"#fb9f3a\"],[0.8888888888888888,\"#fdca26\"],[1.0,\"#f0f921\"]],\"type\":\"contour\"}],\"heatmapgl\":[{\"colorbar\":{\"outlinewidth\":0,\"ticks\":\"\"},\"colorscale\":[[0.0,\"#0d0887\"],[0.1111111111111111,\"#46039f\"],[0.2222222222222222,\"#7201a8\"],[0.3333333333333333,\"#9c179e\"],[0.4444444444444444,\"#bd3786\"],[0.5555555555555556,\"#d8576b\"],[0.6666666666666666,\"#ed7953\"],[0.7777777777777778,\"#fb9f3a\"],[0.8888888888888888,\"#fdca26\"],[1.0,\"#f0f921\"]],\"type\":\"heatmapgl\"}],\"heatmap\":[{\"colorbar\":{\"outlinewidth\":0,\"ticks\":\"\"},\"colorscale\":[[0.0,\"#0d0887\"],[0.1111111111111111,\"#46039f\"],[0.2222222222222222,\"#7201a8\"],[0.3333333333333333,\"#9c179e\"],[0.4444444444444444,\"#bd3786\"],[0.5555555555555556,\"#d8576b\"],[0.6666666666666666,\"#ed7953\"],[0.7777777777777778,\"#fb9f3a\"],[0.8888888888888888,\"#fdca26\"],[1.0,\"#f0f921\"]],\"type\":\"heatmap\"}],\"histogram2dcontour\":[{\"colorbar\":{\"outlinewidth\":0,\"ticks\":\"\"},\"colorscale\":[[0.0,\"#0d0887\"],[0.1111111111111111,\"#46039f\"],[0.2222222222222222,\"#7201a8\"],[0.3333333333333333,\"#9c179e\"],[0.4444444444444444,\"#bd3786\"],[0.5555555555555556,\"#d8576b\"],[0.6666666666666666,\"#ed7953\"],[0.7777777777777778,\"#fb9f3a\"],[0.8888888888888888,\"#fdca26\"],[1.0,\"#f0f921\"]],\"type\":\"histogram2dcontour\"}],\"histogram2d\":[{\"colorbar\":{\"outlinewidth\":0,\"ticks\":\"\"},\"colorscale\":[[0.0,\"#0d0887\"],[0.1111111111111111,\"#46039f\"],[0.2222222222222222,\"#7201a8\"],[0.3333333333333333,\"#9c179e\"],[0.4444444444444444,\"#bd3786\"],[0.5555555555555556,\"#d8576b\"],[0.6666666666666666,\"#ed7953\"],[0.7777777777777778,\"#fb9f3a\"],[0.8888888888888888,\"#fdca26\"],[1.0,\"#f0f921\"]],\"type\":\"histogram2d\"}],\"histogram\":[{\"marker\":{\"pattern\":{\"fillmode\":\"overlay\",\"size\":10,\"solidity\":0.2}},\"type\":\"histogram\"}],\"mesh3d\":[{\"colorbar\":{\"outlinewidth\":0,\"ticks\":\"\"},\"type\":\"mesh3d\"}],\"parcoords\":[{\"line\":{\"colorbar\":{\"outlinewidth\":0,\"ticks\":\"\"}},\"type\":\"parcoords\"}],\"pie\":[{\"automargin\":true,\"type\":\"pie\"}],\"scatter3d\":[{\"line\":{\"colorbar\":{\"outlinewidth\":0,\"ticks\":\"\"}},\"marker\":{\"colorbar\":{\"outlinewidth\":0,\"ticks\":\"\"}},\"type\":\"scatter3d\"}],\"scattercarpet\":[{\"marker\":{\"colorbar\":{\"outlinewidth\":0,\"ticks\":\"\"}},\"type\":\"scattercarpet\"}],\"scattergeo\":[{\"marker\":{\"colorbar\":{\"outlinewidth\":0,\"ticks\":\"\"}},\"type\":\"scattergeo\"}],\"scattergl\":[{\"marker\":{\"colorbar\":{\"outlinewidth\":0,\"ticks\":\"\"}},\"type\":\"scattergl\"}],\"scattermapbox\":[{\"marker\":{\"colorbar\":{\"outlinewidth\":0,\"ticks\":\"\"}},\"type\":\"scattermapbox\"}],\"scatterpolargl\":[{\"marker\":{\"colorbar\":{\"outlinewidth\":0,\"ticks\":\"\"}},\"type\":\"scatterpolargl\"}],\"scatterpolar\":[{\"marker\":{\"colorbar\":{\"outlinewidth\":0,\"ticks\":\"\"}},\"type\":\"scatterpolar\"}],\"scatter\":[{\"fillpattern\":{\"fillmode\":\"overlay\",\"size\":10,\"solidity\":0.2},\"type\":\"scatter\"}],\"scatterternary\":[{\"marker\":{\"colorbar\":{\"outlinewidth\":0,\"ticks\":\"\"}},\"type\":\"scatterternary\"}],\"surface\":[{\"colorbar\":{\"outlinewidth\":0,\"ticks\":\"\"},\"colorscale\":[[0.0,\"#0d0887\"],[0.1111111111111111,\"#46039f\"],[0.2222222222222222,\"#7201a8\"],[0.3333333333333333,\"#9c179e\"],[0.4444444444444444,\"#bd3786\"],[0.5555555555555556,\"#d8576b\"],[0.6666666666666666,\"#ed7953\"],[0.7777777777777778,\"#fb9f3a\"],[0.8888888888888888,\"#fdca26\"],[1.0,\"#f0f921\"]],\"type\":\"surface\"}],\"table\":[{\"cells\":{\"fill\":{\"color\":\"#EBF0F8\"},\"line\":{\"color\":\"white\"}},\"header\":{\"fill\":{\"color\":\"#C8D4E3\"},\"line\":{\"color\":\"white\"}},\"type\":\"table\"}]},\"layout\":{\"annotationdefaults\":{\"arrowcolor\":\"#2a3f5f\",\"arrowhead\":0,\"arrowwidth\":1},\"autotypenumbers\":\"strict\",\"coloraxis\":{\"colorbar\":{\"outlinewidth\":0,\"ticks\":\"\"}},\"colorscale\":{\"diverging\":[[0,\"#8e0152\"],[0.1,\"#c51b7d\"],[0.2,\"#de77ae\"],[0.3,\"#f1b6da\"],[0.4,\"#fde0ef\"],[0.5,\"#f7f7f7\"],[0.6,\"#e6f5d0\"],[0.7,\"#b8e186\"],[0.8,\"#7fbc41\"],[0.9,\"#4d9221\"],[1,\"#276419\"]],\"sequential\":[[0.0,\"#0d0887\"],[0.1111111111111111,\"#46039f\"],[0.2222222222222222,\"#7201a8\"],[0.3333333333333333,\"#9c179e\"],[0.4444444444444444,\"#bd3786\"],[0.5555555555555556,\"#d8576b\"],[0.6666666666666666,\"#ed7953\"],[0.7777777777777778,\"#fb9f3a\"],[0.8888888888888888,\"#fdca26\"],[1.0,\"#f0f921\"]],\"sequentialminus\":[[0.0,\"#0d0887\"],[0.1111111111111111,\"#46039f\"],[0.2222222222222222,\"#7201a8\"],[0.3333333333333333,\"#9c179e\"],[0.4444444444444444,\"#bd3786\"],[0.5555555555555556,\"#d8576b\"],[0.6666666666666666,\"#ed7953\"],[0.7777777777777778,\"#fb9f3a\"],[0.8888888888888888,\"#fdca26\"],[1.0,\"#f0f921\"]]},\"colorway\":[\"#636efa\",\"#EF553B\",\"#00cc96\",\"#ab63fa\",\"#FFA15A\",\"#19d3f3\",\"#FF6692\",\"#B6E880\",\"#FF97FF\",\"#FECB52\"],\"font\":{\"color\":\"#2a3f5f\"},\"geo\":{\"bgcolor\":\"white\",\"lakecolor\":\"white\",\"landcolor\":\"#E5ECF6\",\"showlakes\":true,\"showland\":true,\"subunitcolor\":\"white\"},\"hoverlabel\":{\"align\":\"left\"},\"hovermode\":\"closest\",\"mapbox\":{\"style\":\"light\"},\"paper_bgcolor\":\"white\",\"plot_bgcolor\":\"#E5ECF6\",\"polar\":{\"angularaxis\":{\"gridcolor\":\"white\",\"linecolor\":\"white\",\"ticks\":\"\"},\"bgcolor\":\"#E5ECF6\",\"radialaxis\":{\"gridcolor\":\"white\",\"linecolor\":\"white\",\"ticks\":\"\"}},\"scene\":{\"xaxis\":{\"backgroundcolor\":\"#E5ECF6\",\"gridcolor\":\"white\",\"gridwidth\":2,\"linecolor\":\"white\",\"showbackground\":true,\"ticks\":\"\",\"zerolinecolor\":\"white\"},\"yaxis\":{\"backgroundcolor\":\"#E5ECF6\",\"gridcolor\":\"white\",\"gridwidth\":2,\"linecolor\":\"white\",\"showbackground\":true,\"ticks\":\"\",\"zerolinecolor\":\"white\"},\"zaxis\":{\"backgroundcolor\":\"#E5ECF6\",\"gridcolor\":\"white\",\"gridwidth\":2,\"linecolor\":\"white\",\"showbackground\":true,\"ticks\":\"\",\"zerolinecolor\":\"white\"}},\"shapedefaults\":{\"line\":{\"color\":\"#2a3f5f\"}},\"ternary\":{\"aaxis\":{\"gridcolor\":\"white\",\"linecolor\":\"white\",\"ticks\":\"\"},\"baxis\":{\"gridcolor\":\"white\",\"linecolor\":\"white\",\"ticks\":\"\"},\"bgcolor\":\"#E5ECF6\",\"caxis\":{\"gridcolor\":\"white\",\"linecolor\":\"white\",\"ticks\":\"\"}},\"title\":{\"x\":0.05},\"xaxis\":{\"automargin\":true,\"gridcolor\":\"white\",\"linecolor\":\"white\",\"ticks\":\"\",\"title\":{\"standoff\":15},\"zerolinecolor\":\"white\",\"zerolinewidth\":2},\"yaxis\":{\"automargin\":true,\"gridcolor\":\"white\",\"linecolor\":\"white\",\"ticks\":\"\",\"title\":{\"standoff\":15},\"zerolinecolor\":\"white\",\"zerolinewidth\":2}}},\"title\":{\"text\":\"Fare Distribution\"},\"xaxis\":{\"anchor\":\"y2\",\"domain\":[0.0,1.0],\"zeroline\":false},\"yaxis\":{\"anchor\":\"free\",\"domain\":[0.35,1],\"position\":0.0},\"yaxis2\":{\"anchor\":\"x\",\"domain\":[0,0.25],\"dtick\":1,\"showticklabels\":false}},                        {\"responsive\": true}                    ).then(function(){\n",
       "                            \n",
       "var gd = document.getElementById('08f31a95-14a6-4333-b854-3db542531ca9');\n",
       "var x = new MutationObserver(function (mutations, observer) {{\n",
       "        var display = window.getComputedStyle(gd).display;\n",
       "        if (!display || display === 'none') {{\n",
       "            console.log([gd, 'removed!']);\n",
       "            Plotly.purge(gd);\n",
       "            observer.disconnect();\n",
       "        }}\n",
       "}});\n",
       "\n",
       "// Listen for the removal of the full notebook cells\n",
       "var notebookContainer = gd.closest('#notebook-container');\n",
       "if (notebookContainer) {{\n",
       "    x.observe(notebookContainer, {childList: true});\n",
       "}}\n",
       "\n",
       "// Listen for the clearing of the current output cell\n",
       "var outputEl = gd.closest('.output');\n",
       "if (outputEl) {{\n",
       "    x.observe(outputEl, {childList: true});\n",
       "}}\n",
       "\n",
       "                        })                };                });            </script>        </div>"
      ]
     },
     "metadata": {},
     "output_type": "display_data"
    }
   ],
   "source": [
    "fig = ff.create_distplot([data['Fare']],['Fare'],bin_size=10)\n",
    "fig.update_traces()\n",
    "fig.update_layout(\n",
    "    title=\"Fare Distribution\",\n",
    ")\n",
    "iplot(fig, filename='Basic Distplot')"
   ]
  },
  {
   "cell_type": "markdown",
   "id": "4b994144",
   "metadata": {},
   "source": [
    "The distribution of fare is also skewed. we can use log transformation if we want to noramlize these positively skewed distributions.  \n",
    "\n",
    "**Note**: In Some machine learning algorithms, it is essential to have normalized feature. But as we use MLP Classofiers here, it does'nt matter to us."
   ]
  },
  {
   "cell_type": "code",
   "execution_count": 53,
   "id": "00a1dae0",
   "metadata": {},
   "outputs": [],
   "source": [
    "data['Survived']=data['Survived'].astype('category')\n",
    "data['Pclass']=data['Pclass'].astype('category')\n",
    "data['SibSp']=data['SibSp'].astype('category')"
   ]
  },
  {
   "cell_type": "code",
   "execution_count": 54,
   "id": "2f3ff80e",
   "metadata": {},
   "outputs": [
    {
     "data": {
      "application/vnd.plotly.v1+json": {
       "config": {
        "plotlyServerURL": "https://plot.ly"
       },
       "data": [
        {
         "alignmentgroup": "True",
         "hovertemplate": "Survived=0<br>Sex=%{x}<br>counts=%{y}<extra></extra>",
         "legendgroup": "0",
         "marker": {
          "color": "#8FCBD8",
          "pattern": {
           "shape": ""
          }
         },
         "name": "0",
         "offsetgroup": "0",
         "orientation": "v",
         "showlegend": true,
         "textposition": "auto",
         "type": "bar",
         "x": [
          "female",
          "male"
         ],
         "xaxis": "x",
         "y": [
          81,
          468
         ],
         "yaxis": "y"
        },
        {
         "alignmentgroup": "True",
         "hovertemplate": "Survived=1<br>Sex=%{x}<br>counts=%{y}<extra></extra>",
         "legendgroup": "1",
         "marker": {
          "color": "#D3DBDD",
          "pattern": {
           "shape": ""
          }
         },
         "name": "1",
         "offsetgroup": "1",
         "orientation": "v",
         "showlegend": true,
         "textposition": "auto",
         "type": "bar",
         "x": [
          "female",
          "male"
         ],
         "xaxis": "x",
         "y": [
          233,
          109
         ],
         "yaxis": "y"
        }
       ],
       "layout": {
        "barmode": "group",
        "legend": {
         "title": {
          "text": "Survived"
         },
         "tracegroupgap": 0
        },
        "template": {
         "data": {
          "bar": [
           {
            "error_x": {
             "color": "#2a3f5f"
            },
            "error_y": {
             "color": "#2a3f5f"
            },
            "marker": {
             "line": {
              "color": "#E5ECF6",
              "width": 0.5
             },
             "pattern": {
              "fillmode": "overlay",
              "size": 10,
              "solidity": 0.2
             }
            },
            "type": "bar"
           }
          ],
          "barpolar": [
           {
            "marker": {
             "line": {
              "color": "#E5ECF6",
              "width": 0.5
             },
             "pattern": {
              "fillmode": "overlay",
              "size": 10,
              "solidity": 0.2
             }
            },
            "type": "barpolar"
           }
          ],
          "carpet": [
           {
            "aaxis": {
             "endlinecolor": "#2a3f5f",
             "gridcolor": "white",
             "linecolor": "white",
             "minorgridcolor": "white",
             "startlinecolor": "#2a3f5f"
            },
            "baxis": {
             "endlinecolor": "#2a3f5f",
             "gridcolor": "white",
             "linecolor": "white",
             "minorgridcolor": "white",
             "startlinecolor": "#2a3f5f"
            },
            "type": "carpet"
           }
          ],
          "choropleth": [
           {
            "colorbar": {
             "outlinewidth": 0,
             "ticks": ""
            },
            "type": "choropleth"
           }
          ],
          "contour": [
           {
            "colorbar": {
             "outlinewidth": 0,
             "ticks": ""
            },
            "colorscale": [
             [
              0,
              "#0d0887"
             ],
             [
              0.1111111111111111,
              "#46039f"
             ],
             [
              0.2222222222222222,
              "#7201a8"
             ],
             [
              0.3333333333333333,
              "#9c179e"
             ],
             [
              0.4444444444444444,
              "#bd3786"
             ],
             [
              0.5555555555555556,
              "#d8576b"
             ],
             [
              0.6666666666666666,
              "#ed7953"
             ],
             [
              0.7777777777777778,
              "#fb9f3a"
             ],
             [
              0.8888888888888888,
              "#fdca26"
             ],
             [
              1,
              "#f0f921"
             ]
            ],
            "type": "contour"
           }
          ],
          "contourcarpet": [
           {
            "colorbar": {
             "outlinewidth": 0,
             "ticks": ""
            },
            "type": "contourcarpet"
           }
          ],
          "heatmap": [
           {
            "colorbar": {
             "outlinewidth": 0,
             "ticks": ""
            },
            "colorscale": [
             [
              0,
              "#0d0887"
             ],
             [
              0.1111111111111111,
              "#46039f"
             ],
             [
              0.2222222222222222,
              "#7201a8"
             ],
             [
              0.3333333333333333,
              "#9c179e"
             ],
             [
              0.4444444444444444,
              "#bd3786"
             ],
             [
              0.5555555555555556,
              "#d8576b"
             ],
             [
              0.6666666666666666,
              "#ed7953"
             ],
             [
              0.7777777777777778,
              "#fb9f3a"
             ],
             [
              0.8888888888888888,
              "#fdca26"
             ],
             [
              1,
              "#f0f921"
             ]
            ],
            "type": "heatmap"
           }
          ],
          "heatmapgl": [
           {
            "colorbar": {
             "outlinewidth": 0,
             "ticks": ""
            },
            "colorscale": [
             [
              0,
              "#0d0887"
             ],
             [
              0.1111111111111111,
              "#46039f"
             ],
             [
              0.2222222222222222,
              "#7201a8"
             ],
             [
              0.3333333333333333,
              "#9c179e"
             ],
             [
              0.4444444444444444,
              "#bd3786"
             ],
             [
              0.5555555555555556,
              "#d8576b"
             ],
             [
              0.6666666666666666,
              "#ed7953"
             ],
             [
              0.7777777777777778,
              "#fb9f3a"
             ],
             [
              0.8888888888888888,
              "#fdca26"
             ],
             [
              1,
              "#f0f921"
             ]
            ],
            "type": "heatmapgl"
           }
          ],
          "histogram": [
           {
            "marker": {
             "pattern": {
              "fillmode": "overlay",
              "size": 10,
              "solidity": 0.2
             }
            },
            "type": "histogram"
           }
          ],
          "histogram2d": [
           {
            "colorbar": {
             "outlinewidth": 0,
             "ticks": ""
            },
            "colorscale": [
             [
              0,
              "#0d0887"
             ],
             [
              0.1111111111111111,
              "#46039f"
             ],
             [
              0.2222222222222222,
              "#7201a8"
             ],
             [
              0.3333333333333333,
              "#9c179e"
             ],
             [
              0.4444444444444444,
              "#bd3786"
             ],
             [
              0.5555555555555556,
              "#d8576b"
             ],
             [
              0.6666666666666666,
              "#ed7953"
             ],
             [
              0.7777777777777778,
              "#fb9f3a"
             ],
             [
              0.8888888888888888,
              "#fdca26"
             ],
             [
              1,
              "#f0f921"
             ]
            ],
            "type": "histogram2d"
           }
          ],
          "histogram2dcontour": [
           {
            "colorbar": {
             "outlinewidth": 0,
             "ticks": ""
            },
            "colorscale": [
             [
              0,
              "#0d0887"
             ],
             [
              0.1111111111111111,
              "#46039f"
             ],
             [
              0.2222222222222222,
              "#7201a8"
             ],
             [
              0.3333333333333333,
              "#9c179e"
             ],
             [
              0.4444444444444444,
              "#bd3786"
             ],
             [
              0.5555555555555556,
              "#d8576b"
             ],
             [
              0.6666666666666666,
              "#ed7953"
             ],
             [
              0.7777777777777778,
              "#fb9f3a"
             ],
             [
              0.8888888888888888,
              "#fdca26"
             ],
             [
              1,
              "#f0f921"
             ]
            ],
            "type": "histogram2dcontour"
           }
          ],
          "mesh3d": [
           {
            "colorbar": {
             "outlinewidth": 0,
             "ticks": ""
            },
            "type": "mesh3d"
           }
          ],
          "parcoords": [
           {
            "line": {
             "colorbar": {
              "outlinewidth": 0,
              "ticks": ""
             }
            },
            "type": "parcoords"
           }
          ],
          "pie": [
           {
            "automargin": true,
            "type": "pie"
           }
          ],
          "scatter": [
           {
            "fillpattern": {
             "fillmode": "overlay",
             "size": 10,
             "solidity": 0.2
            },
            "type": "scatter"
           }
          ],
          "scatter3d": [
           {
            "line": {
             "colorbar": {
              "outlinewidth": 0,
              "ticks": ""
             }
            },
            "marker": {
             "colorbar": {
              "outlinewidth": 0,
              "ticks": ""
             }
            },
            "type": "scatter3d"
           }
          ],
          "scattercarpet": [
           {
            "marker": {
             "colorbar": {
              "outlinewidth": 0,
              "ticks": ""
             }
            },
            "type": "scattercarpet"
           }
          ],
          "scattergeo": [
           {
            "marker": {
             "colorbar": {
              "outlinewidth": 0,
              "ticks": ""
             }
            },
            "type": "scattergeo"
           }
          ],
          "scattergl": [
           {
            "marker": {
             "colorbar": {
              "outlinewidth": 0,
              "ticks": ""
             }
            },
            "type": "scattergl"
           }
          ],
          "scattermapbox": [
           {
            "marker": {
             "colorbar": {
              "outlinewidth": 0,
              "ticks": ""
             }
            },
            "type": "scattermapbox"
           }
          ],
          "scatterpolar": [
           {
            "marker": {
             "colorbar": {
              "outlinewidth": 0,
              "ticks": ""
             }
            },
            "type": "scatterpolar"
           }
          ],
          "scatterpolargl": [
           {
            "marker": {
             "colorbar": {
              "outlinewidth": 0,
              "ticks": ""
             }
            },
            "type": "scatterpolargl"
           }
          ],
          "scatterternary": [
           {
            "marker": {
             "colorbar": {
              "outlinewidth": 0,
              "ticks": ""
             }
            },
            "type": "scatterternary"
           }
          ],
          "surface": [
           {
            "colorbar": {
             "outlinewidth": 0,
             "ticks": ""
            },
            "colorscale": [
             [
              0,
              "#0d0887"
             ],
             [
              0.1111111111111111,
              "#46039f"
             ],
             [
              0.2222222222222222,
              "#7201a8"
             ],
             [
              0.3333333333333333,
              "#9c179e"
             ],
             [
              0.4444444444444444,
              "#bd3786"
             ],
             [
              0.5555555555555556,
              "#d8576b"
             ],
             [
              0.6666666666666666,
              "#ed7953"
             ],
             [
              0.7777777777777778,
              "#fb9f3a"
             ],
             [
              0.8888888888888888,
              "#fdca26"
             ],
             [
              1,
              "#f0f921"
             ]
            ],
            "type": "surface"
           }
          ],
          "table": [
           {
            "cells": {
             "fill": {
              "color": "#EBF0F8"
             },
             "line": {
              "color": "white"
             }
            },
            "header": {
             "fill": {
              "color": "#C8D4E3"
             },
             "line": {
              "color": "white"
             }
            },
            "type": "table"
           }
          ]
         },
         "layout": {
          "annotationdefaults": {
           "arrowcolor": "#2a3f5f",
           "arrowhead": 0,
           "arrowwidth": 1
          },
          "autotypenumbers": "strict",
          "coloraxis": {
           "colorbar": {
            "outlinewidth": 0,
            "ticks": ""
           }
          },
          "colorscale": {
           "diverging": [
            [
             0,
             "#8e0152"
            ],
            [
             0.1,
             "#c51b7d"
            ],
            [
             0.2,
             "#de77ae"
            ],
            [
             0.3,
             "#f1b6da"
            ],
            [
             0.4,
             "#fde0ef"
            ],
            [
             0.5,
             "#f7f7f7"
            ],
            [
             0.6,
             "#e6f5d0"
            ],
            [
             0.7,
             "#b8e186"
            ],
            [
             0.8,
             "#7fbc41"
            ],
            [
             0.9,
             "#4d9221"
            ],
            [
             1,
             "#276419"
            ]
           ],
           "sequential": [
            [
             0,
             "#0d0887"
            ],
            [
             0.1111111111111111,
             "#46039f"
            ],
            [
             0.2222222222222222,
             "#7201a8"
            ],
            [
             0.3333333333333333,
             "#9c179e"
            ],
            [
             0.4444444444444444,
             "#bd3786"
            ],
            [
             0.5555555555555556,
             "#d8576b"
            ],
            [
             0.6666666666666666,
             "#ed7953"
            ],
            [
             0.7777777777777778,
             "#fb9f3a"
            ],
            [
             0.8888888888888888,
             "#fdca26"
            ],
            [
             1,
             "#f0f921"
            ]
           ],
           "sequentialminus": [
            [
             0,
             "#0d0887"
            ],
            [
             0.1111111111111111,
             "#46039f"
            ],
            [
             0.2222222222222222,
             "#7201a8"
            ],
            [
             0.3333333333333333,
             "#9c179e"
            ],
            [
             0.4444444444444444,
             "#bd3786"
            ],
            [
             0.5555555555555556,
             "#d8576b"
            ],
            [
             0.6666666666666666,
             "#ed7953"
            ],
            [
             0.7777777777777778,
             "#fb9f3a"
            ],
            [
             0.8888888888888888,
             "#fdca26"
            ],
            [
             1,
             "#f0f921"
            ]
           ]
          },
          "colorway": [
           "#636efa",
           "#EF553B",
           "#00cc96",
           "#ab63fa",
           "#FFA15A",
           "#19d3f3",
           "#FF6692",
           "#B6E880",
           "#FF97FF",
           "#FECB52"
          ],
          "font": {
           "color": "#2a3f5f"
          },
          "geo": {
           "bgcolor": "white",
           "lakecolor": "white",
           "landcolor": "#E5ECF6",
           "showlakes": true,
           "showland": true,
           "subunitcolor": "white"
          },
          "hoverlabel": {
           "align": "left"
          },
          "hovermode": "closest",
          "mapbox": {
           "style": "light"
          },
          "paper_bgcolor": "white",
          "plot_bgcolor": "#E5ECF6",
          "polar": {
           "angularaxis": {
            "gridcolor": "white",
            "linecolor": "white",
            "ticks": ""
           },
           "bgcolor": "#E5ECF6",
           "radialaxis": {
            "gridcolor": "white",
            "linecolor": "white",
            "ticks": ""
           }
          },
          "scene": {
           "xaxis": {
            "backgroundcolor": "#E5ECF6",
            "gridcolor": "white",
            "gridwidth": 2,
            "linecolor": "white",
            "showbackground": true,
            "ticks": "",
            "zerolinecolor": "white"
           },
           "yaxis": {
            "backgroundcolor": "#E5ECF6",
            "gridcolor": "white",
            "gridwidth": 2,
            "linecolor": "white",
            "showbackground": true,
            "ticks": "",
            "zerolinecolor": "white"
           },
           "zaxis": {
            "backgroundcolor": "#E5ECF6",
            "gridcolor": "white",
            "gridwidth": 2,
            "linecolor": "white",
            "showbackground": true,
            "ticks": "",
            "zerolinecolor": "white"
           }
          },
          "shapedefaults": {
           "line": {
            "color": "#2a3f5f"
           }
          },
          "ternary": {
           "aaxis": {
            "gridcolor": "white",
            "linecolor": "white",
            "ticks": ""
           },
           "baxis": {
            "gridcolor": "white",
            "linecolor": "white",
            "ticks": ""
           },
           "bgcolor": "#E5ECF6",
           "caxis": {
            "gridcolor": "white",
            "linecolor": "white",
            "ticks": ""
           }
          },
          "title": {
           "x": 0.05
          },
          "xaxis": {
           "automargin": true,
           "gridcolor": "white",
           "linecolor": "white",
           "ticks": "",
           "title": {
            "standoff": 15
           },
           "zerolinecolor": "white",
           "zerolinewidth": 2
          },
          "yaxis": {
           "automargin": true,
           "gridcolor": "white",
           "linecolor": "white",
           "ticks": "",
           "title": {
            "standoff": 15
           },
           "zerolinecolor": "white",
           "zerolinewidth": 2
          }
         }
        },
        "title": {
         "text": "Survived vs Gender"
        },
        "xaxis": {
         "anchor": "y",
         "domain": [
          0,
          1
         ],
         "title": {
          "text": "Sex"
         }
        },
        "yaxis": {
         "anchor": "x",
         "domain": [
          0,
          1
         ],
         "title": {
          "text": "counts"
         }
        }
       }
      },
      "text/html": [
       "<div>                            <div id=\"cecaa0aa-5c6d-46e5-a8ca-ceba92fb9ce6\" class=\"plotly-graph-div\" style=\"height:525px; width:100%;\"></div>            <script type=\"text/javascript\">                require([\"plotly\"], function(Plotly) {                    window.PLOTLYENV=window.PLOTLYENV || {};                                    if (document.getElementById(\"cecaa0aa-5c6d-46e5-a8ca-ceba92fb9ce6\")) {                    Plotly.newPlot(                        \"cecaa0aa-5c6d-46e5-a8ca-ceba92fb9ce6\",                        [{\"alignmentgroup\":\"True\",\"hovertemplate\":\"Survived=0<br>Sex=%{x}<br>counts=%{y}<extra></extra>\",\"legendgroup\":\"0\",\"marker\":{\"color\":\"#8FCBD8\",\"pattern\":{\"shape\":\"\"}},\"name\":\"0\",\"offsetgroup\":\"0\",\"orientation\":\"v\",\"showlegend\":true,\"textposition\":\"auto\",\"x\":[\"female\",\"male\"],\"xaxis\":\"x\",\"y\":[81,468],\"yaxis\":\"y\",\"type\":\"bar\"},{\"alignmentgroup\":\"True\",\"hovertemplate\":\"Survived=1<br>Sex=%{x}<br>counts=%{y}<extra></extra>\",\"legendgroup\":\"1\",\"marker\":{\"color\":\"#D3DBDD\",\"pattern\":{\"shape\":\"\"}},\"name\":\"1\",\"offsetgroup\":\"1\",\"orientation\":\"v\",\"showlegend\":true,\"textposition\":\"auto\",\"x\":[\"female\",\"male\"],\"xaxis\":\"x\",\"y\":[233,109],\"yaxis\":\"y\",\"type\":\"bar\"}],                        {\"template\":{\"data\":{\"histogram2dcontour\":[{\"type\":\"histogram2dcontour\",\"colorbar\":{\"outlinewidth\":0,\"ticks\":\"\"},\"colorscale\":[[0.0,\"#0d0887\"],[0.1111111111111111,\"#46039f\"],[0.2222222222222222,\"#7201a8\"],[0.3333333333333333,\"#9c179e\"],[0.4444444444444444,\"#bd3786\"],[0.5555555555555556,\"#d8576b\"],[0.6666666666666666,\"#ed7953\"],[0.7777777777777778,\"#fb9f3a\"],[0.8888888888888888,\"#fdca26\"],[1.0,\"#f0f921\"]]}],\"choropleth\":[{\"type\":\"choropleth\",\"colorbar\":{\"outlinewidth\":0,\"ticks\":\"\"}}],\"histogram2d\":[{\"type\":\"histogram2d\",\"colorbar\":{\"outlinewidth\":0,\"ticks\":\"\"},\"colorscale\":[[0.0,\"#0d0887\"],[0.1111111111111111,\"#46039f\"],[0.2222222222222222,\"#7201a8\"],[0.3333333333333333,\"#9c179e\"],[0.4444444444444444,\"#bd3786\"],[0.5555555555555556,\"#d8576b\"],[0.6666666666666666,\"#ed7953\"],[0.7777777777777778,\"#fb9f3a\"],[0.8888888888888888,\"#fdca26\"],[1.0,\"#f0f921\"]]}],\"heatmap\":[{\"type\":\"heatmap\",\"colorbar\":{\"outlinewidth\":0,\"ticks\":\"\"},\"colorscale\":[[0.0,\"#0d0887\"],[0.1111111111111111,\"#46039f\"],[0.2222222222222222,\"#7201a8\"],[0.3333333333333333,\"#9c179e\"],[0.4444444444444444,\"#bd3786\"],[0.5555555555555556,\"#d8576b\"],[0.6666666666666666,\"#ed7953\"],[0.7777777777777778,\"#fb9f3a\"],[0.8888888888888888,\"#fdca26\"],[1.0,\"#f0f921\"]]}],\"heatmapgl\":[{\"type\":\"heatmapgl\",\"colorbar\":{\"outlinewidth\":0,\"ticks\":\"\"},\"colorscale\":[[0.0,\"#0d0887\"],[0.1111111111111111,\"#46039f\"],[0.2222222222222222,\"#7201a8\"],[0.3333333333333333,\"#9c179e\"],[0.4444444444444444,\"#bd3786\"],[0.5555555555555556,\"#d8576b\"],[0.6666666666666666,\"#ed7953\"],[0.7777777777777778,\"#fb9f3a\"],[0.8888888888888888,\"#fdca26\"],[1.0,\"#f0f921\"]]}],\"contourcarpet\":[{\"type\":\"contourcarpet\",\"colorbar\":{\"outlinewidth\":0,\"ticks\":\"\"}}],\"contour\":[{\"type\":\"contour\",\"colorbar\":{\"outlinewidth\":0,\"ticks\":\"\"},\"colorscale\":[[0.0,\"#0d0887\"],[0.1111111111111111,\"#46039f\"],[0.2222222222222222,\"#7201a8\"],[0.3333333333333333,\"#9c179e\"],[0.4444444444444444,\"#bd3786\"],[0.5555555555555556,\"#d8576b\"],[0.6666666666666666,\"#ed7953\"],[0.7777777777777778,\"#fb9f3a\"],[0.8888888888888888,\"#fdca26\"],[1.0,\"#f0f921\"]]}],\"surface\":[{\"type\":\"surface\",\"colorbar\":{\"outlinewidth\":0,\"ticks\":\"\"},\"colorscale\":[[0.0,\"#0d0887\"],[0.1111111111111111,\"#46039f\"],[0.2222222222222222,\"#7201a8\"],[0.3333333333333333,\"#9c179e\"],[0.4444444444444444,\"#bd3786\"],[0.5555555555555556,\"#d8576b\"],[0.6666666666666666,\"#ed7953\"],[0.7777777777777778,\"#fb9f3a\"],[0.8888888888888888,\"#fdca26\"],[1.0,\"#f0f921\"]]}],\"mesh3d\":[{\"type\":\"mesh3d\",\"colorbar\":{\"outlinewidth\":0,\"ticks\":\"\"}}],\"scatter\":[{\"fillpattern\":{\"fillmode\":\"overlay\",\"size\":10,\"solidity\":0.2},\"type\":\"scatter\"}],\"parcoords\":[{\"type\":\"parcoords\",\"line\":{\"colorbar\":{\"outlinewidth\":0,\"ticks\":\"\"}}}],\"scatterpolargl\":[{\"type\":\"scatterpolargl\",\"marker\":{\"colorbar\":{\"outlinewidth\":0,\"ticks\":\"\"}}}],\"bar\":[{\"error_x\":{\"color\":\"#2a3f5f\"},\"error_y\":{\"color\":\"#2a3f5f\"},\"marker\":{\"line\":{\"color\":\"#E5ECF6\",\"width\":0.5},\"pattern\":{\"fillmode\":\"overlay\",\"size\":10,\"solidity\":0.2}},\"type\":\"bar\"}],\"scattergeo\":[{\"type\":\"scattergeo\",\"marker\":{\"colorbar\":{\"outlinewidth\":0,\"ticks\":\"\"}}}],\"scatterpolar\":[{\"type\":\"scatterpolar\",\"marker\":{\"colorbar\":{\"outlinewidth\":0,\"ticks\":\"\"}}}],\"histogram\":[{\"marker\":{\"pattern\":{\"fillmode\":\"overlay\",\"size\":10,\"solidity\":0.2}},\"type\":\"histogram\"}],\"scattergl\":[{\"type\":\"scattergl\",\"marker\":{\"colorbar\":{\"outlinewidth\":0,\"ticks\":\"\"}}}],\"scatter3d\":[{\"type\":\"scatter3d\",\"line\":{\"colorbar\":{\"outlinewidth\":0,\"ticks\":\"\"}},\"marker\":{\"colorbar\":{\"outlinewidth\":0,\"ticks\":\"\"}}}],\"scattermapbox\":[{\"type\":\"scattermapbox\",\"marker\":{\"colorbar\":{\"outlinewidth\":0,\"ticks\":\"\"}}}],\"scatterternary\":[{\"type\":\"scatterternary\",\"marker\":{\"colorbar\":{\"outlinewidth\":0,\"ticks\":\"\"}}}],\"scattercarpet\":[{\"type\":\"scattercarpet\",\"marker\":{\"colorbar\":{\"outlinewidth\":0,\"ticks\":\"\"}}}],\"carpet\":[{\"aaxis\":{\"endlinecolor\":\"#2a3f5f\",\"gridcolor\":\"white\",\"linecolor\":\"white\",\"minorgridcolor\":\"white\",\"startlinecolor\":\"#2a3f5f\"},\"baxis\":{\"endlinecolor\":\"#2a3f5f\",\"gridcolor\":\"white\",\"linecolor\":\"white\",\"minorgridcolor\":\"white\",\"startlinecolor\":\"#2a3f5f\"},\"type\":\"carpet\"}],\"table\":[{\"cells\":{\"fill\":{\"color\":\"#EBF0F8\"},\"line\":{\"color\":\"white\"}},\"header\":{\"fill\":{\"color\":\"#C8D4E3\"},\"line\":{\"color\":\"white\"}},\"type\":\"table\"}],\"barpolar\":[{\"marker\":{\"line\":{\"color\":\"#E5ECF6\",\"width\":0.5},\"pattern\":{\"fillmode\":\"overlay\",\"size\":10,\"solidity\":0.2}},\"type\":\"barpolar\"}],\"pie\":[{\"automargin\":true,\"type\":\"pie\"}]},\"layout\":{\"autotypenumbers\":\"strict\",\"colorway\":[\"#636efa\",\"#EF553B\",\"#00cc96\",\"#ab63fa\",\"#FFA15A\",\"#19d3f3\",\"#FF6692\",\"#B6E880\",\"#FF97FF\",\"#FECB52\"],\"font\":{\"color\":\"#2a3f5f\"},\"hovermode\":\"closest\",\"hoverlabel\":{\"align\":\"left\"},\"paper_bgcolor\":\"white\",\"plot_bgcolor\":\"#E5ECF6\",\"polar\":{\"bgcolor\":\"#E5ECF6\",\"angularaxis\":{\"gridcolor\":\"white\",\"linecolor\":\"white\",\"ticks\":\"\"},\"radialaxis\":{\"gridcolor\":\"white\",\"linecolor\":\"white\",\"ticks\":\"\"}},\"ternary\":{\"bgcolor\":\"#E5ECF6\",\"aaxis\":{\"gridcolor\":\"white\",\"linecolor\":\"white\",\"ticks\":\"\"},\"baxis\":{\"gridcolor\":\"white\",\"linecolor\":\"white\",\"ticks\":\"\"},\"caxis\":{\"gridcolor\":\"white\",\"linecolor\":\"white\",\"ticks\":\"\"}},\"coloraxis\":{\"colorbar\":{\"outlinewidth\":0,\"ticks\":\"\"}},\"colorscale\":{\"sequential\":[[0.0,\"#0d0887\"],[0.1111111111111111,\"#46039f\"],[0.2222222222222222,\"#7201a8\"],[0.3333333333333333,\"#9c179e\"],[0.4444444444444444,\"#bd3786\"],[0.5555555555555556,\"#d8576b\"],[0.6666666666666666,\"#ed7953\"],[0.7777777777777778,\"#fb9f3a\"],[0.8888888888888888,\"#fdca26\"],[1.0,\"#f0f921\"]],\"sequentialminus\":[[0.0,\"#0d0887\"],[0.1111111111111111,\"#46039f\"],[0.2222222222222222,\"#7201a8\"],[0.3333333333333333,\"#9c179e\"],[0.4444444444444444,\"#bd3786\"],[0.5555555555555556,\"#d8576b\"],[0.6666666666666666,\"#ed7953\"],[0.7777777777777778,\"#fb9f3a\"],[0.8888888888888888,\"#fdca26\"],[1.0,\"#f0f921\"]],\"diverging\":[[0,\"#8e0152\"],[0.1,\"#c51b7d\"],[0.2,\"#de77ae\"],[0.3,\"#f1b6da\"],[0.4,\"#fde0ef\"],[0.5,\"#f7f7f7\"],[0.6,\"#e6f5d0\"],[0.7,\"#b8e186\"],[0.8,\"#7fbc41\"],[0.9,\"#4d9221\"],[1,\"#276419\"]]},\"xaxis\":{\"gridcolor\":\"white\",\"linecolor\":\"white\",\"ticks\":\"\",\"title\":{\"standoff\":15},\"zerolinecolor\":\"white\",\"automargin\":true,\"zerolinewidth\":2},\"yaxis\":{\"gridcolor\":\"white\",\"linecolor\":\"white\",\"ticks\":\"\",\"title\":{\"standoff\":15},\"zerolinecolor\":\"white\",\"automargin\":true,\"zerolinewidth\":2},\"scene\":{\"xaxis\":{\"backgroundcolor\":\"#E5ECF6\",\"gridcolor\":\"white\",\"linecolor\":\"white\",\"showbackground\":true,\"ticks\":\"\",\"zerolinecolor\":\"white\",\"gridwidth\":2},\"yaxis\":{\"backgroundcolor\":\"#E5ECF6\",\"gridcolor\":\"white\",\"linecolor\":\"white\",\"showbackground\":true,\"ticks\":\"\",\"zerolinecolor\":\"white\",\"gridwidth\":2},\"zaxis\":{\"backgroundcolor\":\"#E5ECF6\",\"gridcolor\":\"white\",\"linecolor\":\"white\",\"showbackground\":true,\"ticks\":\"\",\"zerolinecolor\":\"white\",\"gridwidth\":2}},\"shapedefaults\":{\"line\":{\"color\":\"#2a3f5f\"}},\"annotationdefaults\":{\"arrowcolor\":\"#2a3f5f\",\"arrowhead\":0,\"arrowwidth\":1},\"geo\":{\"bgcolor\":\"white\",\"landcolor\":\"#E5ECF6\",\"subunitcolor\":\"white\",\"showland\":true,\"showlakes\":true,\"lakecolor\":\"white\"},\"title\":{\"x\":0.05},\"mapbox\":{\"style\":\"light\"}}},\"xaxis\":{\"anchor\":\"y\",\"domain\":[0.0,1.0],\"title\":{\"text\":\"Sex\"}},\"yaxis\":{\"anchor\":\"x\",\"domain\":[0.0,1.0],\"title\":{\"text\":\"counts\"}},\"legend\":{\"title\":{\"text\":\"Survived\"},\"tracegroupgap\":0},\"title\":{\"text\":\"Survived vs Gender\"},\"barmode\":\"group\"},                        {\"responsive\": true}                    ).then(function(){\n",
       "                            \n",
       "var gd = document.getElementById('cecaa0aa-5c6d-46e5-a8ca-ceba92fb9ce6');\n",
       "var x = new MutationObserver(function (mutations, observer) {{\n",
       "        var display = window.getComputedStyle(gd).display;\n",
       "        if (!display || display === 'none') {{\n",
       "            console.log([gd, 'removed!']);\n",
       "            Plotly.purge(gd);\n",
       "            observer.disconnect();\n",
       "        }}\n",
       "}});\n",
       "\n",
       "// Listen for the removal of the full notebook cells\n",
       "var notebookContainer = gd.closest('#notebook-container');\n",
       "if (notebookContainer) {{\n",
       "    x.observe(notebookContainer, {childList: true});\n",
       "}}\n",
       "\n",
       "// Listen for the clearing of the current output cell\n",
       "var outputEl = gd.closest('.output');\n",
       "if (outputEl) {{\n",
       "    x.observe(outputEl, {childList: true});\n",
       "}}\n",
       "\n",
       "                        })                };                });            </script>        </div>"
      ]
     },
     "metadata": {},
     "output_type": "display_data"
    }
   ],
   "source": [
    "import plotly.express as px\n",
    "\n",
    "df = data.groupby(by=[\"Survived\", \"Sex\"]).size().reset_index(name=\"counts\")\n",
    "px.bar(data_frame=df, x=\"Sex\", y=\"counts\", color=\"Survived\", barmode=\"group\",color_discrete_sequence =['#8FCBD8','#D3DBDD'],title=\"Survived vs Gender\")"
   ]
  },
  {
   "cell_type": "markdown",
   "id": "4cf6520e",
   "metadata": {},
   "source": [
    "Out of all the survivers there were many females. this may due to the fact that higher priority given to save the children and women on the ship."
   ]
  },
  {
   "cell_type": "code",
   "execution_count": 55,
   "id": "16cb2dc9",
   "metadata": {},
   "outputs": [
    {
     "data": {
      "application/vnd.plotly.v1+json": {
       "config": {
        "plotlyServerURL": "https://plot.ly"
       },
       "data": [
        {
         "alignmentgroup": "True",
         "hovertemplate": "Survived=0<br>Pclass=%{x}<br>counts=%{y}<extra></extra>",
         "legendgroup": "0",
         "marker": {
          "color": "#8FCBD8",
          "pattern": {
           "shape": ""
          }
         },
         "name": "0",
         "offsetgroup": "0",
         "orientation": "v",
         "showlegend": true,
         "textposition": "auto",
         "type": "bar",
         "x": [
          1,
          2,
          3
         ],
         "xaxis": "x",
         "y": [
          80,
          97,
          372
         ],
         "yaxis": "y"
        },
        {
         "alignmentgroup": "True",
         "hovertemplate": "Survived=1<br>Pclass=%{x}<br>counts=%{y}<extra></extra>",
         "legendgroup": "1",
         "marker": {
          "color": "#D3DBDD",
          "pattern": {
           "shape": ""
          }
         },
         "name": "1",
         "offsetgroup": "1",
         "orientation": "v",
         "showlegend": true,
         "textposition": "auto",
         "type": "bar",
         "x": [
          1,
          2,
          3
         ],
         "xaxis": "x",
         "y": [
          136,
          87,
          119
         ],
         "yaxis": "y"
        }
       ],
       "layout": {
        "barmode": "group",
        "legend": {
         "title": {
          "text": "Survived"
         },
         "tracegroupgap": 0
        },
        "template": {
         "data": {
          "bar": [
           {
            "error_x": {
             "color": "#2a3f5f"
            },
            "error_y": {
             "color": "#2a3f5f"
            },
            "marker": {
             "line": {
              "color": "#E5ECF6",
              "width": 0.5
             },
             "pattern": {
              "fillmode": "overlay",
              "size": 10,
              "solidity": 0.2
             }
            },
            "type": "bar"
           }
          ],
          "barpolar": [
           {
            "marker": {
             "line": {
              "color": "#E5ECF6",
              "width": 0.5
             },
             "pattern": {
              "fillmode": "overlay",
              "size": 10,
              "solidity": 0.2
             }
            },
            "type": "barpolar"
           }
          ],
          "carpet": [
           {
            "aaxis": {
             "endlinecolor": "#2a3f5f",
             "gridcolor": "white",
             "linecolor": "white",
             "minorgridcolor": "white",
             "startlinecolor": "#2a3f5f"
            },
            "baxis": {
             "endlinecolor": "#2a3f5f",
             "gridcolor": "white",
             "linecolor": "white",
             "minorgridcolor": "white",
             "startlinecolor": "#2a3f5f"
            },
            "type": "carpet"
           }
          ],
          "choropleth": [
           {
            "colorbar": {
             "outlinewidth": 0,
             "ticks": ""
            },
            "type": "choropleth"
           }
          ],
          "contour": [
           {
            "colorbar": {
             "outlinewidth": 0,
             "ticks": ""
            },
            "colorscale": [
             [
              0,
              "#0d0887"
             ],
             [
              0.1111111111111111,
              "#46039f"
             ],
             [
              0.2222222222222222,
              "#7201a8"
             ],
             [
              0.3333333333333333,
              "#9c179e"
             ],
             [
              0.4444444444444444,
              "#bd3786"
             ],
             [
              0.5555555555555556,
              "#d8576b"
             ],
             [
              0.6666666666666666,
              "#ed7953"
             ],
             [
              0.7777777777777778,
              "#fb9f3a"
             ],
             [
              0.8888888888888888,
              "#fdca26"
             ],
             [
              1,
              "#f0f921"
             ]
            ],
            "type": "contour"
           }
          ],
          "contourcarpet": [
           {
            "colorbar": {
             "outlinewidth": 0,
             "ticks": ""
            },
            "type": "contourcarpet"
           }
          ],
          "heatmap": [
           {
            "colorbar": {
             "outlinewidth": 0,
             "ticks": ""
            },
            "colorscale": [
             [
              0,
              "#0d0887"
             ],
             [
              0.1111111111111111,
              "#46039f"
             ],
             [
              0.2222222222222222,
              "#7201a8"
             ],
             [
              0.3333333333333333,
              "#9c179e"
             ],
             [
              0.4444444444444444,
              "#bd3786"
             ],
             [
              0.5555555555555556,
              "#d8576b"
             ],
             [
              0.6666666666666666,
              "#ed7953"
             ],
             [
              0.7777777777777778,
              "#fb9f3a"
             ],
             [
              0.8888888888888888,
              "#fdca26"
             ],
             [
              1,
              "#f0f921"
             ]
            ],
            "type": "heatmap"
           }
          ],
          "heatmapgl": [
           {
            "colorbar": {
             "outlinewidth": 0,
             "ticks": ""
            },
            "colorscale": [
             [
              0,
              "#0d0887"
             ],
             [
              0.1111111111111111,
              "#46039f"
             ],
             [
              0.2222222222222222,
              "#7201a8"
             ],
             [
              0.3333333333333333,
              "#9c179e"
             ],
             [
              0.4444444444444444,
              "#bd3786"
             ],
             [
              0.5555555555555556,
              "#d8576b"
             ],
             [
              0.6666666666666666,
              "#ed7953"
             ],
             [
              0.7777777777777778,
              "#fb9f3a"
             ],
             [
              0.8888888888888888,
              "#fdca26"
             ],
             [
              1,
              "#f0f921"
             ]
            ],
            "type": "heatmapgl"
           }
          ],
          "histogram": [
           {
            "marker": {
             "pattern": {
              "fillmode": "overlay",
              "size": 10,
              "solidity": 0.2
             }
            },
            "type": "histogram"
           }
          ],
          "histogram2d": [
           {
            "colorbar": {
             "outlinewidth": 0,
             "ticks": ""
            },
            "colorscale": [
             [
              0,
              "#0d0887"
             ],
             [
              0.1111111111111111,
              "#46039f"
             ],
             [
              0.2222222222222222,
              "#7201a8"
             ],
             [
              0.3333333333333333,
              "#9c179e"
             ],
             [
              0.4444444444444444,
              "#bd3786"
             ],
             [
              0.5555555555555556,
              "#d8576b"
             ],
             [
              0.6666666666666666,
              "#ed7953"
             ],
             [
              0.7777777777777778,
              "#fb9f3a"
             ],
             [
              0.8888888888888888,
              "#fdca26"
             ],
             [
              1,
              "#f0f921"
             ]
            ],
            "type": "histogram2d"
           }
          ],
          "histogram2dcontour": [
           {
            "colorbar": {
             "outlinewidth": 0,
             "ticks": ""
            },
            "colorscale": [
             [
              0,
              "#0d0887"
             ],
             [
              0.1111111111111111,
              "#46039f"
             ],
             [
              0.2222222222222222,
              "#7201a8"
             ],
             [
              0.3333333333333333,
              "#9c179e"
             ],
             [
              0.4444444444444444,
              "#bd3786"
             ],
             [
              0.5555555555555556,
              "#d8576b"
             ],
             [
              0.6666666666666666,
              "#ed7953"
             ],
             [
              0.7777777777777778,
              "#fb9f3a"
             ],
             [
              0.8888888888888888,
              "#fdca26"
             ],
             [
              1,
              "#f0f921"
             ]
            ],
            "type": "histogram2dcontour"
           }
          ],
          "mesh3d": [
           {
            "colorbar": {
             "outlinewidth": 0,
             "ticks": ""
            },
            "type": "mesh3d"
           }
          ],
          "parcoords": [
           {
            "line": {
             "colorbar": {
              "outlinewidth": 0,
              "ticks": ""
             }
            },
            "type": "parcoords"
           }
          ],
          "pie": [
           {
            "automargin": true,
            "type": "pie"
           }
          ],
          "scatter": [
           {
            "fillpattern": {
             "fillmode": "overlay",
             "size": 10,
             "solidity": 0.2
            },
            "type": "scatter"
           }
          ],
          "scatter3d": [
           {
            "line": {
             "colorbar": {
              "outlinewidth": 0,
              "ticks": ""
             }
            },
            "marker": {
             "colorbar": {
              "outlinewidth": 0,
              "ticks": ""
             }
            },
            "type": "scatter3d"
           }
          ],
          "scattercarpet": [
           {
            "marker": {
             "colorbar": {
              "outlinewidth": 0,
              "ticks": ""
             }
            },
            "type": "scattercarpet"
           }
          ],
          "scattergeo": [
           {
            "marker": {
             "colorbar": {
              "outlinewidth": 0,
              "ticks": ""
             }
            },
            "type": "scattergeo"
           }
          ],
          "scattergl": [
           {
            "marker": {
             "colorbar": {
              "outlinewidth": 0,
              "ticks": ""
             }
            },
            "type": "scattergl"
           }
          ],
          "scattermapbox": [
           {
            "marker": {
             "colorbar": {
              "outlinewidth": 0,
              "ticks": ""
             }
            },
            "type": "scattermapbox"
           }
          ],
          "scatterpolar": [
           {
            "marker": {
             "colorbar": {
              "outlinewidth": 0,
              "ticks": ""
             }
            },
            "type": "scatterpolar"
           }
          ],
          "scatterpolargl": [
           {
            "marker": {
             "colorbar": {
              "outlinewidth": 0,
              "ticks": ""
             }
            },
            "type": "scatterpolargl"
           }
          ],
          "scatterternary": [
           {
            "marker": {
             "colorbar": {
              "outlinewidth": 0,
              "ticks": ""
             }
            },
            "type": "scatterternary"
           }
          ],
          "surface": [
           {
            "colorbar": {
             "outlinewidth": 0,
             "ticks": ""
            },
            "colorscale": [
             [
              0,
              "#0d0887"
             ],
             [
              0.1111111111111111,
              "#46039f"
             ],
             [
              0.2222222222222222,
              "#7201a8"
             ],
             [
              0.3333333333333333,
              "#9c179e"
             ],
             [
              0.4444444444444444,
              "#bd3786"
             ],
             [
              0.5555555555555556,
              "#d8576b"
             ],
             [
              0.6666666666666666,
              "#ed7953"
             ],
             [
              0.7777777777777778,
              "#fb9f3a"
             ],
             [
              0.8888888888888888,
              "#fdca26"
             ],
             [
              1,
              "#f0f921"
             ]
            ],
            "type": "surface"
           }
          ],
          "table": [
           {
            "cells": {
             "fill": {
              "color": "#EBF0F8"
             },
             "line": {
              "color": "white"
             }
            },
            "header": {
             "fill": {
              "color": "#C8D4E3"
             },
             "line": {
              "color": "white"
             }
            },
            "type": "table"
           }
          ]
         },
         "layout": {
          "annotationdefaults": {
           "arrowcolor": "#2a3f5f",
           "arrowhead": 0,
           "arrowwidth": 1
          },
          "autotypenumbers": "strict",
          "coloraxis": {
           "colorbar": {
            "outlinewidth": 0,
            "ticks": ""
           }
          },
          "colorscale": {
           "diverging": [
            [
             0,
             "#8e0152"
            ],
            [
             0.1,
             "#c51b7d"
            ],
            [
             0.2,
             "#de77ae"
            ],
            [
             0.3,
             "#f1b6da"
            ],
            [
             0.4,
             "#fde0ef"
            ],
            [
             0.5,
             "#f7f7f7"
            ],
            [
             0.6,
             "#e6f5d0"
            ],
            [
             0.7,
             "#b8e186"
            ],
            [
             0.8,
             "#7fbc41"
            ],
            [
             0.9,
             "#4d9221"
            ],
            [
             1,
             "#276419"
            ]
           ],
           "sequential": [
            [
             0,
             "#0d0887"
            ],
            [
             0.1111111111111111,
             "#46039f"
            ],
            [
             0.2222222222222222,
             "#7201a8"
            ],
            [
             0.3333333333333333,
             "#9c179e"
            ],
            [
             0.4444444444444444,
             "#bd3786"
            ],
            [
             0.5555555555555556,
             "#d8576b"
            ],
            [
             0.6666666666666666,
             "#ed7953"
            ],
            [
             0.7777777777777778,
             "#fb9f3a"
            ],
            [
             0.8888888888888888,
             "#fdca26"
            ],
            [
             1,
             "#f0f921"
            ]
           ],
           "sequentialminus": [
            [
             0,
             "#0d0887"
            ],
            [
             0.1111111111111111,
             "#46039f"
            ],
            [
             0.2222222222222222,
             "#7201a8"
            ],
            [
             0.3333333333333333,
             "#9c179e"
            ],
            [
             0.4444444444444444,
             "#bd3786"
            ],
            [
             0.5555555555555556,
             "#d8576b"
            ],
            [
             0.6666666666666666,
             "#ed7953"
            ],
            [
             0.7777777777777778,
             "#fb9f3a"
            ],
            [
             0.8888888888888888,
             "#fdca26"
            ],
            [
             1,
             "#f0f921"
            ]
           ]
          },
          "colorway": [
           "#636efa",
           "#EF553B",
           "#00cc96",
           "#ab63fa",
           "#FFA15A",
           "#19d3f3",
           "#FF6692",
           "#B6E880",
           "#FF97FF",
           "#FECB52"
          ],
          "font": {
           "color": "#2a3f5f"
          },
          "geo": {
           "bgcolor": "white",
           "lakecolor": "white",
           "landcolor": "#E5ECF6",
           "showlakes": true,
           "showland": true,
           "subunitcolor": "white"
          },
          "hoverlabel": {
           "align": "left"
          },
          "hovermode": "closest",
          "mapbox": {
           "style": "light"
          },
          "paper_bgcolor": "white",
          "plot_bgcolor": "#E5ECF6",
          "polar": {
           "angularaxis": {
            "gridcolor": "white",
            "linecolor": "white",
            "ticks": ""
           },
           "bgcolor": "#E5ECF6",
           "radialaxis": {
            "gridcolor": "white",
            "linecolor": "white",
            "ticks": ""
           }
          },
          "scene": {
           "xaxis": {
            "backgroundcolor": "#E5ECF6",
            "gridcolor": "white",
            "gridwidth": 2,
            "linecolor": "white",
            "showbackground": true,
            "ticks": "",
            "zerolinecolor": "white"
           },
           "yaxis": {
            "backgroundcolor": "#E5ECF6",
            "gridcolor": "white",
            "gridwidth": 2,
            "linecolor": "white",
            "showbackground": true,
            "ticks": "",
            "zerolinecolor": "white"
           },
           "zaxis": {
            "backgroundcolor": "#E5ECF6",
            "gridcolor": "white",
            "gridwidth": 2,
            "linecolor": "white",
            "showbackground": true,
            "ticks": "",
            "zerolinecolor": "white"
           }
          },
          "shapedefaults": {
           "line": {
            "color": "#2a3f5f"
           }
          },
          "ternary": {
           "aaxis": {
            "gridcolor": "white",
            "linecolor": "white",
            "ticks": ""
           },
           "baxis": {
            "gridcolor": "white",
            "linecolor": "white",
            "ticks": ""
           },
           "bgcolor": "#E5ECF6",
           "caxis": {
            "gridcolor": "white",
            "linecolor": "white",
            "ticks": ""
           }
          },
          "title": {
           "x": 0.05
          },
          "xaxis": {
           "automargin": true,
           "gridcolor": "white",
           "linecolor": "white",
           "ticks": "",
           "title": {
            "standoff": 15
           },
           "zerolinecolor": "white",
           "zerolinewidth": 2
          },
          "yaxis": {
           "automargin": true,
           "gridcolor": "white",
           "linecolor": "white",
           "ticks": "",
           "title": {
            "standoff": 15
           },
           "zerolinecolor": "white",
           "zerolinewidth": 2
          }
         }
        },
        "title": {
         "text": "Survived vs Ticket class"
        },
        "xaxis": {
         "anchor": "y",
         "domain": [
          0,
          1
         ],
         "title": {
          "text": "Pclass"
         }
        },
        "yaxis": {
         "anchor": "x",
         "domain": [
          0,
          1
         ],
         "title": {
          "text": "counts"
         }
        }
       }
      },
      "text/html": [
       "<div>                            <div id=\"8ec949bb-cd3a-43cb-bbf5-79b6b760cefc\" class=\"plotly-graph-div\" style=\"height:525px; width:100%;\"></div>            <script type=\"text/javascript\">                require([\"plotly\"], function(Plotly) {                    window.PLOTLYENV=window.PLOTLYENV || {};                                    if (document.getElementById(\"8ec949bb-cd3a-43cb-bbf5-79b6b760cefc\")) {                    Plotly.newPlot(                        \"8ec949bb-cd3a-43cb-bbf5-79b6b760cefc\",                        [{\"alignmentgroup\":\"True\",\"hovertemplate\":\"Survived=0<br>Pclass=%{x}<br>counts=%{y}<extra></extra>\",\"legendgroup\":\"0\",\"marker\":{\"color\":\"#8FCBD8\",\"pattern\":{\"shape\":\"\"}},\"name\":\"0\",\"offsetgroup\":\"0\",\"orientation\":\"v\",\"showlegend\":true,\"textposition\":\"auto\",\"x\":[1,2,3],\"xaxis\":\"x\",\"y\":[80,97,372],\"yaxis\":\"y\",\"type\":\"bar\"},{\"alignmentgroup\":\"True\",\"hovertemplate\":\"Survived=1<br>Pclass=%{x}<br>counts=%{y}<extra></extra>\",\"legendgroup\":\"1\",\"marker\":{\"color\":\"#D3DBDD\",\"pattern\":{\"shape\":\"\"}},\"name\":\"1\",\"offsetgroup\":\"1\",\"orientation\":\"v\",\"showlegend\":true,\"textposition\":\"auto\",\"x\":[1,2,3],\"xaxis\":\"x\",\"y\":[136,87,119],\"yaxis\":\"y\",\"type\":\"bar\"}],                        {\"template\":{\"data\":{\"histogram2dcontour\":[{\"type\":\"histogram2dcontour\",\"colorbar\":{\"outlinewidth\":0,\"ticks\":\"\"},\"colorscale\":[[0.0,\"#0d0887\"],[0.1111111111111111,\"#46039f\"],[0.2222222222222222,\"#7201a8\"],[0.3333333333333333,\"#9c179e\"],[0.4444444444444444,\"#bd3786\"],[0.5555555555555556,\"#d8576b\"],[0.6666666666666666,\"#ed7953\"],[0.7777777777777778,\"#fb9f3a\"],[0.8888888888888888,\"#fdca26\"],[1.0,\"#f0f921\"]]}],\"choropleth\":[{\"type\":\"choropleth\",\"colorbar\":{\"outlinewidth\":0,\"ticks\":\"\"}}],\"histogram2d\":[{\"type\":\"histogram2d\",\"colorbar\":{\"outlinewidth\":0,\"ticks\":\"\"},\"colorscale\":[[0.0,\"#0d0887\"],[0.1111111111111111,\"#46039f\"],[0.2222222222222222,\"#7201a8\"],[0.3333333333333333,\"#9c179e\"],[0.4444444444444444,\"#bd3786\"],[0.5555555555555556,\"#d8576b\"],[0.6666666666666666,\"#ed7953\"],[0.7777777777777778,\"#fb9f3a\"],[0.8888888888888888,\"#fdca26\"],[1.0,\"#f0f921\"]]}],\"heatmap\":[{\"type\":\"heatmap\",\"colorbar\":{\"outlinewidth\":0,\"ticks\":\"\"},\"colorscale\":[[0.0,\"#0d0887\"],[0.1111111111111111,\"#46039f\"],[0.2222222222222222,\"#7201a8\"],[0.3333333333333333,\"#9c179e\"],[0.4444444444444444,\"#bd3786\"],[0.5555555555555556,\"#d8576b\"],[0.6666666666666666,\"#ed7953\"],[0.7777777777777778,\"#fb9f3a\"],[0.8888888888888888,\"#fdca26\"],[1.0,\"#f0f921\"]]}],\"heatmapgl\":[{\"type\":\"heatmapgl\",\"colorbar\":{\"outlinewidth\":0,\"ticks\":\"\"},\"colorscale\":[[0.0,\"#0d0887\"],[0.1111111111111111,\"#46039f\"],[0.2222222222222222,\"#7201a8\"],[0.3333333333333333,\"#9c179e\"],[0.4444444444444444,\"#bd3786\"],[0.5555555555555556,\"#d8576b\"],[0.6666666666666666,\"#ed7953\"],[0.7777777777777778,\"#fb9f3a\"],[0.8888888888888888,\"#fdca26\"],[1.0,\"#f0f921\"]]}],\"contourcarpet\":[{\"type\":\"contourcarpet\",\"colorbar\":{\"outlinewidth\":0,\"ticks\":\"\"}}],\"contour\":[{\"type\":\"contour\",\"colorbar\":{\"outlinewidth\":0,\"ticks\":\"\"},\"colorscale\":[[0.0,\"#0d0887\"],[0.1111111111111111,\"#46039f\"],[0.2222222222222222,\"#7201a8\"],[0.3333333333333333,\"#9c179e\"],[0.4444444444444444,\"#bd3786\"],[0.5555555555555556,\"#d8576b\"],[0.6666666666666666,\"#ed7953\"],[0.7777777777777778,\"#fb9f3a\"],[0.8888888888888888,\"#fdca26\"],[1.0,\"#f0f921\"]]}],\"surface\":[{\"type\":\"surface\",\"colorbar\":{\"outlinewidth\":0,\"ticks\":\"\"},\"colorscale\":[[0.0,\"#0d0887\"],[0.1111111111111111,\"#46039f\"],[0.2222222222222222,\"#7201a8\"],[0.3333333333333333,\"#9c179e\"],[0.4444444444444444,\"#bd3786\"],[0.5555555555555556,\"#d8576b\"],[0.6666666666666666,\"#ed7953\"],[0.7777777777777778,\"#fb9f3a\"],[0.8888888888888888,\"#fdca26\"],[1.0,\"#f0f921\"]]}],\"mesh3d\":[{\"type\":\"mesh3d\",\"colorbar\":{\"outlinewidth\":0,\"ticks\":\"\"}}],\"scatter\":[{\"fillpattern\":{\"fillmode\":\"overlay\",\"size\":10,\"solidity\":0.2},\"type\":\"scatter\"}],\"parcoords\":[{\"type\":\"parcoords\",\"line\":{\"colorbar\":{\"outlinewidth\":0,\"ticks\":\"\"}}}],\"scatterpolargl\":[{\"type\":\"scatterpolargl\",\"marker\":{\"colorbar\":{\"outlinewidth\":0,\"ticks\":\"\"}}}],\"bar\":[{\"error_x\":{\"color\":\"#2a3f5f\"},\"error_y\":{\"color\":\"#2a3f5f\"},\"marker\":{\"line\":{\"color\":\"#E5ECF6\",\"width\":0.5},\"pattern\":{\"fillmode\":\"overlay\",\"size\":10,\"solidity\":0.2}},\"type\":\"bar\"}],\"scattergeo\":[{\"type\":\"scattergeo\",\"marker\":{\"colorbar\":{\"outlinewidth\":0,\"ticks\":\"\"}}}],\"scatterpolar\":[{\"type\":\"scatterpolar\",\"marker\":{\"colorbar\":{\"outlinewidth\":0,\"ticks\":\"\"}}}],\"histogram\":[{\"marker\":{\"pattern\":{\"fillmode\":\"overlay\",\"size\":10,\"solidity\":0.2}},\"type\":\"histogram\"}],\"scattergl\":[{\"type\":\"scattergl\",\"marker\":{\"colorbar\":{\"outlinewidth\":0,\"ticks\":\"\"}}}],\"scatter3d\":[{\"type\":\"scatter3d\",\"line\":{\"colorbar\":{\"outlinewidth\":0,\"ticks\":\"\"}},\"marker\":{\"colorbar\":{\"outlinewidth\":0,\"ticks\":\"\"}}}],\"scattermapbox\":[{\"type\":\"scattermapbox\",\"marker\":{\"colorbar\":{\"outlinewidth\":0,\"ticks\":\"\"}}}],\"scatterternary\":[{\"type\":\"scatterternary\",\"marker\":{\"colorbar\":{\"outlinewidth\":0,\"ticks\":\"\"}}}],\"scattercarpet\":[{\"type\":\"scattercarpet\",\"marker\":{\"colorbar\":{\"outlinewidth\":0,\"ticks\":\"\"}}}],\"carpet\":[{\"aaxis\":{\"endlinecolor\":\"#2a3f5f\",\"gridcolor\":\"white\",\"linecolor\":\"white\",\"minorgridcolor\":\"white\",\"startlinecolor\":\"#2a3f5f\"},\"baxis\":{\"endlinecolor\":\"#2a3f5f\",\"gridcolor\":\"white\",\"linecolor\":\"white\",\"minorgridcolor\":\"white\",\"startlinecolor\":\"#2a3f5f\"},\"type\":\"carpet\"}],\"table\":[{\"cells\":{\"fill\":{\"color\":\"#EBF0F8\"},\"line\":{\"color\":\"white\"}},\"header\":{\"fill\":{\"color\":\"#C8D4E3\"},\"line\":{\"color\":\"white\"}},\"type\":\"table\"}],\"barpolar\":[{\"marker\":{\"line\":{\"color\":\"#E5ECF6\",\"width\":0.5},\"pattern\":{\"fillmode\":\"overlay\",\"size\":10,\"solidity\":0.2}},\"type\":\"barpolar\"}],\"pie\":[{\"automargin\":true,\"type\":\"pie\"}]},\"layout\":{\"autotypenumbers\":\"strict\",\"colorway\":[\"#636efa\",\"#EF553B\",\"#00cc96\",\"#ab63fa\",\"#FFA15A\",\"#19d3f3\",\"#FF6692\",\"#B6E880\",\"#FF97FF\",\"#FECB52\"],\"font\":{\"color\":\"#2a3f5f\"},\"hovermode\":\"closest\",\"hoverlabel\":{\"align\":\"left\"},\"paper_bgcolor\":\"white\",\"plot_bgcolor\":\"#E5ECF6\",\"polar\":{\"bgcolor\":\"#E5ECF6\",\"angularaxis\":{\"gridcolor\":\"white\",\"linecolor\":\"white\",\"ticks\":\"\"},\"radialaxis\":{\"gridcolor\":\"white\",\"linecolor\":\"white\",\"ticks\":\"\"}},\"ternary\":{\"bgcolor\":\"#E5ECF6\",\"aaxis\":{\"gridcolor\":\"white\",\"linecolor\":\"white\",\"ticks\":\"\"},\"baxis\":{\"gridcolor\":\"white\",\"linecolor\":\"white\",\"ticks\":\"\"},\"caxis\":{\"gridcolor\":\"white\",\"linecolor\":\"white\",\"ticks\":\"\"}},\"coloraxis\":{\"colorbar\":{\"outlinewidth\":0,\"ticks\":\"\"}},\"colorscale\":{\"sequential\":[[0.0,\"#0d0887\"],[0.1111111111111111,\"#46039f\"],[0.2222222222222222,\"#7201a8\"],[0.3333333333333333,\"#9c179e\"],[0.4444444444444444,\"#bd3786\"],[0.5555555555555556,\"#d8576b\"],[0.6666666666666666,\"#ed7953\"],[0.7777777777777778,\"#fb9f3a\"],[0.8888888888888888,\"#fdca26\"],[1.0,\"#f0f921\"]],\"sequentialminus\":[[0.0,\"#0d0887\"],[0.1111111111111111,\"#46039f\"],[0.2222222222222222,\"#7201a8\"],[0.3333333333333333,\"#9c179e\"],[0.4444444444444444,\"#bd3786\"],[0.5555555555555556,\"#d8576b\"],[0.6666666666666666,\"#ed7953\"],[0.7777777777777778,\"#fb9f3a\"],[0.8888888888888888,\"#fdca26\"],[1.0,\"#f0f921\"]],\"diverging\":[[0,\"#8e0152\"],[0.1,\"#c51b7d\"],[0.2,\"#de77ae\"],[0.3,\"#f1b6da\"],[0.4,\"#fde0ef\"],[0.5,\"#f7f7f7\"],[0.6,\"#e6f5d0\"],[0.7,\"#b8e186\"],[0.8,\"#7fbc41\"],[0.9,\"#4d9221\"],[1,\"#276419\"]]},\"xaxis\":{\"gridcolor\":\"white\",\"linecolor\":\"white\",\"ticks\":\"\",\"title\":{\"standoff\":15},\"zerolinecolor\":\"white\",\"automargin\":true,\"zerolinewidth\":2},\"yaxis\":{\"gridcolor\":\"white\",\"linecolor\":\"white\",\"ticks\":\"\",\"title\":{\"standoff\":15},\"zerolinecolor\":\"white\",\"automargin\":true,\"zerolinewidth\":2},\"scene\":{\"xaxis\":{\"backgroundcolor\":\"#E5ECF6\",\"gridcolor\":\"white\",\"linecolor\":\"white\",\"showbackground\":true,\"ticks\":\"\",\"zerolinecolor\":\"white\",\"gridwidth\":2},\"yaxis\":{\"backgroundcolor\":\"#E5ECF6\",\"gridcolor\":\"white\",\"linecolor\":\"white\",\"showbackground\":true,\"ticks\":\"\",\"zerolinecolor\":\"white\",\"gridwidth\":2},\"zaxis\":{\"backgroundcolor\":\"#E5ECF6\",\"gridcolor\":\"white\",\"linecolor\":\"white\",\"showbackground\":true,\"ticks\":\"\",\"zerolinecolor\":\"white\",\"gridwidth\":2}},\"shapedefaults\":{\"line\":{\"color\":\"#2a3f5f\"}},\"annotationdefaults\":{\"arrowcolor\":\"#2a3f5f\",\"arrowhead\":0,\"arrowwidth\":1},\"geo\":{\"bgcolor\":\"white\",\"landcolor\":\"#E5ECF6\",\"subunitcolor\":\"white\",\"showland\":true,\"showlakes\":true,\"lakecolor\":\"white\"},\"title\":{\"x\":0.05},\"mapbox\":{\"style\":\"light\"}}},\"xaxis\":{\"anchor\":\"y\",\"domain\":[0.0,1.0],\"title\":{\"text\":\"Pclass\"}},\"yaxis\":{\"anchor\":\"x\",\"domain\":[0.0,1.0],\"title\":{\"text\":\"counts\"}},\"legend\":{\"title\":{\"text\":\"Survived\"},\"tracegroupgap\":0},\"title\":{\"text\":\"Survived vs Ticket class\"},\"barmode\":\"group\"},                        {\"responsive\": true}                    ).then(function(){\n",
       "                            \n",
       "var gd = document.getElementById('8ec949bb-cd3a-43cb-bbf5-79b6b760cefc');\n",
       "var x = new MutationObserver(function (mutations, observer) {{\n",
       "        var display = window.getComputedStyle(gd).display;\n",
       "        if (!display || display === 'none') {{\n",
       "            console.log([gd, 'removed!']);\n",
       "            Plotly.purge(gd);\n",
       "            observer.disconnect();\n",
       "        }}\n",
       "}});\n",
       "\n",
       "// Listen for the removal of the full notebook cells\n",
       "var notebookContainer = gd.closest('#notebook-container');\n",
       "if (notebookContainer) {{\n",
       "    x.observe(notebookContainer, {childList: true});\n",
       "}}\n",
       "\n",
       "// Listen for the clearing of the current output cell\n",
       "var outputEl = gd.closest('.output');\n",
       "if (outputEl) {{\n",
       "    x.observe(outputEl, {childList: true});\n",
       "}}\n",
       "\n",
       "                        })                };                });            </script>        </div>"
      ]
     },
     "metadata": {},
     "output_type": "display_data"
    }
   ],
   "source": [
    "\n",
    "df = data.groupby(by=[\"Survived\", \"Pclass\"]).size().reset_index(name=\"counts\")\n",
    "px.bar(data_frame=df, x=\"Pclass\", y=\"counts\", color=\"Survived\", barmode=\"group\",color_discrete_sequence =['#8FCBD8','#D3DBDD']\n",
    "      ,title=\"Survived vs Ticket class\")"
   ]
  },
  {
   "cell_type": "markdown",
   "id": "cf29c562",
   "metadata": {},
   "source": [
    "This shows higher priority to the class 1 passengers. hence there are many survivars from class 1 while there are many who could not survive in class 3"
   ]
  },
  {
   "cell_type": "code",
   "execution_count": 35,
   "id": "60697df1",
   "metadata": {},
   "outputs": [
    {
     "data": {
      "image/png": "[encoded data removed]",
      "text/plain": [
       "<Figure size 576x432 with 2 Axes>"
      ]
     },
     "metadata": {
      "needs_background": "light"
     },
     "output_type": "display_data"
    }
   ],
   "source": [
    "\n",
    "#  we had made a change in type of these features for other visualizations. \n",
    "data['Survived']=data['Survived'].astype('int')\n",
    "data['Pclass']=data['Pclass'].astype('int')\n",
    "data['SibSp']=data['SibSp'].astype('int')\n",
    "\n",
    "def plot_correlation_heatmap(df):\n",
    "    corr = df.corr()\n",
    "    fig, ax = plt.subplots(figsize=(8, 6))\n",
    "    sns.heatmap(corr, cmap='coolwarm', annot=True, fmt='.2f',\n",
    "                xticklabels=corr.columns, yticklabels=corr.columns, ax=ax)\n",
    "    ax.set_title('Correlation Heatmap', fontsize=18)\n",
    "    plt.show()\n",
    "\n",
    "plot_correlation_heatmap(data)"
   ]
  },
  {
   "cell_type": "markdown",
   "id": "301cec35",
   "metadata": {},
   "source": [
    "### Data Preprocessing"
   ]
  },
  {
   "cell_type": "code",
   "execution_count": 56,
   "id": "b4291d92",
   "metadata": {},
   "outputs": [],
   "source": [
    "# Drop columns that are not relevant for the model\n",
    "data = data.drop([\"PassengerId\", \"Name\", \"Ticket\", \"Cabin\"], axis=1)\n",
    "\n",
    "# Fill missing values in Age and Embarked columns\n",
    "data[\"Age\"] = data[\"Age\"].fillna(data[\"Age\"].mean())\n",
    "data[\"Embarked\"] = data[\"Embarked\"].fillna(\"S\")\n",
    "\n",
    "# Encode categorical variables using one-hot encoding\n",
    "encoder = OneHotEncoder(drop=\"first\")\n",
    "data_encoded = pd.DataFrame(encoder.fit_transform(data.iloc[:,1:]).toarray(), columns=encoder.get_feature_names_out())\n",
    "\n",
    "# Concatenate the encoded categorical variables with the numerical variables\n",
    "data_final = pd.concat([data.iloc[:,0], data_encoded], axis=1)\n",
    "\n",
    "# Split the data into training and testing sets\n",
    "X_train, X_test, y_train, y_test = train_test_split(data_final.iloc[:,1:], data_final.iloc[:,0], test_size=0.2, random_state=42)\n"
   ]
  },
  {
   "cell_type": "code",
   "execution_count": 57,
   "id": "55258e64",
   "metadata": {},
   "outputs": [
    {
     "name": "stdout",
     "output_type": "stream",
     "text": [
      "size of train and test:\n"
     ]
    },
    {
     "data": {
      "text/plain": [
       "((712, 352), (179, 352))"
      ]
     },
     "execution_count": 57,
     "metadata": {},
     "output_type": "execute_result"
    }
   ],
   "source": [
    "print('size of train and test:')\n",
    "X_train.shape, X_test.shape"
   ]
  },
  {
   "cell_type": "markdown",
   "id": "4415f800",
   "metadata": {},
   "source": [
    "### Modeling the data with Sklearn"
   ]
  },
  {
   "cell_type": "code",
   "execution_count": 38,
   "id": "0046d3fa",
   "metadata": {},
   "outputs": [
    {
     "name": "stdout",
     "output_type": "stream",
     "text": [
      "Training model 1...\n",
      "F1 score for model 1: 0.700\n",
      "Confusion matrix for model 1:\n",
      "[[88 17]\n",
      " [25 49]]\n",
      "\n",
      "Training model 2...\n",
      "F1 score for model 2: 0.701\n",
      "Confusion matrix for model 2:\n",
      "[[90 15]\n",
      " [26 48]]\n",
      "\n",
      "Training model 3...\n",
      "F1 score for model 3: 0.000\n",
      "Confusion matrix for model 3:\n",
      "[[105   0]\n",
      " [ 74   0]]\n",
      "\n",
      "Training model 4...\n",
      "F1 score for model 4: 0.792\n",
      "Confusion matrix for model 4:\n",
      "[[92 13]\n",
      " [17 57]]\n",
      "\n"
     ]
    },
    {
     "data": {
      "image/png": "[encoded data removed]",
      "text/plain": [
       "<Figure size 432x288 with 1 Axes>"
      ]
     },
     "metadata": {
      "needs_background": "light"
     },
     "output_type": "display_data"
    },
    {
     "name": "stdout",
     "output_type": "stream",
     "text": [
      "The best model is Model 4 with an F1 score of 0.792\n"
     ]
    }
   ],
   "source": [
    "# Define the different MLP classifier models to evaluate\n",
    "models = [\n",
    "    MLPClassifier(hidden_layer_sizes=(64,), max_iter=1000),\n",
    "    MLPClassifier(hidden_layer_sizes=(64,32,), max_iter=1000),\n",
    "    MLPClassifier(hidden_layer_sizes=(32, 16, 8), max_iter=1000, solver='sgd'),\n",
    "    MLPClassifier(hidden_layer_sizes=(64, 32, 16,),max_iter=3000,\n",
    "                  solver='sgd',learning_rate='adaptive'),\n",
    "]\n",
    "\n",
    "# Train and evaluate each model\n",
    "f1_scores = []\n",
    "for i, model in enumerate(models):\n",
    "    print(f\"Training model {i+1}...\")\n",
    "    model.fit(X_train, y_train)\n",
    "    y_pred = model.predict(X_test)\n",
    "    cm = confusion_matrix(y_test, y_pred)\n",
    "    f1 = f1_score(y_test, y_pred)\n",
    "    f1_scores.append(f1)\n",
    "    print(f\"F1 score for model {i+1}: {f1:.3f}\")\n",
    "    print(f\"Confusion matrix for model {i+1}:\")\n",
    "    print(cm)\n",
    "    print()\n",
    "\n",
    "# Plot the F1 scores for each model\n",
    "sns.barplot(x=[\"Model 1\", \"Model 2\", \"Model 3\", \"Model 4\"], y=f1_scores)\n",
    "plt.title(\"F1 Scores for MLP Models\")\n",
    "plt.xlabel(\"Model\")\n",
    "plt.ylabel(\"F1 Score\")\n",
    "plt.show()\n",
    "\n",
    "# Find the best model based on the F1 score\n",
    "best_model_idx = np.argmax(f1_scores)\n",
    "best_model = models[best_model_idx]\n",
    "print(\n",
    "    f\"The best model is Model {best_model_idx+1} with an F1 score of {f1_scores[best_model_idx]:.3f}\"\n",
    ")\n"
   ]
  },
  {
   "cell_type": "markdown",
   "id": "d88821bd",
   "metadata": {},
   "source": [
    "### Modeling with Tensorflow"
   ]
  },
  {
   "cell_type": "code",
   "execution_count": 59,
   "id": "445b462d",
   "metadata": {},
   "outputs": [
    {
     "name": "stderr",
     "output_type": "stream",
     "text": [
      "/home/mahtab/anaconda3/lib/python3.8/site-packages/sklearn/metrics/_classification.py:1318: UndefinedMetricWarning:\n",
      "\n",
      "Precision is ill-defined and being set to 0.0 in labels with no predicted samples. Use `zero_division` parameter to control this behavior.\n",
      "\n",
      "/home/mahtab/anaconda3/lib/python3.8/site-packages/sklearn/metrics/_classification.py:1318: UndefinedMetricWarning:\n",
      "\n",
      "Precision is ill-defined and being set to 0.0 in labels with no predicted samples. Use `zero_division` parameter to control this behavior.\n",
      "\n",
      "/home/mahtab/anaconda3/lib/python3.8/site-packages/sklearn/metrics/_classification.py:1318: UndefinedMetricWarning:\n",
      "\n",
      "Precision is ill-defined and being set to 0.0 in labels with no predicted samples. Use `zero_division` parameter to control this behavior.\n",
      "\n",
      "/home/mahtab/anaconda3/lib/python3.8/site-packages/sklearn/metrics/_classification.py:1318: UndefinedMetricWarning:\n",
      "\n",
      "Precision is ill-defined and being set to 0.0 in labels with no predicted samples. Use `zero_division` parameter to control this behavior.\n",
      "\n",
      "/home/mahtab/anaconda3/lib/python3.8/site-packages/sklearn/metrics/_classification.py:1318: UndefinedMetricWarning:\n",
      "\n",
      "Precision is ill-defined and being set to 0.0 in labels with no predicted samples. Use `zero_division` parameter to control this behavior.\n",
      "\n"
     ]
    },
    {
     "data": {
      "text/html": [
       "<div>\n",
       "<style scoped>\n",
       "    .dataframe tbody tr th:only-of-type {\n",
       "        vertical-align: middle;\n",
       "    }\n",
       "\n",
       "    .dataframe tbody tr th {\n",
       "        vertical-align: top;\n",
       "    }\n",
       "\n",
       "    .dataframe thead th {\n",
       "        text-align: right;\n",
       "    }\n",
       "</style>\n",
       "<table border=\"1\" class=\"dataframe\">\n",
       "  <thead>\n",
       "    <tr style=\"text-align: right;\">\n",
       "      <th></th>\n",
       "      <th>model</th>\n",
       "      <th>optimizer</th>\n",
       "      <th>learning_rate</th>\n",
       "      <th>accuracy</th>\n",
       "      <th>f1_score</th>\n",
       "      <th>neurons</th>\n",
       "    </tr>\n",
       "  </thead>\n",
       "  <tbody>\n",
       "    <tr>\n",
       "      <th>0</th>\n",
       "      <td>1-L (64) N</td>\n",
       "      <td>Adam</td>\n",
       "      <td>0.001</td>\n",
       "      <td>0.737430</td>\n",
       "      <td>0.680272</td>\n",
       "      <td>[64]</td>\n",
       "    </tr>\n",
       "    <tr>\n",
       "      <th>1</th>\n",
       "      <td>1-L (64) N</td>\n",
       "      <td>Adam</td>\n",
       "      <td>0.010</td>\n",
       "      <td>0.743017</td>\n",
       "      <td>0.671429</td>\n",
       "      <td>[64]</td>\n",
       "    </tr>\n",
       "    <tr>\n",
       "      <th>2</th>\n",
       "      <td>1-L (64) N</td>\n",
       "      <td>RMSprop</td>\n",
       "      <td>0.001</td>\n",
       "      <td>0.698324</td>\n",
       "      <td>0.630137</td>\n",
       "      <td>[64]</td>\n",
       "    </tr>\n",
       "    <tr>\n",
       "      <th>3</th>\n",
       "      <td>1-L (64) N</td>\n",
       "      <td>RMSprop</td>\n",
       "      <td>0.010</td>\n",
       "      <td>0.726257</td>\n",
       "      <td>0.662069</td>\n",
       "      <td>[64]</td>\n",
       "    </tr>\n",
       "    <tr>\n",
       "      <th>4</th>\n",
       "      <td>1-L (64) N</td>\n",
       "      <td>SGD</td>\n",
       "      <td>0.001</td>\n",
       "      <td>0.586592</td>\n",
       "      <td>0.000000</td>\n",
       "      <td>[64]</td>\n",
       "    </tr>\n",
       "    <tr>\n",
       "      <th>5</th>\n",
       "      <td>1-L (64) N</td>\n",
       "      <td>SGD</td>\n",
       "      <td>0.010</td>\n",
       "      <td>0.798883</td>\n",
       "      <td>0.746479</td>\n",
       "      <td>[64]</td>\n",
       "    </tr>\n",
       "    <tr>\n",
       "      <th>6</th>\n",
       "      <td>2-L-(64, 32)-N</td>\n",
       "      <td>Adam</td>\n",
       "      <td>0.001</td>\n",
       "      <td>0.743017</td>\n",
       "      <td>0.676056</td>\n",
       "      <td>[64, 32]</td>\n",
       "    </tr>\n",
       "    <tr>\n",
       "      <th>7</th>\n",
       "      <td>2-L-(64, 32)-N</td>\n",
       "      <td>Adam</td>\n",
       "      <td>0.010</td>\n",
       "      <td>0.748603</td>\n",
       "      <td>0.689655</td>\n",
       "      <td>[64, 32]</td>\n",
       "    </tr>\n",
       "    <tr>\n",
       "      <th>8</th>\n",
       "      <td>2-L-(64, 32)-N</td>\n",
       "      <td>RMSprop</td>\n",
       "      <td>0.001</td>\n",
       "      <td>0.715084</td>\n",
       "      <td>0.627737</td>\n",
       "      <td>[64, 32]</td>\n",
       "    </tr>\n",
       "    <tr>\n",
       "      <th>9</th>\n",
       "      <td>2-L-(64, 32)-N</td>\n",
       "      <td>RMSprop</td>\n",
       "      <td>0.010</td>\n",
       "      <td>0.776536</td>\n",
       "      <td>0.705882</td>\n",
       "      <td>[64, 32]</td>\n",
       "    </tr>\n",
       "    <tr>\n",
       "      <th>10</th>\n",
       "      <td>2-L-(64, 32)-N</td>\n",
       "      <td>SGD</td>\n",
       "      <td>0.001</td>\n",
       "      <td>0.586592</td>\n",
       "      <td>0.000000</td>\n",
       "      <td>[64, 32]</td>\n",
       "    </tr>\n",
       "    <tr>\n",
       "      <th>11</th>\n",
       "      <td>2-L-(64, 32)-N</td>\n",
       "      <td>SGD</td>\n",
       "      <td>0.010</td>\n",
       "      <td>0.798883</td>\n",
       "      <td>0.746479</td>\n",
       "      <td>[64, 32]</td>\n",
       "    </tr>\n",
       "    <tr>\n",
       "      <th>12</th>\n",
       "      <td>3L-(64, 32, 16)-N</td>\n",
       "      <td>Adam</td>\n",
       "      <td>0.001</td>\n",
       "      <td>0.748603</td>\n",
       "      <td>0.676259</td>\n",
       "      <td>[64, 32, 16]</td>\n",
       "    </tr>\n",
       "    <tr>\n",
       "      <th>13</th>\n",
       "      <td>3L-(64, 32, 16)-N</td>\n",
       "      <td>Adam</td>\n",
       "      <td>0.010</td>\n",
       "      <td>0.759777</td>\n",
       "      <td>0.666667</td>\n",
       "      <td>[64, 32, 16]</td>\n",
       "    </tr>\n",
       "    <tr>\n",
       "      <th>14</th>\n",
       "      <td>3L-(64, 32, 16)-N</td>\n",
       "      <td>RMSprop</td>\n",
       "      <td>0.001</td>\n",
       "      <td>0.698324</td>\n",
       "      <td>0.619718</td>\n",
       "      <td>[64, 32, 16]</td>\n",
       "    </tr>\n",
       "    <tr>\n",
       "      <th>15</th>\n",
       "      <td>3L-(64, 32, 16)-N</td>\n",
       "      <td>RMSprop</td>\n",
       "      <td>0.010</td>\n",
       "      <td>0.726257</td>\n",
       "      <td>0.662069</td>\n",
       "      <td>[64, 32, 16]</td>\n",
       "    </tr>\n",
       "    <tr>\n",
       "      <th>16</th>\n",
       "      <td>3L-(64, 32, 16)-N</td>\n",
       "      <td>SGD</td>\n",
       "      <td>0.001</td>\n",
       "      <td>0.586592</td>\n",
       "      <td>0.000000</td>\n",
       "      <td>[64, 32, 16]</td>\n",
       "    </tr>\n",
       "    <tr>\n",
       "      <th>17</th>\n",
       "      <td>3L-(64, 32, 16)-N</td>\n",
       "      <td>SGD</td>\n",
       "      <td>0.010</td>\n",
       "      <td>0.804469</td>\n",
       "      <td>0.768212</td>\n",
       "      <td>[64, 32, 16]</td>\n",
       "    </tr>\n",
       "    <tr>\n",
       "      <th>18</th>\n",
       "      <td>4L-(64, 32, 16, 8)-N</td>\n",
       "      <td>Adam</td>\n",
       "      <td>0.001</td>\n",
       "      <td>0.748603</td>\n",
       "      <td>0.661654</td>\n",
       "      <td>[64, 32, 16, 8]</td>\n",
       "    </tr>\n",
       "    <tr>\n",
       "      <th>19</th>\n",
       "      <td>4L-(64, 32, 16, 8)-N</td>\n",
       "      <td>Adam</td>\n",
       "      <td>0.010</td>\n",
       "      <td>0.586592</td>\n",
       "      <td>0.000000</td>\n",
       "      <td>[64, 32, 16, 8]</td>\n",
       "    </tr>\n",
       "    <tr>\n",
       "      <th>20</th>\n",
       "      <td>4L-(64, 32, 16, 8)-N</td>\n",
       "      <td>RMSprop</td>\n",
       "      <td>0.001</td>\n",
       "      <td>0.715084</td>\n",
       "      <td>0.627737</td>\n",
       "      <td>[64, 32, 16, 8]</td>\n",
       "    </tr>\n",
       "    <tr>\n",
       "      <th>21</th>\n",
       "      <td>4L-(64, 32, 16, 8)-N</td>\n",
       "      <td>RMSprop</td>\n",
       "      <td>0.010</td>\n",
       "      <td>0.709497</td>\n",
       "      <td>0.675000</td>\n",
       "      <td>[64, 32, 16, 8]</td>\n",
       "    </tr>\n",
       "    <tr>\n",
       "      <th>22</th>\n",
       "      <td>4L-(64, 32, 16, 8)-N</td>\n",
       "      <td>SGD</td>\n",
       "      <td>0.001</td>\n",
       "      <td>0.586592</td>\n",
       "      <td>0.000000</td>\n",
       "      <td>[64, 32, 16, 8]</td>\n",
       "    </tr>\n",
       "    <tr>\n",
       "      <th>23</th>\n",
       "      <td>4L-(64, 32, 16, 8)-N</td>\n",
       "      <td>SGD</td>\n",
       "      <td>0.010</td>\n",
       "      <td>0.787709</td>\n",
       "      <td>0.724638</td>\n",
       "      <td>[64, 32, 16, 8]</td>\n",
       "    </tr>\n",
       "  </tbody>\n",
       "</table>\n",
       "</div>"
      ],
      "text/plain": [
       "                   model optimizer  learning_rate  accuracy  f1_score  \\\n",
       "0             1-L (64) N      Adam          0.001  0.737430  0.680272   \n",
       "1             1-L (64) N      Adam          0.010  0.743017  0.671429   \n",
       "2             1-L (64) N   RMSprop          0.001  0.698324  0.630137   \n",
       "3             1-L (64) N   RMSprop          0.010  0.726257  0.662069   \n",
       "4             1-L (64) N       SGD          0.001  0.586592  0.000000   \n",
       "5             1-L (64) N       SGD          0.010  0.798883  0.746479   \n",
       "6         2-L-(64, 32)-N      Adam          0.001  0.743017  0.676056   \n",
       "7         2-L-(64, 32)-N      Adam          0.010  0.748603  0.689655   \n",
       "8         2-L-(64, 32)-N   RMSprop          0.001  0.715084  0.627737   \n",
       "9         2-L-(64, 32)-N   RMSprop          0.010  0.776536  0.705882   \n",
       "10        2-L-(64, 32)-N       SGD          0.001  0.586592  0.000000   \n",
       "11        2-L-(64, 32)-N       SGD          0.010  0.798883  0.746479   \n",
       "12     3L-(64, 32, 16)-N      Adam          0.001  0.748603  0.676259   \n",
       "13     3L-(64, 32, 16)-N      Adam          0.010  0.759777  0.666667   \n",
       "14     3L-(64, 32, 16)-N   RMSprop          0.001  0.698324  0.619718   \n",
       "15     3L-(64, 32, 16)-N   RMSprop          0.010  0.726257  0.662069   \n",
       "16     3L-(64, 32, 16)-N       SGD          0.001  0.586592  0.000000   \n",
       "17     3L-(64, 32, 16)-N       SGD          0.010  0.804469  0.768212   \n",
       "18  4L-(64, 32, 16, 8)-N      Adam          0.001  0.748603  0.661654   \n",
       "19  4L-(64, 32, 16, 8)-N      Adam          0.010  0.586592  0.000000   \n",
       "20  4L-(64, 32, 16, 8)-N   RMSprop          0.001  0.715084  0.627737   \n",
       "21  4L-(64, 32, 16, 8)-N   RMSprop          0.010  0.709497  0.675000   \n",
       "22  4L-(64, 32, 16, 8)-N       SGD          0.001  0.586592  0.000000   \n",
       "23  4L-(64, 32, 16, 8)-N       SGD          0.010  0.787709  0.724638   \n",
       "\n",
       "            neurons  \n",
       "0              [64]  \n",
       "1              [64]  \n",
       "2              [64]  \n",
       "3              [64]  \n",
       "4              [64]  \n",
       "5              [64]  \n",
       "6          [64, 32]  \n",
       "7          [64, 32]  \n",
       "8          [64, 32]  \n",
       "9          [64, 32]  \n",
       "10         [64, 32]  \n",
       "11         [64, 32]  \n",
       "12     [64, 32, 16]  \n",
       "13     [64, 32, 16]  \n",
       "14     [64, 32, 16]  \n",
       "15     [64, 32, 16]  \n",
       "16     [64, 32, 16]  \n",
       "17     [64, 32, 16]  \n",
       "18  [64, 32, 16, 8]  \n",
       "19  [64, 32, 16, 8]  \n",
       "20  [64, 32, 16, 8]  \n",
       "21  [64, 32, 16, 8]  \n",
       "22  [64, 32, 16, 8]  \n",
       "23  [64, 32, 16, 8]  "
      ]
     },
     "execution_count": 59,
     "metadata": {},
     "output_type": "execute_result"
    }
   ],
   "source": [
    "# Train and evaluate each model\n",
    "results = []\n",
    "\n",
    "# Define different model configurations\n",
    "configs = [\n",
    "    {\"name\": \"1-L (64) N\", \"layers\": [64]},\n",
    "    {\"name\": \"2-L-(64, 32)-N\", \"layers\": [64, 32]},\n",
    "    {\"name\": \"3L-(64, 32, 16)-N\", \"layers\": [64, 32, 16]},\n",
    "    {\"name\": \"4L-(64, 32, 16, 8)-N\", \"layers\": [64, 32, 16, 8]}\n",
    "]\n",
    "\n",
    "# Define different optimizers and learning rates\n",
    "optimizers = [\n",
    "    {\"name\": \"Adam\", \"optimizer\": keras.optimizers.Adam(learning_rate=0.001)},\n",
    "    {\"name\": \"Adam\", \"optimizer\": keras.optimizers.Adam(learning_rate=0.01)},\n",
    "    {\"name\": \"RMSprop\", \"optimizer\": keras.optimizers.RMSprop(learning_rate=0.001)},\n",
    "    {\"name\": \"RMSprop\", \"optimizer\": keras.optimizers.RMSprop(learning_rate=0.01)},\n",
    "    {\"name\": \"SGD\", \"optimizer\": keras.optimizers.SGD(learning_rate=0.001)},\n",
    "    {\"name\": \"SGD\", \"optimizer\": keras.optimizers.SGD(learning_rate=0.01)}    \n",
    "]\n",
    "\n",
    "# Train and evaluate each model\n",
    "results = []\n",
    "for config in configs:\n",
    "    for opt in optimizers:\n",
    "        model = Sequential()\n",
    "        for i, layer in enumerate(config[\"layers\"]):\n",
    "            if i == 0:\n",
    "                model.add(Dense(layer, activation=\"relu\", input_shape=(X_train.shape[1],)))\n",
    "            model.add(Dense(layer, activation='relu'))\n",
    "        model.add(Dense(1, activation='sigmoid'))\n",
    "        model.compile(optimizer=opt[\"optimizer\"], loss='binary_crossentropy', metrics=['accuracy'])\n",
    "        model.fit(X_train, y_train, epochs=100, batch_size=32, verbose=0)\n",
    "        y_pred = model.predict(X_test)\n",
    "        y_pred = np.where(y_pred > 0.5, 1, 0)\n",
    "        # Compute the f1 score, accuracy score, and confusion matrix\n",
    "        \n",
    "        f1_score = metrics.f1_score(y_test, y_pred)\n",
    "        accuracy_score = metrics.accuracy_score(y_test, y_pred)\n",
    "        confusion_matrix = metrics.confusion_matrix(y_test, y_pred)\n",
    "        precision_keras = metrics.precision_score(y_test, y_pred, average='weighted')\n",
    "        recall_keras = metrics.recall_score(y_test, y_pred, average='weighted')\n",
    "\n",
    "        results.append({\n",
    "            \"model\": config[\"name\"],\n",
    "            \"optimizer\": opt[\"name\"],\n",
    "            \"learning_rate\": opt[\"optimizer\"].get_config()[\"learning_rate\"],\n",
    "            \"accuracy\": accuracy_score,\n",
    "            \"f1_score\":f1_score,\n",
    "            \"neurons\": config[\"layers\"]\n",
    "        })\n",
    "        \n",
    "df_results = pd.DataFrame(results)\n",
    "df_results"
   ]
  },
  {
   "cell_type": "code",
   "execution_count": 76,
   "id": "717b3fdb",
   "metadata": {},
   "outputs": [
    {
     "data": {
      "image/png": "[encoded data removed]",
      "text/plain": [
       "<Figure size 576x360 with 1 Axes>"
      ]
     },
     "metadata": {
      "needs_background": "light"
     },
     "output_type": "display_data"
    }
   ],
   "source": [
    "# Filter results by best model\n",
    "best_model = df_results.loc[df_results['model'] == '3L-(64, 32, 16)-N']\n",
    "\n",
    "# Set up plot\n",
    "fig, ax = plt.subplots(figsize=(8,5))\n",
    "\n",
    "# Plot results\n",
    "sns.barplot(x=\"optimizer\", y=\"accuracy\", data=best_model, ax=ax)\n",
    "\n",
    "# Set plot title and labels\n",
    "ax.set_title(f\"Accuracy of Best Model (3L-(64, 32, 16)-N)' with Different Optimizers\", fontsize=16)\n",
    "ax.set_xlabel(\"Optimizer\", fontsize=14)\n",
    "ax.set_ylabel(\"Accuracy\", fontsize=14)\n",
    "\n",
    "plt.show()\n"
   ]
  },
  {
   "cell_type": "code",
   "execution_count": 73,
   "id": "079c3d5c",
   "metadata": {},
   "outputs": [],
   "source": [
    "def evaluate_model(y_test, y_pred):\n",
    "    \"\"\"Evaluate the performance of a binary classification model by calculating various metrics.\n",
    "\n",
    "    Parameters:\n",
    "    -----------\n",
    "    y_test : array-like of shape (n_samples,)\n",
    "        True binary labels for the test set.\n",
    "    y_pred : array-like of shape (n_samples,)\n",
    "        Predicted binary labels for the test set.\n",
    "\n",
    "    Returns:\n",
    "    --------\n",
    "    None\n",
    "    \"\"\"\n",
    "    # Plot the confusion matrix\n",
    "    cm = metrics.confusion_matrix(y_test, y_pred)\n",
    "    precision = metrics.precision_score(y_test, y_pred, average='weighted')\n",
    "    recall = metrics.recall_score(y_test, y_pred, average='weighted')\n",
    "    f1_score = metrics.f1_score(y_test, y_pred)\n",
    "    accuracy_score = metrics.accuracy_score(y_test, y_pred)\n",
    "    sns.heatmap(cm, annot=True, cmap=\"Blues\")\n",
    "    plt.title(\"Confusion Matrix\")\n",
    "    plt.xlabel(\"Predicted\")\n",
    "    plt.ylabel(\"True\")\n",
    "    plt.show()\n",
    "    print(f'f1 score: {f1_score:.4f}\\\n",
    "    \\nprecision: {precision:.4f}\\\n",
    "    \\nrecall: {recall:.4f}\\\n",
    "    \\naccuracy: {accuracy_score}')\n",
    "    \n",
    "   \n",
    "def create_model(layers, opt):\n",
    "    \"\"\"\n",
    "    Creates a sequential neural network model with specified hidden layers and optimization algorithm, and trains it on\n",
    "    the training data. The trained model is then used to make binary predictions for the input test data.\n",
    "\n",
    "    Parameters:\n",
    "    layers (list): A list of integers that specifies the number of nodes in each hidden layer of the neural network.\n",
    "    opt (str): A string that specifies the optimization algorithm to use when training the model.\n",
    "\n",
    "    Returns:\n",
    "    tuple: A tuple containing the trained model and binary predictions for the test data.\n",
    "    \"\"\"\n",
    "    model = Sequential()\n",
    "    for i, layer in enumerate(layers):\n",
    "        if i == 0:\n",
    "            model.add(Dense(layer, activation=\"relu\", input_shape=(X_train.shape[1],)))\n",
    "        model.add(Dense(layer, activation='relu'))\n",
    "    model.add(Dense(1, activation='sigmoid'))\n",
    "    model.compile(optimizer=opt, loss='binary_crossentropy', metrics=['accuracy'])\n",
    "    model.fit(X_train, y_train, epochs=100, batch_size=32, verbose=0)\n",
    "    y_pred = model.predict(X_test)\n",
    "    y_pred = np.where(y_pred > 0.5, 1, 0)\n",
    "    return model, y_pred\n",
    "\n"
   ]
  },
  {
   "cell_type": "code",
   "execution_count": 74,
   "id": "2fb7384e",
   "metadata": {},
   "outputs": [],
   "source": [
    "_ , y_pred = create_model([64,32,16], SGD(learning_rate=0.01))"
   ]
  },
  {
   "cell_type": "code",
   "execution_count": 75,
   "id": "644fc431",
   "metadata": {},
   "outputs": [
    {
     "data": {
      "image/png": "[encoded data removed]",
      "text/plain": [
       "<Figure size 432x288 with 2 Axes>"
      ]
     },
     "metadata": {
      "needs_background": "light"
     },
     "output_type": "display_data"
    },
    {
     "name": "stdout",
     "output_type": "stream",
     "text": [
      "f1 score: 0.7552    \n",
      "precision: 0.8035    \n",
      "recall: 0.8045    \n",
      "accuracy: 0.8044692737430168\n"
     ]
    }
   ],
   "source": [
    "evaluate_model(y_test, y_pred)"
   ]
  },
  {
   "cell_type": "code",
   "execution_count": null,
   "id": "81ecb505",
   "metadata": {},
   "outputs": [],
   "source": []
  },
  {
   "cell_type": "code",
   "execution_count": null,
   "id": "400c5ba7",
   "metadata": {},
   "outputs": [],
   "source": []
  }
 ],
 "metadata": {
  "kernelspec": {
   "display_name": "Python 3.8.1 ('base')",
   "language": "python",
   "name": "python3"
  },
  "language_info": {
   "codemirror_mode": {
    "name": "ipython",
    "version": 3
   },
   "file_extension": ".py",
   "mimetype": "text/x-python",
   "name": "python",
   "nbconvert_exporter": "python",
   "pygments_lexer": "ipython3",
   "version": "3.8.1"
  },
  "vscode": {
   "interpreter": {
    "hash": "0b1eec6b2a61cc2bccb801834dfa2f2bfea2a85e465c8885ecbb18c5cf9726a0"
   }
  }
 },
 "nbformat": 4,
 "nbformat_minor": 5
}
